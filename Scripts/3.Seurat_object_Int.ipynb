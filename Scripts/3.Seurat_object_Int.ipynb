{
 "cells": [
  {
   "cell_type": "code",
   "execution_count": 1,
   "metadata": {},
   "outputs": [
    {
     "name": "stderr",
     "output_type": "stream",
     "text": [
      "c:\\Users\\kyria.000\\anaconda3\\envs\\Py310\\lib\\site-packages\\rpy2\\robjects\\packages.py:367: UserWarning: The symbol 'quartz' is not in this R namespace/package.\n",
      "  warnings.warn(\n"
     ]
    }
   ],
   "source": [
    "import anndata2ri\n",
    "import logging\n",
    "import rpy2.rinterface_lib.callbacks as rcb\n",
    "import os\n",
    "import pandas as pd\n",
    "import numpy as np\n",
    "import rpy2.robjects as ro\n",
    "import sys\n",
    "\n",
    "import scanpy as sc\n",
    "import matplotlib.pyplot as plt\n",
    "\n",
    "rcb.logger.setLevel(logging.ERROR)\n",
    "ro.pandas2ri.activate()\n",
    "anndata2ri.activate()\n",
    "\n",
    "%load_ext rpy2.ipython"
   ]
  },
  {
   "cell_type": "code",
   "execution_count": 2,
   "metadata": {},
   "outputs": [
    {
     "name": "stdout",
     "output_type": "stream",
     "text": [
      "\n",
      "    WARNING: The R package \"reticulate\" only fixed recently\n",
      "    an issue that caused a segfault when used with rpy2:\n",
      "    https://github.com/rstudio/reticulate/pull/1188\n",
      "    Make sure that you use a version of that package that includes\n",
      "    the fix.\n",
      "    "
     ]
    }
   ],
   "source": [
    "%%R\n",
    "options(future.globals.maxSize = 1000000 * 1024^2)\n",
    "set.seed(2422012)\n",
    "\n",
    "# Single cell libraries\n",
    "library(Seurat)\n",
    "library(sctransform)\n",
    "library(rliger)\n",
    "library(SeuratWrappers)\n",
    "library(conos)\n",
    "library(scater)\n",
    "library(scDblFinder)\n",
    "library(scran)\n",
    "library(sctransform)\n",
    "library(scry)\n",
    "\n",
    "# Rest libraries\n",
    "library(BiocParallel)\n",
    "library(ggplot2)\n",
    "library(dplyr)\n",
    "library(cowplot)\n",
    "\n",
    "library(scCustomize)\n",
    "\n"
   ]
  },
  {
   "cell_type": "code",
   "execution_count": 5,
   "metadata": {},
   "outputs": [],
   "source": [
    "projectdir = \"C:/Users/kyria.000/Documents/PhD/Projects/Feng2023/CoPImmunoPD/\"\n",
    "datadir = projectdir + \"Data/\"\n",
    "resultdir = projectdir + \"Result/\"\n",
    "adata_file = 'AnnData_Integrated.h5ad'\n"
   ]
  },
  {
   "cell_type": "code",
   "execution_count": 6,
   "metadata": {},
   "outputs": [],
   "source": [
    "adata= sc.read_h5ad(resultdir+adata_file) \n",
    "adata.X = adata.layers[\"soupX_counts\"]"
   ]
  },
  {
   "cell_type": "code",
   "execution_count": 7,
   "metadata": {},
   "outputs": [],
   "source": [
    "%%R -i adata -i adata.obs \n",
    "set.seed(2422012)\n",
    "seurat_obj = as.Seurat(adata, counts=\"X\", data = NULL)\n",
    "seurat_obj = RenameAssays(seurat_obj, originalexp = \"RNA\")"
   ]
  },
  {
   "cell_type": "code",
   "execution_count": 8,
   "metadata": {},
   "outputs": [
    {
     "name": "stdout",
     "output_type": "stream",
     "text": [
      "         AAACCCAAGGTACATA-1-0 AAACCCACACAAGTGG-1-0 AAACCCAGTATAGGAT-1-0\n",
      "A1BG                        0                    0                    0\n",
      "A1BG-AS1                    0                    0                    0\n",
      "A2M                         0                    1                    2\n"
     ]
    }
   ],
   "source": [
    "%%R -i adata.var_names\n",
    "DEM_sort_genes <- as.data.frame(seurat_obj@assays$RNA@counts)[sort(rownames(seurat_obj),decreasing=F),]\n",
    "DEM_sort_genes[1:3,1:3]"
   ]
  },
  {
   "cell_type": "code",
   "execution_count": 9,
   "metadata": {},
   "outputs": [],
   "source": [
    "%%R -i adata.obs\n",
    "set.seed(2422012)\n",
    "seurat_obj = CreateSeuratObject(DEM_sort_genes,meta.data=adata.obs, min.cells = 3, min.features = 200)\n",
    "seurat_obj <- NormalizeData(seurat_obj, normalization.method = \"LogNormalize\", scale.factor = 10000)\n"
   ]
  },
  {
   "cell_type": "code",
   "execution_count": null,
   "metadata": {},
   "outputs": [],
   "source": [
    "%%R\n",
    "seurat_obj <- FindVariableFeatures(seurat_obj, selection.method = \"vst\", nfeatures = 2000)\n",
    "# Identify the 10 most highly variable genes\n",
    "top10 <- head(VariableFeatures(seurat_obj), 10)\n",
    "# plot variable features with and without labels\n",
    "plot1 <- VariableFeaturePlot(seurat_obj)\n",
    "plot2 <- LabelPoints(plot = plot1, points = top10, repel = TRUE)\n"
   ]
  },
  {
   "cell_type": "code",
   "execution_count": null,
   "metadata": {},
   "outputs": [],
   "source": [
    "%%R\n",
    "plot2"
   ]
  },
  {
   "cell_type": "code",
   "execution_count": null,
   "metadata": {},
   "outputs": [],
   "source": [
    "%%R\n",
    "all.genes <- rownames(seurat_obj)\n",
    "seurat_obj <- ScaleData(seurat_obj, features = all.genes)"
   ]
  },
  {
   "cell_type": "code",
   "execution_count": null,
   "metadata": {},
   "outputs": [],
   "source": [
    "%%R\n",
    "seurat_obj <- RunPCA(seurat_obj, verbose = FALSE)\n",
    "seurat_obj <- RunUMAP(seurat_obj, reduction = \"pca\", dims = 1:30)\n",
    "seurat_obj <- FindNeighbors(seurat_obj, reduction = \"pca\", dims = 1:30)\n",
    "seurat_obj <- FindClusters(seurat_obj, resolution = 0.5)\n"
   ]
  },
  {
   "cell_type": "code",
   "execution_count": null,
   "metadata": {},
   "outputs": [],
   "source": [
    "%%R\n",
    "colnames(seurat_obj@meta.data)\n"
   ]
  },
  {
   "cell_type": "code",
   "execution_count": null,
   "metadata": {},
   "outputs": [],
   "source": [
    "%%R\n",
    "seurat_obj$sct_clusters <- seurat_obj$RNA_snn_res.0.5"
   ]
  },
  {
   "cell_type": "code",
   "execution_count": null,
   "metadata": {},
   "outputs": [],
   "source": [
    "%%R\n",
    "DimPlot(seurat_obj, reduction = \"umap\",label=T)\n"
   ]
  },
  {
   "cell_type": "code",
   "execution_count": null,
   "metadata": {},
   "outputs": [],
   "source": [
    "%%R\n",
    "DimPlot(seurat_obj,group.by=\"CellType\", reduction = \"umap\",pt.size=0.0001)"
   ]
  },
  {
   "cell_type": "code",
   "execution_count": null,
   "metadata": {},
   "outputs": [],
   "source": [
    "%%R\n",
    "DimPlot(seurat_obj,group.by=\"batch\", reduction = \"umap\",pt.size=0.0001)"
   ]
  },
  {
   "attachments": {},
   "cell_type": "markdown",
   "metadata": {},
   "source": [
    "## SCT MAPPING"
   ]
  },
  {
   "cell_type": "code",
   "execution_count": null,
   "metadata": {},
   "outputs": [],
   "source": [
    "%%R\n",
    "set.seed(2422012)\n",
    "SCT.list <- SplitObject(seurat_obj, split.by = \"Condition\")\n",
    "SCT.list <- lapply(X = SCT.list, FUN = SCTransform,vst.flavor = \"v2\")\n",
    "features <- SelectIntegrationFeatures(object.list = SCT.list, nfeatures = 3000)\n",
    "SCT.list <- PrepSCTIntegration(object.list = SCT.list, anchor.features = features)\n"
   ]
  },
  {
   "cell_type": "code",
   "execution_count": null,
   "metadata": {},
   "outputs": [],
   "source": [
    "%%R\n",
    "set.seed(2422012)\n",
    "SCT.anchors <- FindIntegrationAnchors(object.list = SCT.list, normalization.method = \"SCT\",\n",
    "    anchor.features = features)\n",
    "SCT.combined <- IntegrateData(anchorset = SCT.anchors, normalization.method = \"SCT\")\n"
   ]
  },
  {
   "cell_type": "code",
   "execution_count": null,
   "metadata": {},
   "outputs": [],
   "source": [
    "%%R\n",
    "SCT.combined <- RunPCA(SCT.combined, verbose = FALSE)\n",
    "SCT.combined <- RunUMAP(SCT.combined, reduction = \"pca\", dims = 1:30)\n",
    "SCT.combined <- FindNeighbors(SCT.combined, reduction = \"pca\", dims = 1:30)\n",
    "SCT.combined <- FindClusters(SCT.combined, resolution = 0.5)\n",
    "SCT.combined$sct_int_clusters <- SCT.combined$integrated_snn_res.0.5"
   ]
  },
  {
   "cell_type": "code",
   "execution_count": null,
   "metadata": {},
   "outputs": [],
   "source": [
    "%%R\n",
    "DefaultAssay(SCT.combined) <- \"integrated\"\n",
    "SCT.combined <- FindClusters(SCT.combined, resolution = 0.8)\n",
    "SCT.combined$sct_int_clusters <- SCT.combined$integrated_snn_res.0.8\n",
    "DimPlot(SCT.combined , reduction = \"umap\", group.by = \"sct_int_clusters\",label=T)"
   ]
  },
  {
   "cell_type": "code",
   "execution_count": null,
   "metadata": {},
   "outputs": [],
   "source": [
    "%%R\n",
    "library(dittoSeq)\n",
    "p1 <- dittoBarPlot(SCT.combined , \"Condition\", \n",
    "    group.by = \"sct_int_clusters\",\n",
    "    color.panel =c(\"#F8766D\",\"#078992\")\n",
    ")+ theme(axis.title.x=element_blank(),\n",
    "        axis.text.x=element_blank(),\n",
    "        axis.ticks.x=element_blank())\n",
    "p2 <- dittoBarPlot(SCT.combined , \"CCellType\", \n",
    "    group.by = \"sct_int_clusters\",\n",
    "    color.panel =c(\"#F8766D\",\"#7CAE00\",\"#00BFC4\",\"#C77CFF\")\n",
    ")+ggtitle(\"\")"
   ]
  },
  {
   "cell_type": "code",
   "execution_count": null,
   "metadata": {},
   "outputs": [],
   "source": [
    "%%R\n",
    "p1/p2+ plot_layout(heights = c(1,2))"
   ]
  },
  {
   "cell_type": "code",
   "execution_count": null,
   "metadata": {},
   "outputs": [],
   "source": [
    "%%R\n",
    "DimPlot(SCT.combined , reduction = \"umap\", group.by = \"CCellType\",split.by=\"CellType\",ncol=2)"
   ]
  },
  {
   "cell_type": "code",
   "execution_count": null,
   "metadata": {},
   "outputs": [],
   "source": [
    "%%R\n",
    "DimPlot(SCT.combined , reduction = \"umap\", group.by = \"Condition\", split.by = \"CellType\",ncol=2)"
   ]
  },
  {
   "cell_type": "code",
   "execution_count": null,
   "metadata": {},
   "outputs": [],
   "source": [
    "%%R\n",
    "library(stringr)\n",
    "# the SCT.combined is your seurat SCT.combined\n",
    "data.df <- SCT.combined@meta.data[, c(\"CellType\", \"Condition\",\"sct_int_clusters\")]\n",
    "data.df[\"value\"] <- SCT.combined$SCT@data[\"CCR7\", ]\n",
    "# \"CCR7\",\"PTPRC\"\n",
    "data.df <- data.df %>% mutate(group = paste(CellType, Condition, sep=\":\"))\n",
    "\n",
    "# remove cells that do not express the gene\n",
    "data.df <- data.df %>% filter(value > 0)\n",
    "\n",
    "data.df.2 <- data.df %>% group_by(group) %>% summarise(sd=sd(value),value=mean(value))\n",
    "X <- str_split(data.df.2$'group', \":\", 2, simplify=TRUE)\n",
    "data.df.2$'CellType' <- X[, 1]\n",
    "data.df.2$'Condition' <- X[, 2]\n",
    "\n",
    "ggplot(data.df.2, aes(fill=Condition, y=value, x=CellType)) + \n",
    "    geom_bar(color=\"black\", position=\"dodge\", stat=\"identity\") +\n",
    "    geom_errorbar(\n",
    "        aes(ymin=value, ymax=value+sd), width=.2,\n",
    "        position=position_dodge(.9)\n",
    "    )"
   ]
  },
  {
   "cell_type": "code",
   "execution_count": null,
   "metadata": {},
   "outputs": [],
   "source": [
    "%%R\n",
    "SCT.combined"
   ]
  },
  {
   "cell_type": "code",
   "execution_count": null,
   "metadata": {},
   "outputs": [],
   "source": [
    "%%R\n",
    "DefaultAssay(SCT.combined) <- \"SCT\"\n",
    "FeaturePlot(SCT.combined , features = c(\"CCR7\",\"PTPRC\"),\n",
    ", split.by = \"Condition\",pt.size=0,order=TRUE)\n"
   ]
  },
  {
   "cell_type": "code",
   "execution_count": null,
   "metadata": {},
   "outputs": [],
   "source": [
    "%%R\n",
    "DefaultAssay(SCT.combined) <- \"SCT\"\n",
    "SCT.combined <- SetIdent(SCT.combined , value = \"CellType\")\n",
    "VlnPlot(SCT.combined , features = c(\"CCR7\",\"PTPRC\"),stack=T, split.by = \"Condition\",pt.size=0)"
   ]
  },
  {
   "cell_type": "code",
   "execution_count": null,
   "metadata": {},
   "outputs": [],
   "source": [
    "%%R\n",
    "DefaultAssay(SCT.combined) <- \"SCT\"\n",
    "SCT.combined <- SetIdent(SCT.combined , value = \"CellType\")\n",
    "VlnPlot(SCT.combined , features = \"CCR7\", split.by = \"Condition\",pt.size=0)\n"
   ]
  },
  {
   "cell_type": "code",
   "execution_count": null,
   "metadata": {},
   "outputs": [],
   "source": [
    "%%R\n",
    "DefaultAssay(SCT.combined) <- \"SCT\"\n",
    "SCT.combined <- SetIdent(SCT.combined , value = \"CellType\")\n",
    "VlnPlot(SCT.combined , features = \"PTPRC\", split.by = \"Condition\",pt.size=0)"
   ]
  },
  {
   "cell_type": "code",
   "execution_count": null,
   "metadata": {},
   "outputs": [],
   "source": [
    "%%R\n",
    "DefaultAssay(SCT.combined) <- \"SCT\"\n",
    "SCT.combined <- SetIdent(SCT.combined , value = \"CellType\")\n",
    "VlnPlot(SCT.combined , features = \"PGK1\", split.by = \"Condition\",pt.size=0)"
   ]
  },
  {
   "cell_type": "code",
   "execution_count": null,
   "metadata": {},
   "outputs": [],
   "source": [
    "%%R\n",
    "DefaultAssay(SCT.combined) <- \"integrated\"\n",
    "SCT.combined <- FindClusters(SCT.combined, resolution = 0.8)\n",
    "SCT.combined$sct_int_clusters <- SCT.combined$integrated_snn_res.0.8\n",
    "DefaultAssay(SCT.combined) <- \"SCT\""
   ]
  },
  {
   "cell_type": "code",
   "execution_count": null,
   "metadata": {},
   "outputs": [],
   "source": [
    "%%R\n",
    "DefaultAssay(SCT.combined) <- \"SCT\"\n",
    "SCT.combined<- SetIdent(SCT.combined , value = \"sct_int_clusters\")\n",
    "SCT.combined <- PrepSCTFindMarkers(SCT.combined)"
   ]
  },
  {
   "cell_type": "code",
   "execution_count": null,
   "metadata": {},
   "outputs": [],
   "source": [
    "%%R -i resultdir\n",
    "saveRDS(SCT.combined,paste0(resultdir,\"Seuraobject.rds\"))"
   ]
  },
  {
   "attachments": {},
   "cell_type": "markdown",
   "metadata": {},
   "source": [
    "## LOAD OOBJECT"
   ]
  },
  {
   "attachments": {},
   "cell_type": "markdown",
   "metadata": {},
   "source": [
    "## LOAD OOBJECT"
   ]
  },
  {
   "cell_type": "code",
   "execution_count": null,
   "metadata": {},
   "outputs": [],
   "source": [
    "%%R -i resultdir\n",
    "SCT.combined <- readRDS(paste0(resultdir,\"Seuraobject.rds\"))\n",
    "\n"
   ]
  },
  {
   "cell_type": "code",
   "execution_count": null,
   "metadata": {},
   "outputs": [],
   "source": [
    "%%R\n",
    "SCT.combined$CCellType <-  SCT.combined$CellType\n",
    "SCT.combined$CCellType[SCT.combined$CellType == \"CCR7mCD45ROm\"] <- \"CD45RO-CCR7-\"\n",
    "SCT.combined$CCellType[SCT.combined$CellType == \"CCR7pCD45ROp\"] <- \"CD45RO+CCR7+\"\n",
    "SCT.combined$CCellType[SCT.combined$CellType == \"CCR7pCD45ROm\"] <- \"CD45RO-CCR7+\"\n",
    "SCT.combined$CCellType[SCT.combined$CellType == \"CCR7mCD45ROp\"] <- \"CD45RO+CCR7-\"\n",
    "SCT.combined$CellType <- factor(SCT.combined$CellType ,levels=c(\"CCR7pCD45ROm\", \"CCR7pCD45ROp\", \"CCR7mCD45ROp\", \"CCR7mCD45ROm\")) \n",
    "SCT.combined$CCellType <- factor(SCT.combined$CCellType ,levels=c(\"CD45RO-CCR7+\", \"CD45RO+CCR7+\", \"CD45RO+CCR7-\", \"CD45RO-CCR7-\")) "
   ]
  },
  {
   "cell_type": "code",
   "execution_count": null,
   "metadata": {},
   "outputs": [],
   "source": [
    "%%R\n",
    "Idents(SCT.combined) <- \"CCellType\"\n",
    "cluster_stats <- Cluster_Stats_All_Samples(seurat_object = SCT.combined , group_by_var = \"Condition\")\n",
    "readr::write_csv(cluster_stats,\"Before_CCR7_filtering_CellType_stats.csv\")\n",
    "print(cluster_stats)\n",
    "\n",
    "SCT.combined$Combined <- paste0(SCT.combined$Condition,\": \" ,SCT.combined$CCellType )\n",
    "median_stats <- Median_Stats(seurat_object = SCT.combined , group_by_var = \"Combined\")\n",
    "readr::write_csv(median_stats,\"Before_CCR7_filtering_Median_stats.csv\")\n",
    "\n",
    "print(median_stats)"
   ]
  },
  {
   "cell_type": "code",
   "execution_count": null,
   "metadata": {},
   "outputs": [],
   "source": [
    "%%R \n",
    "DimPlot(SCT.combined , reduction = \"umap\", group.by = \"CCellType\",split.by=\"CellType\",ncol=2)+NoLegend()"
   ]
  },
  {
   "cell_type": "code",
   "execution_count": null,
   "metadata": {},
   "outputs": [],
   "source": [
    "%%R \n",
    "DimPlot(SCT.combined , reduction = \"umap\", group.by = \"sct_int_clusters\",label=T)+NoLegend()"
   ]
  },
  {
   "cell_type": "code",
   "execution_count": null,
   "metadata": {},
   "outputs": [],
   "source": [
    "%%R \n",
    "unique(SCT.combined$CellType)"
   ]
  },
  {
   "cell_type": "code",
   "execution_count": null,
   "metadata": {},
   "outputs": [],
   "source": [
    "%%R \n",
    "DefaultAssay(SCT.combined) <- \"SCT\"\n",
    "SCT.combined <- SetIdent(SCT.combined , value = \"CCellType\")\n",
    "vlnplot_known_markers <- VlnPlot(SCT.combined,  flip = TRUE , features = c(\"CCR7\", \"SELL\", \"CD27\", \"CD28\",\"IL7R\",\"TCF7\", \"PRF1\", \"GZMA\", \"GZMB\", \"GZMH\", \"FCGR3A\" ,  \"KLRG1\",  \"TOX\"),cols=c(\"black\",\"red\"),stack=T, split.by = \"Condition\",pt.size=0)+\n",
    "    theme(text = element_text(size = 20),axis.text = element_text(size = 18))\n",
    "\n",
    "ggsave(plot=vlnplot_known_markers,\n",
    "    filename=paste0(resultdir,\"Vlnplot_known_markers.pdf\"),\n",
    "    dpi = 600,\n",
    "    width=12,\n",
    "    height=12)\n",
    "\n",
    "vlnplot_known_markers\n"
   ]
  },
  {
   "cell_type": "code",
   "execution_count": null,
   "metadata": {},
   "outputs": [],
   "source": [
    "%%R\n",
    "# ================= CCR7 Possitive ================================\n",
    "Idents(SCT.combined) <- \"CellType\"\n",
    "CCR7pCD45ROp_ALL_cells.use <- WhichCells(SCT.combined,idents = \"CCR7pCD45ROp\")\n",
    "CCR7pCD45ROp_ALL <- subset(SCT.combined, cells = CCR7pCD45ROp_ALL_cells.use)\n",
    "Idents(CCR7pCD45ROp_ALL) <- \"Condition\"\n",
    "CCR7pCD45ROp_ALL_HC <- subset(CCR7pCD45ROp_ALL, idents = \"HC\")\n",
    "CCR7pCD45ROp_ALL_PD <- subset(CCR7pCD45ROp_ALL, idents = \"PD\")\n",
    "\n",
    "CCR7pCD45ROm_ALL_cells.use <- WhichCells(SCT.combined,idents = \"CCR7pCD45ROm\")\n",
    "CCR7pCD45ROm_ALL <- subset(SCT.combined, cells = CCR7pCD45ROm_ALL_cells.use)\n",
    "Idents(CCR7pCD45ROm_ALL) <- \"Condition\"\n",
    "CCR7pCD45ROm_ALL_HC <- subset(CCR7pCD45ROm_ALL, idents = \"HC\")\n",
    "CCR7pCD45ROm_ALL_PD <- subset(CCR7pCD45ROm_ALL, idents = \"PD\")\n",
    "\n",
    "# ================= CCR7 Negative ================================\n",
    "CCR7mCD45ROp_ALL_cells.use <- WhichCells(SCT.combined,idents = \"CCR7mCD45ROp\")\n",
    "CCR7mCD45ROp_ALL<- subset(SCT.combined, cells = CCR7mCD45ROp_ALL_cells.use)\n",
    "Idents(CCR7mCD45ROp_ALL) <- \"Condition\"\n",
    "CCR7mCD45ROp_ALL_HC <- subset(CCR7mCD45ROp_ALL, idents = \"HC\")\n",
    "CCR7mCD45ROp_ALL_PD <- subset(CCR7mCD45ROp_ALL, idents = \"PD\")\n",
    "\n",
    "CCR7mCD45ROm_ALL_cells.use <- WhichCells(SCT.combined,idents = \"CCR7mCD45ROm\")\n",
    "CCR7mCD45ROm_ALL<- subset(SCT.combined, cells = CCR7mCD45ROm_ALL_cells.use)\n",
    "Idents(CCR7mCD45ROm_ALL) <- \"Condition\"\n",
    "CCR7mCD45ROm_ALL_HC <- subset(CCR7mCD45ROm_ALL, idents = \"HC\")\n",
    "CCR7mCD45ROm_ALL_PD <- subset(CCR7mCD45ROm_ALL, idents = \"PD\")"
   ]
  },
  {
   "attachments": {},
   "cell_type": "markdown",
   "metadata": {},
   "source": [
    "## Density Plots"
   ]
  },
  {
   "cell_type": "code",
   "execution_count": null,
   "metadata": {},
   "outputs": [],
   "source": [
    "%%R\n",
    "library(scCustomize)\n",
    "p1 <- Plot_Density_Custom(seurat_object = SCT.combined, features = c(\"CCR7\",\"GZMA\"))\n",
    "p2 <-Plot_Density_Custom(seurat_object = SCT.combined, features = c(\"TOX\",\"GZMH\"))\n",
    "p1/p2"
   ]
  },
  {
   "cell_type": "code",
   "execution_count": null,
   "metadata": {},
   "outputs": [],
   "source": [
    "%%R\n",
    "Plot_Density_Joint_Only(seurat_object =  SCT.combined, features = c(\"GZMA\", \"GZMB\",\"PRF1\",\"FCGR3A\"))\n"
   ]
  },
  {
   "cell_type": "code",
   "execution_count": null,
   "metadata": {},
   "outputs": [],
   "source": [
    "%%R\n",
    "Plot_Density_Custom(seurat_object = SCT.combined, features = c(\"GZMK\"))"
   ]
  },
  {
   "cell_type": "code",
   "execution_count": null,
   "metadata": {},
   "outputs": [],
   "source": [
    "%%R\n",
    "individual_features = c(\"GZMA\",\"GZMB\",\"PRF1\",\"FCGR3A\")\n",
    "lapply(individual_features,FUN=function(i_feature){\n",
    "    p11 <- Plot_Density_Custom(seurat_object = CCR7pCD45ROm_ALL_HC, features = i_feature)+ggtitle(\"HC: CD45RO-CCR7+\")+xlab(\"\")+xlim(-10,10)\n",
    "    p12 <- Plot_Density_Custom(seurat_object = CCR7pCD45ROm_ALL_PD, features = i_feature)+ggtitle(\"PD: CD45RO-CCR7+\")+xlab(\"\")+ylab(\"\")+xlim(-10,10)\n",
    "\n",
    "    p21 <- Plot_Density_Custom(seurat_object = CCR7pCD45ROp_ALL_HC, features = i_feature)+ggtitle(\"HC: CD45RO+CCR7+\")+xlab(\"\")+ylab(\"\")+xlim(-10,10)\n",
    "    p22 <- Plot_Density_Custom(seurat_object = CCR7pCD45ROp_ALL_PD, features = i_feature)+ggtitle(\"PD: CD45RO+CCR7+\")+xlab(\"\")+ylab(\"\")+xlim(-10,10)\n",
    "\n",
    "    p31 <- Plot_Density_Custom(seurat_object = CCR7mCD45ROp_ALL_HC, features = i_feature)+ggtitle(\"HC: CD45RO+CCR7-\")+xlim(-10,10)\n",
    "    p32 <- Plot_Density_Custom(seurat_object = CCR7mCD45ROp_ALL_PD, features = i_feature)+ggtitle(\"PD: CD45RO+CCR7-\")+ylab(\"\")+xlim(-10,10)\n",
    "\n",
    "    p41 <- Plot_Density_Custom(seurat_object = CCR7mCD45ROm_ALL_HC, features = i_feature)+ggtitle(\"HC: CD45RO-CCR7-\")+ylab(\"\")+xlim(-10,10)\n",
    "    p42 <- Plot_Density_Custom(seurat_object = CCR7mCD45ROm_ALL_PD, features = i_feature)+ggtitle(\"PD: CD45RO-CCR7-\")+ylab(\"\")+xlim(-10,10)\n",
    "\n",
    "    p_all <- p11+p12+p21+p22+p31+p32+p41+p42 +  \n",
    "        plot_layout(ncol = 4)+ \n",
    "        plot_annotation(title = i_feature, theme = theme(plot.title = element_text(size = 18)))\n",
    "\n",
    "    ggsave(plot=p_all,filename=paste0(resultdir,\"Density_\",i_feature,\".png\"),width=15,height=8,dpi = 600)\n",
    "    p_all\n",
    "})\n"
   ]
  },
  {
   "cell_type": "code",
   "execution_count": null,
   "metadata": {},
   "outputs": [],
   "source": [
    "%%R\n",
    "p11 <- Plot_Density_Joint_Only(seurat_object = CCR7pCD45ROm_ALL_HC, features = c(\"GZMA\",\"GZMB\",\"PRF1\",\"FCGR3A\"))+ggtitle(\"HC: CD45RO-CCR7+\")+xlab(\"\")+xlim(-10,10)\n",
    "p12 <- Plot_Density_Joint_Only(seurat_object = CCR7pCD45ROm_ALL_PD, features = c(\"GZMA\",\"GZMB\",\"PRF1\",\"FCGR3A\"))+ggtitle(\"PD: CD45RO-CCR7+\")+xlab(\"\")+ylab(\"\")+xlim(-10,10)\n",
    "\n",
    "p21 <- Plot_Density_Joint_Only(seurat_object = CCR7pCD45ROp_ALL_HC, features = c(\"GZMA\",\"GZMB\",\"PRF1\",\"FCGR3A\"))+ggtitle(\"HC: CD45RO+CCR7+\")+xlab(\"\")+ylab(\"\")+xlim(-10,10)\n",
    "p22 <- Plot_Density_Joint_Only(seurat_object = CCR7pCD45ROp_ALL_PD, features = c(\"GZMA\",\"GZMB\",\"PRF1\",\"FCGR3A\"))+ggtitle(\"PD: CD45RO+CCR7+\")+xlab(\"\")+ylab(\"\")+xlim(-10,10)\n",
    "\n",
    "p31 <- Plot_Density_Joint_Only(seurat_object = CCR7mCD45ROp_ALL_HC, features = c(\"GZMA\",\"GZMB\",\"PRF1\",\"FCGR3A\"))+ggtitle(\"HC: CD45RO+CCR7-\")+xlim(-10,10)\n",
    "p32 <- Plot_Density_Joint_Only(seurat_object = CCR7mCD45ROp_ALL_PD, features = c(\"GZMA\",\"GZMB\",\"PRF1\",\"FCGR3A\"))+ggtitle(\"PD: CD45RO+CCR7-\")+ylab(\"\")+xlim(-10,10)\n",
    "\n",
    "p41 <- Plot_Density_Joint_Only(seurat_object = CCR7mCD45ROm_ALL_HC, features = c(\"GZMA\",\"GZMB\",\"PRF1\",\"FCGR3A\"))+ggtitle(\"HC: CD45RO-CCR7-\")+ylab(\"\")+xlim(-10,10)\n",
    "p42 <- Plot_Density_Joint_Only(seurat_object = CCR7mCD45ROm_ALL_PD, features = c(\"GZMA\",\"GZMB\",\"PRF1\",\"FCGR3A\"))+ggtitle(\"PD: CD45RO-CCR7-\")+ylab(\"\")+xlim(-10,10)\n",
    "\n",
    "p_all <- p11+p12+p21+p22+p31+p32+p41+p42 +  \n",
    "    plot_layout(ncol = 4)+ \n",
    "    plot_annotation(title = 'GZMA+GZMB+PRF1+FCGR3A+', theme = theme(plot.title = element_text(size = 18)))\n",
    "\n",
    "ggsave(plot=p_all,filename=paste0(resultdir,\"Density_GZMA+GZMB+PRF1+FCGR3A+.png\"),width=15,height=8,dpi = 600)\n",
    "p_all"
   ]
  },
  {
   "cell_type": "code",
   "execution_count": null,
   "metadata": {},
   "outputs": [],
   "source": []
  },
  {
   "attachments": {},
   "cell_type": "markdown",
   "metadata": {},
   "source": [
    "# Possitive Percentages"
   ]
  },
  {
   "cell_type": "code",
   "execution_count": null,
   "metadata": {},
   "outputs": [],
   "source": [
    "%%R\n",
    "percent_express <- Percent_Expressing(seurat_object = SCT.combined,\n",
    "    assay=\"RNA\",\n",
    "    features = c(\"CCR7\",\"GZMA\"),\n",
    "    group_by = \"CellType\")\n",
    "df_percent <- as.data.frame(percent_express)\n",
    "df_percent_melt <- as.data.frame(reshape2::melt(as.matrix(df_percent)))\n",
    "df_percent_melt\n",
    "df_percent_melt$CellType <- as.vector(df_percent_melt$Var2)\n",
    "df_percent_melt$CellType[df_percent_melt$Var2 == \"CCR7mCD45ROm\"] <- \"CD45RO-CCR7-\"\n",
    "df_percent_melt$CellType[df_percent_melt$Var2 == \"CCR7pCD45ROp\"] <- \"CD45RO+CCR7+\"\n",
    "df_percent_melt$CellType[df_percent_melt$Var2 == \"CCR7pCD45ROm\"] <- \"CD45RO-CCR7+\"\n",
    "df_percent_melt$CellType[df_percent_melt$Var2 == \"CCR7mCD45ROp\"] <- \"CD45RO+CCR7-\"\n",
    "df_percent_melt$CellType <- factor(df_percent_melt$CellType ,levels=c(\"CD45RO-CCR7+\", \"CD45RO+CCR7+\", \"CD45RO+CCR7-\", \"CD45RO-CCR7-\")) \n",
    "\n"
   ]
  },
  {
   "cell_type": "code",
   "execution_count": null,
   "metadata": {},
   "outputs": [],
   "source": [
    "%%R\n",
    "df_percent_melt\n"
   ]
  },
  {
   "cell_type": "code",
   "execution_count": null,
   "metadata": {},
   "outputs": [],
   "source": [
    "%%R\n",
    "colnames(df_percent_melt)[1] <- \"Genes\"\n",
    "ggplot(df_percent_melt,aes(x=CellType,y=value,color=Genes,fill=Genes))+\n",
    "    geom_bar(stat=\"identity\",, position=position_dodge())+\n",
    "    ylab(\"Percentage of cells expressing (>1)\")+\n",
    "    xlab(\"CellType\")+\n",
    "    theme_classic(base_size = 20)+RotatedAxis()\n"
   ]
  },
  {
   "attachments": {},
   "cell_type": "markdown",
   "metadata": {},
   "source": [
    "# SUBSETTING BASED ON CCR7"
   ]
  },
  {
   "cell_type": "code",
   "execution_count": null,
   "metadata": {},
   "outputs": [],
   "source": [
    "%%R\n",
    "Subbbb <- readRDS(\"Subset_raarranged.rds\")\n",
    "grep('CCR7', rownames(SCT.combined@assays$RNA@counts))\n",
    "CCR7_matrix <-SCT.combined@assays$RNA@counts[rownames(SCT.combined@assays$RNA@counts)[2965], ]\n",
    "\n",
    "\n",
    "SCT.combined\n",
    "\n",
    "Idents(SCT.combined) <- \"CellType\"\n",
    "DefaultAssay(SCT.combined) <- \"RNA\"\n",
    "\n",
    "\n",
    "# ================= CCR7 Possitive ================================\n",
    "Idents(SCT.combined) <- \"CellType\"\n",
    "CCR7pCD45ROp_T_cells.use <- WhichCells(SCT.combined,idents = \"CCR7pCD45ROp\", expression = CCR7>= 1 )\n",
    "CCR7pCD45ROp_T <- subset(SCT.combined, cells = CCR7pCD45ROp_T_cells.use)\n",
    "Idents(CCR7pCD45ROp_T) <- \"Condition\"\n",
    "CCR7pCD45ROp_T_HC <- subset(CCR7pCD45ROp_T, idents = \"HC\")\n",
    "CCR7pCD45ROp_T_PD <- subset(CCR7pCD45ROp_T, idents = \"PD\")\n",
    "\n",
    "CCR7pCD45ROm_T_cells.use <- WhichCells(SCT.combined,idents = \"CCR7pCD45ROm\", expression = CCR7>= 1 )\n",
    "CCR7pCD45ROm_T <- subset(SCT.combined, cells = CCR7pCD45ROm_T_cells.use)\n",
    "Idents(CCR7pCD45ROm_T) <- \"Condition\"\n",
    "CCR7pCD45ROm_T_HC <- subset(CCR7pCD45ROm_T, idents = \"HC\")\n",
    "CCR7pCD45ROm_T_PD <- subset(CCR7pCD45ROm_T, idents = \"PD\")\n",
    "\n",
    "# ================= CCR7 Negative ================================\n",
    "CCR7mCD45ROp_T_cells.use <- WhichCells(SCT.combined,idents = \"CCR7mCD45ROp\", expression = CCR7<= 0 )\n",
    "CCR7mCD45ROp_T<- subset(SCT.combined, cells = CCR7mCD45ROp_T_cells.use)\n",
    "Idents(CCR7mCD45ROp_T) <- \"Condition\"\n",
    "CCR7mCD45ROp_T_HC <- subset(CCR7mCD45ROp_T, idents = \"HC\")\n",
    "CCR7mCD45ROp_T_PD <- subset(CCR7mCD45ROp_T, idents = \"PD\")\n",
    "\n",
    "CCR7mCD45ROm_T_cells.use <- WhichCells(SCT.combined,idents = \"CCR7mCD45ROm\", expression = CCR7<= 0 )\n",
    "CCR7mCD45ROm_T<- subset(SCT.combined, cells = CCR7mCD45ROm_T_cells.use)\n",
    "Idents(CCR7mCD45ROm_T) <- \"Condition\"\n",
    "CCR7mCD45ROm_T_HC <- subset(CCR7mCD45ROm_T, idents = \"HC\")\n",
    "CCR7mCD45ROm_T_PD <- subset(CCR7mCD45ROm_T, idents = \"PD\")\n",
    "\n"
   ]
  },
  {
   "cell_type": "code",
   "execution_count": null,
   "metadata": {},
   "outputs": [],
   "source": [
    "%%R\n",
    "Sub.combined <- merge(CCR7pCD45ROp_T, y = c(CCR7pCD45ROm_T,CCR7mCD45ROm_T,CCR7mCD45ROp_T))\n",
    "SCT.list <- SplitObject(Sub.combined , split.by = \"Condition\")\n",
    "SCT.list <- lapply(X = SCT.list, FUN = SCTransform,vst.flavor = \"v2\")\n",
    "features <- SelectIntegrationFeatures(object.list = SCT.list, nfeatures = 3000)\n",
    "SCT.list <- PrepSCTIntegration(object.list = SCT.list, anchor.features = features)\n",
    "\n"
   ]
  },
  {
   "cell_type": "code",
   "execution_count": null,
   "metadata": {},
   "outputs": [],
   "source": [
    "%%R\n",
    "set.seed(2422012)\n",
    "SCT.anchors <- FindIntegrationAnchors(object.list = SCT.list, normalization.method = \"SCT\",\n",
    "    anchor.features = features)\n",
    "Subbbb<- IntegrateData(anchorset = SCT.anchors, normalization.method = \"SCT\")\n"
   ]
  },
  {
   "attachments": {},
   "cell_type": "markdown",
   "metadata": {},
   "source": [
    "# RECALCUATE SPACE"
   ]
  },
  {
   "cell_type": "code",
   "execution_count": null,
   "metadata": {},
   "outputs": [],
   "source": [
    "%%R\n",
    "DefaultAssay(Subbbb) <- \"integrated\"\n",
    "Subbbb <- RunPCA(Subbbb, verbose = FALSE)\n",
    "Subbbb <- RunUMAP(Subbbb, reduction = \"pca\", dims = 1:30)\n",
    "Subbbb <- FindNeighbors(Subbbb, reduction = \"pca\", dims = 1:30)\n",
    "Subbbb <- FindClusters(Subbbb, resolution = 0.5)\n",
    "Subbbb$sct_int_clusters <- Subbbb$integrated_snn_res.0.5\n",
    "Subbbb <- FindClusters(Subbbb, resolution = 0.8)\n",
    "Subbbb$sct_int_clusters <- Subbbb$integrated_snn_res.0.8\n",
    "DimPlot(Subbbb , reduction = \"umap\", group.by = \"sct_int_clusters\",label=T)"
   ]
  },
  {
   "cell_type": "code",
   "execution_count": null,
   "metadata": {},
   "outputs": [],
   "source": [
    "%%R \n",
    "DimPlot(Subbbb , reduction = \"umap\", group.by = \"CCellType\",split.by=\"CellType\",ncol=2)+NoLegend()"
   ]
  },
  {
   "cell_type": "code",
   "execution_count": null,
   "metadata": {},
   "outputs": [],
   "source": [
    "%%R\n",
    "DefaultAssay(Subbbb) <- \"RNA\"\n",
    "\n",
    "percent_express <- Percent_Expressing(seurat_object = Subbbb,\n",
    "    assay=\"SCT\",slot=\"counts\",\n",
    "    features = c(\"CCR7\",\"GZMA\"),\n",
    "    threshold = 0,\n",
    "    group_by = \"CellType\")\n",
    "df_percent <- as.data.frame(percent_express)\n",
    "df_percent_melt <- as.data.frame(reshape2::melt(as.matrix(df_percent)))\n",
    "df_percent_melt\n",
    "df_percent_melt$CellType <- as.vector(df_percent_melt$Var2)\n",
    "df_percent_melt$CellType[df_percent_melt$Var2 == \"CCR7mCD45ROm\"] <- \"CD45RO-CCR7-\"\n",
    "df_percent_melt$CellType[df_percent_melt$Var2 == \"CCR7pCD45ROp\"] <- \"CD45RO+CCR7+\"\n",
    "df_percent_melt$CellType[df_percent_melt$Var2 == \"CCR7pCD45ROm\"] <- \"CD45RO-CCR7+\"\n",
    "df_percent_melt$CellType[df_percent_melt$Var2 == \"CCR7mCD45ROp\"] <- \"CD45RO+CCR7-\"\n",
    "df_percent_melt$CellType <- factor(df_percent_melt$CellType ,levels=c(\"CD45RO-CCR7+\", \"CD45RO+CCR7+\", \"CD45RO+CCR7-\", \"CD45RO-CCR7-\")) \n",
    "colnames(df_percent_melt)[1] <- \"Genes\"\n",
    "ggplot(df_percent_melt,aes(x=CellType,y=value,color=Genes,fill=Genes))+\n",
    "    geom_bar(stat=\"identity\",, position=position_dodge())+\n",
    "    ylab(\"Percentage of cells expressing (>1)\")+\n",
    "    xlab(\"CellType\")+\n",
    "    theme_classic(base_size = 20)+RotatedAxis()"
   ]
  },
  {
   "cell_type": "code",
   "execution_count": null,
   "metadata": {},
   "outputs": [],
   "source": [
    "%%R\n",
    "unique(Subbbb@assays$RNA@counts[\"CCR7\",Subbbb$CellType==\"CCR7pCD45ROp\"])"
   ]
  },
  {
   "cell_type": "code",
   "execution_count": null,
   "metadata": {},
   "outputs": [],
   "source": [
    "%%R\n",
    "percent_express"
   ]
  },
  {
   "cell_type": "code",
   "execution_count": null,
   "metadata": {},
   "outputs": [],
   "source": [
    "%%R\n",
    "Subbbb <- readRDS(\"Subset_raarranged.rds\")\n",
    "Idents(Subbbb) <- \"CellType\"\n",
    "DefaultAssay(Subbbb) <- \"RNA\"\n",
    "\n",
    "\n",
    "# ================= CCR7 Possitive ================================\n",
    "Idents(Subbbb) <- \"CellType\"\n",
    "CCR7pCD45ROp_T_cells.use <- WhichCells(Subbbb,idents = \"CCR7pCD45ROp\", expression = CCR7>= 1 )\n",
    "CCR7pCD45ROp_T <- subset(Subbbb, cells = CCR7pCD45ROp_T_cells.use)\n",
    "Idents(CCR7pCD45ROp_T) <- \"Condition\"\n",
    "CCR7pCD45ROp_T_HC <- subset(CCR7pCD45ROp_T, idents = \"HC\")\n",
    "CCR7pCD45ROp_T_PD <- subset(CCR7pCD45ROp_T, idents = \"PD\")\n",
    "\n",
    "CCR7pCD45ROm_T_cells.use <- WhichCells(Subbbb,idents = \"CCR7pCD45ROm\", expression = CCR7>= 1 )\n",
    "CCR7pCD45ROm_T <- subset(Subbbb, cells = CCR7pCD45ROm_T_cells.use)\n",
    "Idents(CCR7pCD45ROm_T) <- \"Condition\"\n",
    "CCR7pCD45ROm_T_HC <- subset(CCR7pCD45ROm_T, idents = \"HC\")\n",
    "CCR7pCD45ROm_T_PD <- subset(CCR7pCD45ROm_T, idents = \"PD\")\n",
    "\n",
    "# ================= CCR7 Negative ================================\n",
    "CCR7mCD45ROp_T_cells.use <- WhichCells(Subbbb,idents = \"CCR7mCD45ROp\", expression = CCR7<= 0 )\n",
    "CCR7mCD45ROp_T<- subset(Subbbb, cells = CCR7mCD45ROp_T_cells.use)\n",
    "Idents(CCR7mCD45ROp_T) <- \"Condition\"\n",
    "CCR7mCD45ROp_T_HC <- subset(CCR7mCD45ROp_T, idents = \"HC\")\n",
    "CCR7mCD45ROp_T_PD <- subset(CCR7mCD45ROp_T, idents = \"PD\")\n",
    "\n",
    "CCR7mCD45ROm_T_cells.use <- WhichCells(Subbbb,idents = \"CCR7mCD45ROm\", expression = CCR7<= 0 )\n",
    "CCR7mCD45ROm_T<- subset(Subbbb, cells = CCR7mCD45ROm_T_cells.use)\n",
    "Idents(CCR7mCD45ROm_T) <- \"Condition\"\n",
    "CCR7mCD45ROm_T_HC <- subset(CCR7mCD45ROm_T, idents = \"HC\")\n",
    "CCR7mCD45ROm_T_PD <- subset(CCR7mCD45ROm_T, idents = \"PD\")"
   ]
  },
  {
   "cell_type": "code",
   "execution_count": null,
   "metadata": {},
   "outputs": [],
   "source": [
    "%%R -i resultdir\n",
    "DefaultAssay(Subbbb) <- \"SCT\"\n",
    "Subbbb <- SetIdent(Subbbb , value = \"CCellType\")\n",
    "vlnplot_known_markers <- VlnPlot(Subbbb,  flip = TRUE , \n",
    "    features = c(\"CCR7\", \"SELL\", \"CD27\", \"CD28\",\"IL7R\",\"TCF7\", \"PRF1\", \"GZMA\", \"GZMB\", \"GZMH\", \"FCGR3A\" ,\"KLRG1\",  \"TOX\"),\n",
    "    stack=T, split.by = \"Condition\",pt.size=0,\n",
    "    cols=c(\"black\",\"red\"))+\n",
    "    theme(text = element_text(size = 20),axis.text = element_text(size = 18))\n",
    "ggsave(plot=vlnplot_known_markers,filename=paste0(resultdir,\"Subset_vlnplot_known_markers.png\"),width=10,height=8,dpi = 600)\n",
    "ggsave(plot=vlnplot_known_markers,filename=paste0(resultdir,\"Subset_vlnplot_known_markers.pdf\"),width=10,height=8,dpi = 600)\n",
    "\n",
    "vlnplot_known_markers"
   ]
  },
  {
   "cell_type": "code",
   "execution_count": null,
   "metadata": {},
   "outputs": [],
   "source": [
    "%%R\n",
    "Subbbb$Combined <- paste0(Subbbb$Condition,Subbbb$CellType,sep=\"_\")\n",
    "DefaultAssay(Subbbb) <- \"SCT\"\n",
    "p1<- FeaturePlot(Subbbb ,keep.scale=NULL ,cells=CCR7pCD45ROm_T_cells.use, features = c(\"CCR7\"),pt.size=0,order=TRUE,min.cutoff = 0)\n",
    "p2<- FeaturePlot(Subbbb ,keep.scale=NULL ,cells=CCR7pCD45ROp_T_cells.use, features = c(\"CCR7\"),pt.size=0,order=TRUE,min.cutoff = 0)\n",
    "p3<- FeaturePlot(Subbbb ,keep.scale=NULL ,cells=CCR7mCD45ROp_T_cells.use, features = c(\"CCR7\"),pt.size=0,order=TRUE,min.cutoff = 0)\n",
    "p4<- FeaturePlot(Subbbb ,keep.scale=NULL ,cells=CCR7mCD45ROm_T_cells.use, features = c(\"CCR7\"),pt.size=0,order=TRUE,min.cutoff = 0)\n",
    "library(patchwork)\n",
    "p12 <- p1+p2\n",
    "p34 <- p3+p4\n",
    "p1+p2+p3+p4 +  plot_layout(ncol = 2)"
   ]
  },
  {
   "attachments": {},
   "cell_type": "markdown",
   "metadata": {},
   "source": [
    "# GZMA+GZMB+PRF1+FCGR3A+"
   ]
  },
  {
   "cell_type": "code",
   "execution_count": null,
   "metadata": {},
   "outputs": [],
   "source": [
    "%%R\n",
    "count_mat <- as.data.frame(t(Subbbb@assays$RNA@counts[c(\"GZMA\",\"GZMB\",\"PRF1\",\"FCGR3A\"),]))\n",
    "count_mat[count_mat>=1] <- 1\n",
    "print(dim(count_mat))\n",
    "count_mat$SUM <- ifelse(rowSums(count_mat)==4,1,0)\n",
    "count_mat$CellType <- Subbbb$CCellType\n",
    "\n",
    "as.data.frame(table(count_mat$SUM,count_mat$CellType))\n",
    "# length(rowSums(count_mat))\n",
    "# count_mat[1:4,1:4]"
   ]
  },
  {
   "cell_type": "code",
   "execution_count": null,
   "metadata": {},
   "outputs": [],
   "source": [
    "%%R\n",
    "Subbbb$CCellType"
   ]
  },
  {
   "cell_type": "code",
   "execution_count": null,
   "metadata": {},
   "outputs": [],
   "source": [
    "%%R -i resultdir\n",
    "p <- Plot_Density_Joint_Only(seurat_object = Subbbb, features = c(\"GZMA\",\"GZMB\",\"PRF1\",\"FCGR3A\"),viridis_palette=\"inferno\")\n",
    "ggsave(plot=p,filename=paste0(resultdir,\"Density_GZMA+GZMB+PRF1+FCGR3A+.pdf\"),dpi = 600)\n",
    "ggsave(plot=p,filename=paste0(resultdir,\"Density_GZMA+GZMB+PRF1+FCGR3A+.png\"),width=10,height=8,dpi = 600)\n",
    "\n",
    "p"
   ]
  },
  {
   "cell_type": "code",
   "execution_count": null,
   "metadata": {},
   "outputs": [],
   "source": [
    "%%R -i resultdir\n",
    "DefaultAssay(Subbbb) \n",
    "p1 <- Plot_Density_Joint_Only(seurat_object = CCR7pCD45ROm_T, features = c(\"GZMA\",\"GZMB\",\"PRF1\"),viridis_palette='inferno')+ggtitle(\"CD45RO-CCR7+\")\n",
    "p2 <- Plot_Density_Joint_Only(seurat_object = CCR7pCD45ROp_T, features = c(\"GZMA\",\"GZMB\",\"PRF1\"),viridis_palette='inferno')+ggtitle(\"CD45RO+CCR7+\")\n",
    "p3 <- Plot_Density_Joint_Only(seurat_object = CCR7mCD45ROp_T, features = c(\"GZMA\",\"GZMB\",\"PRF1\"),viridis_palette='inferno')+ggtitle(\"CD45RO+CCR7-\")\n",
    "p4 <- Plot_Density_Joint_Only(seurat_object = CCR7mCD45ROm_T, features = c(\"GZMA\",\"GZMB\",\"PRF1\"),viridis_palette='inferno')+ggtitle(\"CD45RO-CCR7-\")\n",
    "pall <- p1+p2+p3+p4 +  \n",
    "    plot_layout(ncol = 2)+ \n",
    "    plot_annotation(title = 'GZMA+GZMB+PRF1+', theme = theme(plot.title = element_text(size = 18)))\n",
    "\n",
    "ggsave(plot=pall,filename=paste0(resultdir,\"Density_Split_GZMA+GZMB+PRF1+.pdf\"),width=10,height=8,dpi = 600)\n",
    "pall"
   ]
  },
  {
   "cell_type": "code",
   "execution_count": null,
   "metadata": {},
   "outputs": [],
   "source": [
    "%%R\n",
    "DefaultAssay(Subbbb) \n",
    "p1 <- Plot_Density_Joint_Only(seurat_object = CCR7pCD45ROm_T, features = c(\"GZMA\",\"GZMB\",\"PRF1\",\"FCGR3A\"),viridis_palette='inferno')+ggtitle(\"CD45RO-CCR7+\")\n",
    "p2 <- Plot_Density_Joint_Only(seurat_object = CCR7pCD45ROp_T, features = c(\"GZMA\",\"GZMB\",\"PRF1\",\"FCGR3A\"),viridis_palette='inferno')+ggtitle(\"CD45RO+CCR7+\")\n",
    "p3 <- Plot_Density_Joint_Only(seurat_object = CCR7mCD45ROp_T, features = c(\"GZMA\",\"GZMB\",\"PRF1\",\"FCGR3A\"),viridis_palette='inferno')+ggtitle(\"CD45RO+CCR7-\")\n",
    "p4 <- Plot_Density_Joint_Only(seurat_object = CCR7mCD45ROm_T, features = c(\"GZMA\",\"GZMB\",\"PRF1\",\"FCGR3A\"),viridis_palette='inferno')+ggtitle(\"CD45RO-CCR7-\")\n",
    "pall <- p1+p2+p3+p4 +  \n",
    "    plot_layout(ncol = 2)+ \n",
    "    plot_annotation(title = 'GZMA+GZMB+PRF1+FCGR3A+', theme = theme(plot.title = element_text(size = 18)))\n",
    "\n",
    "ggsave(plot=pall,filename=paste0(resultdir,\"Density_Split_GZMA+GZMB+PRF1+FCGR3A+.pdf\"),width=10,height=8,dpi = 600)\n",
    "pall"
   ]
  },
  {
   "cell_type": "code",
   "execution_count": null,
   "metadata": {},
   "outputs": [],
   "source": [
    "%%R\n",
    "p11 <- Plot_Density_Joint_Only(seurat_object = CCR7pCD45ROm_T_HC, features = c(\"GZMA\",\"GZMB\",\"PRF1\",\"FCGR3A\"))+ggtitle(\"HC: CD45RO-CCR7+\")+xlab(\"\")+xlim(-10,10)\n",
    "p12 <- Plot_Density_Joint_Only(seurat_object = CCR7pCD45ROm_T_PD, features = c(\"GZMA\",\"GZMB\",\"PRF1\",\"FCGR3A\"))+ggtitle(\"PD: CD45RO-CCR7+\")+xlab(\"\")+ylab(\"\")+xlim(-10,10)\n",
    "\n",
    "p21 <- Plot_Density_Joint_Only(seurat_object = CCR7pCD45ROp_T_HC, features = c(\"GZMA\",\"GZMB\",\"PRF1\",\"FCGR3A\"))+ggtitle(\"HC: CD45RO+CCR7+\")+xlab(\"\")+ylab(\"\")+xlim(-10,10)\n",
    "p22 <- Plot_Density_Joint_Only(seurat_object = CCR7pCD45ROp_T_PD, features = c(\"GZMA\",\"GZMB\",\"PRF1\",\"FCGR3A\"))+ggtitle(\"PD: CD45RO+CCR7+\")+xlab(\"\")+ylab(\"\")+xlim(-10,10)\n",
    "\n",
    "p31 <- Plot_Density_Joint_Only(seurat_object = CCR7mCD45ROp_T_HC, features = c(\"GZMA\",\"GZMB\",\"PRF1\",\"FCGR3A\"))+ggtitle(\"HC: CD45RO+CCR7-\")+xlim(-10,10)\n",
    "p32 <- Plot_Density_Joint_Only(seurat_object = CCR7mCD45ROp_T_PD, features = c(\"GZMA\",\"GZMB\",\"PRF1\",\"FCGR3A\"))+ggtitle(\"PD: CD45RO+CCR7-\")+ylab(\"\")+xlim(-10,10)\n",
    "\n",
    "p41 <- Plot_Density_Joint_Only(seurat_object = CCR7mCD45ROm_T_HC, features = c(\"GZMA\",\"GZMB\",\"PRF1\",\"FCGR3A\"))+ggtitle(\"HC: CD45RO-CCR7-\")+ylab(\"\")+xlim(-10,10)\n",
    "p42 <- Plot_Density_Joint_Only(seurat_object = CCR7mCD45ROm_T_PD, features = c(\"GZMA\",\"GZMB\",\"PRF1\",\"FCGR3A\"))+ggtitle(\"PD: CD45RO-CCR7-\")+ylab(\"\")+xlim(-10,10)\n",
    "\n",
    "p_all <- p11+p12+p21+p22+p31+p32+p41+p42 +  \n",
    "    plot_layout(ncol = 4)+ \n",
    "    plot_annotation(title = 'GZMA+GZMB+PRF1+FCGR3A+', theme = theme(plot.title = element_text(size = 18)))\n",
    "\n",
    "ggsave(plot=p_all,filename=paste0(resultdir,\"Subset_Density_GZMA+GZMB+PRF1+FCGR3A+.png\"),width=15,height=8,dpi = 600)\n",
    "p_all"
   ]
  },
  {
   "cell_type": "code",
   "execution_count": null,
   "metadata": {},
   "outputs": [],
   "source": [
    "%%R\n",
    "DefaultAssay(Subbbb) "
   ]
  },
  {
   "cell_type": "code",
   "execution_count": null,
   "metadata": {},
   "outputs": [],
   "source": [
    "%%R -i resultdir\n",
    "DefaultAssay(Subbbb) <- \"SCT\"\n",
    "\n",
    "individual_features = c(\"GZMA\",\"GZMB\",\"GZMH\",\"GZMK\",\"PRF1\",\"FCGR3A\")\n",
    "lapply(individual_features,FUN=function(i_feature){\n",
    "    p11 <- Plot_Density_Custom(seurat_object = CCR7pCD45ROm_T_HC, features = i_feature)+ggtitle(\"HC: CD45RO-CCR7+\")+xlab(\"\")+xlim(-10,10)\n",
    "    p12 <- Plot_Density_Custom(seurat_object = CCR7pCD45ROm_T_PD, features = i_feature)+ggtitle(\"PD: CD45RO-CCR7+\")+xlab(\"\")+ylab(\"\")+xlim(-10,10)\n",
    "\n",
    "    p21 <- Plot_Density_Custom(seurat_object = CCR7pCD45ROp_T_HC, features = i_feature)+ggtitle(\"HC: CD45RO+CCR7+\")+xlab(\"\")+ylab(\"\")+xlim(-10,10)\n",
    "    p22 <- Plot_Density_Custom(seurat_object = CCR7pCD45ROp_T_PD, features = i_feature)+ggtitle(\"PD: CD45RO+CCR7+\")+xlab(\"\")+ylab(\"\")+xlim(-10,10)\n",
    "\n",
    "    p31 <- Plot_Density_Custom(seurat_object = CCR7mCD45ROp_T_HC, features = i_feature)+ggtitle(\"HC: CD45RO+CCR7-\")+xlim(-10,10)\n",
    "    p32 <- Plot_Density_Custom(seurat_object = CCR7mCD45ROp_T_PD, features = i_feature)+ggtitle(\"PD: CD45RO+CCR7-\")+ylab(\"\")+xlim(-10,10)\n",
    "\n",
    "    p41 <- Plot_Density_Custom(seurat_object = CCR7mCD45ROm_T_HC, features = i_feature)+ggtitle(\"HC: CD45RO-CCR7-\")+ylab(\"\")+xlim(-10,10)\n",
    "    p42 <- Plot_Density_Custom(seurat_object = CCR7mCD45ROm_T_PD, features = i_feature)+ggtitle(\"PD: CD45RO-CCR7-\")+ylab(\"\")+xlim(-10,10)\n",
    "\n",
    "    p_all <- p11+p12+p21+p22+p31+p32+p41+p42 +  \n",
    "        plot_layout(ncol = 4)+ \n",
    "        plot_annotation(title = i_feature, theme = theme(plot.title = element_text(size = 18)))\n",
    "\n",
    "    ggsave(plot=p_all,filename=paste0(resultdir,\"Density_\",i_feature,\".pdf\"),width=15,height=8,dpi = 600)\n",
    "    p_all\n",
    "\n",
    "\n",
    "    p11 <- FeaturePlot(object = CCR7pCD45ROm_T_HC, features = i_feature,order=T)+ggtitle(\"HC: CD45RO-CCR7+\")+xlab(\"\")+xlim(-10,10)\n",
    "    p12 <- FeaturePlot(object = CCR7pCD45ROm_T_PD, features = i_feature,order=T)+ggtitle(\"PD: CD45RO-CCR7+\")+xlab(\"\")+ylab(\"\")+xlim(-10,10)\n",
    "\n",
    "    p21 <- FeaturePlot(object = CCR7pCD45ROp_T_HC, features = i_feature,order=T)+ggtitle(\"HC: CD45RO+CCR7+\")+xlab(\"\")+ylab(\"\")+xlim(-10,10)\n",
    "    p22 <- FeaturePlot(object = CCR7pCD45ROp_T_PD, features = i_feature,order=T)+ggtitle(\"PD: CD45RO+CCR7+\")+xlab(\"\")+ylab(\"\")+xlim(-10,10)\n",
    "\n",
    "    p31 <- FeaturePlot(object = CCR7mCD45ROp_T_HC, features = i_feature,order=T)+ggtitle(\"HC: CD45RO+CCR7-\")+xlim(-10,10)\n",
    "    p32 <- FeaturePlot(object = CCR7mCD45ROp_T_PD, features = i_feature,order=T)+ggtitle(\"PD: CD45RO+CCR7-\")+ylab(\"\")+xlim(-10,10)\n",
    "\n",
    "    p41 <- FeaturePlot(object = CCR7mCD45ROm_T_HC, features = i_feature,order=T)+ggtitle(\"HC: CD45RO-CCR7-\")+ylab(\"\")+xlim(-10,10)\n",
    "    p42 <- FeaturePlot(object = CCR7mCD45ROm_T_PD, features = i_feature,order=T)+ggtitle(\"PD: CD45RO-CCR7-\")+ylab(\"\")+xlim(-10,10)\n",
    "\n",
    "    p_all <- p11+p12+p21+p22+p31+p32+p41+p42 +  \n",
    "        plot_layout(ncol = 4)+ \n",
    "        plot_annotation(title = i_feature, theme = theme(plot.title = element_text(size = 18)))\n",
    "\n",
    "    ggsave(plot=p_all,filename=paste0(resultdir,\"FeaturePlot_\",i_feature,\".pdf\"),width=15,height=8,dpi = 600)\n",
    "    p_all\n",
    "})\n"
   ]
  },
  {
   "cell_type": "code",
   "execution_count": null,
   "metadata": {},
   "outputs": [],
   "source": [
    "%%R -i resultdir\n",
    "p11 <- Plot_Density_Joint_Only(seurat_object = CCR7pCD45ROm_T_HC, features = c(\"GZMA\",\"GZMB\",\"PRF1\",\"FCGR3A\"))+ggtitle(\"HC: CD45RO-CCR7+\")+xlab(\"\")+xlim(-10,10)\n",
    "p12 <- Plot_Density_Joint_Only(seurat_object = CCR7pCD45ROm_T_PD, features = c(\"GZMA\",\"GZMB\",\"PRF1\",\"FCGR3A\"))+ggtitle(\"PD: CD45RO-CCR7+\")+xlab(\"\")+ylab(\"\")+xlim(-10,10)\n",
    "\n",
    "p21 <- Plot_Density_Joint_Only(seurat_object = CCR7pCD45ROp_T_HC, features = c(\"GZMA\",\"GZMB\",\"PRF1\",\"FCGR3A\"))+ggtitle(\"HC: CD45RO+CCR7+\")+xlab(\"\")+ylab(\"\")+xlim(-10,10)\n",
    "p22 <- Plot_Density_Joint_Only(seurat_object = CCR7pCD45ROp_T_PD, features = c(\"GZMA\",\"GZMB\",\"PRF1\",\"FCGR3A\"))+ggtitle(\"PD: CD45RO+CCR7+\")+xlab(\"\")+ylab(\"\")+xlim(-10,10)\n",
    "\n",
    "p31 <- Plot_Density_Joint_Only(seurat_object = CCR7mCD45ROp_T_HC, features = c(\"GZMA\",\"GZMB\",\"PRF1\",\"FCGR3A\"))+ggtitle(\"HC: CD45RO+CCR7-\")+xlim(-10,10)\n",
    "p32 <- Plot_Density_Joint_Only(seurat_object = CCR7mCD45ROp_T_PD, features = c(\"GZMA\",\"GZMB\",\"PRF1\",\"FCGR3A\"))+ggtitle(\"PD: CD45RO+CCR7-\")+ylab(\"\")+xlim(-10,10)\n",
    "\n",
    "p41 <- Plot_Density_Joint_Only(seurat_object = CCR7mCD45ROm_T_HC, features = c(\"GZMA\",\"GZMB\",\"PRF1\",\"FCGR3A\"))+ggtitle(\"HC: CD45RO-CCR7-\")+ylab(\"\")+xlim(-10,10)\n",
    "p42 <- Plot_Density_Joint_Only(seurat_object = CCR7mCD45ROm_T_PD, features = c(\"GZMA\",\"GZMB\",\"PRF1\",\"FCGR3A\"))+ggtitle(\"PD: CD45RO-CCR7-\")+ylab(\"\")+xlim(-10,10)\n",
    "\n",
    "p_all <- p11+p12+p21+p22+p31+p32+p41+p42 +  \n",
    "    plot_layout(ncol = 4)+ \n",
    "    plot_annotation(title = 'GZMA+GZMB+PRF1+FCGR3A+', theme = theme(plot.title = element_text(size = 18)))\n",
    "\n",
    "ggsave(plot=p_all,filename=paste0(resultdir,\"Subset_Density_GZMA+GZMB+PRF1+FCGR3A+.pdf\"),width=15,height=8,dpi = 600)\n",
    "ggsave(plot=p_all,filename=paste0(resultdir,\"Subset_Density_GZMA+GZMB+PRF1+FCGR3A+.png\"),width=15,height=8,dpi = 600)\n",
    "p_all"
   ]
  },
  {
   "cell_type": "code",
   "execution_count": null,
   "metadata": {},
   "outputs": [],
   "source": [
    "%%R\n",
    "p11 <- Plot_Density_Joint_Only(seurat_object = CCR7pCD45ROm_T_HC, features = c(\"GZMA\",\"GZMB\"))+ggtitle(\"HC: CD45RO-CCR7+\")+xlab(\"\")+xlim(-10,10)\n",
    "p12 <- Plot_Density_Joint_Only(seurat_object = CCR7pCD45ROm_T_PD, features = c(\"GZMA\",\"GZMB\"))+ggtitle(\"PD: CD45RO-CCR7+\")+xlab(\"\")+ylab(\"\")+xlim(-10,10)\n",
    "\n",
    "p21 <- Plot_Density_Joint_Only(seurat_object = CCR7pCD45ROp_T_HC, features = c(\"GZMA\",\"GZMB\"))+ggtitle(\"HC: CD45RO+CCR7+\")+xlab(\"\")+ylab(\"\")+xlim(-10,10)\n",
    "p22 <- Plot_Density_Joint_Only(seurat_object = CCR7pCD45ROp_T_PD, features = c(\"GZMA\",\"GZMB\"))+ggtitle(\"PD: CD45RO+CCR7+\")+xlab(\"\")+ylab(\"\")+xlim(-10,10)\n",
    "\n",
    "p31 <- Plot_Density_Joint_Only(seurat_object = CCR7mCD45ROp_T_HC, features = c(\"GZMA\",\"GZMB\"))+ggtitle(\"HC: CD45RO+CCR7-\")+xlim(-10,10)\n",
    "p32 <- Plot_Density_Joint_Only(seurat_object = CCR7mCD45ROp_T_PD, features = c(\"GZMA\",\"GZMB\"))+ggtitle(\"PD: CD45RO+CCR7-\")+ylab(\"\")+xlim(-10,10)\n",
    "\n",
    "p41 <- Plot_Density_Joint_Only(seurat_object = CCR7mCD45ROm_T_HC, features = c(\"GZMA\",\"GZMB\"))+ggtitle(\"HC: CD45RO-CCR7-\")+ylab(\"\")+xlim(-10,10)\n",
    "p42 <- Plot_Density_Joint_Only(seurat_object = CCR7mCD45ROm_T_PD, features = c(\"GZMA\",\"GZMB\"))+ggtitle(\"PD: CD45RO-CCR7-\")+ylab(\"\")+xlim(-10,10)\n",
    "\n",
    "p_all <- p11+p12+p21+p22+p31+p32+p41+p42 +  \n",
    "    plot_layout(ncol = 4)+ \n",
    "    plot_annotation(title = 'GZMA+GZMB+', theme = theme(plot.title = element_text(size = 18)))\n",
    "\n",
    "ggsave(plot=p_all,filename=paste0(resultdir,\"Density_GZMA+GZMB+.pdf\"),width=15,height=8,dpi = 600)\n",
    "p_all"
   ]
  },
  {
   "cell_type": "code",
   "execution_count": null,
   "metadata": {},
   "outputs": [],
   "source": [
    "%%R -i resultdir\n",
    "p11 <- Plot_Density_Joint_Only(seurat_object = CCR7pCD45ROm_T_HC, features = c(\"GZMA\",\"PRF1\"))+ggtitle(\"HC: CD45RO-CCR7+\")+xlab(\"\")+xlim(-10,10)\n",
    "p12 <- Plot_Density_Joint_Only(seurat_object = CCR7pCD45ROm_T_PD, features = c(\"GZMA\",\"PRF1\"))+ggtitle(\"PD: CD45RO-CCR7+\")+xlab(\"\")+ylab(\"\")+xlim(-10,10)\n",
    "\n",
    "p21 <- Plot_Density_Joint_Only(seurat_object = CCR7pCD45ROp_T_HC, features = c(\"GZMA\",\"PRF1\"))+ggtitle(\"HC: CD45RO+CCR7+\")+xlab(\"\")+ylab(\"\")+xlim(-10,10)\n",
    "p22 <- Plot_Density_Joint_Only(seurat_object = CCR7pCD45ROp_T_PD, features = c(\"GZMA\",\"PRF1\"))+ggtitle(\"PD: CD45RO+CCR7+\")+xlab(\"\")+ylab(\"\")+xlim(-10,10)\n",
    "\n",
    "p31 <- Plot_Density_Joint_Only(seurat_object = CCR7mCD45ROp_T_HC, features = c(\"GZMA\",\"PRF1\"))+ggtitle(\"HC: CD45RO+CCR7-\")+xlim(-10,10)\n",
    "p32 <- Plot_Density_Joint_Only(seurat_object = CCR7mCD45ROp_T_PD, features = c(\"GZMA\",\"PRF1\"))+ggtitle(\"PD: CD45RO+CCR7-\")+ylab(\"\")+xlim(-10,10)\n",
    "\n",
    "p41 <- Plot_Density_Joint_Only(seurat_object = CCR7mCD45ROm_T_HC, features = c(\"GZMA\",\"PRF1\"))+ggtitle(\"HC: CD45RO-CCR7-\")+ylab(\"\")+xlim(-10,10)\n",
    "p42 <- Plot_Density_Joint_Only(seurat_object = CCR7mCD45ROm_T_PD, features = c(\"GZMA\",\"PRF1\"))+ggtitle(\"PD: CD45RO-CCR7-\")+ylab(\"\")+xlim(-10,10)\n",
    "\n",
    "p_all <- p11+p12+p21+p22+p31+p32+p41+p42 +  \n",
    "    plot_layout(ncol = 4)+ \n",
    "    plot_annotation(title = 'GZMA+PRF1+', theme = theme(plot.title = element_text(size = 18)))\n",
    "\n",
    "ggsave(plot=p_all,filename=paste0(resultdir,\"Subset_Density_GZMA+PRF1+.pdf\"),width=15,height=8,dpi = 600)\n",
    "ggsave(plot=p_all,filename=paste0(resultdir,\"Subset_Density_GZMA+PRF1+.png\"),width=15,height=8,dpi = 600)\n",
    "p_all"
   ]
  },
  {
   "cell_type": "code",
   "execution_count": null,
   "metadata": {},
   "outputs": [],
   "source": [
    "%%R -i resultdir\n",
    "p11 <- Plot_Density_Joint_Only(seurat_object = CCR7pCD45ROm_T_HC, features = c(\"GZMA\",\"PRF1\"))+ggtitle(\"HC: CD45RO-CCR7+\")+xlab(\"\")+xlim(-10,10)\n",
    "p12 <- Plot_Density_Joint_Only(seurat_object = CCR7pCD45ROm_T_PD, features = c(\"GZMA\",\"PRF1\"))+ggtitle(\"PD: CD45RO-CCR7+\")+xlab(\"\")+ylab(\"\")+xlim(-10,10)\n",
    "\n",
    "p21 <- Plot_Density_Joint_Only(seurat_object = CCR7pCD45ROp_T_HC, features = c(\"GZMA\",\"PRF1\"))+ggtitle(\"HC: CD45RO+CCR7+\")+xlab(\"\")+ylab(\"\")+xlim(-10,10)\n",
    "p22 <- Plot_Density_Joint_Only(seurat_object = CCR7pCD45ROp_T_PD, features = c(\"GZMA\",\"PRF1\"))+ggtitle(\"PD: CD45RO+CCR7+\")+xlab(\"\")+ylab(\"\")+xlim(-10,10)\n",
    "\n",
    "p31 <- Plot_Density_Joint_Only(seurat_object = CCR7mCD45ROp_T_HC, features = c(\"GZMA\",\"PRF1\"))+ggtitle(\"HC: CD45RO+CCR7-\")+xlim(-10,10)\n",
    "p32 <- Plot_Density_Joint_Only(seurat_object = CCR7mCD45ROp_T_PD, features = c(\"GZMA\",\"PRF1\"))+ggtitle(\"PD: CD45RO+CCR7-\")+ylab(\"\")+xlim(-10,10)\n",
    "\n",
    "p41 <- Plot_Density_Joint_Only(seurat_object = CCR7mCD45ROm_T_HC, features = c(\"GZMA\",\"PRF1\"))+ggtitle(\"HC: CD45RO-CCR7-\")+ylab(\"\")+xlim(-10,10)\n",
    "p42 <- Plot_Density_Joint_Only(seurat_object = CCR7mCD45ROm_T_PD, features = c(\"GZMA\",\"PRF1\"))+ggtitle(\"PD: CD45RO-CCR7-\")+ylab(\"\")+xlim(-10,10)\n",
    "\n",
    "p_all <- p11+p12+p21+p22+p31+p32+p41+p42 +  \n",
    "    plot_layout(ncol = 4)+ \n",
    "    plot_annotation(title = 'GZMA+PRF1+', theme = theme(plot.title = element_text(size = 18)))\n",
    "\n",
    "ggsave(plot=p_all,filename=paste0(resultdir,\"Subset_Density_GZMA+PRF1+.pdf\"),width=15,height=8,dpi = 600)\n",
    "ggsave(plot=p_all,filename=paste0(resultdir,\"Subset_Density_GZMA+PRF1+.png\"),width=15,height=8,dpi = 600)\n",
    "p_all"
   ]
  },
  {
   "cell_type": "code",
   "execution_count": null,
   "metadata": {},
   "outputs": [],
   "source": [
    "%%R\n",
    "p11 <- Plot_Density_Joint_Only(seurat_object = CCR7pCD45ROm_T_HC, features = c(\"GZMB\",\"PRF1\"))+ggtitle(\"HC: CD45RO-CCR7+\")+xlab(\"\")+xlim(-10,10)\n",
    "p12 <- Plot_Density_Joint_Only(seurat_object = CCR7pCD45ROm_T_PD, features = c(\"GZMB\",\"PRF1\"))+ggtitle(\"PD: CD45RO-CCR7+\")+xlab(\"\")+ylab(\"\")+xlim(-10,10)\n",
    "\n",
    "p21 <- Plot_Density_Joint_Only(seurat_object = CCR7pCD45ROp_T_HC, features = c(\"GZMB\",\"PRF1\"))+ggtitle(\"HC: CD45RO+CCR7+\")+xlab(\"\")+ylab(\"\")+xlim(-10,10)\n",
    "p22 <- Plot_Density_Joint_Only(seurat_object = CCR7pCD45ROp_T_PD, features = c(\"GZMB\",\"PRF1\"))+ggtitle(\"PD: CD45RO+CCR7+\")+xlab(\"\")+ylab(\"\")+xlim(-10,10)\n",
    "\n",
    "p31 <- Plot_Density_Joint_Only(seurat_object = CCR7mCD45ROp_T_HC, features = c(\"GZMB\",\"PRF1\"))+ggtitle(\"HC: CD45RO+CCR7-\")+xlim(-10,10)\n",
    "p32 <- Plot_Density_Joint_Only(seurat_object = CCR7mCD45ROp_T_PD, features = c(\"GZMB\",\"PRF1\"))+ggtitle(\"PD: CD45RO+CCR7-\")+ylab(\"\")+xlim(-10,10)\n",
    "\n",
    "p41 <- Plot_Density_Joint_Only(seurat_object = CCR7mCD45ROm_T_HC, features = c(\"GZMB\",\"PRF1\"))+ggtitle(\"HC: CD45RO-CCR7-\")+ylab(\"\")+xlim(-10,10)\n",
    "p42 <- Plot_Density_Joint_Only(seurat_object = CCR7mCD45ROm_T_PD, features = c(\"GZMB\",\"PRF1\"))+ggtitle(\"PD: CD45RO-CCR7-\")+ylab(\"\")+xlim(-10,10)\n",
    "\n",
    "p_all <- p11+p12+p21+p22+p31+p32+p41+p42 +  \n",
    "    plot_layout(ncol = 4)+ \n",
    "    plot_annotation(title = 'GZMB+PRF1+', theme = theme(plot.title = element_text(size = 18)))\n",
    "\n",
    "ggsave(plot=p_all,filename=paste0(resultdir,\"Density_GZMB+PRF1+.pdf\"),width=15,height=8,dpi = 600)\n",
    "p_all"
   ]
  },
  {
   "cell_type": "code",
   "execution_count": null,
   "metadata": {},
   "outputs": [],
   "source": [
    "%%R\n",
    "p11 <- Plot_Density_Joint_Only(seurat_object = CCR7pCD45ROm_T_HC, features = c(\"GZMA\",\"GZMB\",\"PRF1\"))+ggtitle(\"HC: CD45RO-CCR7+\")+xlab(\"\")+xlim(-10,10)\n",
    "p12 <- Plot_Density_Joint_Only(seurat_object = CCR7pCD45ROm_T_PD, features = c(\"GZMA\",\"GZMB\",\"PRF1\"))+ggtitle(\"PD: CD45RO-CCR7+\")+xlab(\"\")+ylab(\"\")+xlim(-10,10)\n",
    "\n",
    "p21 <- Plot_Density_Joint_Only(seurat_object = CCR7pCD45ROp_T_HC, features = c(\"GZMA\",\"GZMB\",\"PRF1\"))+ggtitle(\"HC: CD45RO+CCR7+\")+xlab(\"\")+ylab(\"\")+xlim(-10,10)\n",
    "p22 <- Plot_Density_Joint_Only(seurat_object = CCR7pCD45ROp_T_PD, features = c(\"GZMA\",\"GZMB\",\"PRF1\"))+ggtitle(\"PD: CD45RO+CCR7+\")+xlab(\"\")+ylab(\"\")+xlim(-10,10)\n",
    "\n",
    "p31 <- Plot_Density_Joint_Only(seurat_object = CCR7mCD45ROp_T_HC, features = c(\"GZMA\",\"GZMB\",\"PRF1\"))+ggtitle(\"HC: CD45RO+CCR7-\")+xlim(-10,10)\n",
    "p32 <- Plot_Density_Joint_Only(seurat_object = CCR7mCD45ROp_T_PD, features = c(\"GZMA\",\"GZMB\",\"PRF1\"))+ggtitle(\"PD: CD45RO+CCR7-\")+ylab(\"\")+xlim(-10,10)\n",
    "\n",
    "p41 <- Plot_Density_Joint_Only(seurat_object = CCR7mCD45ROm_T_HC, features = c(\"GZMA\",\"GZMB\",\"PRF1\"))+ggtitle(\"HC: CD45RO-CCR7-\")+ylab(\"\")+xlim(-10,10)\n",
    "p42 <- Plot_Density_Joint_Only(seurat_object = CCR7mCD45ROm_T_PD, features = c(\"GZMA\",\"GZMB\",\"PRF1\"))+ggtitle(\"PD: CD45RO-CCR7-\")+ylab(\"\")+xlim(-10,10)\n",
    "\n",
    "p_all <- p11+p12+p21+p22+p31+p32+p41+p42 +  \n",
    "    plot_layout(ncol = 4)+ \n",
    "    plot_annotation(title = 'GZMA+GZMB+PRF1+', theme = theme(plot.title = element_text(size = 18)))\n",
    "\n",
    "ggsave(plot=p_all,filename=paste0(resultdir,\"Subset_Density_GZMA+GZMB+PRF1+.png\"),width=15,height=8,dpi = 600)\n",
    "p_all"
   ]
  },
  {
   "cell_type": "code",
   "execution_count": null,
   "metadata": {},
   "outputs": [],
   "source": [
    "%%R\n",
    "DefaultAssay(Subbbb) <- \"SCT\"\n",
    "Subbbb$CellType <- factor(Subbbb$CellType ,levels=c(\"CCR7pCD45ROm\", \"CCR7pCD45ROp\", \"CCR7mCD45ROp\", \"CCR7mCD45ROm\")) \n",
    "Subbbb$CCellType <- factor(Subbbb$CCellType ,levels=c(\"CD45RO-CCR7+\", \"CD45RO+CCR7+\", \"CD45RO+CCR7-\", \"CD45RO-CCR7-\")) \n"
   ]
  },
  {
   "cell_type": "code",
   "execution_count": null,
   "metadata": {},
   "outputs": [],
   "source": [
    "%%R \n",
    "DimPlot(Subbbb, reduction = \"umap\", group.by = \"CCellType\",split.by=\"CCellType\",ncol=2)+NoLegend()"
   ]
  },
  {
   "cell_type": "code",
   "execution_count": null,
   "metadata": {},
   "outputs": [],
   "source": [
    "%%R \n",
    "FeaturePlot(Subbbb, reduction = \"umap\",features=\"CCR7\",order=T, split.by=\"CCellType\")+NoLegend()"
   ]
  },
  {
   "cell_type": "code",
   "execution_count": null,
   "metadata": {},
   "outputs": [],
   "source": [
    "%%R\n",
    "DefaultAssay(Subbbb) <- \"SCT\"\n",
    "\n",
    "library(scCustomize)\n",
    "p1 <- Plot_Density_Custom(seurat_object =Subbbb, features = c(\"CCR7\",\"GZMA\"))\n",
    "p2 <-Plot_Density_Custom(seurat_object = Subbbb, features = c(\"TOX\",\"GZMH\"))\n",
    "p_all <- p1/p2\n",
    "\n",
    "ggsave(plot=p_all,filename=paste0(resultdir,\"Sep_Density_CCR7_GZMA_TOX_GZMH.pdf\"),width=10,height=8,dpi = 600)\n",
    "p_all"
   ]
  },
  {
   "cell_type": "code",
   "execution_count": null,
   "metadata": {},
   "outputs": [],
   "source": [
    "%%R\n",
    "DotPlot(Subbbb, features = c(\"CCR7\",\"GZMZ\",\"GZMA\",\"GZMB\",\"PRF1\"),\n",
    "    split.by=\"Condition\",\n",
    "    group.by=\"CCellType\")"
   ]
  },
  {
   "cell_type": "code",
   "execution_count": null,
   "metadata": {},
   "outputs": [],
   "source": [
    "%%R -i resultdir\n",
    "Subbbb$Combined <- paste0(Subbbb$Condition, \": \", Subbbb$CCellType) \n",
    "\n",
    "p1 <- FeaturePlot(Subbbb, features = c(\"CCR7\",\"GZMA\",\"GZMB\",\"PRF1\"),order=T,split.by=\"Combined\",ncol=4)\n",
    "ggsave(plot=p1,filename=paste0(resultdir,\"Subset_Feature_GZMA+GZMB+PRF1+.png\"),width=25,height=10,dpi = 600)\n",
    "p1"
   ]
  },
  {
   "cell_type": "code",
   "execution_count": null,
   "metadata": {},
   "outputs": [],
   "source": [
    "%%R\n",
    "percent_express <- Percent_Expressing(seurat_object = Subbbb,\n",
    "    assay=\"RNA\",\n",
    "    features = c(\"CCR7\",\"GZMA\"),\n",
    "    group_by = \"CellType\")\n",
    "df_percent <- as.data.frame(percent_express)\n",
    "df_percent_melt <- as.data.frame(reshape2::melt(as.matrix(df_percent)))\n",
    "df_percent_melt\n",
    "df_percent_melt$CellType <- as.vector(df_percent_melt$Var2)\n",
    "df_percent_melt$CellType[df_percent_melt$Var2 == \"CCR7mCD45ROm\"] <- \"CD45RO-CCR7-\"\n",
    "df_percent_melt$CellType[df_percent_melt$Var2 == \"CCR7pCD45ROp\"] <- \"CD45RO+CCR7+\"\n",
    "df_percent_melt$CellType[df_percent_melt$Var2 == \"CCR7pCD45ROm\"] <- \"CD45RO-CCR7+\"\n",
    "df_percent_melt$CellType[df_percent_melt$Var2 == \"CCR7mCD45ROp\"] <- \"CD45RO+CCR7-\"\n",
    "df_percent_melt$CellType <- factor(df_percent_melt$CellType ,levels=c(\"CD45RO-CCR7+\", \"CD45RO+CCR7+\", \"CD45RO+CCR7-\", \"CD45RO-CCR7-\")) \n",
    "colnames(df_percent_melt)[1] <- \"Genes\"\n",
    "ggplot(df_percent_melt,aes(x=CellType,y=value,color=Genes,fill=Genes))+\n",
    "    geom_bar(stat=\"identity\",, position=position_dodge())+\n",
    "    ylab(\"Percentage of cells expressing (>1)\")+\n",
    "    xlab(\"CellType\")+\n",
    "    theme_classic(base_size = 20)+RotatedAxis()"
   ]
  },
  {
   "cell_type": "code",
   "execution_count": null,
   "metadata": {},
   "outputs": [],
   "source": [
    "%%R\n",
    "percent_express"
   ]
  },
  {
   "cell_type": "code",
   "execution_count": null,
   "metadata": {},
   "outputs": [],
   "source": [
    "%%R\n",
    "DefaultAssay(Subbbb) <- \"SCT\"\n",
    "Subbbb <- SetIdent(Subbbb , value = \"CellType\")\n",
    "VlnPlot(Subbbb , features = c(\"CCR7\",\"PTPRC\", \"SELL\", \"CD27\", \"CD28\", \"PRF1\", \"GZMA\", \"GZMB\", \"GZMH\", \"IL7R\", \"KLRG1\", \"TCF7\", \"TOX\"),\n",
    "    cols=c(\"black\",\"red\"),\n",
    "    stack=T,\n",
    "    split.by = \"Condition\",\n",
    "    pt.size=0)"
   ]
  },
  {
   "cell_type": "code",
   "execution_count": null,
   "metadata": {},
   "outputs": [],
   "source": [
    "%%R\n",
    "library(dittoSeq)\n",
    "p<- DimPlot(Subbbb , reduction = \"umap\", group.by = \"CellType\",label=F,cols=c(dittoColors(1)[seq_len(4)]))\n",
    "ggsave(plot=p,filename=paste0(resultdir,\"DimPlot_CellTYpe.pdf\"),width=10,height=8,dpi = 600)\n",
    "\n",
    "p"
   ]
  },
  {
   "cell_type": "code",
   "execution_count": null,
   "metadata": {},
   "outputs": [],
   "source": [
    "%%R\n",
    "DimPlot(Subbbb , reduction = \"umap\", group.by = \"sct_int_clusters\",label=T)"
   ]
  },
  {
   "cell_type": "code",
   "execution_count": null,
   "metadata": {},
   "outputs": [],
   "source": [
    "%%R\n",
    "saveRDS(Subbbb, \"Subset_raarranged.rds\")"
   ]
  },
  {
   "cell_type": "code",
   "execution_count": null,
   "metadata": {},
   "outputs": [],
   "source": [
    "%%R\n",
    "Subbbb <- readRDS(\"Subset_raarranged.rds\")"
   ]
  },
  {
   "cell_type": "code",
   "execution_count": null,
   "metadata": {},
   "outputs": [],
   "source": [
    "%%R\n",
    "DefaultAssay(Subbbb) <- \"SCT\"\n",
    "library(dplyr)\n",
    "Idents(Subbbb) <- \"sct_int_clusters\"\n",
    "Subbbb <- PrepSCTFindMarkers(Subbbb)\n",
    "markers_df <- FindAllMarkers(Subbbb, only.pos =T )\n"
   ]
  },
  {
   "cell_type": "code",
   "execution_count": null,
   "metadata": {},
   "outputs": [],
   "source": [
    "%%R\n",
    "markers_df[1:4,1:4]"
   ]
  },
  {
   "cell_type": "code",
   "execution_count": null,
   "metadata": {},
   "outputs": [],
   "source": [
    "%%R\n",
    "markers_df  <- markers_df  %>% mutate(enrichment.ratio = pct.1 / (pct.2 + .000001),\n",
    "                diff.pct = pct.1 - pct.2,\n",
    "                gene.score = avg_log2FC * enrichment.ratio)\n",
    "markers_df  <- markers_df  %>% \n",
    "    dplyr::select(gene, cluster, gene.score, p_val_adj, diff.pct, enrichment.ratio,\n",
    "                    pct.1, pct.2, avg_log2FC) %>%\n",
    "        mutate(across(where(is.numeric), .f = ~ round(.x, 5)))\n",
    "markers_df  <- markers_df  %>% group_by(cluster) %>%\n",
    "            arrange(desc(gene.score), .by_group = TRUE)"
   ]
  },
  {
   "cell_type": "code",
   "execution_count": null,
   "metadata": {},
   "outputs": [],
   "source": [
    "%%R -i resultdir\n",
    "top10_gs <- markers_df %>%\n",
    "    group_by(cluster) %>%\n",
    "    top_n(n = 2, wt = gene.score)\n",
    "top10_gs\n",
    "readr::write_tsv(markers_df,paste0(resultdir,\"df_cl.csv\"))\n",
    "\n",
    "top10_fc <- markers_df %>%\n",
    "    group_by(cluster) %>%\n",
    "    top_n(n = 2, wt = avg_log2FC)\n"
   ]
  },
  {
   "cell_type": "code",
   "execution_count": null,
   "metadata": {},
   "outputs": [],
   "source": [
    "%%R -i resultdir\n",
    "library(dittoSeq)\n",
    "avg_SCT_cl <- AverageExpression(Subbbb,group.by=\"Combined\",return.seurat = T)"
   ]
  },
  {
   "cell_type": "code",
   "execution_count": null,
   "metadata": {},
   "outputs": [],
   "source": [
    "%%R\n",
    "unique(avg_SCT_cl$Cluster)"
   ]
  },
  {
   "cell_type": "code",
   "execution_count": null,
   "metadata": {},
   "outputs": [],
   "source": [
    "%%R\n",
    "library(stringr)\n",
    "avg_SCT_cl$Cluster <- unlist(lapply(colnames(avg_SCT_cl),function(x){str_split(x,pattern=\"_\")[[1]][1]}))\n",
    "# avg_SCT_cl$Cluster <- factor(avg_SCT_cl$Cluster,levels=c(0:20))\n",
    "avg_SCT_cl$Condition <- unlist(lapply(colnames(avg_SCT_cl),function(x){str_split(x,pattern=\"_\")[[1]][2]}))\n"
   ]
  },
  {
   "cell_type": "code",
   "execution_count": null,
   "metadata": {},
   "outputs": [],
   "source": [
    "%%R -i resultdir\n",
    "dittoHeatmap(avg_SCT_cl,unique(top10_gs$gene), annot.colors = c(dittoColors(1)[seq_len(4)],c(\"black\",\"red\")),\n",
    "    annot.by = c(\"Cluster\",\"Condition\"),cluster_cols=T)#,filename=paste0(resultdir,\"Heatmap_cl_hierarchical.png\"),width=15)"
   ]
  },
  {
   "cell_type": "code",
   "execution_count": null,
   "metadata": {},
   "outputs": [],
   "source": [
    "%%R\n",
    "Subbbb$Combined_cl <- paste0(Subbbb$Condition, \": \", Subbbb$sct_int_clusters) \n",
    "\n",
    "unique(Subbbb$Combined_cl)"
   ]
  },
  {
   "cell_type": "code",
   "execution_count": null,
   "metadata": {},
   "outputs": [],
   "source": [
    "%%R\n",
    "Subbbb$Combined_cl <- paste0(Subbbb$Condition, \": \", Subbbb$sct_int_clusters) \n",
    "avg_SCT_cl2 <- AverageExpression(Subbbb,group.by=\"Combined_cl\",return.seurat = T)\n",
    "avg_SCT_cl2$Cluster <- unlist(lapply(colnames(avg_SCT_cl2),function(x){str_split(x,pattern=\"_\")[[1]][1]}))\n",
    "# avg_SCT_cl2$Cluster <- factor(avg_SCT_cl2$Cluster,levels=c(0:max(as.numeric(Subbbb$sct_int_clusters))))\n",
    "avg_SCT_cl2$Condition <- unlist(lapply(colnames(avg_SCT_cl2),function(x){str_split(x,pattern=\"_\")[[1]][2]}))\n"
   ]
  },
  {
   "cell_type": "code",
   "execution_count": null,
   "metadata": {},
   "outputs": [],
   "source": [
    "%%R\n",
    "dittoHeatmap(avg_SCT_cl2,unique(top10_gs$gene),annot.colors = c(c(\"black\",\"red\"),dittoColors(1)[seq_len(19)]),\n",
    "    annot.by = c(\"Condition\",\"Cluster\"),cluster_cols=T)#,filename=paste0(resultdir,\"Heatmap_cl_hierarchical.png\"),width=15)"
   ]
  },
  {
   "cell_type": "code",
   "execution_count": null,
   "metadata": {},
   "outputs": [],
   "source": [
    "%%R\n",
    "DefaultAssay(Subbbb) <- \"SCT\""
   ]
  },
  {
   "attachments": {},
   "cell_type": "markdown",
   "metadata": {},
   "source": [
    "## CCR7mCD45ROm"
   ]
  },
  {
   "cell_type": "code",
   "execution_count": null,
   "metadata": {},
   "outputs": [],
   "source": [
    "%%R\n",
    "library(DESeq2)\n",
    "CCR7mCD45ROm = subset(Subbbb, subset= CellType ==\"CCR7mCD45ROm\")\n",
    "CCR7mCD45ROm<- SetIdent(CCR7mCD45ROm , value = \"Condition\")\n",
    "CCR7mCD45ROm <- PrepSCTFindMarkers(CCR7mCD45ROm)\n"
   ]
  },
  {
   "cell_type": "code",
   "execution_count": null,
   "metadata": {},
   "outputs": [],
   "source": [
    "%%R\n",
    "DE_CCR7mCD45ROm <-  FindMarkers(CCR7mCD45ROm,ident.1=\"PD\",ident.2=\"HC\",\n",
    "    min.pct = 0.5,\n",
    "    logfc.threshold = 0\n",
    "    )"
   ]
  },
  {
   "cell_type": "code",
   "execution_count": null,
   "metadata": {},
   "outputs": [],
   "source": [
    "%%R\n",
    "library(EnhancedVolcano)\n",
    "EnhancedVolcano(DE_CCR7mCD45ROm,\n",
    "    lab = rownames(DE_CCR7mCD45ROm),\n",
    "    x = 'avg_log2FC',\n",
    "    y = 'p_val_adj',FCcutoff = 0.5,title=\"CD45RO-CCR7-\")"
   ]
  },
  {
   "cell_type": "code",
   "execution_count": null,
   "metadata": {},
   "outputs": [],
   "source": [
    "%%R -i resultdir\n",
    "DE_CCR7mCD45ROm[1:4,1:4]"
   ]
  },
  {
   "cell_type": "code",
   "execution_count": null,
   "metadata": {},
   "outputs": [],
   "source": [
    "%%R -i resultdir\n",
    "DE_CCR7mCD45ROm$gene <- rownames(DE_CCR7mCD45ROm)\n",
    "DE_CCR7mCD45ROm$cluster <- unlist(lapply(abs(DE_CCR7mCD45ROm$avg_log2FC),function(x){if (  x > 1 ) { \"PD\" } else { \"HC\" }}))\n",
    "\n",
    "DE_CCR7mCD45ROm  <- DE_CCR7mCD45ROm  %>% mutate(enrichment.ratio = pct.1 / (pct.2 + .000001),\n",
    "                diff.pct = pct.1 - pct.2,\n",
    "                gene.score = avg_log2FC * enrichment.ratio)\n",
    "DE_CCR7mCD45ROm  <- DE_CCR7mCD45ROm  %>% \n",
    "    dplyr::select(gene, gene.score, p_val_adj, diff.pct, enrichment.ratio,\n",
    "                    pct.1, pct.2, avg_log2FC,cluster) %>%\n",
    "        mutate(across(where(is.numeric), .f = ~ round(.x, 5)))\n",
    "DE_CCR7mCD45ROm  <- DE_CCR7mCD45ROm  %>% group_by(cluster) %>%\n",
    "            arrange(desc(gene.score), .by_group = TRUE)\n",
    "\n",
    "readr::write_tsv(DE_CCR7mCD45ROm[order(DE_CCR7mCD45ROm$gene.score,decreasing=T),],file=paste0(resultdir,\"DE_CCR7mCD45ROm.tsv\"))"
   ]
  },
  {
   "attachments": {},
   "cell_type": "markdown",
   "metadata": {},
   "source": [
    "## CCR7mCD45ROp"
   ]
  },
  {
   "cell_type": "code",
   "execution_count": null,
   "metadata": {},
   "outputs": [],
   "source": [
    "%%R\n",
    "CCR7mCD45ROp = subset(Subbbb, subset= CellType ==\"CCR7mCD45ROp\")\n",
    "CCR7mCD45ROp<- SetIdent(CCR7mCD45ROp , value = \"Condition\")\n",
    "CCR7mCD45ROp <- PrepSCTFindMarkers(CCR7mCD45ROp)\n",
    "DE_CCR7mCD45ROp <-  FindMarkers(CCR7mCD45ROp,ident.1=\"PD\",ident.2=\"HC\",\n",
    "    min.pct = 0.5,\n",
    "    logfc.threshold = 0)"
   ]
  },
  {
   "cell_type": "code",
   "execution_count": null,
   "metadata": {},
   "outputs": [],
   "source": [
    "%%R\n",
    "EnhancedVolcano(DE_CCR7mCD45ROp,\n",
    "    lab = rownames(DE_CCR7mCD45ROp),\n",
    "    x = 'avg_log2FC',\n",
    "    y = 'p_val_adj',FCcutoff = 0.5,title=\"CD45RO+CCR7-\")"
   ]
  },
  {
   "cell_type": "code",
   "execution_count": null,
   "metadata": {},
   "outputs": [],
   "source": [
    "%%R -i resultdir\n",
    "DE_CCR7mCD45ROp$gene <- rownames(DE_CCR7mCD45ROp)\n",
    "DE_CCR7mCD45ROp$cluster <- unlist(lapply(abs(DE_CCR7mCD45ROp$avg_log2FC),function(x){if (  x > 1 ) { \"PD\" } else { \"HC\" }}))\n",
    "\n",
    "DE_CCR7mCD45ROp  <- DE_CCR7mCD45ROp  %>% mutate(enrichment.ratio = pct.1 / (pct.2 + .000001),\n",
    "                diff.pct = pct.1 - pct.2,\n",
    "                gene.score = avg_log2FC * enrichment.ratio)\n",
    "DE_CCR7mCD45ROp  <- DE_CCR7mCD45ROp  %>% \n",
    "    dplyr::select(gene, gene.score, p_val_adj, diff.pct, enrichment.ratio,\n",
    "                    pct.1, pct.2, avg_log2FC,cluster) %>%\n",
    "        mutate(across(where(is.numeric), .f = ~ round(.x, 5)))\n",
    "DE_CCR7mCD45ROp  <- DE_CCR7mCD45ROp  %>% group_by(cluster) %>%\n",
    "            arrange(desc(gene.score), .by_group = TRUE)\n",
    "readr::write_tsv(DE_CCR7mCD45ROp[order(DE_CCR7mCD45ROp$gene.score,decreasing=T),],file=paste0(resultdir,\"DE_CCR7mCD45ROp.tsv\"))"
   ]
  },
  {
   "attachments": {},
   "cell_type": "markdown",
   "metadata": {},
   "source": [
    "## CCR7pCD45ROm"
   ]
  },
  {
   "cell_type": "code",
   "execution_count": null,
   "metadata": {},
   "outputs": [],
   "source": [
    "%%R\n",
    "CCR7pCD45ROm = subset(Subbbb, subset= CellType ==\"CCR7pCD45ROm\")\n",
    "CCR7pCD45ROm<- SetIdent(CCR7pCD45ROm , value = \"Condition\")\n",
    "CCR7pCD45ROm\n",
    "CCR7pCD45ROm <- PrepSCTFindMarkers(CCR7pCD45ROm)\n",
    "DE_CCR7pCD45ROm <-  FindMarkers(CCR7pCD45ROm,ident.1=\"PD\",ident.2=\"HC\",\n",
    "    min.pct = 0.5,\n",
    "    logfc.threshold = 0)"
   ]
  },
  {
   "cell_type": "code",
   "execution_count": null,
   "metadata": {},
   "outputs": [],
   "source": [
    "%%R\n",
    "EnhancedVolcano(DE_CCR7pCD45ROm,\n",
    "    lab = rownames(DE_CCR7pCD45ROm),\n",
    "    x = 'avg_log2FC',\n",
    "    y = 'p_val_adj',FCcutoff = 0.5,title=\"CD45RO-CCR7+\")"
   ]
  },
  {
   "cell_type": "code",
   "execution_count": null,
   "metadata": {},
   "outputs": [],
   "source": [
    "%%R -i resultdir\n",
    "DE_CCR7pCD45ROm$gene <- rownames(DE_CCR7pCD45ROm)\n",
    "DE_CCR7pCD45ROm$cluster <- unlist(lapply(abs(DE_CCR7pCD45ROm$avg_log2FC),function(x){if (  x > 1 ) { \"PD\" } else { \"HC\" }}))\n",
    "\n",
    "DE_CCR7pCD45ROm  <- DE_CCR7pCD45ROm  %>% mutate(enrichment.ratio = pct.1 / (pct.2 + .000001),\n",
    "                diff.pct = pct.1 - pct.2,\n",
    "                gene.score = avg_log2FC * enrichment.ratio)\n",
    "DE_CCR7pCD45ROm  <- DE_CCR7pCD45ROm  %>% \n",
    "    dplyr::select(gene, gene.score, p_val_adj, diff.pct, enrichment.ratio,\n",
    "                    pct.1, pct.2, avg_log2FC,cluster) %>%\n",
    "        mutate(across(where(is.numeric), .f = ~ round(.x, 5)))\n",
    "DE_CCR7pCD45ROm  <- DE_CCR7pCD45ROm  %>% group_by(cluster) %>%\n",
    "            arrange(desc(gene.score), .by_group = TRUE)\n",
    "readr::write_tsv(DE_CCR7pCD45ROm[order(DE_CCR7pCD45ROm$gene.score,decreasing=T),],file=paste0(resultdir,\"DE_CCR7pCD45ROm.tsv\"))"
   ]
  },
  {
   "attachments": {},
   "cell_type": "markdown",
   "metadata": {},
   "source": [
    "## CCR7pCD45ROp"
   ]
  },
  {
   "cell_type": "code",
   "execution_count": null,
   "metadata": {},
   "outputs": [],
   "source": [
    "%%R\n",
    "library(DESeq2)\n",
    "CCR7pCD45ROp = subset(Subbbb, subset= CellType ==\"CCR7pCD45ROp\")\n",
    "CCR7pCD45ROp<- SetIdent(CCR7pCD45ROp , value = \"Condition\")\n",
    "CCR7pCD45ROp <- PrepSCTFindMarkers(CCR7pCD45ROp)\n"
   ]
  },
  {
   "cell_type": "code",
   "execution_count": null,
   "metadata": {},
   "outputs": [],
   "source": [
    "%%R\n",
    "DE_CCR7pCD45ROp <-  FindMarkers(CCR7pCD45ROp,ident.1=\"PD\",ident.2=\"HC\",\n",
    "    min.pct = 0.5,\n",
    "    logfc.threshold = 0)"
   ]
  },
  {
   "cell_type": "code",
   "execution_count": null,
   "metadata": {},
   "outputs": [],
   "source": [
    "%%R\n",
    "library(EnhancedVolcano)\n",
    "EnhancedVolcano(DE_CCR7pCD45ROp,\n",
    "    lab = rownames(DE_CCR7pCD45ROp),\n",
    "    x = 'avg_log2FC',\n",
    "    y = 'p_val_adj',FCcutoff = 0.5,title=\"CD45RO+CCR7+\")"
   ]
  },
  {
   "cell_type": "code",
   "execution_count": null,
   "metadata": {},
   "outputs": [],
   "source": [
    "%%R -i resultdir\n",
    "DE_CCR7pCD45ROp$gene <- rownames(DE_CCR7pCD45ROp)\n",
    "DE_CCR7pCD45ROp$cluster <- unlist(lapply(abs(DE_CCR7pCD45ROp$avg_log2FC),function(x){if (  x > 1 ) { \"PD\" } else { \"HC\" }}))\n",
    "\n",
    "DE_CCR7pCD45ROp  <- DE_CCR7pCD45ROp  %>% mutate(enrichment.ratio = pct.1 / (pct.2 + .000001),\n",
    "                diff.pct = pct.1 - pct.2,\n",
    "                gene.score = avg_log2FC * enrichment.ratio)\n",
    "DE_CCR7pCD45ROp  <- DE_CCR7pCD45ROp  %>% \n",
    "    dplyr::select(gene, gene.score, p_val_adj, diff.pct, enrichment.ratio,\n",
    "                    pct.1, pct.2, avg_log2FC,cluster) %>%\n",
    "        mutate(across(where(is.numeric), .f = ~ round(.x, 5)))\n",
    "DE_CCR7pCD45ROp  <- DE_CCR7pCD45ROp  %>% group_by(cluster) %>%\n",
    "            arrange(desc(gene.score), .by_group = TRUE)\n",
    "readr::write_tsv(DE_CCR7pCD45ROp[order(DE_CCR7pCD45ROp$gene.score,decreasing=T),],file=paste0(resultdir,\"DE_CCR7pCD45ROp.tsv\"))"
   ]
  },
  {
   "cell_type": "code",
   "execution_count": null,
   "metadata": {},
   "outputs": [],
   "source": [
    "%%R\n",
    "library(ggvenn)\n",
    "x <- list( \n",
    "    DE_CCR7mCD45ROm = rownames(DE_CCR7mCD45ROm %>% filter(abs(avg_log2FC)>0.5 &  p_val_adj <0.05)),\n",
    "    DE_CCR7pCD45ROp = rownames(DE_CCR7pCD45ROp %>% filter(abs(avg_log2FC)>0.5 &  p_val_adj <0.05)),\n",
    "    DE_CCR7pCD45ROm = rownames(DE_CCR7pCD45ROm %>% filter(abs(avg_log2FC)>0.5 &  p_val_adj <0.05)),\n",
    "    DE_CCR7mCD45ROp = rownames(DE_CCR7mCD45ROp %>% filter(abs(avg_log2FC)>0.5 &  p_val_adj <0.05))\n",
    ")\n",
    "ggvenn(\n",
    "  x, \n",
    "  fill_color = c(\"#999999\", \"#E69F00\", \"#56B4E9\", \"#009E73\"),\n",
    "  stroke_size = 0.5, set_name_size = 4\n",
    "  )\n"
   ]
  },
  {
   "cell_type": "code",
   "execution_count": null,
   "metadata": {},
   "outputs": [],
   "source": [
    "%%R\n",
    "library(\"ggVennDiagram\")\n",
    "ggVennDiagram(x, label_alpha = 0)"
   ]
  },
  {
   "cell_type": "code",
   "execution_count": null,
   "metadata": {},
   "outputs": [],
   "source": [
    "%%R\n",
    "Allcommon <- Reduce(intersect,x)\n",
    "Allcommon\n"
   ]
  },
  {
   "cell_type": "code",
   "execution_count": null,
   "metadata": {},
   "outputs": [],
   "source": [
    "%%R\n",
    "Idents(Subbbb) <- \"CCellType\"\n",
    "VlnPlot(Subbbb, Allcommon,stack=T,split.by=\"Condition\",cols=c(\"black\",\"red\"))"
   ]
  },
  {
   "cell_type": "code",
   "execution_count": null,
   "metadata": {},
   "outputs": [],
   "source": [
    "%%R\n",
    "library(enrichR)\n",
    "dbs <- listEnrichrDbs()"
   ]
  },
  {
   "cell_type": "code",
   "execution_count": null,
   "metadata": {},
   "outputs": [],
   "source": [
    "%%R\n",
    "colnames(dbs)"
   ]
  },
  {
   "cell_type": "code",
   "execution_count": null,
   "metadata": {},
   "outputs": [],
   "source": [
    "%%R\n",
    "list_2021 <- as.vector(grep(\"2021\",unique(dbs$libraryName)))\n",
    "\n",
    "list_2022 <- as.vector(grep(\"2022\",unique(dbs$libraryName)))\n",
    "\n",
    "list_parkinson <- as.vector(grep(\"Parki\",unique(dbs$libraryName)))\n",
    "\n",
    "list_2021\n",
    "dbs$libraryName[list_2021]"
   ]
  },
  {
   "attachments": {},
   "cell_type": "markdown",
   "metadata": {},
   "source": [
    "## GO_Biological_Process_2021"
   ]
  },
  {
   "cell_type": "code",
   "execution_count": null,
   "metadata": {},
   "outputs": [],
   "source": [
    "%%R -i resultdir\n",
    "obj_list_celltype = list(\n",
    "    \"CCR7mCD45ROm\" = CCR7mCD45ROm,\n",
    "    \"CCR7pCD45ROp\" = CCR7pCD45ROp,\n",
    "    \"CCR7mCD45ROp\" = CCR7mCD45ROp,\n",
    "    \"CCR7pCD45ROm\" = CCR7pCD45ROm\n",
    ")\n",
    "\n",
    "list_plot_enrich <- lapply(1:length(obj_list_celltype),FUN=function(x){\n",
    "    celltype_name = names(obj_list_celltype)[x]\n",
    "    celltype_obj = obj_list_celltype[[celltype_name]]\n",
    "    print(celltype_name)\n",
    "    plot_enrich <- DEenrichRPlot(\n",
    "        celltype_obj,\n",
    "        ident.1 = \"HC\",\n",
    "        ident.2 = \"PD\",\n",
    "        balanced = TRUE,\n",
    "        enrich.database=\"GO_Biological_Process_2021\", \n",
    "        logfc.threshold = 0.25,\n",
    "        max.genes=500,\n",
    "        test.use = \"wilcox\",\n",
    "        p.val.cutoff = 0.05,\n",
    "        num.pathway = 10)+ theme(text=element_text(size=16))\n",
    "    ggsave(plot=plot_enrich,\n",
    "        filename=paste0(resultdir,\"Res_GO_Biological_Process_2021_\",celltype_name,\".png\"),width=10,height=9)\n",
    "    plot_enrich\n",
    "})\n"
   ]
  },
  {
   "cell_type": "code",
   "execution_count": null,
   "metadata": {},
   "outputs": [],
   "source": [
    "%%R\n",
    "library(patchwork)\n",
    "# list_plot_enrich[1]\n",
    "(list_plot_enrich[[1]]+list_plot_enrich[[2]]) / (list_plot_enrich[[3]]+list_plot_enrich[[4]])"
   ]
  },
  {
   "attachments": {},
   "cell_type": "markdown",
   "metadata": {},
   "source": [
    "## Reactome_2022"
   ]
  },
  {
   "cell_type": "code",
   "execution_count": null,
   "metadata": {},
   "outputs": [],
   "source": [
    "%%R -i resultdir\n",
    "Reactome_2022_list_plot_enrich <- lapply(1:length(obj_list_celltype),FUN=function(x){\n",
    "    celltype_name = names(obj_list_celltype)[x]\n",
    "    celltype_obj = obj_list_celltype[[celltype_name]]\n",
    "    print(celltype_name)\n",
    "    plot_enrich <- DEenrichRPlot(\n",
    "        celltype_obj,\n",
    "        ident.1 = \"HC\",\n",
    "        ident.2 = \"PD\",\n",
    "        balanced = TRUE,\n",
    "        enrich.database=\"Reactome_2022\", \n",
    "        logfc.threshold = 0.25,\n",
    "        max.genes=500,\n",
    "        test.use = \"wilcox\",\n",
    "        p.val.cutoff = 0.05,\n",
    "        num.pathway = 10)\n",
    "    ggsave(plot=plot_enrich,\n",
    "        filename=paste0(resultdir,\"Res_Reactome_2022_\",celltype_name,\".png\"),width=15,height=12)\n",
    "    plot_enrich\n",
    "})"
   ]
  },
  {
   "cell_type": "code",
   "execution_count": null,
   "metadata": {},
   "outputs": [],
   "source": [
    "%%R\n",
    "(Reactome_2022_list_plot_enrich[[1]]+Reactome_2022_list_plot_enrich[[2]]) / \n",
    "(Reactome_2022_list_plot_enrich[[3]]+Reactome_2022_list_plot_enrich[[4]])"
   ]
  },
  {
   "attachments": {},
   "cell_type": "markdown",
   "metadata": {},
   "source": [
    "## KEGG_2021_Human"
   ]
  },
  {
   "cell_type": "code",
   "execution_count": null,
   "metadata": {},
   "outputs": [],
   "source": [
    "%%R -i resultdir\n",
    "KEGG_2021_Human_list_plot_enrich <- lapply(1:length(obj_list_celltype),FUN=function(x){\n",
    "    celltype_name = names(obj_list_celltype)[x]\n",
    "    celltype_obj = obj_list_celltype[[celltype_name]]\n",
    "    print(celltype_name)\n",
    "    plot_enrich <- DEenrichRPlot(\n",
    "        celltype_obj,\n",
    "        ident.1 = \"HC\",\n",
    "        ident.2 = \"PD\",\n",
    "        balanced = TRUE,\n",
    "        enrich.database=\"KEGG_2021_Human\", \n",
    "        logfc.threshold = 0.25,\n",
    "        max.genes=500,\n",
    "        test.use = \"wilcox\",\n",
    "        p.val.cutoff = 0.05,\n",
    "        num.pathway = 10)\n",
    "    ggsave(plot=plot_enrich,\n",
    "        filename=paste0(resultdir,\"Res_KEGG_2021_Human_\",celltype_name,\".png\"))\n",
    "    plot_enrich\n",
    "})\n",
    "\n"
   ]
  },
  {
   "cell_type": "code",
   "execution_count": null,
   "metadata": {},
   "outputs": [],
   "source": [
    "%%R\n",
    "KEGG_2021_Human_list_plot_enrich[[1]]"
   ]
  },
  {
   "cell_type": "code",
   "execution_count": null,
   "metadata": {},
   "outputs": [],
   "source": [
    "%%R\n",
    "(KEGG_2021_Human_list_plot_enrich[[1]]+KEGG_2021_Human_list_plot_enrich[[2]]) / \n",
    "(KEGG_2021_Human_list_plot_enrich[[3]]+KEGG_2021_Human_list_plot_enrich[[4]])"
   ]
  },
  {
   "attachments": {},
   "cell_type": "markdown",
   "metadata": {},
   "source": [
    "## WikiPathway_2021_Human"
   ]
  },
  {
   "cell_type": "code",
   "execution_count": null,
   "metadata": {},
   "outputs": [],
   "source": [
    "%%R -i resultdir\n",
    "WikiPathway_2021_Human_list_plot_enrich <- lapply(1:length(obj_list_celltype),FUN=function(x){\n",
    "    celltype_name = names(obj_list_celltype)[x]\n",
    "    celltype_obj = obj_list_celltype[[celltype_name]]\n",
    "    print(celltype_name)\n",
    "    plot_enrich <- DEenrichRPlot(\n",
    "        celltype_obj,\n",
    "        ident.1 = \"HC\",\n",
    "        ident.2 = \"PD\",\n",
    "        balanced = TRUE,\n",
    "        enrich.database=\"WikiPathway_2021_Human\", \n",
    "        logfc.threshold = 0.25,\n",
    "        max.genes=500,\n",
    "        test.use = \"wilcox\",\n",
    "        p.val.cutoff = 0.05,\n",
    "        num.pathway = 10)\n",
    "    ggsave(plot=plot_enrich,\n",
    "        filename=paste0(resultdir,\"Res_WikiPathway_2021_Human_\",celltype_name,\".png\"))\n",
    "    plot_enrich\n",
    "})\n"
   ]
  },
  {
   "cell_type": "code",
   "execution_count": null,
   "metadata": {},
   "outputs": [],
   "source": [
    "%%R\n",
    "(WikiPathway_2021_Human_list_plot_enrich[[1]]+WikiPathway_2021_Human_list_plot_enrich[[2]]) / \n",
    "(WikiPathway_2021_Human_list_plot_enrich[[3]]+WikiPathway_2021_Human_list_plot_enrich[[4]])"
   ]
  },
  {
   "cell_type": "code",
   "execution_count": null,
   "metadata": {},
   "outputs": [],
   "source": [
    "%%R\n",
    "saveRDS()"
   ]
  },
  {
   "cell_type": "code",
   "execution_count": null,
   "metadata": {},
   "outputs": [],
   "source": []
  },
  {
   "cell_type": "code",
   "execution_count": null,
   "metadata": {},
   "outputs": [],
   "source": []
  },
  {
   "cell_type": "code",
   "execution_count": null,
   "metadata": {},
   "outputs": [],
   "source": []
  },
  {
   "cell_type": "code",
   "execution_count": null,
   "metadata": {},
   "outputs": [],
   "source": []
  },
  {
   "cell_type": "code",
   "execution_count": null,
   "metadata": {},
   "outputs": [],
   "source": []
  },
  {
   "cell_type": "code",
   "execution_count": null,
   "metadata": {},
   "outputs": [],
   "source": [
    "%%R -i resultdir\n",
    "library(RColorBrewer)\n",
    "DefaultAssay(SCT.combined) <- \"SCT\"\n",
    "pfeat <- FeaturePlot(SCT.combined, features=c(\"CCR7\",\"PTPRC\", \"SELL\",\"IL7R\",\"TCF7\", \"CD27\", \"CD28\", \"PRF1\", \"GZMA\", \"GZMB\", \"GZMH\",  \"KLRG1\",  \"TOX\"),order=T,ncol=4) &\n",
    "    scale_colour_gradientn(colours =brewer.pal(n = 11, name = \"Greens\"))\n",
    "    \n",
    "ggsave(plot=pfeat,filename=paste0(resultdir,\"Featureplot.png\"),width=12,height=12)\n",
    "pfeat"
   ]
  },
  {
   "cell_type": "code",
   "execution_count": null,
   "metadata": {},
   "outputs": [],
   "source": [
    "%%R\n",
    "DefaultAssay(SCT.combined) <- \"SCT\"\n",
    "SCT.combined <- SetIdent(SCT.combined , value = \"CellType\")\n",
    "VlnPlot(SCT.combined , features = c(\"CCR7\",\"PTPRC\", \"SELL\", \"CD27\", \"CD28\", \"PRF1\", \"GZMA\", \"GZMB\", \"GZMH\", \"IL7R\", \"KLRG1\", \"TCF7\", \"TOX\"),stack=T, split.by = \"Condition\",pt.size=0)"
   ]
  },
  {
   "cell_type": "code",
   "execution_count": null,
   "metadata": {},
   "outputs": [],
   "source": [
    "%%R\n",
    "DefaultAssay(SCT.combined) <- \"integrated\"\n",
    "SCT.combined <- RunPCA(SCT.combined, verbose = FALSE,features= c(\"CCR7\",\"PTPRC\", \"SELL\", \"CD27\", \"CD28\", \"PRF1\", \"GZMA\", \"GZMB\", \"GZMH\", \"IL7R\", \"KLRG1\", \"TCF7\", \"TOX\"))\n",
    "SCT.combined <- RunUMAP(SCT.combined, reduction = \"pca\", dims = 1:3)\n",
    "DimPlot(SCT.combined , reduction = \"umap\", group.by = \"CellType\",split.by=\"CellType\",ncol=2)"
   ]
  },
  {
   "cell_type": "code",
   "execution_count": null,
   "metadata": {},
   "outputs": [],
   "source": [
    "%%R\n",
    "SCT.combined <- FindNeighbors(SCT.combined, reduction = \"pca\", dims = 1:5)\n",
    "SCT.combined <- FindClusters(SCT.combined, resolution = 0.2)\n",
    "SCT.combined$sl_feat_cl <- SCT.combined$integrated_snn_res.0.2"
   ]
  },
  {
   "cell_type": "code",
   "execution_count": null,
   "metadata": {},
   "outputs": [],
   "source": [
    "%%R\n",
    "DimPlot(SCT.combined , reduction = \"umap\", group.by = \"sl_feat_cl\",label=T,label.box=T)"
   ]
  },
  {
   "cell_type": "code",
   "execution_count": null,
   "metadata": {},
   "outputs": [],
   "source": [
    "%%R\n",
    "DimPlot(SCT.combined , reduction = \"umap\", group.by = \"sl_feat_cl\",split.by=\"CellType\",ncol=2)"
   ]
  },
  {
   "cell_type": "code",
   "execution_count": null,
   "metadata": {},
   "outputs": [],
   "source": [
    "%%R\n",
    "DimPlot(SCT.combined , reduction = \"umap\", group.by = \"CellType\",split.by=\"CellType\",ncol=2)+NoLegend()"
   ]
  },
  {
   "cell_type": "code",
   "execution_count": null,
   "metadata": {},
   "outputs": [],
   "source": [
    "%%R -i resultdir\n",
    "library(RColorBrewer)\n",
    "DefaultAssay(SCT.combined) <- \"SCT\"\n",
    "\n",
    "pfeat <- FeaturePlot(SCT.combined, features=c(\"CCR7\",\"PTPRC\", \"SELL\",\"IL7R\",\"TCF7\", \"CD27\", \"CD28\", \"PRF1\", \"GZMA\", \"GZMB\", \"GZMH\",  \"KLRG1\",  \"TOX\"),order=T,ncol=4) &\n",
    "    scale_colour_gradientn(colours =brewer.pal(n = 11, name = \"Greens\"))\n",
    "    \n",
    "ggsave(plot=pfeat,filename=paste0(resultdir,\"Featureplot_SlFeatUMAP.png\"),width=12,height=12)\n",
    "pfeat"
   ]
  },
  {
   "cell_type": "code",
   "execution_count": null,
   "metadata": {},
   "outputs": [],
   "source": [
    "%%R\n",
    "FeaturePlot(SCT.combined , features=c(\"CCR7\",\"SELL\",\"TCF7\", \"CD27\", \"GZMA\", \"GZMB\", \"GZMH\",  \"KLRG1\",  \"TOX\"),order=T,ncol=3) &\n",
    "    scale_colour_gradientn(colours =brewer.pal(n = 11, name = \"YlGn\"))"
   ]
  },
  {
   "attachments": {},
   "cell_type": "markdown",
   "metadata": {},
   "source": [
    "## Average Differential Expression"
   ]
  },
  {
   "cell_type": "code",
   "execution_count": null,
   "metadata": {},
   "outputs": [],
   "source": [
    "%%R\n",
    "library(dplyr)\n",
    "markers_df <- FindAllMarkers(SCT.combined,group.by=\"sct_int_clusters\", only.pos = T,\n",
    "    min.pct = 0.1, logfc.threshold = 0.5)"
   ]
  },
  {
   "cell_type": "code",
   "execution_count": null,
   "metadata": {},
   "outputs": [],
   "source": [
    "%%R\n",
    "markers_df  <- markers_df  %>% mutate(enrichment.ratio = pct.1 / (pct.2 + .000001),\n",
    "                diff.pct = pct.1 - pct.2,\n",
    "                gene.score = avg_log2FC * enrichment.ratio)\n",
    "markers_df  <- markers_df  %>% \n",
    "    dplyr::select(gene, cluster, gene.score, p_val_adj, diff.pct, enrichment.ratio,\n",
    "                    pct.1, pct.2, avg_log2FC) %>%\n",
    "        mutate(across(where(is.numeric), .f = ~ round(.x, 5)))\n",
    "markers_df  <- markers_df  %>% group_by(cluster) %>%\n",
    "            arrange(desc(gene.score), .by_group = TRUE)"
   ]
  },
  {
   "cell_type": "code",
   "execution_count": null,
   "metadata": {},
   "outputs": [],
   "source": [
    "%%R -i resultdir\n",
    "top10_gs <- markers_df %>%\n",
    "    group_by(cluster) %>%\n",
    "    top_n(n = 2, wt = gene.score)\n",
    "top10_gs\n",
    "readr::write_tsv(markers_df,paste0(resultdir,\"df_cl.csv\"))\n",
    "\n",
    "top10_fc <- markers_df %>%\n",
    "    group_by(cluster) %>%\n",
    "    top_n(n = 2, wt = avg_log2FC)\n"
   ]
  },
  {
   "cell_type": "code",
   "execution_count": null,
   "metadata": {},
   "outputs": [],
   "source": [
    "%%R \n",
    "unique(SCT.combined$Combined)"
   ]
  },
  {
   "cell_type": "code",
   "execution_count": null,
   "metadata": {},
   "outputs": [],
   "source": [
    "%%R -i resultdir\n",
    "library(dittoSeq)\n",
    "SCT.combined$Combined <- paste0(SCT.combined$sct_int_clusters,\"_\",SCT.combined$Condition)\n",
    "avg_SCT_cl <- AverageExpression(SCT.combined,group.by=\"Combined\",return.seurat = T)"
   ]
  },
  {
   "cell_type": "code",
   "execution_count": null,
   "metadata": {},
   "outputs": [],
   "source": [
    "%%R\n",
    "library(stringr)\n",
    "avg_SCT_cl$Cluster <- unlist(lapply(colnames(avg_SCT_cl),function(x){str_split(x,pattern=\"_\")[[1]][1]}))\n",
    "avg_SCT_cl$Cluster <- factor(avg_SCT_cl$Cluster,levels=c(0:20))\n",
    "avg_SCT_cl$Condition <- unlist(lapply(colnames(avg_SCT_cl),function(x){str_split(x,pattern=\"_\")[[1]][2]}))\n"
   ]
  },
  {
   "cell_type": "code",
   "execution_count": null,
   "metadata": {},
   "outputs": [],
   "source": [
    "%%R -i resultdir\n",
    "dittoHeatmap(avg_SCT_cl,unique(top10_gs$gene),\n",
    "    annot.by = c(\"Cluster\",\"Condition\"),cluster_cols=T,filename=paste0(resultdir,\"Heatmap_cl_hierarchical.png\"),width=15)"
   ]
  },
  {
   "cell_type": "code",
   "execution_count": null,
   "metadata": {},
   "outputs": [],
   "source": [
    "%%R\n",
    "dittoHeatmap(avg_SCT_cl,unique(top10$gene),\n",
    "    annot.by = c(\"Cluster\",\"Condition\"),cluster_cols=F,filename=paste0(resultdir,\"Heatmap_cl.png\"),width=15)"
   ]
  },
  {
   "cell_type": "code",
   "execution_count": null,
   "metadata": {},
   "outputs": [],
   "source": [
    "%%R\n",
    "dittoHeatmap(avg_SCT_cl,unique(top10_fc$gene),\n",
    "    annot.by = c(\"Cluster\",\"Condition\"),cluster_cols=F)#+ggsave(paste0(resultdir,\"Heatmap_cl.png\"))"
   ]
  },
  {
   "attachments": {},
   "cell_type": "markdown",
   "metadata": {},
   "source": [
    "## CCR7mCD45ROp"
   ]
  },
  {
   "cell_type": "code",
   "execution_count": null,
   "metadata": {},
   "outputs": [],
   "source": [
    "%%R\n",
    "CCR7mCD45ROp = subset(SCT.combined, subset= CellType ==\"CCR7mCD45ROp\")\n",
    "CCR7mCD45ROp<- SetIdent(CCR7mCD45ROp , value = \"Condition\")\n",
    "CCR7mCD45ROp <- PrepSCTFindMarkers(CCR7mCD45ROp)\n",
    "DE_CCR7mCD45ROp <-  FindMarkers(CCR7mCD45ROp,ident.1=\"HC\",ident.2=\"PD\",\n",
    "    min.pct = 0.5,\n",
    "    logfc.threshold = 0)"
   ]
  },
  {
   "cell_type": "code",
   "execution_count": null,
   "metadata": {},
   "outputs": [],
   "source": [
    "%%R\n",
    "EnhancedVolcano(DE_CCR7mCD45ROp,\n",
    "    lab = rownames(DE_CCR7mCD45ROp),\n",
    "    x = 'avg_log2FC',\n",
    "    y = 'p_val_adj',FCcutoff = 0.5)"
   ]
  },
  {
   "attachments": {},
   "cell_type": "markdown",
   "metadata": {},
   "source": [
    "## CCR7pCD45ROm"
   ]
  },
  {
   "cell_type": "code",
   "execution_count": null,
   "metadata": {},
   "outputs": [],
   "source": [
    "%%R\n",
    "CCR7pCD45ROm = subset(SCT.combined, subset= CellType ==\"CCR7pCD45ROm\")\n",
    "CCR7pCD45ROm<- SetIdent(CCR7pCD45ROm , value = \"Condition\")\n",
    "CCR7pCD45ROm <- PrepSCTFindMarkers(CCR7pCD45ROm)\n",
    "DE_CCR7pCD45ROm <-  FindMarkers(CCR7pCD45ROm,ident.1=\"HC\",ident.2=\"PD\",\n",
    "    min.pct = 0.5,\n",
    "    logfc.threshold = 0)"
   ]
  },
  {
   "cell_type": "code",
   "execution_count": null,
   "metadata": {},
   "outputs": [],
   "source": [
    "%%R\n",
    "EnhancedVolcano(DE_CCR7pCD45ROm,\n",
    "    lab = rownames(DE_CCR7pCD45ROm),\n",
    "    x = 'avg_log2FC',\n",
    "    y = 'p_val_adj',FCcutoff = 0.5)"
   ]
  },
  {
   "attachments": {},
   "cell_type": "markdown",
   "metadata": {},
   "source": [
    "## CCR7pCD45ROp"
   ]
  },
  {
   "cell_type": "code",
   "execution_count": null,
   "metadata": {},
   "outputs": [],
   "source": [
    "%%R\n",
    "library(DESeq2)\n",
    "CCR7pCD45ROp = subset(SCT.combined, subset= CellType ==\"CCR7pCD45ROp\")\n",
    "CCR7pCD45ROp<- SetIdent(CCR7pCD45ROp , value = \"Condition\")\n",
    "CCR7pCD45ROp <- PrepSCTFindMarkers(CCR7pCD45ROp)\n"
   ]
  },
  {
   "cell_type": "code",
   "execution_count": null,
   "metadata": {},
   "outputs": [],
   "source": [
    "%%R\n",
    "DE_CCR7pCD45ROp <-  FindMarkers(CCR7pCD45ROp,ident.1=\"HC\",ident.2=\"PD\",\n",
    "    min.pct = 0.5,\n",
    "    logfc.threshold = 0)"
   ]
  },
  {
   "cell_type": "code",
   "execution_count": null,
   "metadata": {},
   "outputs": [],
   "source": [
    "%%R\n",
    "library(EnhancedVolcano)\n",
    "EnhancedVolcano(DE_CCR7pCD45ROp,\n",
    "    lab = rownames(DE_CCR7pCD45ROp),\n",
    "    x = 'avg_log2FC',\n",
    "    y = 'p_val_adj',FCcutoff = 0.5)"
   ]
  },
  {
   "cell_type": "code",
   "execution_count": null,
   "metadata": {},
   "outputs": [],
   "source": [
    "%%R\n",
    "library(ggvenn)\n",
    "x <- list( \n",
    "    DE_CCR7mCD45ROm = rownames(DE_CCR7mCD45ROm %>% filter(abs(avg_log2FC)>0.5 &  p_val_adj <0.05)),\n",
    "    DE_CCR7pCD45ROp = rownames(DE_CCR7pCD45ROp %>% filter(abs(avg_log2FC)>0.5 &  p_val_adj <0.05)),\n",
    "    DE_CCR7pCD45ROm = rownames(DE_CCR7pCD45ROm %>% filter(abs(avg_log2FC)>0.5 &  p_val_adj <0.05)),\n",
    "    DE_CCR7mCD45ROp = rownames(DE_CCR7mCD45ROp %>% filter(abs(avg_log2FC)>0.5 &  p_val_adj <0.05))\n",
    ")\n",
    "ggvenn(\n",
    "  x, \n",
    "  fill_color = c(\"#999999\", \"#E69F00\", \"#56B4E9\", \"#009E73\"),\n",
    "  stroke_size = 0.5, set_name_size = 4\n",
    "  )\n"
   ]
  },
  {
   "cell_type": "code",
   "execution_count": null,
   "metadata": {},
   "outputs": [],
   "source": [
    "%%R\n",
    "library(\"ggVennDiagram\")\n",
    "ggVennDiagram(x, label_alpha = 0)"
   ]
  },
  {
   "cell_type": "code",
   "execution_count": null,
   "metadata": {},
   "outputs": [],
   "source": [
    "%%R\n",
    "Allcommon <- Reduce(intersect,x)\n",
    "Allcommon\n"
   ]
  },
  {
   "cell_type": "code",
   "execution_count": null,
   "metadata": {},
   "outputs": [],
   "source": [
    "%%R\n",
    "VlnPlot(SCT.combined, Allcommon,stack=T,split.by=\"Condition\")"
   ]
  },
  {
   "cell_type": "code",
   "execution_count": null,
   "metadata": {},
   "outputs": [],
   "source": [
    "%%R\n",
    "library(enrichR)\n",
    "dbs <- listEnrichrDbs()"
   ]
  },
  {
   "cell_type": "code",
   "execution_count": null,
   "metadata": {},
   "outputs": [],
   "source": [
    "%%R\n",
    "colnames(dbs)"
   ]
  },
  {
   "cell_type": "code",
   "execution_count": null,
   "metadata": {},
   "outputs": [],
   "source": [
    "%%R\n",
    "list_2021 <- as.vector(grep(\"2021\",unique(dbs$libraryName)))\n",
    "\n",
    "list_2022 <- as.vector(grep(\"2022\",unique(dbs$libraryName)))\n",
    "\n",
    "list_parkinson <- as.vector(grep(\"Parki\",unique(dbs$libraryName)))\n",
    "\n",
    "list_2021\n",
    "dbs$libraryName[list_2021]"
   ]
  },
  {
   "attachments": {},
   "cell_type": "markdown",
   "metadata": {},
   "source": [
    "## GO_Biological_Process_2021"
   ]
  },
  {
   "cell_type": "code",
   "execution_count": null,
   "metadata": {},
   "outputs": [],
   "source": [
    "%%R -i resultdir\n",
    "obj_list_celltype = list(\n",
    "    \"CCR7mCD45ROm\" = CCR7mCD45ROm,\n",
    "    \"CCR7pCD45ROp\" = CCR7pCD45ROp,\n",
    "    \"CCR7mCD45ROp\" = CCR7mCD45ROp,\n",
    "    \"CCR7pCD45ROm\" = CCR7pCD45ROm\n",
    ")\n",
    "\n",
    "list_plot_enrich <- lapply(1:length(obj_list_celltype),FUN=function(x){\n",
    "    celltype_name = names(obj_list_celltype)[x]\n",
    "    celltype_obj = obj_list_celltype[[celltype_name]]\n",
    "    print(celltype_name)\n",
    "    plot_enrich <- DEenrichRPlot(\n",
    "        celltype_obj,\n",
    "        ident.1 = \"HC\",\n",
    "        ident.2 = \"PD\",\n",
    "        balanced = TRUE,\n",
    "        enrich.database=\"GO_Biological_Process_2021\", \n",
    "        logfc.threshold = 0.25,\n",
    "        max.genes=500,\n",
    "        test.use = \"wilcox\",\n",
    "        p.val.cutoff = 0.05,\n",
    "        num.pathway = 10)\n",
    "    ggsave(plot=plot_enrich,\n",
    "        filename=paste0(resultdir,\"Res_GO_Biological_Process_2021_\",celltype_name,\".png\"),width=15,height=12)\n",
    "    plot_enrich\n",
    "})\n"
   ]
  },
  {
   "cell_type": "code",
   "execution_count": null,
   "metadata": {},
   "outputs": [],
   "source": [
    "%%R\n",
    "library(patchwork)\n",
    "# list_plot_enrich[1]\n",
    "(list_plot_enrich[[1]]+list_plot_enrich[[2]]) / (list_plot_enrich[[3]]+list_plot_enrich[[4]])"
   ]
  },
  {
   "attachments": {},
   "cell_type": "markdown",
   "metadata": {},
   "source": [
    "## Reactome_2022"
   ]
  },
  {
   "cell_type": "code",
   "execution_count": null,
   "metadata": {},
   "outputs": [],
   "source": [
    "%%R -i resultdir\n",
    "Reactome_2022_list_plot_enrich <- lapply(1:length(obj_list_celltype),FUN=function(x){\n",
    "    celltype_name = names(obj_list_celltype)[x]\n",
    "    celltype_obj = obj_list_celltype[[celltype_name]]\n",
    "    print(celltype_name)\n",
    "    plot_enrich <- DEenrichRPlot(\n",
    "        celltype_obj,\n",
    "        ident.1 = \"HC\",\n",
    "        ident.2 = \"PD\",\n",
    "        balanced = TRUE,\n",
    "        enrich.database=\"Reactome_2022\", \n",
    "        logfc.threshold = 0.25,\n",
    "        max.genes=500,\n",
    "        test.use = \"wilcox\",\n",
    "        p.val.cutoff = 0.05,\n",
    "        num.pathway = 10)\n",
    "    ggsave(plot=plot_enrich,\n",
    "        filename=paste0(resultdir,\"Res_Reactome_2022_\",celltype_name,\".png\"),width=15,height=12)\n",
    "    plot_enrich\n",
    "})"
   ]
  },
  {
   "cell_type": "code",
   "execution_count": null,
   "metadata": {},
   "outputs": [],
   "source": [
    "%%R\n",
    "(Reactome_2022_list_plot_enrich[[1]]+Reactome_2022_list_plot_enrich[[2]]) / \n",
    "(Reactome_2022_list_plot_enrich[[3]]+Reactome_2022_list_plot_enrich[[4]])"
   ]
  },
  {
   "attachments": {},
   "cell_type": "markdown",
   "metadata": {},
   "source": [
    "## KEGG_2021_Human"
   ]
  },
  {
   "cell_type": "code",
   "execution_count": null,
   "metadata": {},
   "outputs": [],
   "source": [
    "%%R -i resultdir\n",
    "KEGG_2021_Human_list_plot_enrich <- lapply(1:length(obj_list_celltype),FUN=function(x){\n",
    "    celltype_name = names(obj_list_celltype)[x]\n",
    "    celltype_obj = obj_list_celltype[[celltype_name]]\n",
    "    print(celltype_name)\n",
    "    plot_enrich <- DEenrichRPlot(\n",
    "        celltype_obj,\n",
    "        ident.1 = \"HC\",\n",
    "        ident.2 = \"PD\",\n",
    "        balanced = TRUE,\n",
    "        enrich.database=\"KEGG_2021_Human\", \n",
    "        logfc.threshold = 0.25,\n",
    "        max.genes=500,\n",
    "        test.use = \"wilcox\",\n",
    "        p.val.cutoff = 0.05,\n",
    "        num.pathway = 10)\n",
    "    ggsave(plot=plot_enrich,\n",
    "        filename=paste0(resultdir,\"Res_KEGG_2021_Human_\",celltype_name,\".png\"))\n",
    "    plot_enrich\n",
    "})\n",
    "\n"
   ]
  },
  {
   "cell_type": "code",
   "execution_count": null,
   "metadata": {},
   "outputs": [],
   "source": [
    "%%R\n",
    "(KEGG_2021_Human_list_plot_enrich[[1]]+KEGG_2021_Human_list_plot_enrich[[2]]) / \n",
    "(KEGG_2021_Human_list_plot_enrich[[3]]+KEGG_2021_Human_list_plot_enrich[[4]])"
   ]
  },
  {
   "attachments": {},
   "cell_type": "markdown",
   "metadata": {},
   "source": [
    "## WikiPathway_2021_Human"
   ]
  },
  {
   "cell_type": "code",
   "execution_count": null,
   "metadata": {},
   "outputs": [],
   "source": [
    "%%R -i resultdir\n",
    "WikiPathway_2021_Human_list_plot_enrich <- lapply(1:length(obj_list_celltype),FUN=function(x){\n",
    "    celltype_name = names(obj_list_celltype)[x]\n",
    "    celltype_obj = obj_list_celltype[[celltype_name]]\n",
    "    print(celltype_name)\n",
    "    plot_enrich <- DEenrichRPlot(\n",
    "        celltype_obj,\n",
    "        ident.1 = \"HC\",\n",
    "        ident.2 = \"PD\",\n",
    "        balanced = TRUE,\n",
    "        enrich.database=\"WikiPathway_2021_Human\", \n",
    "        logfc.threshold = 0.25,\n",
    "        max.genes=500,\n",
    "        test.use = \"wilcox\",\n",
    "        p.val.cutoff = 0.05,\n",
    "        num.pathway = 10)\n",
    "    ggsave(plot=plot_enrich,\n",
    "        filename=paste0(resultdir,\"Res_WikiPathway_2021_Human_\",celltype_name,\".png\"))\n",
    "    plot_enrich\n",
    "})\n"
   ]
  },
  {
   "cell_type": "code",
   "execution_count": null,
   "metadata": {},
   "outputs": [],
   "source": [
    "%%R\n",
    "(WikiPathway_2021_Human_list_plot_enrich[[1]]+WikiPathway_2021_Human_list_plot_enrich[[2]]) / \n",
    "(WikiPathway_2021_Human_list_plot_enrich[[3]]+WikiPathway_2021_Human_list_plot_enrich[[4]])"
   ]
  },
  {
   "attachments": {},
   "cell_type": "markdown",
   "metadata": {},
   "source": []
  },
  {
   "attachments": {},
   "cell_type": "markdown",
   "metadata": {},
   "source": [
    "## LIGER"
   ]
  },
  {
   "cell_type": "code",
   "execution_count": null,
   "metadata": {},
   "outputs": [],
   "source": [
    "%%R\n",
    "DefaultAssay(SCT.combined ) <- \"RNA\"\n",
    "SCT.combined  <- NormalizeData(SCT.combined )\n",
    "SCT.combined  <- FindVariableFeatures(SCT.combined )\n",
    "SCT.combined  <- ScaleData(SCT.combined , split.by = \"Condition\", do.center = FALSE)\n",
    "SCT.combined  <- RunOptimizeALS(SCT.combined ,assay = \"RNA\", k = 20, lambda = 5, split.by = \"Condition\")\n",
    "SCT.combined  <- RunQuantileNorm(SCT.combined , split.by = \"Condition\")\n",
    "# You can optionally perform Louvain clustering (`FindNeighbors` and `FindClusters`) after\n",
    "# `RunQuantileNorm` according to your needs\n",
    "SCT.combined  <- FindNeighbors(SCT.combined , reduction = \"iNMF\", dims = 1:20)\n",
    "SCT.combined  <- FindClusters(SCT.combined , resolution = 0.3)\n",
    "SCT.combined $liger_clusters <- SCT.combined $RNA_snn_res.0.3\n",
    "# Dimensional reduction and plotting\n",
    "SCT.combined  <- RunUMAP(SCT.combined , dims = 1:ncol(SCT.combined [[\"iNMF\"]]),\n",
    "    reduction = \"iNMF\",\n",
    "    reduction.name = \"liger_umap\",\n",
    "    reduction.key = \"UMAP_\")"
   ]
  },
  {
   "cell_type": "code",
   "execution_count": null,
   "metadata": {},
   "outputs": [],
   "source": [
    "%%R\n",
    "DimPlot(SCT.combined ,group.by=\"CellType\", reduction = \"liger_umap\", pt.size=0.0001)"
   ]
  },
  {
   "cell_type": "code",
   "execution_count": null,
   "metadata": {},
   "outputs": [],
   "source": [
    "%%R\n",
    "DimPlot(SCT.combined ,group.by=\"liger_clusters\", reduction = \"liger_umap\", pt.size=0.0001,label=T,label.box=T)"
   ]
  },
  {
   "cell_type": "code",
   "execution_count": null,
   "metadata": {},
   "outputs": [],
   "source": [
    "%%R\n",
    "FeaturePlot(SCT.combined , reduction = \"liger_umap\", \n",
    "    features = c(\"CCR7\",\"GZMH\"), \n",
    "    max.cutoff = 5,order=T,\n",
    "    cols = c(\"grey\", \"red\"))"
   ]
  },
  {
   "cell_type": "code",
   "execution_count": null,
   "metadata": {},
   "outputs": [],
   "source": [
    "%%R\n",
    "VlnPlot(SCT.combined,group.by=\"liger_clusters\" , features=c(\"CCR7\",\"SELL\",\"TCF7\", \"CD27\", \"GZMA\", \"GZMB\", \"GZMH\",  \"KLRG1\",  \"TOX\"),stack=T)"
   ]
  },
  {
   "cell_type": "code",
   "execution_count": null,
   "metadata": {},
   "outputs": [],
   "source": [
    "%%R\n",
    "VlnPlot(SCT.combined,group.by=\"liger_clusters\" , features=c(\"n_genes\",\"n_genes_by_counts\",\"total_counts\", \"pct_counts_mt\"),stack=T)"
   ]
  },
  {
   "cell_type": "code",
   "execution_count": null,
   "metadata": {},
   "outputs": [],
   "source": [
    "%%R\n",
    "VlnPlot(SCT.combined,group.by=\"sct_int_clusters\" , features=c(\"CCR7\",\"SELL\",\"TCF7\", \"CD27\", \"GZMA\", \"GZMB\", \"GZMH\",  \"KLRG1\",  \"TOX\"),stack=T)"
   ]
  },
  {
   "cell_type": "code",
   "execution_count": null,
   "metadata": {},
   "outputs": [],
   "source": [
    "%%R\n",
    "VlnPlot(SCT.combined,group.by=\"sct_int_clusters\" , features=c(\"n_genes\",\"n_genes_by_counts\",\"total_counts\", \"pct_counts_mt\"),stack=T)"
   ]
  },
  {
   "cell_type": "code",
   "execution_count": null,
   "metadata": {},
   "outputs": [],
   "source": [
    "%%R\n",
    "colnames(SCT.combined@meta.data)"
   ]
  },
  {
   "cell_type": "code",
   "execution_count": null,
   "metadata": {},
   "outputs": [],
   "source": []
  }
 ],
 "metadata": {
  "kernelspec": {
   "display_name": "Py310",
   "language": "python",
   "name": "python3"
  },
  "language_info": {
   "codemirror_mode": {
    "name": "ipython",
    "version": 3
   },
   "file_extension": ".py",
   "mimetype": "text/x-python",
   "name": "python",
   "nbconvert_exporter": "python",
   "pygments_lexer": "ipython3",
   "version": "3.10.10"
  },
  "orig_nbformat": 4
 },
 "nbformat": 4,
 "nbformat_minor": 2
}
