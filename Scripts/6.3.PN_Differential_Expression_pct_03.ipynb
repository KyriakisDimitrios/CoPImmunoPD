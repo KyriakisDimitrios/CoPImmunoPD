{
 "cells": [
  {
   "cell_type": "code",
   "execution_count": 1,
   "metadata": {},
   "outputs": [
    {
     "name": "stderr",
     "output_type": "stream",
     "text": [
      "c:\\Users\\kyria.000\\anaconda3\\envs\\Py310\\lib\\site-packages\\rpy2\\robjects\\packages.py:367: UserWarning: The symbol 'quartz' is not in this R namespace/package.\n",
      "  warnings.warn(\n"
     ]
    }
   ],
   "source": [
    "import anndata2ri\n",
    "import logging\n",
    "import rpy2.rinterface_lib.callbacks as rcb\n",
    "import os\n",
    "import pandas as pd\n",
    "import numpy as np\n",
    "import rpy2.robjects as ro\n",
    "import sys\n",
    "\n",
    "import scanpy as sc\n",
    "import matplotlib.pyplot as plt\n",
    "\n",
    "rcb.logger.setLevel(logging.ERROR)\n",
    "ro.pandas2ri.activate()\n",
    "anndata2ri.activate()\n",
    "\n",
    "%load_ext rpy2.ipython"
   ]
  },
  {
   "cell_type": "code",
   "execution_count": 2,
   "metadata": {},
   "outputs": [
    {
     "name": "stdout",
     "output_type": "stream",
     "text": [
      "\n",
      "    WARNING: The R package \"reticulate\" only fixed recently\n",
      "    an issue that caused a segfault when used with rpy2:\n",
      "    https://github.com/rstudio/reticulate/pull/1188\n",
      "    Make sure that you use a version of that package that includes\n",
      "    the fix.\n",
      "    -- Attaching packages --------------------------------------- tidyverse 1.3.2 --\n",
      "v tibble  3.2.0     v purrr   1.0.1\n",
      "v tidyr   1.3.0     v forcats 1.0.0\n",
      "v readr   2.1.3     \n",
      "-- Conflicts ------------------------------------------ tidyverse_conflicts() --\n",
      "x tibble::as_data_frame() masks dplyr::as_data_frame(), igraph::as_data_frame()\n",
      "x dplyr::collapse()       masks IRanges::collapse()\n",
      "x dplyr::combine()        masks Biobase::combine(), BiocGenerics::combine()\n",
      "x purrr::compose()        masks igraph::compose()\n",
      "x dplyr::count()          masks matrixStats::count()\n",
      "x tidyr::crossing()       masks igraph::crossing()\n",
      "x dplyr::desc()           masks IRanges::desc()\n",
      "x tidyr::expand()         masks S4Vectors::expand(), Matrix::expand()\n",
      "x dplyr::filter()         masks stats::filter()\n",
      "x dplyr::first()          masks S4Vectors::first()\n",
      "x dplyr::groups()         masks igraph::groups()\n",
      "x dplyr::lag()            masks stats::lag()\n",
      "x tidyr::pack()           masks Matrix::pack()\n",
      "x ggplot2::Position()     masks BiocGenerics::Position(), base::Position()\n",
      "x purrr::reduce()         masks GenomicRanges::reduce(), IRanges::reduce()\n",
      "x dplyr::rename()         masks S4Vectors::rename()\n",
      "x purrr::simplify()       masks igraph::simplify()\n",
      "x dplyr::slice()          masks IRanges::slice()\n",
      "x tidyr::unpack()         masks Matrix::unpack()\n"
     ]
    }
   ],
   "source": [
    "%%R\n",
    "options(future.globals.maxSize = 1000000 * 1024^2)\n",
    "set.seed(2422012)\n",
    "\n",
    "# Single cell libraries\n",
    "library(Seurat)\n",
    "library(sctransform)\n",
    "library(rliger)\n",
    "library(SeuratWrappers)\n",
    "library(conos)\n",
    "library(scater)\n",
    "library(scDblFinder)\n",
    "library(scran)\n",
    "library(sctransform)\n",
    "library(scry)\n",
    "\n",
    "# Rest libraries\n",
    "library(BiocParallel)\n",
    "library(ggplot2)\n",
    "library(dplyr)\n",
    "library(cowplot)\n",
    "\n",
    "library(scCustomize)\n",
    "library(stringr)\n",
    "library(dittoSeq)\n",
    "library(DESeq2)\n",
    "library(enrichR)\n",
    "\n",
    "library(tidyverse)\n",
    "library(org.Hs.eg.db)\n",
    "library(clusterProfiler)"
   ]
  },
  {
   "cell_type": "code",
   "execution_count": 3,
   "metadata": {},
   "outputs": [],
   "source": [
    "CellType=\"CCR7mCD45ROp\"\n",
    "title_plot = \"CD45RO+CCR7-\""
   ]
  },
  {
   "cell_type": "code",
   "execution_count": 4,
   "metadata": {},
   "outputs": [],
   "source": [
    "projectdir = \"C:/Users/kyria.000/Documents/PhD/Projects/Feng2023/CoPImmunoPD/\"\n",
    "datadir = projectdir + \"Data/\"\n",
    "objtdir = projectdir + \"Result/Differnetial_Expression_pct_03/\"\n",
    "\n",
    "resultdir = projectdir + \"Result/Differnetial_Expression_pct_03/\"+CellType+\"/\"\n",
    "adata_file = 'AnnData_Integrated.h5ad'\n"
   ]
  },
  {
   "cell_type": "code",
   "execution_count": 5,
   "metadata": {},
   "outputs": [],
   "source": [
    "%%R -i projectdir\n",
    "setwd(projectdir)"
   ]
  },
  {
   "cell_type": "code",
   "execution_count": 6,
   "metadata": {},
   "outputs": [],
   "source": [
    "%%R -i objtdir -i resultdir -i projectdir\n",
    "# setwd(projectdir)\n",
    "dir.create(objtdir)\n",
    "dir.create(resultdir)\n",
    "Subbbb <- readRDS(paste0(projectdir,\"Subset_raarranged.rds\"))"
   ]
  },
  {
   "cell_type": "code",
   "execution_count": 7,
   "metadata": {},
   "outputs": [
    {
     "data": {
      "image/png": "[encoded data removed]",
      "text/plain": [
       "<IPython.core.display.Image object>"
      ]
     },
     "metadata": {},
     "output_type": "display_data"
    }
   ],
   "source": [
    "%%R -i resultdir -i projectdir\n",
    "DimPlot(Subbbb,group.by=\"CellType\",cols=c(dittoColors(1)[seq_len(4)]))"
   ]
  },
  {
   "cell_type": "code",
   "execution_count": 8,
   "metadata": {},
   "outputs": [],
   "source": [
    "%%R\n",
    "DefaultAssay(Subbbb) <- \"SCT\"\n",
    "# ====== Find markers parameters  ==============\n",
    "min_pct_threshold = 0.3\n",
    "# ====== Go enrichment parameters ==============\n",
    "logfc.threshold <- 0.25\n",
    "p.val.cutoff <- 0.05\n",
    "max.genes <- 500\n"
   ]
  },
  {
   "attachments": {},
   "cell_type": "markdown",
   "metadata": {},
   "source": [
    "# Subset different CD8 T cells"
   ]
  },
  {
   "cell_type": "code",
   "execution_count": 9,
   "metadata": {},
   "outputs": [],
   "source": [
    "%%R -i CellType\n",
    "# ====================== CCR7mCD45ROp ================================\n",
    "Seurat = subset(Subbbb, idents = CellType)\n",
    "Seurat<- SetIdent(Seurat , value = \"Condition\")\n",
    "Seurat <- PrepSCTFindMarkers(Seurat)"
   ]
  },
  {
   "cell_type": "code",
   "execution_count": 10,
   "metadata": {},
   "outputs": [
    {
     "data": {
      "image/png": "[encoded data removed]",
      "text/plain": [
       "<IPython.core.display.Image object>"
      ]
     },
     "metadata": {},
     "output_type": "display_data"
    }
   ],
   "source": [
    "%%R\n",
    "DimPlot(Seurat,group.by=\"CellType\")"
   ]
  },
  {
   "attachments": {},
   "cell_type": "markdown",
   "metadata": {},
   "source": [
    "# Create Average Expression"
   ]
  },
  {
   "cell_type": "code",
   "execution_count": 11,
   "metadata": {},
   "outputs": [],
   "source": [
    "%%R\n",
    "source(paste0(projectdir,\"Functions.R\"))"
   ]
  },
  {
   "cell_type": "code",
   "execution_count": 12,
   "metadata": {},
   "outputs": [],
   "source": [
    "%%R -i resultdir -i CellType\n",
    "Idents(Seurat) <- \"Condition\"\n",
    "Average_Seurat <- AverageExpression(Seurat,return.seurat=T)\n",
    "Average_Seurat_norm <- as.data.frame(Average_Seurat@assays$SCT@data)\n",
    "rownames(Average_Seurat_norm) <- rownames(Average_Seurat)\n",
    "colnames(Average_Seurat_norm)<- paste0(rownames(Average_Seurat@meta.data),\"_norm\")\n",
    "Average_Seurat_counts <- as.data.frame(Average_Seurat@assays$RNA@data)\n",
    "rownames(Average_Seurat_counts) <- rownames(Average_Seurat)\n",
    "colnames(Average_Seurat_counts)<- paste0(rownames(Average_Seurat@meta.data),\"_counts\")\n",
    "Average_Seurat <- as.data.frame(cbind(Average_Seurat_counts,Average_Seurat_norm))\n",
    "write.csv(Average_Seurat,paste0(resultdir,\"Average_\",CellType,\".csv\"))\n"
   ]
  },
  {
   "attachments": {},
   "cell_type": "markdown",
   "metadata": {},
   "source": [
    "# Differential Expression"
   ]
  },
  {
   "cell_type": "code",
   "execution_count": 13,
   "metadata": {},
   "outputs": [
    {
     "name": "stdout",
     "output_type": "stream",
     "text": [
      "  |                                                  | 0 % ~calculating   |+                                                 | 1 % ~58s           |+                                                 | 2 % ~57s           |++                                                | 3 % ~56s           |++                                                | 4 % ~55s           |+++                                               | 5 % ~55s           |+++                                               | 6 % ~54s           |++++                                              | 7 % ~53s           |++++                                              | 8 % ~52s           |+++++                                             | 9 % ~52s           |+++++                                             | 10% ~51s           |++++++                                            | 11% ~51s           |++++++                                            | 12% ~50s           |+++++++                                           | 13% ~49s           |+++++++                                           | 14% ~49s           |++++++++                                          | 15% ~48s           |++++++++                                          | 16% ~48s           |+++++++++                                         | 17% ~47s           |+++++++++                                         | 18% ~46s           |++++++++++                                        | 19% ~46s           |++++++++++                                        | 20% ~45s           |+++++++++++                                       | 21% ~44s           |+++++++++++                                       | 22% ~44s           |++++++++++++                                      | 23% ~43s           |++++++++++++                                      | 24% ~43s           |+++++++++++++                                     | 25% ~42s           |+++++++++++++                                     | 26% ~41s           |++++++++++++++                                    | 27% ~41s           |++++++++++++++                                    | 28% ~40s           |+++++++++++++++                                   | 29% ~40s           |+++++++++++++++                                   | 30% ~39s           |++++++++++++++++                                  | 31% ~38s           |++++++++++++++++                                  | 32% ~38s           |+++++++++++++++++                                 | 33% ~37s           |+++++++++++++++++                                 | 34% ~37s           |++++++++++++++++++                                | 35% ~36s           |++++++++++++++++++                                | 36% ~36s           |+++++++++++++++++++                               | 37% ~35s           |+++++++++++++++++++                               | 38% ~35s           |++++++++++++++++++++                              | 39% ~34s           |++++++++++++++++++++                              | 40% ~34s           |+++++++++++++++++++++                             | 41% ~33s           |+++++++++++++++++++++                             | 42% ~33s           |++++++++++++++++++++++                            | 43% ~32s           |++++++++++++++++++++++                            | 44% ~32s           |+++++++++++++++++++++++                           | 45% ~31s           |+++++++++++++++++++++++                           | 46% ~31s           |++++++++++++++++++++++++                          | 47% ~31s           |++++++++++++++++++++++++                          | 48% ~30s           |+++++++++++++++++++++++++                         | 49% ~30s           |+++++++++++++++++++++++++                         | 50% ~29s           |++++++++++++++++++++++++++                        | 51% ~29s           |++++++++++++++++++++++++++                        | 52% ~28s           |+++++++++++++++++++++++++++                       | 53% ~27s           |+++++++++++++++++++++++++++                       | 54% ~27s           |++++++++++++++++++++++++++++                      | 55% ~26s           |++++++++++++++++++++++++++++                      | 56% ~26s           |+++++++++++++++++++++++++++++                     | 57% ~25s           |+++++++++++++++++++++++++++++                     | 58% ~24s           |++++++++++++++++++++++++++++++                    | 59% ~24s           |++++++++++++++++++++++++++++++                    | 60% ~23s           |+++++++++++++++++++++++++++++++                   | 61% ~23s           |+++++++++++++++++++++++++++++++                   | 62% ~22s           |++++++++++++++++++++++++++++++++                  | 63% ~22s           |++++++++++++++++++++++++++++++++                  | 64% ~21s           |+++++++++++++++++++++++++++++++++                 | 65% ~20s           |+++++++++++++++++++++++++++++++++                 | 66% ~20s           |++++++++++++++++++++++++++++++++++                | 67% ~19s           |++++++++++++++++++++++++++++++++++                | 68% ~19s           |+++++++++++++++++++++++++++++++++++               | 69% ~18s           |+++++++++++++++++++++++++++++++++++               | 70% ~17s           |++++++++++++++++++++++++++++++++++++              | 71% ~17s           |++++++++++++++++++++++++++++++++++++              | 72% ~16s           |+++++++++++++++++++++++++++++++++++++             | 73% ~16s           |+++++++++++++++++++++++++++++++++++++             | 74% ~15s           |++++++++++++++++++++++++++++++++++++++            | 75% ~14s           |++++++++++++++++++++++++++++++++++++++            | 76% ~14s           |+++++++++++++++++++++++++++++++++++++++           | 77% ~13s           |+++++++++++++++++++++++++++++++++++++++           | 78% ~13s           |++++++++++++++++++++++++++++++++++++++++          | 79% ~12s           |++++++++++++++++++++++++++++++++++++++++          | 80% ~12s           |+++++++++++++++++++++++++++++++++++++++++         | 81% ~11s           |+++++++++++++++++++++++++++++++++++++++++         | 82% ~10s           |++++++++++++++++++++++++++++++++++++++++++        | 83% ~10s           |++++++++++++++++++++++++++++++++++++++++++        | 84% ~09s           |+++++++++++++++++++++++++++++++++++++++++++       | 85% ~09s           |+++++++++++++++++++++++++++++++++++++++++++       | 86% ~08s           |++++++++++++++++++++++++++++++++++++++++++++      | 87% ~08s           |++++++++++++++++++++++++++++++++++++++++++++      | 88% ~07s           |+++++++++++++++++++++++++++++++++++++++++++++     | 89% ~06s           |+++++++++++++++++++++++++++++++++++++++++++++     | 90% ~06s           |++++++++++++++++++++++++++++++++++++++++++++++    | 91% ~05s           |++++++++++++++++++++++++++++++++++++++++++++++    | 92% ~05s           |+++++++++++++++++++++++++++++++++++++++++++++++   | 93% ~04s           |+++++++++++++++++++++++++++++++++++++++++++++++   | 94% ~03s           |++++++++++++++++++++++++++++++++++++++++++++++++  | 95% ~03s           |++++++++++++++++++++++++++++++++++++++++++++++++  | 96% ~02s           |+++++++++++++++++++++++++++++++++++++++++++++++++ | 97% ~02s           |+++++++++++++++++++++++++++++++++++++++++++++++++ | 98% ~01s           |++++++++++++++++++++++++++++++++++++++++++++++++++| 99% ~01s           |++++++++++++++++++++++++++++++++++++++++++++++++++| 100% elapsed=57s  \n"
     ]
    }
   ],
   "source": [
    "%%R\n",
    "DE_Seurat_original <-  FindMarkers(Seurat,ident.1=\"PD\",ident.2=\"HC\",\n",
    "    min.pct = min_pct_threshold,\n",
    "    logfc.threshold = 0\n",
    "    )"
   ]
  },
  {
   "cell_type": "code",
   "execution_count": 14,
   "metadata": {},
   "outputs": [],
   "source": [
    "%%R\n",
    "source(\"Functions.R\")\n",
    "DE_Seurat <- DE_Seurat_original\n",
    "DE_Seurat$gene <-  rownames(DE_Seurat)\n",
    "DE_Seurat  <- gene_score_calc(DE_Seurat)\n"
   ]
  },
  {
   "attachments": {},
   "cell_type": "markdown",
   "metadata": {},
   "source": [
    "# ADD ENSEMBL IDs"
   ]
  },
  {
   "cell_type": "code",
   "execution_count": 15,
   "metadata": {},
   "outputs": [
    {
     "name": "stdout",
     "output_type": "stream",
     "text": [
      "Rows: 36601 Columns: 3\n",
      "-- Column specification --------------------------------------------------------\n",
      "Delimiter: \"\\t\"\n",
      "chr (3): X1, X2, X3\n",
      "\n",
      "i Use `spec()` to retrieve the full column specification for this data.\n",
      "i Specify the column types or set `show_col_types = FALSE` to quiet this message.\n",
      "             gene     tstat gene.score p_val p_val_adj diff.pct\n",
      "SAMSN1     SAMSN1 -320.0000   -2.83252     0         0   -0.372\n",
      "SKI           SKI -320.0000   -2.35346     0         0   -0.362\n",
      "GNLY         GNLY  302.1650    3.39141     0         0    0.394\n",
      "SYNE1       SYNE1  238.7711    1.17212     0         0    0.172\n",
      "PPP1R16B PPP1R16B -228.3894   -1.22435     0         0   -0.263\n",
      "         enrichment.ratio pct.1 pct.2 avg_log2FC cluster gene.name\n",
      "SAMSN1            3.92910 0.127 0.499   -0.72091      HC    SAMSN1\n",
      "SKI               3.27671 0.159 0.521   -0.71824      HC       SKI\n",
      "GNLY              2.30032 0.697 0.303    1.47432      PD      GNLY\n",
      "SYNE1             1.26259 0.827 0.655    0.92834      PD     SYNE1\n",
      "PPP1R16B          1.45580 0.577 0.840   -0.84101      HC  PPP1R16B\n",
      "              ensembl.id\n",
      "SAMSN1   ENSG00000155307\n",
      "SKI      ENSG00000157933\n",
      "GNLY     ENSG00000115523\n",
      "SYNE1    ENSG00000131018\n",
      "PPP1R16B ENSG00000101445\n"
     ]
    }
   ],
   "source": [
    "%%R -i projectdir\n",
    "gene_names <- as.data.frame(readr::read_tsv(paste0(projectdir,\"features.tsv\"),col_names =F))\n",
    "colnames(gene_names) <- c(\"ensembl.id\",\"gene.name\",\"Type\")\n",
    "DE_Seurat$gene.name <- DE_Seurat$gene\n",
    "\n",
    "\n",
    "remain_ensembl.id <- gene_names[gene_names$gene.name %in% DE_Seurat$gene.name,]\n",
    "doublicated_gene <- duplicated(remain_ensembl.id$gene.name)\n",
    "remain_ensembl.id2 <- remain_ensembl.id[!doublicated_gene,]\n",
    "rownames(remain_ensembl.id2) <- remain_ensembl.id2$gene.name\n",
    "DE_Seurat$ensembl.id <- remain_ensembl.id2[DE_Seurat$gene.name,\"ensembl.id\"]\n",
    "print(DE_Seurat[1:5,])\n"
   ]
  },
  {
   "attachments": {},
   "cell_type": "markdown",
   "metadata": {},
   "source": [
    "# ADD ENTREZ IDs"
   ]
  },
  {
   "cell_type": "code",
   "execution_count": 16,
   "metadata": {},
   "outputs": [
    {
     "name": "stdout",
     "output_type": "stream",
     "text": [
      "\n",
      "FALSE  TRUE \n",
      " 2186    13 \n"
     ]
    }
   ],
   "source": [
    "%%R\n",
    "source(\"Functions.R\")\n",
    "rownames(DE_Seurat) <- DE_Seurat$gene.name\n",
    "geneIDs <- DE_Seurat[,c(\"gene.name\",\"ensembl.id\")]\n",
    "DE_Seurat_mapped <- entrezMapper(DEGenes=DE_Seurat, geneIDs=geneIDs, species=\"hsa\")\n"
   ]
  },
  {
   "cell_type": "code",
   "execution_count": 17,
   "metadata": {},
   "outputs": [
    {
     "name": "stdout",
     "output_type": "stream",
     "text": [
      "[1] 2186   14\n",
      "[1] 2199   14\n"
     ]
    }
   ],
   "source": [
    "%%R\n",
    "cleanDEGenes <- DE_Seurat_mapped[!is.na(DE_Seurat_mapped$entrezID),]\n",
    "print(dim(cleanDEGenes))\n",
    "print(dim(DE_Seurat_mapped))"
   ]
  },
  {
   "cell_type": "code",
   "execution_count": 18,
   "metadata": {},
   "outputs": [
    {
     "name": "stdout",
     "output_type": "stream",
     "text": [
      "             gene     tstat gene.score p_val p_val_adj diff.pct\n",
      "GNLY         GNLY 302.16498    3.39141     0         0    0.394\n",
      "SGCD         SGCD 180.97458    3.34718     0         0    0.288\n",
      "HLA-DRB1 HLA-DRB1 164.38203    1.92704     0         0    0.259\n",
      "CCL4         CCL4  24.13391    1.22430     0         0    0.084\n",
      "SYNE1       SYNE1 238.77113    1.17212"
     ]
    },
    {
     "name": "stdout",
     "output_type": "stream",
     "text": [
      "     0         0    0.172\n",
      "         enrichment.ratio pct.1 pct.2 avg_log2FC cluster gene.name\n",
      "GNLY              2.30032 0.697 0.303    1.47432      PD      GNLY\n",
      "SGCD              3.14923 0.422 0.134    1.06286      PD      SGCD\n",
      "HLA-DRB1          2.37036 0.448 0.189    0.81297      PD  HLA-DRB1\n",
      "CCL4              1.32812 0.340 0.256    0.92183      PD      CCL4\n",
      "SYNE1             1.26259 0.827 0.655    0.92834      PD     SYNE1\n",
      "              ensembl.id entrezID\n",
      "GNLY     ENSG00000115523    10578\n",
      "SGCD     ENSG00000170624     6444\n",
      "HLA-DRB1 ENSG00000196126     3123\n",
      "CCL4     ENSG00000275302     6351\n",
      "SYNE1    ENSG00000131018    23345\n"
     ]
    }
   ],
   "source": [
    "%%R\n",
    "DE_Seurat_signif <- cleanDEGenes %>%\n",
    "  filter(abs(avg_log2FC)>0.25 &  p_val_adj <0.05) %>%\n",
    "  arrange(desc(gene.score))\n",
    "DE_Seurat_signif[1:5,]"
   ]
  },
  {
   "cell_type": "code",
   "execution_count": 19,
   "metadata": {},
   "outputs": [],
   "source": [
    "%%R -i CellType\n",
    "Average_subset_ordered <- Average_Seurat[DE_Seurat$gene,]\n",
    "DE_Seurat <- as.data.frame(cbind(DE_Seurat,Average_subset_ordered))\n",
    "DE_Seurat <- DE_Seurat[order(DE_Seurat$gene.score,decreasing=T),]\n",
    "readr::write_csv(DE_Seurat,\n",
    "    file=paste0(resultdir,CellType,\"DEG_MinPct_\",min_pct_threshold,\".csv\"))\n"
   ]
  },
  {
   "cell_type": "code",
   "execution_count": 31,
   "metadata": {},
   "outputs": [
    {
     "name": "stdout",
     "output_type": "stream",
     "text": [
      "Saving 6.67 x 6.67 in image\n",
      "Saving 6.67 x 6.67 in image\n"
     ]
    },
    {
     "data": {
      "image/png": "[encoded data removed]",
      "text/plain": [
       "<IPython.core.display.Image object>"
      ]
     },
     "metadata": {},
     "output_type": "display_data"
    }
   ],
   "source": [
    "%%R -i resultdir -i title_plot\n",
    "source(\"Functions.R\")\n",
    "library(ggrepel)\n",
    "Vlcano_df <- DE_Seurat_original\n",
    "Vlcano_df$gene <- rownames(Vlcano_df)\n",
    "Vlcano_df$gene.name <- rownames(Vlcano_df)\n",
    "Vlcano_df$cluster = ifelse(Vlcano_df$avg_log2FC >0 , \"PD\" ,\"HC\")\n",
    "Vlcano_df$enrichment.ratio = ifelse(Vlcano_df$pct.1>Vlcano_df$pct.2, Vlcano_df$pct.1 / (Vlcano_df$pct.2 + .000001), Vlcano_df$pct.2 / (Vlcano_df$pct.1 + .000001))\n",
    "Vlcano_df$diff.pct = Vlcano_df$pct.1 - Vlcano_df$pct.2\n",
    "Vlcano_df$tstat= -log10(Vlcano_df$p_val_adj + 1e-320) * sign(Vlcano_df$avg_log2FC) \n",
    "Vlcano_df$gene.score = Vlcano_df$avg_log2FC * Vlcano_df$enrichment.ratio\n",
    "Vlcano_df <- Vlcano_df  %>% arrange(desc(abs(gene.score)))\n",
    "\n",
    "up_labs   <- rownames(Vlcano_df %>% filter(avg_log2FC > 0.5 , p_val_adj<0.05 ))[1:10]\n",
    "down_labs <- rownames(Vlcano_df %>% filter(avg_log2FC < -0.5 , p_val_adj < 0.05))[1:10]\n",
    "x_lim <- max(abs(Vlcano_df$avg_log2FC))\n",
    "\n",
    "# add a column of NAs\n",
    "Vlcano_df$diffexpressed_updown <- \"NS\"\n",
    "# if log2Foldchange > 0.6 and pvalue < 0.05, set as \"UP\" \n",
    "Vlcano_df$diffexpressed_updown[(Vlcano_df$avg_log2FC > 0.25 & Vlcano_df$p_val_adj < 0.05)] <- \"Up\"\n",
    "Vlcano_df$diffexpressed_updown[(Vlcano_df$avg_log2FC < -0.25 & Vlcano_df$p_val_adj < 0.05)] <- \"Down\"\n",
    "# add a column of NAs\n",
    "Vlcano_df$diffexpressed_shape <- \"NS\"\n",
    "# if log2Foldchange > 0.6 and pvalue < 0.05, set as \"UP\" \n",
    "Vlcano_df$diffexpressed_shape[(Vlcano_df$avg_log2FC > 0.25 & Vlcano_df$p_val_adj < 0.05) | (Vlcano_df$avg_log2FC < -0.25 & Vlcano_df$p_val_adj < 0.05)] <- \"p-value and log2FC >0.25\"\n",
    "Vlcano_df$diffexpressed_shape[(Vlcano_df$avg_log2FC > 0.5 & Vlcano_df$p_val_adj < 0.05) | (Vlcano_df$avg_log2FC < -0.5 & Vlcano_df$p_val_adj < 0.05)] <-  \"p-value and log2FC >0.5\"\n",
    "Vlcano_df$delabel <- NA\n",
    "Vlcano_df$delabel[Vlcano_df$gene.name %in% c(up_labs,down_labs)] <- Vlcano_df$gene.name[Vlcano_df$gene.name %in% c(up_labs,down_labs)]\n",
    "\n",
    "p <- ggplot(data=Vlcano_df, aes(x=avg_log2FC, y=-log10(p_val_adj), col=diffexpressed_updown, label=delabel,shape=diffexpressed_shape)) +\n",
    "        geom_point() + \n",
    "        theme_cowplot()  + theme_light()+\n",
    "        geom_text_repel() +\n",
    "        scale_shape_manual(values =c(19,1,19)) +\n",
    "        scale_color_manual(values=c(\"blue\",\"black\",\"red\")) +\n",
    "        geom_vline(xintercept=c(-0.25, 0.25), col=\"black\", linetype = \"longdash\") +\n",
    "        geom_vline(xintercept=c(-0.5, 0.5), col=\"red\") +\n",
    "        geom_hline(yintercept=-log10(0.05), col=\"red\")+\n",
    "        ggtitle(title_plot, subtitle = paste0(\"Total genes tested: \",dim(Vlcano_df)[1] ))+\n",
    "        xlim(-x_lim,x_lim)+\n",
    "        theme(legend.position=\"bottom\", legend.box=\"vertical\", legend.margin=margin(),\n",
    "                # legend.spacing.x = unit(0, 'cm'),\n",
    "                plot.title = element_text(size = 21,face = \"bold\"),\n",
    "                axis.text=element_text(size=12),\n",
    "                axis.title=element_text(size=14))\n",
    "ggsave(plot=p,filename=paste0(resultdir,CellType,\"_Volcano_pct\",min_pct_threshold,\"_adjustedp.png\"))\n",
    "ggsave(plot=p,filename=paste0(resultdir,CellType,\"_Volcano_pct\",min_pct_threshold,\"_adjustedp.pdf\"))\n",
    "p"
   ]
  },
  {
   "cell_type": "code",
   "execution_count": 20,
   "metadata": {},
   "outputs": [
    {
     "name": "stdout",
     "output_type": "stream",
     "text": [
      "Saving 6.67 x 6.67 in image\n",
      "Saving 6.67 x 6.67 in image\n",
      "Saving 6.67 x 6.67 in image\n",
      "Saving 6.67 x 6.67 in image\n"
     ]
    },
    {
     "data": {
      "image/png": "[encoded data removed]",
      "text/plain": [
       "<IPython.core.display.Image object>"
      ]
     },
     "metadata": {},
     "output_type": "display_data"
    }
   ],
   "source": [
    "%%R -i resultdir -i title_plot\n",
    "library(EnhancedVolcano)\n",
    "p <- EnhancedVolcano(DE_Seurat_original,\n",
    "    lab = rownames(DE_Seurat_original),\n",
    "    x = 'avg_log2FC',\n",
    "    y = 'p_val',\n",
    "    FCcutoff = 0.5,\n",
    "    title=title_plot,\n",
    "    pointSize = 3.0,\n",
    "    labSize = 6.0,\n",
    "    colAlpha = 1,\n",
    "    shape = 1)\n",
    "ggsave(plot=p,filename=paste0(resultdir,CellType,\"_Volcano_pct\",min_pct_threshold,\"_pvalue.png\"))\n",
    "ggsave(plot=p,filename=paste0(resultdir,CellType,\"_Volcano_pct\",min_pct_threshold,\"_pvalue.pdf\"))\n",
    "p\n",
    "\n",
    "p <- EnhancedVolcano(DE_Seurat_original,\n",
    "    lab = rownames(DE_Seurat_original),\n",
    "    x = 'avg_log2FC',\n",
    "    y = 'p_val_adj',\n",
    "    FCcutoff = 0.5,\n",
    "    title=title_plot,\n",
    "    shape =1)\n",
    "ggsave(plot=p,filename=paste0(resultdir,CellType,\"_Volcano_pct\",min_pct_threshold,\"_adjustedp.png\"))\n",
    "ggsave(plot=p,filename=paste0(resultdir,CellType,\"_Volcano_pct\",min_pct_threshold,\"_adjustedp.pdf\"))\n",
    "p"
   ]
  },
  {
   "attachments": {},
   "cell_type": "markdown",
   "metadata": {},
   "source": [
    "# Kegg Pathway"
   ]
  },
  {
   "attachments": {},
   "cell_type": "markdown",
   "metadata": {},
   "source": [
    "## Possitive PD"
   ]
  },
  {
   "cell_type": "code",
   "execution_count": 21,
   "metadata": {},
   "outputs": [
    {
     "name": "stdout",
     "output_type": "stream",
     "text": [
      "Uploading data to Enrichr... Done.\n",
      "  Querying KEGG_2021_Human... Done.\n",
      "Parsing results... Done.\n",
      "                       KEGG_2021_Human.Term KEGG_2021_Human.Overlap\n",
      "1 Natural killer cell mediated cytotoxicity            ratio 10/131\n",
      "2                         Viral myocarditis              ratio 8/60\n",
      "3                 Graft-versus-host disease              ratio 7/42\n"
     ]
    }
   ],
   "source": [
    "%%R\n",
    "source(\"Functions.R\")\n",
    "enrich.database <- c(\"KEGG_2021_Human\")\n",
    "mypos <- enrichR_wrap_fun_pos(DE_Seurat_mapped,\n",
    "logfc.threshold=logfc.threshold,\n",
    "p.val.cutoff=p.val.cutoff,\n",
    "enrich.database=c(enrich.database ))    \n",
    "# ======= DEGs matrix ===================\n",
    "pos.markers <- mypos$pos.markers\n",
    "# ======= Enrichment matrix ===================\n",
    "pos_mat <- mypos$pos_mat\n",
    "print(pos_mat[1:3,1:2])\n",
    "kegg_pos_mat <- pos_mat  \n",
    "readr::write_csv(pos_mat,\n",
    "    file=paste0(resultdir,CellType,\"_POS_\",enrich.database,\"_MinPct_\",min_pct_threshold,\".csv\"))\n"
   ]
  },
  {
   "cell_type": "code",
   "execution_count": 22,
   "metadata": {},
   "outputs": [
    {
     "name": "stdout",
     "output_type": "stream",
     "text": [
      "[1] \"Take a break enrichr crashes\"\n"
     ]
    }
   ],
   "source": [
    "%%R\n",
    "print(\"Take a break enrichr crashes\")\n"
   ]
  },
  {
   "attachments": {},
   "cell_type": "markdown",
   "metadata": {},
   "source": [
    "## Negative PD"
   ]
  },
  {
   "cell_type": "code",
   "execution_count": 23,
   "metadata": {},
   "outputs": [
    {
     "name": "stdout",
     "output_type": "stream",
     "text": [
      "Uploading data to Enrichr... "
     ]
    },
    {
     "name": "stdout",
     "output_type": "stream",
     "text": [
      "Done.\n",
      "  Querying KEGG_2021_Human... Done.\n",
      "Parsing results... Done.\n",
      "        KEGG_2021_Human.Term KEGG_2021_Human.Overlap\n",
      "1 Osteoclast differentiation            ratio 10/127\n",
      "2         Pathways in cancer            ratio 17/531\n",
      "3                  Apoptosis             ratio 9/142\n"
     ]
    }
   ],
   "source": [
    "%%R\n",
    "source(\"Functions.R\")\n",
    "enrich.database <- c(\"KEGG_2021_Human\")\n",
    "myneg <- enrichR_wrap_fun_neg(DE_Seurat_mapped,\n",
    "logfc.threshold=logfc.threshold,\n",
    "p.val.cutoff=p.val.cutoff,\n",
    "enrich.database=c(enrich.database ))    \n",
    "# ======= DEGs matrix ===================\n",
    "neg.markers <- myneg$neg.markers\n",
    "# ======= Enrichment matrix ===================\n",
    "neg_mat <- myneg$neg_mat\n",
    "print(neg_mat[1:3,1:2])\n",
    "kegg_neg_mat <- neg_mat  \n",
    "readr::write_csv(neg_mat,\n",
    "    file=paste0(resultdir,CellType,\"_NEG_\",enrich.database,\"_MinPct_\",min_pct_threshold,\".csv\"))"
   ]
  },
  {
   "cell_type": "code",
   "execution_count": 24,
   "metadata": {},
   "outputs": [
    {
     "name": "stdout",
     "output_type": "stream",
     "text": [
      "Saving 12 x 6.67 in image\n",
      "Saving 12 x 6.67 in image\n"
     ]
    },
    {
     "data": {
      "image/png": "[encoded data removed]",
      "text/plain": [
       "<IPython.core.display.Image object>"
      ]
     },
     "metadata": {},
     "output_type": "display_data"
    }
   ],
   "source": [
    "%%R\n",
    "enrich.database <- \"KEGG_2021_Human\"\n",
    "p <- plot_enrichR_wrap_fun(\n",
    "        ident.1=\"PD\",\n",
    "        ident.2=\"HC\",\n",
    "        pos.er = kegg_pos_mat,\n",
    "        neg.er = kegg_neg_mat,\n",
    "        enrich.database= enrich.database )\n",
    "\n",
    "\n",
    "ggsave(plot=p,filename=paste0(resultdir,\"BarPlot_\",\n",
    "        CellType,\"_\",enrich.database,\"_pct_\",min_pct_threshold,\n",
    "        \"_logfc.threshold_\",logfc.threshold,\n",
    "        \"_p.val.cutoff_\"=p.val.cutoff,\n",
    "        \".png\"),width=12)\n",
    "ggsave(plot=p,filename=paste0(resultdir,\"BarPlot_\",\n",
    "        CellType,\"_\",enrich.database,\"_pct_\",min_pct_threshold,\n",
    "        \"_logfc.threshold_\",logfc.threshold,\n",
    "        \"_p.val.cutoff_\"=p.val.cutoff,\n",
    "        \".pdf\"),width=12)\n",
    "p"
   ]
  },
  {
   "cell_type": "code",
   "execution_count": 25,
   "metadata": {},
   "outputs": [
    {
     "data": {
      "image/png": "[encoded data removed]",
      "text/plain": [
       "<IPython.core.display.Image object>"
      ]
     },
     "metadata": {},
     "output_type": "display_data"
    }
   ],
   "source": [
    "%%R\n",
    "source(\"Functions.R\")\n",
    "enrich.database <- \"KEGG_2021_Human\"\n",
    "p <- dotplot_enrich_dim(pos_mat=kegg_pos_mat , neg_mat=kegg_neg_mat,n_paths=10)\n",
    "\n",
    "ggsave(plot=p,filename=paste0(resultdir,\"DotPlot_\",\n",
    "        CellType,\"_\",enrich.database,\"_pct_\",min_pct_threshold,\n",
    "        \"_logfc.threshold_\",logfc.threshold,\n",
    "        \"_p.val.cutoff_\"=p.val.cutoff,\n",
    "        \".png\"),width=20,height=6)\n",
    "ggsave(plot=p,filename=paste0(resultdir,\"DotPlot_\",\n",
    "        CellType,\"_\",enrich.database,\"_pct_\",min_pct_threshold,\n",
    "        \"_logfc.threshold_\",logfc.threshold,\n",
    "        \"_p.val.cutoff_\"=p.val.cutoff,\n",
    "        \".pdf\"),width=20,height=6)\n",
    "\n",
    "p\n",
    "\n"
   ]
  },
  {
   "attachments": {},
   "cell_type": "markdown",
   "metadata": {},
   "source": [
    "# Reactome Pathway"
   ]
  },
  {
   "attachments": {},
   "cell_type": "markdown",
   "metadata": {},
   "source": [
    "## Possitive PD"
   ]
  },
  {
   "cell_type": "code",
   "execution_count": 26,
   "metadata": {},
   "outputs": [
    {
     "name": "stdout",
     "output_type": "stream",
     "text": [
      "Uploading data to Enrichr... Done.\n",
      "  Querying Reactome_2022... Done.\n",
      "Parsing results... Done.\n",
      "                                                                     Reactome_2022.Term\n",
      "1                                                  Adaptive Immune System R-HSA-1280218\n",
      "2 Immunoregulatory Interactions Between A Lymphoid And A non-Lymphoid Cell R-HSA-198933\n",
      "3                                                            Immune System R-HSA-168256\n",
      "  Reactome_2022.Overlap\n",
      "1          ratio 16/733\n",
      "2           ratio 8/123\n",
      "3         ratio 22/1943\n"
     ]
    }
   ],
   "source": [
    "%%R\n",
    "source(\"Functions.R\")\n",
    "enrich.database <- c(\"Reactome_2022\")\n",
    "mypos <- enrichR_wrap_fun_pos(DE_Seurat_mapped,\n",
    "logfc.threshold=logfc.threshold,\n",
    "p.val.cutoff=p.val.cutoff,\n",
    "enrich.database=c(enrich.database ))    \n",
    "# ======= DEGs matrix ===================\n",
    "pos.markers <- mypos$pos.markers\n",
    "# ======= Enrichment matrix ===================\n",
    "pos_mat <- mypos$pos_mat\n",
    "print(pos_mat[1:3,1:2])\n",
    "\n",
    "\n",
    "\n",
    "\n",
    "pos_IDs <- unlist(lapply( pos_mat$Reactome_2022.Term,function(term){\n",
    "        splitted_str <- strsplit(term,\" \")[[1]]\n",
    "        indxex_id <- grep(\"R-HSA\",splitted_str)\n",
    "        ID <- splitted_str[grep(\"R-HSA\",splitted_str)]\n",
    "        return(ID)\n",
    "    }))\n",
    "pos_mat$ID <- pos_IDs\n",
    "pos_Term <- unlist(lapply( pos_mat$Reactome_2022.Term,function(term){\n",
    "        splitted_str <- strsplit(term,\" \")[[1]]\n",
    "        indxex_id <- grep(\"R-HSA\",splitted_str)\n",
    "        Term_text <- paste(splitted_str[1:indxex_id-1],collapse=\" \")\n",
    "        return(Term_text)\n",
    "    }))\n",
    "pos_mat$term <- pos_Term\n",
    "pos_mat$term <- factor(pos_Term,levels= pos_Term)\n",
    "\n",
    "reactome_pos_mat <- pos_mat  \n",
    "\n",
    "\n",
    "readr::write_csv(pos_mat,\n",
    "    file=paste0(resultdir,CellType,\"_POS_\",enrich.database,\"_MinPct_\",min_pct_threshold,\".csv\"))\n"
   ]
  },
  {
   "attachments": {},
   "cell_type": "markdown",
   "metadata": {},
   "source": [
    "## Negative PD"
   ]
  },
  {
   "cell_type": "code",
   "execution_count": 27,
   "metadata": {},
   "outputs": [
    {
     "name": "stdout",
     "output_type": "stream",
     "text": [
      "Uploading data to Enrichr... Done.\n",
      "  Querying Reactome_2022... Done.\n",
      "Parsing results... Done.\n",
      "                                 Reactome_2022.Term Reactome_2022.Overlap\n",
      "1                  Signal Transduction R-HSA-162582         ratio 48/2465\n",
      "2            Signaling By Interleukins R-HSA-449147          ratio 16/453\n",
      "3 Cytokine Signaling In Immune System R-HSA-1280215          ratio 20/702\n"
     ]
    }
   ],
   "source": [
    "%%R\n",
    "source(\"Functions.R\")\n",
    "enrich.database<- c(\"Reactome_2022\")\n",
    "myneg <- enrichR_wrap_fun_neg(DE_Seurat_mapped,\n",
    "logfc.threshold=logfc.threshold,\n",
    "p.val.cutoff=p.val.cutoff,\n",
    "enrich.database=c(enrich.database ))    \n",
    "# ======= DEGs matrix ===================\n",
    "neg.markers <- myneg$neg.markers\n",
    "# ======= Enrichment matrix ===================\n",
    "neg_mat <- myneg$neg_mat\n",
    "print(neg_mat[1:3,1:2])\n",
    "\n",
    "\n",
    "neg_IDs <- unlist(lapply( neg_mat$Reactome_2022.Term,function(term){\n",
    "        splitted_str <- strsplit(term,\" \")[[1]]\n",
    "        indxex_id <- grep(\"R-HSA\",splitted_str)\n",
    "        ID <- splitted_str[grep(\"R-HSA\",splitted_str)]\n",
    "        return(ID)\n",
    "    }))\n",
    "neg_mat$ID <- neg_IDs\n",
    "neg_Term <- unlist(lapply( neg_mat$Reactome_2022.Term,function(term){\n",
    "        splitted_str <- strsplit(term,\" \")[[1]]\n",
    "        indxex_id <- grep(\"R-HSA\",splitted_str)\n",
    "        Term_text <- paste(splitted_str[1:indxex_id-1],collapse=\" \")\n",
    "        return(Term_text)\n",
    "    }))\n",
    "neg_mat$term <- neg_Term\n",
    "\n",
    "reactome_neg_mat <- neg_mat  \n",
    "\n",
    "readr::write_csv(neg_mat,\n",
    "    file=paste0(resultdir,CellType,\"_NEG_\",enrich.database,\"_MinPct_\",min_pct_threshold,\".csv\"))"
   ]
  },
  {
   "cell_type": "code",
   "execution_count": 28,
   "metadata": {},
   "outputs": [
    {
     "name": "stdout",
     "output_type": "stream",
     "text": [
      "Saving 12 x 6.67 in image\n",
      "Saving 12 x 6.67 in image\n"
     ]
    },
    {
     "data": {
      "image/png": "[encoded data removed]",
      "text/plain": [
       "<IPython.core.display.Image object>"
      ]
     },
     "metadata": {},
     "output_type": "display_data"
    }
   ],
   "source": [
    "%%R\n",
    "enrich.database <- \"Reactome_2022\"\n",
    "p <- plot_enrichR_wrap_fun(\n",
    "        ident.1=\"PD\",\n",
    "        ident.2=\"HC\",\n",
    "        pos.er = reactome_pos_mat,\n",
    "        neg.er = reactome_neg_mat,\n",
    "        enrich.database= enrich.database )\n",
    "\n",
    "ggsave(plot=p,filename=paste0(resultdir,\"BarPlot_\",\n",
    "        CellType,\"_\",enrich.database,\"_pct_\",min_pct_threshold,\n",
    "        \"_logfc.threshold_\",logfc.threshold,\n",
    "        \"_p.val.cutoff_\"=p.val.cutoff,\n",
    "        \".png\"),width=12)\n",
    "ggsave(plot=p,filename=paste0(resultdir,\"BarPlot_\",\n",
    "        CellType,\"_\",enrich.database,\"_pct_\",min_pct_threshold,\n",
    "        \"_logfc.threshold_\",logfc.threshold,\n",
    "        \"_p.val.cutoff_\"=p.val.cutoff,\n",
    "        \".pdf\"),width=12)\n",
    "p"
   ]
  },
  {
   "cell_type": "code",
   "execution_count": 29,
   "metadata": {},
   "outputs": [
    {
     "name": "stdout",
     "output_type": "stream",
     "text": [
      " [1] \"Reactome_2022.Term\"                 \"Reactome_2022.Overlap\"             \n",
      " [3] \"Reactome_2022.P.value\"              \"Reactome_2022.Adjusted.P.value\"    \n",
      " [5] \"Reactome_2022.Old.P.value\"          \"Reactome_2022.Old.Adjusted.P.value\"\n",
      " [7] \"Reactome_2022.Odds.Ratio\"           \"Reactome_2022.Combined.Score\"      \n",
      " [9] \"Reactome_2022.Genes\"                \"log10pval\"                         \n",
      "[11] \"term\"                               \"ID\"                                \n"
     ]
    }
   ],
   "source": [
    "%%R\n",
    "colnames(reactome_neg_mat)"
   ]
  },
  {
   "cell_type": "code",
   "execution_count": 30,
   "metadata": {},
   "outputs": [
    {
     "data": {
      "image/png": "[encoded data removed]",
      "text/plain": [
       "<IPython.core.display.Image object>"
      ]
     },
     "metadata": {},
     "output_type": "display_data"
    }
   ],
   "source": [
    "%%R\n",
    "source(\"Functions.R\")\n",
    "enrich.database <- \"Reactome_2022\"\n",
    "p <- dotplot_enrich_dim(pos_mat=reactome_pos_mat , neg_mat=reactome_neg_mat,n_paths=10)\n",
    "\n",
    "ggsave(plot=p,filename=paste0(resultdir,\"DotPlot_\",\n",
    "        CellType,\"_\",enrich.database,\"_pct_\",min_pct_threshold,\n",
    "        \"_logfc.threshold_\",logfc.threshold,\n",
    "        \"_p.val.cutoff_\"=p.val.cutoff,\n",
    "        \".png\"),width=20,height=6)\n",
    "ggsave(plot=p,filename=paste0(resultdir,\"DotPlot_\",\n",
    "        CellType,\"_\",enrich.database,\"_pct_\",min_pct_threshold,\n",
    "        \"_logfc.threshold_\",logfc.threshold,\n",
    "        \"_p.val.cutoff_\"=p.val.cutoff,\n",
    "        \".pdf\"),width=20,height=6)\n",
    "p\n",
    "\n"
   ]
  },
  {
   "attachments": {},
   "cell_type": "markdown",
   "metadata": {},
   "source": [
    "# GO Pathway"
   ]
  },
  {
   "attachments": {},
   "cell_type": "markdown",
   "metadata": {},
   "source": [
    "## Possitive PD"
   ]
  },
  {
   "cell_type": "code",
   "execution_count": 31,
   "metadata": {},
   "outputs": [
    {
     "name": "stdout",
     "output_type": "stream",
     "text": [
      "Uploading data to Enrichr... Done.\n",
      "  Querying GO_Biological_Process_2021... Done.\n",
      "Parsing results... Done.\n",
      "                           GO_Biological_Process_2021.Term\n",
      "1               regulation of immune response (GO:0050776)\n",
      "2       cellular response to interferon-gamma (GO:0071346)\n",
      "3 antigen receptor-mediated signaling pathway (GO:0050851)\n",
      "  GO_Biological_Process_2021.Overlap\n",
      "1                        ratio 8/179\n",
      "2                        ratio 7/121\n",
      "3                        ratio 8/185\n"
     ]
    }
   ],
   "source": [
    "%%R\n",
    "source(\"Functions.R\")\n",
    "enrich.database <- c(\"GO_Biological_Process_2021\")\n",
    "mypos <- enrichR_wrap_fun_pos(DE_Seurat_mapped,\n",
    "logfc.threshold=logfc.threshold,\n",
    "p.val.cutoff=p.val.cutoff,\n",
    "enrich.database=c(enrich.database ))    \n",
    "# ======= DEGs matrix ===================\n",
    "pos.markers <- mypos$pos.markers\n",
    "# ======= Enrichment matrix ===================\n",
    "pos_mat <- mypos$pos_mat\n",
    "print(pos_mat[1:3,1:2])\n",
    "go_pos_mat <- pos_mat  \n",
    "readr::write_csv(pos_mat,\n",
    "    file=paste0(resultdir,CellType,\"_POS_\",enrich.database,\"_MinPct_\",min_pct_threshold,\".csv\"))\n"
   ]
  },
  {
   "attachments": {},
   "cell_type": "markdown",
   "metadata": {},
   "source": [
    "## Negative PD"
   ]
  },
  {
   "cell_type": "code",
   "execution_count": 32,
   "metadata": {},
   "outputs": [
    {
     "name": "stdout",
     "output_type": "stream",
     "text": [
      "Uploading data to Enrichr... Done.\n",
      "  Querying GO_Biological_Process_2021... Done.\n",
      "Parsing results... Done.\n",
      "                                                                                GO_Biological_Process_2021.Term\n",
      "1          regulation of nuclear-transcribed mRNA catabolic process, deadenylation-dependent decay (GO:1900151)\n",
      "2 positive regulation of nuclear-transcribed mRNA catabolic process, deadenylation-dependent decay (GO:1900153)\n",
      "3                                                           cellular response to cytokine stimulus (GO:0071345)\n",
      "  GO_Biological_Process_2021.Overlap\n",
      "1                         ratio 5/15\n",
      "2                         ratio 5/15\n",
      "3                       ratio 16/482\n"
     ]
    }
   ],
   "source": [
    "%%R\n",
    "source(\"Functions.R\")\n",
    "enrich.database<- c(\"GO_Biological_Process_2021\")\n",
    "myneg <- enrichR_wrap_fun_neg(DE_Seurat_mapped,\n",
    "logfc.threshold=logfc.threshold,\n",
    "p.val.cutoff=p.val.cutoff,\n",
    "enrich.database=c(enrich.database ))    \n",
    "# ======= DEGs matrix ===================\n",
    "neg.markers <- myneg$neg.markers\n",
    "# ======= Enrichment matrix ===================\n",
    "neg_mat <- myneg$neg_mat\n",
    "print(neg_mat[1:3,1:2])\n",
    "go_neg_mat <- neg_mat  \n",
    "readr::write_csv(neg_mat,\n",
    "    file=paste0(resultdir,CellType,\"_NEG_\",enrich.database,\"_MinPct_\",min_pct_threshold,\".csv\"))"
   ]
  },
  {
   "cell_type": "code",
   "execution_count": 33,
   "metadata": {},
   "outputs": [
    {
     "name": "stdout",
     "output_type": "stream",
     "text": [
      "Saving 12 x 6.67 in image\n",
      "Saving 12 x 6.67 in image\n"
     ]
    },
    {
     "data": {
      "image/png": "[encoded data removed]",
      "text/plain": [
       "<IPython.core.display.Image object>"
      ]
     },
     "metadata": {},
     "output_type": "display_data"
    }
   ],
   "source": [
    "%%R\n",
    "enrich.database <- \"GO_Biological_Process_2021\"\n",
    "p <- plot_enrichR_wrap_fun(\n",
    "        ident.1=\"PD\",\n",
    "        ident.2=\"HC\",\n",
    "        pos.er = go_pos_mat,\n",
    "        neg.er = go_neg_mat,\n",
    "        enrich.database= enrich.database )\n",
    "\n",
    "ggsave(plot=p,filename=paste0(resultdir,\n",
    "        CellType,\"_\",enrich.database,\"_pct_\",min_pct_threshold,\n",
    "        \"_logfc.threshold_\",logfc.threshold,\n",
    "        \"_p.val.cutoff_\"=p.val.cutoff,\n",
    "        \".png\"),width=12)\n",
    "ggsave(plot=p,filename=paste0(resultdir,\n",
    "        CellType,\"_\",enrich.database,\"_pct_\",min_pct_threshold,\n",
    "        \"_logfc.threshold_\",logfc.threshold,\n",
    "        \"_p.val.cutoff_\"=p.val.cutoff,\n",
    "        \".pdf\"),width=12)\n",
    "p"
   ]
  },
  {
   "cell_type": "code",
   "execution_count": 34,
   "metadata": {},
   "outputs": [
    {
     "data": {
      "image/png": "[encoded data removed]",
      "text/plain": [
       "<IPython.core.display.Image object>"
      ]
     },
     "metadata": {},
     "output_type": "display_data"
    }
   ],
   "source": [
    "%%R\n",
    "source(\"Functions.R\")\n",
    "enrich.database <- \"GO_Biological_Process_2021\"\n",
    "p <- dotplot_enrich_dim(pos_mat=go_pos_mat , neg_mat=go_neg_mat,n_paths=10)\n",
    "\n",
    "ggsave(plot=p,filename=paste0(resultdir,\"DotPlot_\",\n",
    "        CellType,\"_\",enrich.database,\"_pct_\",min_pct_threshold,\n",
    "        \"_logfc.threshold_\",logfc.threshold,\n",
    "        \"_p.val.cutoff_\"=p.val.cutoff,\n",
    "        \".png\"),width=20,height=6)\n",
    "ggsave(plot=p,filename=paste0(resultdir,\"DotPlot_\",\n",
    "        CellType,\"_\",enrich.database,\"_pct_\",min_pct_threshold,\n",
    "        \"_logfc.threshold_\",logfc.threshold,\n",
    "        \"_p.val.cutoff_\"=p.val.cutoff,\n",
    "        \".pdf\"),width=20,height=6)\n",
    "p"
   ]
  },
  {
   "attachments": {},
   "cell_type": "markdown",
   "metadata": {},
   "source": [
    "# Calculate RANKS based on FC"
   ]
  },
  {
   "cell_type": "code",
   "execution_count": 35,
   "metadata": {},
   "outputs": [],
   "source": [
    "%%R\n",
    "ranks_avg_log2FC<- tibble::deframe( DE_Seurat_mapped%>%  dplyr::select(entrezID , avg_log2FC   )) \n",
    "ranks_avg_log2FC[1:4]\n",
    "gsea_kegg_log2FC <- gseKEGG(sort(ranks_avg_log2FC,decreasing=T), nPerm=10000,\n",
    "                pvalueCutoff=1,minGSSize = 0,\n",
    "                pAdjustMethod=\"BH\", verbose=FALSE)\n",
    "readr::write_csv(as.data.frame(gsea_kegg_log2FC),\n",
    "        file=paste0(resultdir,CellType,\"_KEGG_GSEA_MinPct_\",min_pct_threshold,\"_Ranks_log2FC.csv\"))"
   ]
  },
  {
   "cell_type": "code",
   "execution_count": null,
   "metadata": {},
   "outputs": [],
   "source": []
  },
  {
   "attachments": {},
   "cell_type": "markdown",
   "metadata": {},
   "source": [
    "#  TOP UP GSEA KEGG"
   ]
  },
  {
   "cell_type": "code",
   "execution_count": 36,
   "metadata": {},
   "outputs": [
    {
     "name": "stdout",
     "output_type": "stream",
     "text": [
      "[1] \"Natural killer cell mediated cytotoxicity\"\n"
     ]
    },
    {
     "name": "stdout",
     "output_type": "stream",
     "text": [
      "[1] \"Viral myocarditis\"\n",
      "[1] \"Graft-versus-host disease\"\n",
      "[1] \"Human T-cell leukemia virus 1 infection\"\n",
      "[1] \"Allograft rejection\"\n",
      "[1] \"Type I diabetes mellitus\"\n",
      "[1] \"Antigen processing and presentation\"\n",
      "[1] \"Autoimmune thyroid disease\"\n",
      "[1] \"B cell receptor signaling pathway\"\n",
      "[1] \"Cell adhesion molecules\"\n"
     ]
    }
   ],
   "source": [
    "%%R\n",
    "library(enrichplot)\n",
    "sort_filt_gsea_kegg_log2FC <- gsea_kegg_log2FC[match(tolower(kegg_pos_mat$term[1:10]),tolower(gsea_kegg_log2FC$Description)),]\n",
    "\n",
    "temp_dir <- paste0(resultdir,\"Top10_Upreg_Enriched_KeggGSEAPlot/\")\n",
    "dir.create(temp_dir)\n",
    "top_pos <- sort_filt_gsea_kegg_log2FC\n",
    "for (row_iter in 1:10){\n",
    "    id_term <- top_pos$ID[row_iter]\n",
    "    text_term <- top_pos$Description[row_iter]\n",
    "    print(text_term)\n",
    "    p <- gseaplot2(gsea_kegg_log2FC, geneSetID = id_term,subplots = 1:3,pvalue_table = F,title=text_term)\n",
    "    ## Initiate writing to PDF file\n",
    "    pdf(paste0(temp_dir,CellType,\n",
    "        \"_Enr_KEGG_GSPlot_\",id_term,\"_pct_\",min_pct_threshold,\n",
    "            \"_logfc.threshold_\",logfc.threshold,\n",
    "            \"_Ranks_log2FC_up.pdf\"), height = 8.5, width = 11)\n",
    "    ## Create a graphical object g here\n",
    "    print(p)# print it\n",
    "    ## Stop writing to the PDF file\n",
    "    dev.off()\n",
    "}"
   ]
  },
  {
   "attachments": {},
   "cell_type": "markdown",
   "metadata": {},
   "source": [
    "# TOP Down GSEA KEGG"
   ]
  },
  {
   "cell_type": "code",
   "execution_count": 37,
   "metadata": {},
   "outputs": [
    {
     "name": "stdout",
     "output_type": "stream",
     "text": [
      "[1] \"Osteoclast differentiation\"\n"
     ]
    },
    {
     "name": "stdout",
     "output_type": "stream",
     "text": [
      "[1] \"Pathways in cancer\"\n",
      "[1] \"Apoptosis\"\n",
      "[1] \"Cholinergic synapse\"\n",
      "[1] \"Hepatitis B\"\n",
      "[1] \"Human immunodeficiency virus 1 infection\"\n",
      "[1] \"cAMP signaling pathway\"\n",
      "[1] \"Relaxin signaling pathway\"\n",
      "[1] \"AGE-RAGE signaling pathway in diabetic complications\"\n",
      "[1] \"Chagas disease\"\n"
     ]
    }
   ],
   "source": [
    "%%R\n",
    "sort_filt_gsea_kegg_log2FC <- gsea_kegg_log2FC[match(tolower(kegg_neg_mat$term[1:10]),tolower(gsea_kegg_log2FC$Description)),]\n",
    "temp_dir <- paste0(resultdir,\"Top10_Downreg_Enriched_KeggGSEAPlot/\")\n",
    "dir.create(temp_dir)\n",
    "top_neg <- sort_filt_gsea_kegg_log2FC\n",
    "for (row_iter in 1:10){\n",
    "    id_term <- top_neg$ID[row_iter]\n",
    "    text_term <- top_neg$Description[row_iter]\n",
    "    print(text_term)\n",
    "    p <- gseaplot2(gsea_kegg_log2FC, geneSetID = id_term,subplots = 1:3,pvalue_table = F,title=text_term)\n",
    "    ## Initiate writing to PDF file\n",
    "    pdf(paste0(temp_dir,CellType,\n",
    "        \"_Enr_KEGG_GSPlot_\",id_term,\"_pct_\",min_pct_threshold,\n",
    "            \"_logfc.threshold_\",logfc.threshold,\n",
    "            \"_Ranks_log2FC_down.pdf\"), height = 8.5, width = 11)\n",
    "    ## Create a graphical object g here\n",
    "    print(p)# print it\n",
    "    ## Stop writing to the PDF file\n",
    "    dev.off()\n",
    "}"
   ]
  },
  {
   "cell_type": "code",
   "execution_count": 38,
   "metadata": {},
   "outputs": [
    {
     "name": "stdout",
     "output_type": "stream",
     "text": [
      "[1] \"Immunoregulatory interactions between a Lymphoid and a non-Lymphoid cell\"\n",
      "[2] \"Generation of second messenger molecules\"                                \n",
      "[3] \"Metabolism of water-soluble vitamins and cofactors\"                      \n"
     ]
    }
   ],
   "source": [
    "%%R\n",
    "library(ReactomePA)\n",
    "require(clusterProfiler)\n",
    "gsea_reactome_log2FC <- gsePathway(sort(ranks_avg_log2FC,decreasing=T), nPerm=10000,\n",
    "                pvalueCutoff=1,minGSSize = 0,\n",
    "                pAdjustMethod=\"BH\", verbose=FALSE)\n",
    "readr::write_csv(as.data.frame(gsea_reactome_log2FC),\n",
    "        file=paste0(resultdir,CellType,\"_GSEA_MinPct_\",min_pct_threshold,\"_Ranks_log2FC.csv\"))\n",
    "gsea_reactome_log2FC[1:3,\"Description\"]"
   ]
  },
  {
   "attachments": {},
   "cell_type": "markdown",
   "metadata": {},
   "source": [
    "# TOP UP GSEA REACTOME"
   ]
  },
  {
   "cell_type": "code",
   "execution_count": 39,
   "metadata": {},
   "outputs": [
    {
     "name": "stdout",
     "output_type": "stream",
     "text": [
      "[1] \"Adaptive Immune System\"\n"
     ]
    },
    {
     "name": "stdout",
     "output_type": "stream",
     "text": [
      "[1] \"Immunoregulatory Interactions Between A Lymphoid And A non-Lymphoid Cell\"\n",
      "[1] \"Immune System\"\n",
      "[1] \"DAP12 Interactions\"\n",
      "[1] \"Innate Immune System\"\n",
      "[1] \"Hemostasis\"\n",
      "[1] \"DAP12 Signaling\"\n",
      "[1] \"FCERI Mediated Ca+2 Mobilization\"\n",
      "[1] \"Generation Of Second Messenger Molecules\"\n",
      "[1] \"Interferon Gamma Signaling\"\n"
     ]
    }
   ],
   "source": [
    "%%R -i resultdir -i CellType\n",
    "temp_dir <- paste0(resultdir,\"Top10_Upreg_Enriched_GSEAPlot/\")\n",
    "dir.create(temp_dir)\n",
    "top_pos <- reactome_pos_mat[1:10,]\n",
    "for (row_iter in 1:10){\n",
    "    id_term <- top_pos$ID[row_iter]\n",
    "    text_term <- as.vector(top_pos$term)[row_iter]\n",
    "    print(text_term)\n",
    "    p <- gseaplot2(gsea_reactome_log2FC, geneSetID = id_term,subplots = 1:3,pvalue_table = F,title=text_term)\n",
    "    # Initiate writing to PDF file\n",
    "    pdf(paste0(temp_dir,CellType,\n",
    "        \"_Enr_React_GSPlot_\",id_term,\"_pct_\",min_pct_threshold,\n",
    "            \"_logfc.threshold_\",logfc.threshold,\n",
    "            \"_Ranks_log2FC_up.pdf\"), height = 8.5, width = 11)\n",
    "    # Create a graphical object g here\n",
    "    print(p)# print it\n",
    "    # Stop writing to the PDF file\n",
    "    dev.off()\n",
    "}\n"
   ]
  },
  {
   "cell_type": "code",
   "execution_count": 40,
   "metadata": {},
   "outputs": [
    {
     "name": "stdout",
     "output_type": "stream",
     "text": [
      "#\n",
      "# Gene Set Enrichment Analysis\n",
      "#\n",
      "#...@organism \t human \n",
      "#...@setType \t Reactome \n",
      "#...@keytype \t ENTREZID \n",
      "#...@geneList \t Named num [1:2199] 1.474 1.063 0.928 0.922 0.881 ...\n",
      " - attr(*, \"names\")= chr [1:2199] \"10578\" \"6444\" \"23345\" \"6351\" ...\n",
      "#...nPerm \t 10000 \n",
      "#...pvalues adjusted by 'BH' with cutoff <1 \n",
      "#...1801 enriched terms found\n",
      "'data.frame':\t1801 obs. of  11 variables:\n",
      " $ ID             : chr  \"R-HSA-198933\" \"R-HSA-202433\" \"R-HSA-196849\" \"R-HSA-9031628\" ...\n",
      " $ Description    : chr  \"Immunoregulatory interactions between a Lymphoid and a non-Lymphoid cell\" \"Generation of second messenger molecules\" \"Metabolism of water-soluble vitamins and cofactors\" \"NGF-stimulated transcription\" ...\n",
      " $ setSize        : int  28 19 10 11 4 4 4 1 1 10 ...\n",
      " $ enrichmentScore: num  0.731 0.746 -0.861 -0.836 -0.963 ...\n",
      " $ NES            : num  2.22 2.05 -1.82 -1.81 -1.63 ...\n",
      " $ pvalue         : num  0.000351 0.000317 0.000307 0.000611 0.000516 ...\n",
      " $ p.adjust       : num  0.138 0.138 0.138 0.138 0.138 ...\n",
      " $ qvalue         : num  0.134 0.134 0.134 0.134 0.134 ...\n",
      " $ rank           : num  197 269 153 161 7 94 94 2 2 269 ...\n",
      " $ leading_edge   : chr  \"tags=57%, list=9%, signal=53%\" \"tags=58%, list=12%, signal=51%\" \"tags=60%, list=7%, signal=56%\" \"tags=45%, list=7%, signal=42%\" ...\n",
      " $ core_enrichment: chr  \"10219/3824/3689/3105/3107/10870/3683/8519/9976/915/925/926/975/3134/916/567\" \"3123/3113/3115/5336/915/9402/3937/916/2533/7535/3932\" \"27010/79668/10243/6515/4363/10135\" \"3727/3398/2354/3726/2353\" ...\n",
      "#...Citation\n",
      "  Guangchuang Yu, Qing-Yu He. ReactomePA: an R/Bioconductor package for\n",
      "  reactome pathway analysis and visualization. Molecular BioSystems\n",
      "  2016, 12(2):477-479 \n",
      "\n"
     ]
    }
   ],
   "source": [
    "%%R\n",
    "gsea_reactome_log2FC"
   ]
  },
  {
   "attachments": {},
   "cell_type": "markdown",
   "metadata": {},
   "source": [
    "## TOP Down GSEA REACTOME"
   ]
  },
  {
   "cell_type": "code",
   "execution_count": 41,
   "metadata": {},
   "outputs": [
    {
     "name": "stdout",
     "output_type": "stream",
     "text": [
      "[1] \"Signal Transduction\"\n"
     ]
    },
    {
     "name": "stdout",
     "output_type": "stream",
     "text": [
      "[1] \"Signaling By Interleukins\"\n",
      "[1] \"Cytokine Signaling In Immune System\"\n",
      "[1] \"Interleukin-4 And Interleukin-13 Signaling\"\n",
      "[1] \"Generic Transcription Pathway\"\n",
      "[1] \"Transcriptional Regulation By MECP2\"\n",
      "[1] \"RNA Polymerase II Transcription\"\n",
      "[1] \"Syndecan Interactions\"\n",
      "[1] \"ESR-mediated Signaling\"\n",
      "[1] \"Disease\"\n"
     ]
    }
   ],
   "source": [
    "%%R -i resultdir -i CellType\n",
    "temp_dir <- paste0(resultdir,\"Top10_Downreg_Enriched_GSEAPlot/\")\n",
    "dir.create(temp_dir)\n",
    "top_neg <- reactome_neg_mat[1:10,]\n",
    "for (row_iter in 1:10){\n",
    "    id_term <- top_neg$ID[row_iter]\n",
    "    text_term <- top_neg$term[row_iter]\n",
    "    print(text_term)\n",
    "    p <- gseaplot2(gsea_reactome_log2FC, geneSetID = id_term,subplots = 1:3,pvalue_table = F,title=text_term)\n",
    "    ## Initiate writing to PDF file\n",
    "    pdf(paste0(temp_dir,CellType,\n",
    "        \"_Enr_React_GSPlot_\",id_term,\"_pct_\",min_pct_threshold,\n",
    "            \"_logfc.thres_\",logfc.threshold,\n",
    "            \"_Ranks_log2FC_down.pdf\"), height = 8.5, width = 11)\n",
    "    ## Create a graphical object g here\n",
    "    print(p)# print it\n",
    "    ## Stop writing to the PDF file\n",
    "    dev.off()\n",
    "}"
   ]
  },
  {
   "cell_type": "code",
   "execution_count": 42,
   "metadata": {},
   "outputs": [
    {
     "data": {
      "image/png": "[encoded data removed]",
      "text/plain": [
       "<IPython.core.display.Image object>"
      ]
     },
     "metadata": {},
     "output_type": "display_data"
    }
   ],
   "source": [
    "%%R -i resultdir -i CellType\n",
    "p <- gseaplot2(gsea_reactome_log2FC, geneSetID = \"R-HSA-8939246\",subplots = 1:6,pvalue_table = F)\n",
    "## Initiate writing to PDF file\n",
    "pdf(paste0(resultdir,CellType,\n",
    "       \"_GSE_RUNX1_pct_\",min_pct_threshold,\n",
    "        \"_logfc.threshold_\",logfc.threshold,\n",
    "        \"_Ranks_log2FC.pdf\"), height = 8.5, width = 11)\n",
    "## Create a graphical object g here\n",
    "print(p)# print it\n",
    "## Stop writing to the PDF file\n",
    "dev.off()\n",
    "p"
   ]
  },
  {
   "cell_type": "code",
   "execution_count": null,
   "metadata": {},
   "outputs": [],
   "source": []
  },
  {
   "cell_type": "code",
   "execution_count": null,
   "metadata": {},
   "outputs": [],
   "source": []
  },
  {
   "attachments": {},
   "cell_type": "markdown",
   "metadata": {},
   "source": [
    "# Calculate RANKS based on Gene score"
   ]
  },
  {
   "cell_type": "code",
   "execution_count": 43,
   "metadata": {},
   "outputs": [],
   "source": [
    "%%R\n",
    "# Calculate RANKS based on genescore\n",
    "ranks_avg_genescore<- tibble::deframe( DE_Seurat_mapped%>%  dplyr::select(entrezID , gene.score )) \n",
    "ranks_avg_genescore[1:4]\n",
    "gsea_kegg_genescore <- gseKEGG(sort(ranks_avg_genescore,decreasing=T), nPerm=10000,\n",
    "                pvalueCutoff=1,minGSSize = 0,\n",
    "                pAdjustMethod=\"BH\", verbose=FALSE)\n",
    "readr::write_csv(as.data.frame(gsea_kegg_log2FC),\n",
    "        file=paste0(resultdir,CellType,\"_KEGG_GSEA_MinPct_\",min_pct_threshold,\"_Ranks_genescore.csv\"))"
   ]
  },
  {
   "cell_type": "code",
   "execution_count": 44,
   "metadata": {},
   "outputs": [
    {
     "name": "stdout",
     "output_type": "stream",
     "text": [
      "                       KEGG_2021_Human.Term KEGG_2021_Human.Overlap\n",
      "1 Natural killer cell mediated cytotoxicity            ratio 10/131\n",
      "  KEGG_2021_Human.P.value KEGG_2021_Human.Adjusted.P.value\n",
      "1            1.353377e-11                     1.436492e-09\n",
      "  KEGG_2021_Human.Old.P.value KEGG_2021_Human.Old.Adjusted.P.value\n",
      "1                           0                                    0\n",
      "  KEGG_2021_Human.Odds.Ratio KEGG_2021_Human.Combined.Score\n",
      "1                    29.7731                       745.0967\n",
      "                                      KEGG_2021_Human.Genes log10pval\n",
      "1 VAV3;PPP3CC;ITGB2;PLCG2;HLA-C;GZMB;KLRD1;HLA-A;ITGAL;HCST  10.86858\n",
      "                                       term\n",
      "1 Natural killer cell mediated cytotoxicity\n"
     ]
    }
   ],
   "source": [
    "%%R\n",
    "kegg_pos_mat[1,]"
   ]
  },
  {
   "cell_type": "code",
   "execution_count": 45,
   "metadata": {},
   "outputs": [
    {
     "name": "stdout",
     "output_type": "stream",
     "text": [
      "[1] \"Natural killer cell mediated cytotoxicity\"\n"
     ]
    },
    {
     "name": "stdout",
     "output_type": "stream",
     "text": [
      "[1] \"Viral myocarditis\"\n",
      "[1] \"Graft-versus-host disease\"\n",
      "[1] \"Human T-cell leukemia virus 1 infection\"\n",
      "[1] \"Allograft rejection\"\n",
      "[1] \"Type I diabetes mellitus\"\n",
      "[1] \"Antigen processing and presentation\"\n",
      "[1] \"Autoimmune thyroid disease\"\n",
      "[1] \"B cell receptor signaling pathway\"\n",
      "[1] \"Cell adhesion molecules\"\n"
     ]
    }
   ],
   "source": [
    "%%R\n",
    "library(enrichplot)\n",
    "sort_filt_gsea_kegg_genescore <- gsea_kegg_genescore[match(tolower(kegg_pos_mat$term[1:10]),tolower(gsea_kegg_genescore$Description)),]\n",
    "\n",
    "temp_dir <- paste0(resultdir,\"Top10_Upreg_Enriched_KeggGSEAPlot/\")\n",
    "dir.create(temp_dir)\n",
    "top_pos <- sort_filt_gsea_kegg_genescore\n",
    "for (row_iter in 1:10){\n",
    "    id_term <- top_pos$ID[row_iter]\n",
    "    text_term <- top_pos$Description[row_iter]\n",
    "    print(text_term)\n",
    "    p <- gseaplot2(gsea_kegg_genescore, geneSetID = id_term,subplots = 1:3,pvalue_table = F,title=text_term)\n",
    "    ## Initiate writing to PDF file\n",
    "    pdf(paste0(temp_dir,CellType,\n",
    "        \"_Enr_KEGG_GSPlot_\",id_term,\"_pct_\",min_pct_threshold,\n",
    "            \"_logfc.thres_\",logfc.threshold,\n",
    "            \"_Ranks_gs_up.pdf\"), height = 8.5, width = 11)\n",
    "    ## Create a graphical object g here\n",
    "    print(p)# print it\n",
    "    ## Stop writing to the PDF file\n",
    "    dev.off()\n",
    "}\n"
   ]
  },
  {
   "cell_type": "code",
   "execution_count": null,
   "metadata": {},
   "outputs": [],
   "source": []
  },
  {
   "cell_type": "code",
   "execution_count": 46,
   "metadata": {},
   "outputs": [
    {
     "name": "stdout",
     "output_type": "stream",
     "text": [
      "[1] \"Osteoclast differentiation\"\n"
     ]
    },
    {
     "name": "stdout",
     "output_type": "stream",
     "text": [
      "[1] \"Pathways in cancer\"\n",
      "[1] \"Apoptosis\"\n",
      "[1] \"Cholinergic synapse\"\n",
      "[1] \"Hepatitis B\"\n",
      "[1] \"Human immunodeficiency virus 1 infection\"\n",
      "[1] \"cAMP signaling pathway\"\n",
      "[1] \"Relaxin signaling pathway\"\n",
      "[1] \"AGE-RAGE signaling pathway in diabetic complications\"\n",
      "[1] \"Chagas disease\"\n"
     ]
    }
   ],
   "source": [
    "%%R\n",
    "sort_filt_gsea_kegg_genescore <- gsea_kegg_genescore[match(tolower(kegg_neg_mat$term[1:10]),tolower(gsea_kegg_genescore$Description)),]\n",
    "temp_dir <- paste0(resultdir,\"Top10_Downreg_Enriched_KeggGSEAPlot/\")\n",
    "dir.create(temp_dir)\n",
    "top_neg <- sort_filt_gsea_kegg_genescore\n",
    "for (row_iter in 1:10){\n",
    "    id_term <- top_neg$ID[row_iter]\n",
    "    text_term <- top_neg$Description[row_iter]\n",
    "    print(text_term)\n",
    "    p <- gseaplot2(gsea_kegg_genescore, geneSetID = id_term,subplots = 1:3,pvalue_table = F,title=text_term)\n",
    "    ## Initiate writing to PDF file\n",
    "    pdf(paste0(temp_dir,CellType,\n",
    "        \"_Enr_KEGG_GSPlot_\",id_term,\"_pct_\",min_pct_threshold,\n",
    "            \"_logfc.thres_\",logfc.threshold,\n",
    "            \"_Ranks_gs_down.pdf\"), height = 8.5, width = 11)\n",
    "    ## Create a graphical object g here\n",
    "    print(p)# print it\n",
    "    ## Stop writing to the PDF file\n",
    "    dev.off()\n",
    "}"
   ]
  },
  {
   "cell_type": "code",
   "execution_count": 47,
   "metadata": {},
   "outputs": [
    {
     "name": "stdout",
     "output_type": "stream",
     "text": [
      "[1] \"Immunoregulatory interactions between a Lymphoid and a non-Lymphoid cell\"\n",
      "[2] \"Generation of second messenger molecules\"                                \n",
      "[3] \"Metabolism of water-soluble vitamins and cofactors\"                      \n"
     ]
    }
   ],
   "source": [
    "%%R\n",
    "library(ReactomePA)\n",
    "require(clusterProfiler)\n",
    "gsea_reactome_genescore <- gsePathway(sort(ranks_avg_genescore,decreasing=T), nPerm=10000,\n",
    "                pvalueCutoff=1,minGSSize = 0,\n",
    "                pAdjustMethod=\"BH\", verbose=FALSE)\n",
    "readr::write_csv(as.data.frame(gsea_reactome_genescore),\n",
    "        file=paste0(resultdir,CellType,\"_GSEA_MinPct_\",min_pct_threshold,\"_Ranks_genescore.csv\"))\n",
    "gsea_reactome_genescore[1:3,\"Description\"]\n",
    "# TOP UP GSEA REACTOME"
   ]
  },
  {
   "cell_type": "code",
   "execution_count": 48,
   "metadata": {},
   "outputs": [],
   "source": [
    "%%R \n",
    "pos_IDs <- unlist(lapply( reactome_pos_mat$Reactome_2022.Term,function(term){\n",
    "        splitted_str <- strsplit(term,\" \")[[1]]\n",
    "        indxex_id <- grep(\"R-HSA\",splitted_str)\n",
    "        ID <- splitted_str[grep(\"R-HSA\",splitted_str)]\n",
    "        return(ID)\n",
    "    }))\n",
    "reactome_pos_mat$ID <- pos_IDs\n",
    "pos_Term <- unlist(lapply( reactome_pos_mat$Reactome_2022.Term,function(term){\n",
    "        splitted_str <- strsplit(term,\" \")[[1]]\n",
    "        indxex_id <- grep(\"R-HSA\",splitted_str)\n",
    "        Term_text <- paste(splitted_str[1:indxex_id-1],collapse=\" \")\n",
    "        return(Term_text)\n",
    "    }))\n",
    "reactome_pos_mat$term <- pos_Term\n",
    "\n",
    "neg_IDs <- unlist(lapply( reactome_neg_mat$Reactome_2022.Term,function(term){\n",
    "        splitted_str <- strsplit(term,\" \")[[1]]\n",
    "        indxex_id <- grep(\"R-HSA\",splitted_str)\n",
    "        ID <- splitted_str[grep(\"R-HSA\",splitted_str)]\n",
    "        return(ID)\n",
    "    }))\n",
    "reactome_neg_mat$ID <- neg_IDs\n",
    "neg_Term <- unlist(lapply( reactome_neg_mat$Reactome_2022.Term,function(term){\n",
    "        splitted_str <- strsplit(term,\" \")[[1]]\n",
    "        indxex_id <- grep(\"R-HSA\",splitted_str)\n",
    "        Term_text <- paste(splitted_str[1:indxex_id-1],collapse=\" \")\n",
    "        return(Term_text)\n",
    "    }))\n",
    "reactome_neg_mat$term <- neg_Term"
   ]
  },
  {
   "cell_type": "code",
   "execution_count": 49,
   "metadata": {},
   "outputs": [
    {
     "name": "stdout",
     "output_type": "stream",
     "text": [
      "[1] \"Adaptive Immune System\"\n"
     ]
    },
    {
     "name": "stdout",
     "output_type": "stream",
     "text": [
      "[1] \"Immunoregulatory Interactions Between A Lymphoid And A non-Lymphoid Cell\"\n",
      "[1] \"Immune System\"\n",
      "[1] \"DAP12 Interactions\"\n",
      "[1] \"Innate Immune System\"\n",
      "[1] \"Hemostasis\"\n",
      "[1] \"DAP12 Signaling\"\n",
      "[1] \"FCERI Mediated Ca+2 Mobilization\"\n",
      "[1] \"Generation Of Second Messenger Molecules\"\n",
      "[1] \"Interferon Gamma Signaling\"\n"
     ]
    }
   ],
   "source": [
    "%%R -i resultdir -i CellType\n",
    "temp_dir <- paste0(resultdir,\"Top10_Upreg_Enriched_GSEAPlot/\")\n",
    "dir.create(temp_dir)\n",
    "top_pos <- reactome_pos_mat[1:10,]\n",
    "for (row_iter in 1:10){\n",
    "    id_term <- top_pos$ID[row_iter]\n",
    "    text_term <- as.vector(top_pos$term)[row_iter]\n",
    "    print(text_term)\n",
    "    p <- gseaplot2(gsea_reactome_genescore, geneSetID = id_term,subplots = 1:3,pvalue_table = F,title=text_term)\n",
    "    # Initiate writing to PDF file\n",
    "    pdf(paste0(temp_dir,CellType,\n",
    "        \"_Enr_React_GSPlot_\",id_term,\"_pct_\",min_pct_threshold,\n",
    "            \"_logfc.thres_\",logfc.threshold,\n",
    "            \"_Ranks_gs_up.pdf\"), height = 8.5, width = 11)\n",
    "    # Create a graphical object g here\n",
    "    print(p)# print it\n",
    "    # Stop writing to the PDF file\n",
    "    dev.off()\n",
    "}"
   ]
  },
  {
   "cell_type": "code",
   "execution_count": 50,
   "metadata": {},
   "outputs": [
    {
     "name": "stdout",
     "output_type": "stream",
     "text": [
      "[1] \"Signal Transduction\"\n"
     ]
    },
    {
     "name": "stdout",
     "output_type": "stream",
     "text": [
      "[1] \"Signaling By Interleukins\"\n",
      "[1] \"Cytokine Signaling In Immune System\"\n",
      "[1] \"Interleukin-4 And Interleukin-13 Signaling\"\n",
      "[1] \"Generic Transcription Pathway\"\n",
      "[1] \"Transcriptional Regulation By MECP2\"\n",
      "[1] \"RNA Polymerase II Transcription\"\n",
      "[1] \"Syndecan Interactions\"\n",
      "[1] \"ESR-mediated Signaling\"\n",
      "[1] \"Disease\"\n"
     ]
    }
   ],
   "source": [
    "%%R -i resultdir -i CellType\n",
    "temp_dir <- paste0(resultdir,\"Top10_Downreg_Enriched_GSEAPlot/\")\n",
    "dir.create(temp_dir)\n",
    "top_neg <- reactome_neg_mat[1:10,]\n",
    "for (row_iter in 1:10){\n",
    "    id_term <- top_neg$ID[row_iter]\n",
    "    text_term <- top_neg$term[row_iter]\n",
    "    print(text_term)\n",
    "    p <- gseaplot2(gsea_reactome_genescore, geneSetID = id_term,subplots = 1:3,pvalue_table = F,title=text_term)\n",
    "    ## Initiate writing to PDF file\n",
    "    pdf(paste0(temp_dir,CellType,\n",
    "        \"_Enr_React_GSPlot_\",id_term,\"_pct_\",min_pct_threshold,\n",
    "            \"_logfc.thres_\",logfc.threshold,\n",
    "            \"_Ranks_gs_down.pdf\"), height = 8.5, width = 11)\n",
    "    ## Create a graphical object g here\n",
    "    print(p)# print it\n",
    "    ## Stop writing to the PDF file\n",
    "    dev.off()\n",
    "}"
   ]
  },
  {
   "cell_type": "code",
   "execution_count": 51,
   "metadata": {},
   "outputs": [
    {
     "data": {
      "image/png": "[encoded data removed]",
      "text/plain": [
       "<IPython.core.display.Image object>"
      ]
     },
     "metadata": {},
     "output_type": "display_data"
    }
   ],
   "source": [
    "%%R -i resultdir -i CellType\n",
    "p <- gseaplot2(gsea_reactome_genescore, geneSetID = \"R-HSA-8939246\",subplots = 1:6,pvalue_table = F)\n",
    "## Initiate writing to PDF file\n",
    "pdf(paste0(resultdir,CellType,\n",
    "       \"_GSE_RUNX1_pct_\",min_pct_threshold,\n",
    "        \"_logfc.thres_\",logfc.threshold,\n",
    "        \"_Ranks_gs.pdf\"), height = 8.5, width = 11)\n",
    "## Create a graphical object g here\n",
    "print(p)# print it\n",
    "## Stop writing to the PDF file\n",
    "dev.off()\n",
    "p"
   ]
  },
  {
   "cell_type": "code",
   "execution_count": null,
   "metadata": {},
   "outputs": [],
   "source": []
  },
  {
   "attachments": {},
   "cell_type": "markdown",
   "metadata": {},
   "source": [
    "# KEGG GSEA ONLY POSSITIVE & ONLY NEG"
   ]
  },
  {
   "cell_type": "code",
   "execution_count": 52,
   "metadata": {},
   "outputs": [],
   "source": [
    "%%R\n",
    "library(enrichplot)\n",
    "# Calculate RANKS based on genescore\n",
    "ranks_genescore_pos<- tibble::deframe( DE_Seurat_mapped %>% filter(gene.score>0) %>%  dplyr::select(entrezID , gene.score )) \n",
    "ranks_genescore_pos[1:4]\n",
    "gsea_kegg_genescore_pos <- gseKEGG(sort(ranks_genescore_pos,decreasing=T), nPerm=10000,\n",
    "                pvalueCutoff=1,minGSSize = 0,\n",
    "                pAdjustMethod=\"BH\", verbose=FALSE)\n",
    "# ==== Keep only pos enriched\n",
    "gsea_kegg_genescore_pos  <- gsea_kegg_genescore_pos %>% filter(enrichmentScore>=0)  \n",
    "readr::write_csv(as.data.frame(gsea_kegg_genescore_pos),\n",
    "        file=paste0(resultdir,CellType,\"_GSEA_KEGG_MinPct_\",min_pct_threshold,\"_Ranks_genescore_POS.csv\"))\n",
    "\n",
    "# Calculate RANKS based on genescore\n",
    "ranks_genescore_neg<- tibble::deframe( DE_Seurat_mapped %>% filter(gene.score<0) %>%  dplyr::select(entrezID , gene.score )) \n",
    "ranks_genescore_neg[1:4]\n",
    "gsea_kegg_genescore_neg <- gseKEGG(sort(ranks_genescore_neg,decreasing=T), nPerm=10000,\n",
    "                pvalueCutoff=1,minGSSize = 0,\n",
    "                pAdjustMethod=\"BH\", verbose=FALSE)\n",
    "# ==== Keep only pos enriched\n",
    "gsea_kegg_genescore_neg  <- gsea_kegg_genescore_neg %>% filter(enrichmentScore<=0)  \n",
    "readr::write_csv(as.data.frame(gsea_kegg_genescore_neg),\n",
    "        file=paste0(resultdir,CellType,\"_GSEA_KEGG_MinPct_\",min_pct_threshold,\"_Ranks_genescore_NEG.csv\"))"
   ]
  },
  {
   "cell_type": "code",
   "execution_count": 53,
   "metadata": {},
   "outputs": [],
   "source": [
    "%%R\n",
    "# ====================================== PLOTTING  POS =====================================================================\n",
    "temp_dir <- paste0(resultdir,\"Top10_Upreg_GSEA_Kegg_GSEAPlot_ONLY_POS/\")\n",
    "dir.create(temp_dir)\n",
    "for (row_iter in c(1:10)){\n",
    "    id_term <- gsea_kegg_genescore_pos$ID[row_iter]\n",
    "    text_term <- gsea_kegg_genescore_pos$Description[row_iter]\n",
    "    p <- gseaplot2(gsea_kegg_genescore_pos, geneSetID = id_term,subplots = 1:3,pvalue_table = F,title=text_term)\n",
    "    ## Initiate writing to PDF file\n",
    "    pdf(paste0(temp_dir,CellType,\n",
    "        \"_GS_KEGG_GSPlot_\",id_term,\"_pct_\",min_pct_threshold,\n",
    "            \"_logfc.thres_\",logfc.threshold,\n",
    "            \"_Ranks_gs_only_pos.pdf\"), height = 8.5, width = 11)\n",
    "    ## Create a graphical object g here\n",
    "    print(p)# print it\n",
    "    ## Stop writing to the PDF file\n",
    "    dev.off()\n",
    "}"
   ]
  },
  {
   "cell_type": "code",
   "execution_count": 54,
   "metadata": {},
   "outputs": [],
   "source": [
    "%%R\n",
    "# ====================================== PLOTTING  POS =====================================================================\n",
    "sort_filt_gsea_kegg_genescore <- gsea_kegg_genescore_pos[match(tolower(as.vector(kegg_pos_mat$term)[1:10]),tolower(gsea_kegg_genescore_pos$Description))%>% na.omit(),]\n",
    "temp_dir <- paste0(resultdir,\"Top10_Upreg_Enriched_KeggGSEAPlot_ONLY_POS/\")\n",
    "dir.create(temp_dir)\n",
    "top_pos <- sort_filt_gsea_kegg_genescore\n",
    "for (row_iter in 1:dim(sort_filt_gsea_kegg_genescore)[1]){\n",
    "    id_term <- top_pos$ID[row_iter]\n",
    "    text_term <- top_pos$Description[row_iter]\n",
    "    p <- gseaplot2(gsea_kegg_genescore_pos, geneSetID = id_term,subplots = 1:3,pvalue_table = F,title=text_term)\n",
    "    ## Initiate writing to PDF file\n",
    "    pdf(paste0(temp_dir,CellType,\n",
    "        \"_Enr_KEGG_GS_\",id_term,\"_pct_\",min_pct_threshold,\n",
    "            \"_logfc.thres_\",logfc.threshold,\n",
    "            \"_Ranks_gs_only_pos.pdf\"), height = 8.5, width = 11)\n",
    "    ## Create a graphical object g here\n",
    "    print(p)# print it\n",
    "    ## Stop writing to the PDF file\n",
    "    dev.off()\n",
    "}"
   ]
  },
  {
   "cell_type": "code",
   "execution_count": 55,
   "metadata": {},
   "outputs": [],
   "source": [
    "%%R\n",
    "# ====================================== PLOTTING  POS =====================================================================\n",
    "temp_dir <- paste0(resultdir,\"Top10_Upreg_GSEA_Kegg_GSEAPlot_ONLY_NEG/\")\n",
    "dir.create(temp_dir)\n",
    "for (row_iter in c(1:10)){\n",
    "    id_term <- gsea_kegg_genescore_neg$ID[row_iter]\n",
    "    text_term <- gsea_kegg_genescore_neg$Description[row_iter]\n",
    "    p <- gseaplot2(gsea_kegg_genescore_neg, geneSetID = id_term,subplots = 1:3,pvalue_table = F,title=text_term)\n",
    "    ## Initiate writing to PDF file\n",
    "    pdf(paste0(temp_dir,CellType,\n",
    "        \"_GS_KEGG_GSPlot_\",id_term,\"_pct_\",min_pct_threshold,\n",
    "            \"_logfc.thres_\",logfc.threshold,\n",
    "            \"_Ranks_genescore_only_neg.pdf\"), height = 8.5, width = 11)\n",
    "    ## Create a graphical object g here\n",
    "    print(p)# print it\n",
    "    ## Stop writing to the PDF file\n",
    "    dev.off()\n",
    "}"
   ]
  },
  {
   "cell_type": "code",
   "execution_count": 56,
   "metadata": {},
   "outputs": [],
   "source": [
    "%%R\n",
    "# ====================================== PLOTTING  NEG =====================================================================\n",
    "sort_filt_gsea_kegg_genescore <- gsea_kegg_genescore_neg[match(tolower(as.vector(kegg_neg_mat$term[1:10])),tolower(gsea_kegg_genescore_neg$Description))%>% na.omit(),]\n",
    "temp_dir <- paste0(resultdir,\"Top10_Downreg_Enriched_KeggGSEAPlot_ONLY_NEG/\")\n",
    "dir.create(temp_dir)\n",
    "top_neg <- sort_filt_gsea_kegg_genescore\n",
    "for (row_iter in 1:dim(sort_filt_gsea_kegg_genescore)[1]){\n",
    "    id_term <- top_neg$ID[row_iter]\n",
    "    text_term <- top_neg$Description[row_iter]\n",
    "    p <- gseaplot2(gsea_kegg_genescore_neg, geneSetID = id_term,subplots = 1:3,pvalue_table = F,title=text_term)\n",
    "    ## Initiate writing to PDF file\n",
    "    pdf(paste0(temp_dir,CellType,\n",
    "        \"_Enr_KEGG_GS_\",id_term,\"_pct_\",min_pct_threshold,\n",
    "            \"_logfc.thres_\",logfc.threshold,\n",
    "            \"_Ranks_gs_only_neg.pdf\"), height = 8.5, width = 11)\n",
    "    ## Create a graphical object g here\n",
    "    print(p)# print it\n",
    "    ## Stop writing to the PDF file\n",
    "    dev.off()\n",
    "}"
   ]
  },
  {
   "attachments": {},
   "cell_type": "markdown",
   "metadata": {},
   "source": [
    "# Reactome GSEA ONLY POSSITIVE & ONLY NEG"
   ]
  },
  {
   "cell_type": "code",
   "execution_count": null,
   "metadata": {},
   "outputs": [],
   "source": []
  },
  {
   "cell_type": "code",
   "execution_count": 57,
   "metadata": {},
   "outputs": [],
   "source": [
    "%%R\n",
    "library(ReactomePA)\n",
    "require(clusterProfiler)\n",
    "# Calculate RANKS based on genescore\n",
    "ranks_genescore_pos<- tibble::deframe( DE_Seurat_mapped %>% filter(gene.score>0) %>%  dplyr::select(entrezID , gene.score )) \n",
    "ranks_genescore_pos[1:4]\n",
    "gsea_Reactome_genescore_pos <- gsePathway(sort(ranks_genescore_pos,decreasing=T), nPerm=10000,\n",
    "                pvalueCutoff=1,minGSSize = 0,\n",
    "                pAdjustMethod=\"BH\", verbose=FALSE)\n",
    "# ==== Keep only pos enriched\n",
    "gsea_Reactome_genescore_pos  <- gsea_Reactome_genescore_pos %>% filter(enrichmentScore>=0)  \n",
    "readr::write_csv(as.data.frame(gsea_Reactome_genescore_pos),\n",
    "        file=paste0(resultdir,CellType,\"_GSEA_Reactome_MinPct_\",min_pct_threshold,\"_Ranks_genescore_POS.csv\"))\n",
    "\n",
    "# Calculate RANKS based on genescore\n",
    "ranks_genescore_neg<- tibble::deframe( DE_Seurat_mapped %>% filter(gene.score<0) %>%  dplyr::select(entrezID , gene.score )) \n",
    "ranks_genescore_neg[1:4]\n",
    "gsea_Reactome_genescore_neg <- gsePathway(sort(ranks_genescore_neg,decreasing=T), nPerm=10000,\n",
    "                pvalueCutoff=1,minGSSize = 0,\n",
    "                pAdjustMethod=\"BH\", verbose=FALSE)\n",
    "# ==== Keep only neg enriched\n",
    "gsea_Reactome_genescore_neg  <- gsea_Reactome_genescore_neg %>% filter(enrichmentScore<=0)  \n",
    "readr::write_csv(as.data.frame(gsea_Reactome_genescore_neg),\n",
    "        file=paste0(resultdir,CellType,\"_GSEA_Reactome_MinPct_\",min_pct_threshold,\"_Ranks_genescore_NEG.csv\"))"
   ]
  },
  {
   "cell_type": "code",
   "execution_count": 58,
   "metadata": {},
   "outputs": [
    {
     "name": "stdout",
     "output_type": "stream",
     "text": [
      "                         ID\n",
      "R-HSA-6803157 R-HSA-6803157\n",
      "R-HSA-2132295 R-HSA-2132295\n",
      "R-HSA-193648   R-HSA-193648\n",
      "R-HSA-198933   R-HSA-198933\n",
      "R-HSA-500792   R-HSA-500792\n",
      "R-HSA-212165   R-HSA-212165\n",
      "                                                                           Description\n",
      "R-HSA-6803157                                                   Antimicrobial peptides\n",
      "R-HSA-2132295                                        MHC class II antigen presentation\n",
      "R-HSA-193648                                           NRAGE signals death through JNK\n",
      "R-HSA-198933  Immunoregulatory interactions between a Lymphoid and a non-Lymphoid cell\n",
      "R-HSA-500792                                                       GPCR ligand binding\n",
      "R-HSA-212165                                  Epigenetic regulation of gene expression\n",
      "              setSize enrichmentScore      NES      pvalue  p.adjust    qvalue\n",
      "R-HSA-6803157       1       1.0000000 1.339097 0.000199561 0.2999401 0.2999401\n",
      "R-HSA-2132295      10       0.8573864 1.643008 0.010670572 0.9942602 0.9942602\n",
      "R-HSA-193648        6       0.8743199 1.558409 0.023699876 0.9942602 0.9942602\n",
      "R-HSA-198933       22       0.7409122 1.518534 0.019101237 0.9942602 0.9942602\n",
      "R-HSA-500792        4       0.8806954 1.468286 0.038592647 0.9942602 0.9942602\n",
      "R-HSA-212165        6       0.8229619 1.466867 0.050432439 0.9942602 0.9942602\n",
      "              rank                    leading_edge\n",
      "R-HSA-6803157    1 tags=100%, list=0%, signal=100%\n",
      "R-HSA-2132295   81   tags=50%, list=9%, signal=46%\n",
      "R-HSA-193648    34   tags=33%, list=4%, signal=32%\n",
      "R-HSA-198933   140  tags=64%, list=16%, signal=55%\n",
      "R-HSA-500792    32   tags=50%, list=4%, signal=48%\n",
      "R-HSA-212165   101  tags=50%, list=12%, signal=45%\n",
      "                                                                  core_enrichment\n",
      "R-HSA-6803157                                                               10578\n",
      "R-HSA-2132295                                             3123/972/3113/3115/1075\n",
      "R-HSA-193648                                                          10451/50650\n",
      "R-HSA-198933  10219/3824/3689/3105/8519/3107/3683/10870/9976/915/925/926/975/3134\n",
      "R-HSA-500792                                                            6351/6352\n",
      "R-HSA-212165                                                         8850/3021/60\n"
     ]
    }
   ],
   "source": [
    "%%R\n",
    "head(gsea_Reactome_genescore_pos)"
   ]
  },
  {
   "cell_type": "code",
   "execution_count": 59,
   "metadata": {},
   "outputs": [
    {
     "name": "stdout",
     "output_type": "stream",
     "text": [
      "                         ID                                        Description\n",
      "R-HSA-4419969 R-HSA-4419969             Depolymerisation of the Nuclear Lamina\n",
      "R-HSA-1474244 R-HSA-1474244                  Extracellular matrix organization\n",
      "R-HSA-5668599 R-HSA-5668599                RHO GTPases Activate NADPH Oxidases\n",
      "R-HSA-162582   R-HSA-162582                                Signal Transduction\n",
      "R-HSA-196849   R-HSA-196849 Metabolism of water-soluble vitamins and cofactors\n",
      "R-HSA-6785807 R-HSA-6785807         Interleukin-4 and Interleukin-13 signaling\n",
      "              setSize enrichmentScore       NES       pvalue  p.adjust\n",
      "R-HSA-4419969       3      -0.9947213 -1.565598 0.0001312680 0.2131793\n",
      "R-HSA-1474244      10      -0.8754071 -1.646942 0.0010409077 0.4465553\n",
      "R-HSA-5668599       3      -0.9859703 -1.551825 0.0009188763 0.4465553\n",
      "R-HSA-162582      263      -0.5496940 -1.215605 0.0010998900 0.4465553\n",
      "R-HSA-196849        7      -0.8653989 -1.555829 0.0082635642 0.5614163\n",
      "R-HSA-6785807      16      -0.7834721 -1.543892 0.0042398546 0.5614163\n",
      "                 qvalue rank                    leading_edge\n",
      "R-HSA-4419969 0.2089235    9   tags=67%, list=1%, signal=66%\n",
      "R-HSA-1474244 0.4376404  108   tags=50%, list=8%, signal=46%\n",
      "R-HSA-5668599 0.4376404    9 tags=100%, list=1%, signal=100%\n",
      "R-HSA-162582  0.4376404  315  tags=33%, list=24%, signal=32%\n",
      "R-HSA-196849  0.5502083  176  tags=86%, list=13%, signal=75%\n",
      "R-HSA-6785807 0.5502083  151  tags=56%, list=11%, signal=50%\n",
      "                                                                                                                                                                                                                                                                                                                                                                                                                                                                          core_enrichment\n",
      "R-HSA-4419969                                                                                                                                                                                                                                                                                                                                                                                                                                                                   5578/4000\n",
      "R-HSA-1474244                                                                                                                                                                                                                                                                                                                                                                                                                                                     3688/960/8573/7040/5578\n",
      "R-HSA-5668599                                                                                                                                                                                                                                                                                                                                                                                                                                                                   1432/5578\n",
      "R-HSA-162582  23112/7879/55294/5604/5048/23198/805/2241/9693/7531/8878/2773/10376/8452/8239/6500/2323/11214/10971/3183/8440/673/55619/10123/55219/5150/5576/4928/7277/23081/3727/8364/23348/9844/55824/7171/7534/5430/8556/4092/253959/84441/1843/5295/2289/6709/2776/2782/2534/3398/3337/23645/22821/23048/2869/2308/7852/4792/5151/3688/27161/5734/2625/1604/2908/55843/3725/7037/29933/5142/10383/7431/26018/7091/2354/23186/596/814/7128/7040/5500/3726/5613/4790/2353/5578/5140/6497\n",
      "R-HSA-196849                                                                                                                                                                                                                                                                                                                                                                                                                                            79668/27010/10243/6515/4363/10135\n",
      "R-HSA-6785807                                                                                                                                                                                                                                                                                                                                                                                                                                 5295/2308/3688/2625/7431/596/7040/3726/2353\n"
     ]
    }
   ],
   "source": [
    "%%R\n",
    "head(gsea_Reactome_genescore_neg)"
   ]
  },
  {
   "cell_type": "code",
   "execution_count": 60,
   "metadata": {},
   "outputs": [
    {
     "name": "stdout",
     "output_type": "stream",
     "text": [
      " [1] \"Adaptive Immune System\"                                                  \n",
      " [2] \"Immunoregulatory Interactions Between A Lymphoid And A non-Lymphoid Cell\"\n",
      " [3] \"Immune System\"                                                           \n",
      " [4] \"DAP12 Interactions\"                                                      \n",
      " [5] \"Innate Immune System\"                                                    \n",
      " [6] \"Hemostasis\"                                                              \n",
      " [7] \"DAP12 Signaling\"                                                         \n",
      " [8] \"FCERI Mediated Ca+2 Mobilization\"                                        \n",
      " [9] \"Generation Of Second Messenger Molecules\"                                \n",
      "[10] \"Interferon Gamma Signaling\"                                              \n"
     ]
    }
   ],
   "source": [
    "%%R\n",
    "as.vector(reactome_pos_mat$term)[1:10]"
   ]
  },
  {
   "cell_type": "code",
   "execution_count": 61,
   "metadata": {},
   "outputs": [
    {
     "name": "stdout",
     "output_type": "stream",
     "text": [
      " [1] \"antimicrobial peptides\"                                                  \n",
      " [2] \"mhc class ii antigen presentation\"                                       \n",
      " [3] \"nrage signals death through jnk\"                                         \n",
      " [4] \"immunoregulatory interactions between a lymphoid and a non-lymphoid cell\"\n",
      " [5] \"gpcr ligand binding\"                                                     \n",
      " [6] \"epigenetic regulation of gene expression\"                                \n",
      " [7] \"positive epigenetic regulation of rrna expression\"                       \n",
      " [8] \"b-wich complex positively regulates rrna expression\"                     \n",
      " [9] \"interferon gamma signaling\"                                              \n",
      "[10] \"pd-1 signaling\"                                                          \n"
     ]
    }
   ],
   "source": [
    "%%R\n",
    "tolower(gsea_Reactome_genescore_pos$Description)[1:10]"
   ]
  },
  {
   "cell_type": "code",
   "execution_count": 62,
   "metadata": {},
   "outputs": [
    {
     "name": "stdout",
     "output_type": "stream",
     "text": [
      " [1] \"Antimicrobial peptides\"                                                  \n",
      " [2] \"MHC class II antigen presentation\"                                       \n",
      " [3] \"NRAGE signals death through JNK\"                                         \n",
      " [4] \"Immunoregulatory interactions between a Lymphoid and a non-Lymphoid cell\"\n",
      " [5] \"GPCR ligand binding\"                                                     \n",
      " [6] \"Epigenetic regulation of gene expression\"                                \n",
      " [7] \"Positive epigenetic regulation of rRNA expression\"                       \n",
      " [8] \"B-WICH complex positively regulates rRNA expression\"                     \n",
      " [9] \"Interferon gamma signaling\"                                              \n",
      "[10] \"PD-1 signaling\"                                                          \n"
     ]
    }
   ],
   "source": [
    "%%R\n",
    "gsea_Reactome_genescore_pos$Description[1:10]"
   ]
  },
  {
   "cell_type": "code",
   "execution_count": 63,
   "metadata": {},
   "outputs": [],
   "source": [
    "%%R\n",
    "# ====================================== PLOTTING  POS =====================================================================\n",
    "temp_dir <- paste0(resultdir,\"Top10_Upreg_GSEA_Reactome_GSEAPlot_ONLY_POS/\")\n",
    "dir.create(temp_dir)\n",
    "for (row_iter in c(1:10)){\n",
    "    id_term <- gsea_Reactome_genescore_pos$ID[row_iter]\n",
    "    text_term <- gsea_Reactome_genescore_pos$Description[row_iter]\n",
    "    p <- gseaplot2(gsea_Reactome_genescore_pos, geneSetID = id_term,subplots = 1:3,pvalue_table = F,title=text_term)\n",
    "    ## Initiate writing to PDF file\n",
    "    pdf(paste0(temp_dir,CellType,\n",
    "        \"_GS_React_GSPlot_\",id_term,\"_pct_\",min_pct_threshold,\n",
    "            \"_logfc.thres_\",logfc.threshold,\n",
    "            \"_Ranks_gs_only_pos.pdf\"), height = 8.5, width = 11)\n",
    "    ## Create a graphical object g here\n",
    "    print(p)# print it\n",
    "    ## Stop writing to the PDF file\n",
    "    dev.off()\n",
    "}"
   ]
  },
  {
   "cell_type": "code",
   "execution_count": 64,
   "metadata": {},
   "outputs": [
    {
     "name": "stdout",
     "output_type": "stream",
     "text": [
      "[1] 10 11\n"
     ]
    }
   ],
   "source": [
    "%%R\n",
    "# ====================================== PLOTTING  POS =====================================================================\n",
    "sort_filt_gsea_Reactome_genescore <- gsea_Reactome_genescore_pos[match(tolower(as.vector(reactome_pos_mat$term))[1:10],tolower(gsea_Reactome_genescore_pos$Description))%>% na.omit(),]\n",
    "temp_dir <- paste0(resultdir,\"Top10_Upreg_Enriched_Reactome_GSEAPlot_ONLY_POS/\")\n",
    "dir.create(temp_dir)\n",
    "print(dim(sort_filt_gsea_Reactome_genescore))\n",
    "top_pos <- sort_filt_gsea_Reactome_genescore\n",
    "for (row_iter in 1:dim(sort_filt_gsea_Reactome_genescore)[1]){\n",
    "    id_term <- top_pos$ID[row_iter]\n",
    "    text_term <- top_pos$Description[row_iter]\n",
    "    p <- gseaplot2(gsea_Reactome_genescore_pos, geneSetID = id_term,subplots = 1:3,pvalue_table = F,title=text_term)\n",
    "    ## Initiate writing to PDF file\n",
    "    pdf(paste0(temp_dir,CellType,\n",
    "        \"_Enr_React_GSPlot_\",id_term,\"_pct_\",min_pct_threshold,\n",
    "            \"_logfc.thres_\",logfc.threshold,\n",
    "            \"_Ranks_gs_only_pos.pdf\"), height = 8.5, width = 11)\n",
    "    ## Create a graphical object g here\n",
    "    print(p)# print it\n",
    "    ## Stop writing to the PDF file\n",
    "    dev.off()\n",
    "}"
   ]
  },
  {
   "cell_type": "code",
   "execution_count": 65,
   "metadata": {},
   "outputs": [],
   "source": [
    "%%R\n",
    "# ====================================== PLOTTING  neg =====================================================================\n",
    "temp_dir <- paste0(resultdir,\"Top10_Downreg_GSEA_Reactome_GSEAPlot_ONLY_NEG/\")\n",
    "dir.create(temp_dir)\n",
    "\n",
    "for (row_iter in c(1:10)){\n",
    "    id_term <- gsea_Reactome_genescore_neg$ID[row_iter]\n",
    "    text_term <- gsea_Reactome_genescore_neg$Description[row_iter]\n",
    "    p <- gseaplot2(gsea_Reactome_genescore_neg, geneSetID = id_term,subplots = 1:3,pvalue_table = F,title=text_term)\n",
    "    ## Initiate writing to PDF file\n",
    "    pdf(paste0(temp_dir,CellType,\n",
    "        \"_GS_React_GSPlot_\",id_term,\"_pct_\",min_pct_threshold,\n",
    "            \"_logfc.thres_\",logfc.threshold,\n",
    "            \"_Ranks_gs_only_neg.pdf\"), height = 8.5, width = 11)\n",
    "    ## Create a graphical object g here\n",
    "    print(p)# print it\n",
    "    ## Stop writing to the PDF file\n",
    "    dev.off()\n",
    "}"
   ]
  },
  {
   "cell_type": "code",
   "execution_count": 66,
   "metadata": {},
   "outputs": [
    {
     "name": "stdout",
     "output_type": "stream",
     "text": [
      "[1] 10 11\n"
     ]
    }
   ],
   "source": [
    "%%R\n",
    "# ====================================== PLOTTING  NEG =====================================================================\n",
    "sort_filt_gsea_Reactome_genescore <- gsea_Reactome_genescore_neg[match(tolower(as.vector(reactome_neg_mat$term)[1:10]),tolower(gsea_Reactome_genescore_neg$Description))%>% na.omit(),]\n",
    "temp_dir <- paste0(resultdir,\"Top10_Downreg_Enriched_Reactome_GSEAPlot_ONLY_NEG/\")\n",
    "dir.create(temp_dir)\n",
    "print(dim(sort_filt_gsea_Reactome_genescore))\n",
    "\n",
    "top_neg <- sort_filt_gsea_Reactome_genescore\n",
    "for (row_iter in 1:dim(sort_filt_gsea_Reactome_genescore)[1]){\n",
    "    id_term <- top_neg$ID[row_iter]\n",
    "    text_term <- top_neg$Description[row_iter]\n",
    "    p <- gseaplot2(gsea_Reactome_genescore_neg, geneSetID = id_term,subplots = 1:3,pvalue_table = F,title=text_term)\n",
    "    ## Initiate writing to PDF file\n",
    "    pdf(paste0(temp_dir,CellType,\n",
    "        \"_Enr_React_GSPlot_\",id_term,\"_pct_\",min_pct_threshold,\n",
    "            \"_logfc.thres_\",logfc.threshold,\n",
    "            \"_Ranks_gs_only_neg.pdf\"), height = 8.5, width = 11)\n",
    "    ## Create a graphical object g here\n",
    "    print(p)# print it\n",
    "    ## Stop writing to the PDF file\n",
    "    dev.off()\n",
    "}"
   ]
  },
  {
   "cell_type": "code",
   "execution_count": null,
   "metadata": {},
   "outputs": [],
   "source": []
  },
  {
   "attachments": {},
   "cell_type": "markdown",
   "metadata": {},
   "source": [
    "# END"
   ]
  },
  {
   "cell_type": "code",
   "execution_count": 67,
   "metadata": {},
   "outputs": [
    {
     "name": "stdout",
     "output_type": "stream",
     "text": [
      "R version 4.2.2 (2022-10-31 ucrt)\n",
      "Platform: x86_64-w64-mingw32/x64 (64-bit)\n",
      "Running under: Windows 10 x64 (build 22621)\n",
      "\n",
      "Matrix products: default\n",
      "\n",
      "locale:\n",
      "[1] LC_COLLATE=English_United States.1252 \n",
      "[2] LC_CTYPE=English_United States.1252   \n",
      "[3] LC_MONETARY=English_United States.1252\n",
      "[4] LC_NUMERIC=C                          \n",
      "[5] LC_TIME=English_United States.1252    \n",
      "\n",
      "attached base packages:\n",
      "[1] stats4    tools     stats     graphics  grDevices utils     datasets \n",
      "[8] methods   base     \n",
      "\n",
      "other attached packages:\n",
      " [1] ReactomePA_1.42.0           enrichplot_1.18.4          \n",
      " [3] EnhancedVolcano_1.16.0      ggrepel_0.9.2              \n",
      " [5] clusterProfiler_4.6.2       org.Hs.eg.db_3.16.0        \n",
      " [7] AnnotationDbi_1.60.2        forcats_1.0.0              \n",
      " [9] purrr_1.0.1                 readr_2.1.3                \n",
      "[11] tidyr_1.3.0                 tibble_3.2.0               \n",
      "[13] tidyverse_1.3.2             enrichR_3.2                \n",
      "[15] DESeq2_1.38.3               dittoSeq_1.10.0            \n",
      "[17] stringr_1.5.0               scCustomize_1.1.1          \n",
      "[19] dplyr_1.1.0                 BiocParallel_1.32.5        \n",
      "[21] scry_1.10.0                 scran_1.26.2               \n",
      "[23] scDblFinder_1.12.0          scater_1.26.1              \n",
      "[25] ggplot2_3.4.1               scuttle_1.8.4              \n",
      "[27] SingleCellExperiment_1.20.1 SummarizedExperiment_1.28.0\n",
      "[29] Biobase_2.58.0              GenomicRanges_1.50.2       \n",
      "[31] GenomeInfoDb_1.34.7         IRanges_2.32.0             \n",
      "[33] S4Vectors_0.36.1            BiocGenerics_0.44.0        \n",
      "[35] MatrixGenerics_1.10.0       matrixStats_0.63.0         \n",
      "[37] conos_1.5.0                 igraph_1.3.5               \n",
      "[39] SeuratWrappers_0.3.1        rliger_1.0.0               \n",
      "[41] patchwork_1.1.2             Matrix_1.5-3               \n",
      "[43] cowplot_1.1.1               sctransform_0.3.5          \n",
      "[45] SeuratObject_4.1.3          Seurat_4.3.0               \n",
      "\n",
      "loaded via a namespace (and not attached):\n",
      "  [1] rsvd_1.0.5                ica_1.0-3                \n",
      "  [3] Rsamtools_2.14.0          foreach_1.5.2            \n",
      "  [5] lmtest_0.9-40             crayon_1.5.2             \n",
      "  [7] MASS_7.3-58.1             WriteXLS_6.4.0           \n",
      "  [9] nlme_3.1-160              backports_1.4.1          \n",
      " [11] reprex_2.0.2              GOSemSim_2.24.0          \n",
      " [13] rlang_1.1.0               XVector_0.38.0           \n",
      " [15] HDO.db_0.99.1             ROCR_1.0-11              \n",
      " [17] readxl_1.4.1              irlba_2.3.5.1            \n",
      " [19] limma_3.54.2              xgboost_1.7.3.1          \n",
      " [21] rjson_0.2.21              bit64_4.0.5              \n",
      " [23] glue_1.6.2                pheatmap_1.0.12          \n",
      " [25] parallel_4.2.2            vipor_0.4.5              \n",
      " [27] spatstat.sparse_3.0-0     DOSE_3.24.2              \n",
      " [29] spatstat.geom_3.0-3       haven_2.5.1              \n",
      " [31] tidyselect_1.2.0          fitdistrplus_1.1-8       \n",
      " [33] XML_3.99-0.13             zoo_1.8-11               \n",
      " [35] GenomicAlignments_1.34.1  xtable_1.8-4             \n",
      " [37] magrittr_2.0.3            cli_3.6.0                \n",
      " [39] zlibbioc_1.44.0           miniUI_0.1.1.1           \n",
      " [41] sp_1.5-1                  fastmatch_1.1-3          \n",
      " [43] treeio_1.22.0             shiny_1.7.4              \n",
      " [45] BiocSingular_1.14.0       clue_0.3-64              \n",
      " [47] gson_0.1.0                cluster_2.1.4            \n",
      " [49] tidygraph_1.2.2           KEGGREST_1.38.0          \n",
      " [51] ape_5.7-1                 listenv_0.9.0            \n",
      " [53] Biostrings_2.66.0         png_0.1-8                \n",
      " [55] future_1.30.0             withr_2.5.0              \n",
      " [57] bitops_1.0-7              ggforce_0.4.1            \n",
      " [59] plyr_1.8.8                cellranger_1.1.0         \n",
      " [61] dqrng_0.3.0               pillar_1.8.1             \n",
      " [63] GlobalOptions_0.1.2       cachem_1.0.6             \n",
      " [65] fs_1.6.1                  hdf5r_1.3.7              \n",
      " [67] graphite_1.44.0           GetoptLong_1.0.5         \n",
      " [69] paletteer_1.5.0           DelayedMatrixStats_1.20.0\n",
      " [71] vctrs_0.5.2               ellipsis_0.3.2           \n",
      " [73] generics_0.1.3            beeswarm_0.4.0           \n",
      " [75] munsell_0.5.0             tweenr_2.0.2             \n",
      " [77] fgsea_1.24.0              DelayedArray_0.23.2      \n",
      " [79] fastmap_1.1.0             compiler_4.2.2           \n",
      " [81] abind_1.4-5               httpuv_1.6.7             \n",
      " [83] rtracklayer_1.58.0        plotly_4.10.1            \n",
      " [85] GenomeInfoDbData_1.2.9    gridExtra_2.3            \n",
      " [87] edgeR_3.40.2              riverplot_0.10           \n",
      " [89] lattice_0.20-45           deldir_1.0-6             \n",
      " [91] snow_0.4-4                utf8_1.2.3               \n",
      " [93] later_1.3.0               jsonlite_1.8.4           \n",
      " [95] scales_1.2.1              graph_1.76.0             \n",
      " [97] ScaledMatrix_1.6.0        tidytree_0.4.2           \n",
      " [99] pbapply_1.6-0             sparseMatrixStats_1.10.0 \n",
      "[101] lazyeval_0.2.2            promises_1.2.0.1         \n",
      "[103] doParallel_1.0.17         R.utils_2.12.2           \n",
      "[105] goftest_1.2-3             spatstat.utils_3.0-1     \n",
      "[107] reticulate_1.28           textshaping_0.3.6        \n",
      "[109] statmod_1.5.0             Rtsne_0.16               \n",
      "[111] downloader_0.4            uwot_0.1.14              \n",
      "[113] survival_3.4-0            yaml_2.3.6               \n",
      "[115] systemfonts_1.0.4         htmltools_0.5.4          \n",
      "[117] memoise_2.0.1             BiocIO_1.8.0             \n",
      "[119] locfit_1.5-9.7            graphlayouts_0.8.4       \n",
      "[121] viridisLite_0.4.1         digest_0.6.31            \n",
      "[123] assertthat_0.2.1          rappdirs_0.3.3           \n",
      "[125] mime_0.12                 RSQLite_2.3.0            \n",
      "[127] yulab.utils_0.0.6         future.apply_1.10.0      \n",
      "[129] remotes_2.4.2             data.table_1.14.6        \n",
      "[131] blob_1.2.3                R.oo_1.25.0              \n",
      "[133] ragg_1.2.5                labeling_0.4.2           \n",
      "[135] splines_4.2.2             rematch2_2.1.2           \n",
      "[137] googledrive_2.0.0         RCurl_1.98-1.10          \n",
      "[139] broom_1.0.4               hms_1.1.2                \n",
      "[141] modelr_0.1.10             colorspace_2.1-0         \n",
      "[143] BiocManager_1.30.19       ggbeeswarm_0.7.1         \n",
      "[145] shape_1.4.6               aplot_0.1.10             \n",
      "[147] ggrastr_1.0.2             Rcpp_1.0.10              \n",
      "[149] mclust_6.0.0              RANN_2.6.1               \n",
      "[151] circlize_0.4.15           fansi_1.0.4              \n",
      "[153] tzdb_0.3.0                parallelly_1.33.0        \n",
      "[155] R6_2.5.1                  grid_4.2.2               \n",
      "[157] ggridges_0.5.4            lifecycle_1.0.3          \n",
      "[159] bluster_1.8.0             curl_4.3.3               \n",
      "[161] googlesheets4_1.0.1       leiden_0.4.3             \n",
      "[163] snakecase_0.11.0          qvalue_2.30.0            \n",
      "[165] RcppAnnoy_0.0.20          RColorBrewer_1.1-3       \n",
      "[167] iterators_1.0.14          spatstat.explore_3.0-5   \n",
      "[169] htmlwidgets_1.6.1         beachmat_2.14.0          \n",
      "[171] polyclip_1.10-4           shadowtext_0.1.2         \n",
      "[173] gridGraphics_0.5-1        timechange_0.2.0         \n",
      "[175] reactome.db_1.82.0        rvest_1.0.3              \n",
      "[177] ComplexHeatmap_2.14.0     globals_0.16.2           \n",
      "[179] leidenAlg_1.0.5           spatstat.random_3.0-1    \n",
      "[181] progressr_0.13.0          codetools_0.2-18         \n",
      "[183] lubridate_1.9.1           GO.db_3.16.0             \n",
      "[185] FNN_1.1.3.1               metapod_1.6.0            \n",
      "[187] dbplyr_2.3.0              R.methodsS3_1.8.2        \n",
      "[189] gtable_0.3.1              DBI_1.1.3                \n",
      "[191] ggfun_0.0.9               tensor_1.5               \n",
      "[193] httr_1.4.4                KernSmooth_2.23-20       \n",
      "[195] vroom_1.6.1               stringi_1.7.12           \n",
      "[197] reshape2_1.4.4            farver_2.1.1             \n",
      "[199] annotate_1.76.0           viridis_0.6.2            \n",
      "[201] ggtree_3.6.2              xml2_1.3.3               \n",
      "[203] sccore_1.0.3              BiocNeighbors_1.16.0     \n",
      "[205] restfulr_0.0.15           geneplotter_1.76.0       \n",
      "[207] ggplotify_0.1.0           scattermore_0.8          \n",
      "[209] bit_4.0.5                 scatterpie_0.1.9         \n",
      "[211] spatstat.data_3.0-0       ggraph_2.1.0             \n",
      "[213] janitor_2.2.0             pkgconfig_2.0.3          \n",
      "[215] gargle_1.3.0              ggprism_1.0.4            \n"
     ]
    }
   ],
   "source": [
    "%%R\n",
    "sessionInfo()"
   ]
  },
  {
   "cell_type": "code",
   "execution_count": null,
   "metadata": {},
   "outputs": [],
   "source": []
  }
 ],
 "metadata": {
  "kernelspec": {
   "display_name": "Py310",
   "language": "python",
   "name": "python3"
  },
  "language_info": {
   "codemirror_mode": {
    "name": "ipython",
    "version": 3
   },
   "file_extension": ".py",
   "mimetype": "text/x-python",
   "name": "python",
   "nbconvert_exporter": "python",
   "pygments_lexer": "ipython3",
   "version": "3.10.10"
  },
  "orig_nbformat": 4
 },
 "nbformat": 4,
 "nbformat_minor": 2
}
