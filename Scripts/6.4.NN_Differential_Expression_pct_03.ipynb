{
 "cells": [
  {
   "cell_type": "code",
   "execution_count": 1,
   "metadata": {},
   "outputs": [
    {
     "name": "stderr",
     "output_type": "stream",
     "text": [
      "c:\\Users\\kyria.000\\anaconda3\\envs\\Py310\\lib\\site-packages\\rpy2\\robjects\\packages.py:367: UserWarning: The symbol 'quartz' is not in this R namespace/package.\n",
      "  warnings.warn(\n"
     ]
    }
   ],
   "source": [
    "import anndata2ri\n",
    "import logging\n",
    "import rpy2.rinterface_lib.callbacks as rcb\n",
    "import os\n",
    "import pandas as pd\n",
    "import numpy as np\n",
    "import rpy2.robjects as ro\n",
    "import sys\n",
    "\n",
    "import scanpy as sc\n",
    "import matplotlib.pyplot as plt\n",
    "\n",
    "rcb.logger.setLevel(logging.ERROR)\n",
    "ro.pandas2ri.activate()\n",
    "anndata2ri.activate()\n",
    "\n",
    "%load_ext rpy2.ipython"
   ]
  },
  {
   "cell_type": "code",
   "execution_count": 2,
   "metadata": {},
   "outputs": [
    {
     "name": "stdout",
     "output_type": "stream",
     "text": [
      "\n",
      "    WARNING: The R package \"reticulate\" only fixed recently\n",
      "    an issue that caused a segfault when used with rpy2:\n",
      "    https://github.com/rstudio/reticulate/pull/1188\n",
      "    Make sure that you use a version of that package that includes\n",
      "    the fix.\n",
      "    -- Attaching packages --------------------------------------- tidyverse 1.3.2 --\n",
      "v tibble  3.2.0     v purrr   1.0.1\n",
      "v tidyr   1.3.0     v forcats 1.0.0\n",
      "v readr   2.1.3     \n",
      "-- Conflicts ------------------------------------------ tidyverse_conflicts() --\n",
      "x tibble::as_data_frame() masks dplyr::as_data_frame(), igraph::as_data_frame()\n",
      "x dplyr::collapse()       masks IRanges::collapse()\n",
      "x dplyr::combine()        masks Biobase::combine(), BiocGenerics::combine()\n",
      "x purrr::compose()        masks igraph::compose()\n",
      "x dplyr::count()          masks matrixStats::count()\n",
      "x tidyr::crossing()       masks igraph::crossing()\n",
      "x dplyr::desc()           masks IRanges::desc()\n",
      "x tidyr::expand()         masks S4Vectors::expand(), Matrix::expand()\n",
      "x dplyr::filter()         masks stats::filter()\n",
      "x dplyr::first()          masks S4Vectors::first()\n",
      "x dplyr::groups()         masks igraph::groups()\n",
      "x dplyr::lag()            masks stats::lag()\n",
      "x tidyr::pack()           masks Matrix::pack()\n",
      "x ggplot2::Position()     masks BiocGenerics::Position(), base::Position()\n",
      "x purrr::reduce()         masks GenomicRanges::reduce(), IRanges::reduce()\n",
      "x dplyr::rename()         masks S4Vectors::rename()\n",
      "x purrr::simplify()       masks igraph::simplify()\n",
      "x dplyr::slice()          masks IRanges::slice()\n",
      "x tidyr::unpack()         masks Matrix::unpack()\n"
     ]
    }
   ],
   "source": [
    "%%R\n",
    "options(future.globals.maxSize = 1000000 * 1024^2)\n",
    "set.seed(2422012)\n",
    "\n",
    "# Single cell libraries\n",
    "library(Seurat)\n",
    "library(sctransform)\n",
    "library(rliger)\n",
    "library(SeuratWrappers)\n",
    "library(conos)\n",
    "library(scater)\n",
    "library(scDblFinder)\n",
    "library(scran)\n",
    "library(sctransform)\n",
    "library(scry)\n",
    "\n",
    "# Rest libraries\n",
    "library(BiocParallel)\n",
    "library(ggplot2)\n",
    "library(dplyr)\n",
    "library(cowplot)\n",
    "\n",
    "library(scCustomize)\n",
    "library(stringr)\n",
    "library(dittoSeq)\n",
    "library(DESeq2)\n",
    "library(enrichR)\n",
    "\n",
    "library(tidyverse)\n",
    "library(org.Hs.eg.db)\n",
    "library(clusterProfiler)"
   ]
  },
  {
   "cell_type": "code",
   "execution_count": 3,
   "metadata": {},
   "outputs": [],
   "source": [
    "CellType=\"CCR7mCD45ROm\"\n",
    "title_plot = \"CD45RO-CCR7-\""
   ]
  },
  {
   "cell_type": "code",
   "execution_count": 4,
   "metadata": {},
   "outputs": [],
   "source": [
    "projectdir = \"C:/Users/kyria.000/Documents/PhD/Projects/Feng2023/CoPImmunoPD/\"\n",
    "datadir = projectdir + \"Data/\"\n",
    "objtdir = projectdir + \"Result/Differnetial_Expression_pct_03/\"\n",
    "\n",
    "resultdir = projectdir + \"Result/Differnetial_Expression_pct_03/\"+CellType+\"/\"\n",
    "adata_file = 'AnnData_Integrated.h5ad'\n"
   ]
  },
  {
   "cell_type": "code",
   "execution_count": 5,
   "metadata": {},
   "outputs": [],
   "source": [
    "%%R -i projectdir\n",
    "setwd(projectdir)"
   ]
  },
  {
   "cell_type": "code",
   "execution_count": 6,
   "metadata": {},
   "outputs": [],
   "source": [
    "%%R -i objtdir -i resultdir -i projectdir\n",
    "# setwd(projectdir)\n",
    "dir.create(objtdir)\n",
    "dir.create(resultdir)\n",
    "Subbbb <- readRDS(paste0(projectdir,\"Subset_raarranged.rds\"))"
   ]
  },
  {
   "cell_type": "code",
   "execution_count": 7,
   "metadata": {},
   "outputs": [
    {
     "data": {
      "image/png": "[encoded data removed]",
      "text/plain": [
       "<IPython.core.display.Image object>"
      ]
     },
     "metadata": {},
     "output_type": "display_data"
    }
   ],
   "source": [
    "%%R -i resultdir -i projectdir\n",
    "DimPlot(Subbbb,group.by=\"CellType\",cols=c(dittoColors(1)[seq_len(4)]))"
   ]
  },
  {
   "cell_type": "code",
   "execution_count": 8,
   "metadata": {},
   "outputs": [],
   "source": [
    "%%R\n",
    "DefaultAssay(Subbbb) <- \"SCT\"\n",
    "# ====== Find markers parameters  ==============\n",
    "min_pct_threshold = 0.3\n",
    "# ====== Go enrichment parameters ==============\n",
    "logfc.threshold <- 0.25\n",
    "p.val.cutoff <- 0.05\n",
    "max.genes <- 500\n"
   ]
  },
  {
   "attachments": {},
   "cell_type": "markdown",
   "metadata": {},
   "source": [
    "# Subset different CD8 T cells"
   ]
  },
  {
   "cell_type": "code",
   "execution_count": 9,
   "metadata": {},
   "outputs": [],
   "source": [
    "%%R -i CellType\n",
    "# ====================== CCR7mCD45ROp ================================\n",
    "Seurat = subset(Subbbb, idents = CellType)\n",
    "Seurat<- SetIdent(Seurat , value = \"Condition\")\n",
    "Seurat <- PrepSCTFindMarkers(Seurat)"
   ]
  },
  {
   "cell_type": "code",
   "execution_count": 10,
   "metadata": {},
   "outputs": [
    {
     "data": {
      "image/png": "[encoded data removed]",
      "text/plain": [
       "<IPython.core.display.Image object>"
      ]
     },
     "metadata": {},
     "output_type": "display_data"
    }
   ],
   "source": [
    "%%R\n",
    "DimPlot(Seurat,group.by=\"CellType\")"
   ]
  },
  {
   "attachments": {},
   "cell_type": "markdown",
   "metadata": {},
   "source": [
    "# Create Average Expression"
   ]
  },
  {
   "cell_type": "code",
   "execution_count": 11,
   "metadata": {},
   "outputs": [],
   "source": [
    "%%R\n",
    "source(paste0(projectdir,\"Functions.R\"))"
   ]
  },
  {
   "cell_type": "code",
   "execution_count": 12,
   "metadata": {},
   "outputs": [],
   "source": [
    "%%R -i resultdir -i CellType\n",
    "Idents(Seurat) <- \"Condition\"\n",
    "Average_Seurat <- AverageExpression(Seurat,return.seurat=T)\n",
    "Average_Seurat_norm <- as.data.frame(Average_Seurat@assays$SCT@data)\n",
    "rownames(Average_Seurat_norm) <- rownames(Average_Seurat)\n",
    "colnames(Average_Seurat_norm)<- paste0(rownames(Average_Seurat@meta.data),\"_norm\")\n",
    "Average_Seurat_counts <- as.data.frame(Average_Seurat@assays$RNA@data)\n",
    "rownames(Average_Seurat_counts) <- rownames(Average_Seurat)\n",
    "colnames(Average_Seurat_counts)<- paste0(rownames(Average_Seurat@meta.data),\"_counts\")\n",
    "Average_Seurat <- as.data.frame(cbind(Average_Seurat_counts,Average_Seurat_norm))\n",
    "write.csv(Average_Seurat,paste0(resultdir,\"Average_\",CellType,\".csv\"))\n"
   ]
  },
  {
   "attachments": {},
   "cell_type": "markdown",
   "metadata": {},
   "source": [
    "# Differential Expression"
   ]
  },
  {
   "cell_type": "code",
   "execution_count": 13,
   "metadata": {},
   "outputs": [
    {
     "name": "stdout",
     "output_type": "stream",
     "text": [
      "  |                                                  | 0 % ~calculating   |+                                                 | 1 % ~01m 17s       |++                                                | 2 % ~01m 15s       |++                                                | 3 % ~01m 12s       |+++                                               | 4 % ~01m 09s       |+++                                               | 5 % ~01m 06s       |++++                                              | 6 % ~01m 05s       |++++                                              | 7 % ~01m 05s       |+++++                                             | 8 % ~01m 04s       |+++++                                             | 9 % ~01m 03s       |++++++                                            | 10% ~01m 02s       |++++++                                            | 11% ~01m 01s       |+++++++                                           | 12% ~60s           |+++++++                                           | 13% ~59s           |++++++++                                          | 14% ~58s           |++++++++                                          | 15% ~57s           |+++++++++                                         | 16% ~56s           |+++++++++                                         | 17% ~55s           |++++++++++                                        | 18% ~54s           |++++++++++                                        | 19% ~54s           |+++++++++++                                       | 20% ~53s           |+++++++++++                                       | 21% ~52s           |++++++++++++                                      | 22% ~51s           |++++++++++++                                      | 23% ~50s           |+++++++++++++                                     | 24% ~50s           |+++++++++++++                                     | 26% ~49s           |++++++++++++++                                    | 27% ~48s           |++++++++++++++                                    | 28% ~47s           |+++++++++++++++                                   | 29% ~47s           |+++++++++++++++                                   | 30% ~46s           |++++++++++++++++                                  | 31% ~45s           |++++++++++++++++                                  | 32% ~44s           |+++++++++++++++++                                 | 33% ~44s           |+++++++++++++++++                                 | 34% ~43s           |++++++++++++++++++                                | 35% ~42s           |++++++++++++++++++                                | 36% ~42s           |+++++++++++++++++++                               | 37% ~41s           |+++++++++++++++++++                               | 38% ~40s           |++++++++++++++++++++                              | 39% ~39s           |++++++++++++++++++++                              | 40% ~39s           |+++++++++++++++++++++                             | 41% ~38s           |+++++++++++++++++++++                             | 42% ~37s           |++++++++++++++++++++++                            | 43% ~37s           |++++++++++++++++++++++                            | 44% ~36s           |+++++++++++++++++++++++                           | 45% ~35s           |+++++++++++++++++++++++                           | 46% ~35s           |++++++++++++++++++++++++                          | 47% ~34s           |++++++++++++++++++++++++                          | 48% ~33s           |+++++++++++++++++++++++++                         | 49% ~33s           |+++++++++++++++++++++++++                         | 50% ~32s           |++++++++++++++++++++++++++                        | 51% ~31s           |+++++++++++++++++++++++++++                       | 52% ~31s           |+++++++++++++++++++++++++++                       | 53% ~30s           |++++++++++++++++++++++++++++                      | 54% ~29s           |++++++++++++++++++++++++++++                      | 55% ~29s           |+++++++++++++++++++++++++++++                     | 56% ~28s           |+++++++++++++++++++++++++++++                     | 57% ~27s           |++++++++++++++++++++++++++++++                    | 58% ~27s           |++++++++++++++++++++++++++++++                    | 59% ~26s           |+++++++++++++++++++++++++++++++                   | 60% ~25s           |+++++++++++++++++++++++++++++++                   | 61% ~25s           |++++++++++++++++++++++++++++++++                  | 62% ~24s           |++++++++++++++++++++++++++++++++                  | 63% ~23s           |+++++++++++++++++++++++++++++++++                 | 64% ~23s           |+++++++++++++++++++++++++++++++++                 | 65% ~22s           |++++++++++++++++++++++++++++++++++                | 66% ~21s           |++++++++++++++++++++++++++++++++++                | 67% ~21s           |+++++++++++++++++++++++++++++++++++               | 68% ~20s           |+++++++++++++++++++++++++++++++++++               | 69% ~20s           |++++++++++++++++++++++++++++++++++++              | 70% ~19s           |++++++++++++++++++++++++++++++++++++              | 71% ~18s           |+++++++++++++++++++++++++++++++++++++             | 72% ~18s           |+++++++++++++++++++++++++++++++++++++             | 73% ~17s           |++++++++++++++++++++++++++++++++++++++            | 74% ~16s           |++++++++++++++++++++++++++++++++++++++            | 76% ~16s           |+++++++++++++++++++++++++++++++++++++++           | 77% ~15s           |+++++++++++++++++++++++++++++++++++++++           | 78% ~14s           |++++++++++++++++++++++++++++++++++++++++          | 79% ~14s           |++++++++++++++++++++++++++++++++++++++++          | 80% ~13s           |+++++++++++++++++++++++++++++++++++++++++         | 81% ~12s           |+++++++++++++++++++++++++++++++++++++++++         | 82% ~12s           |++++++++++++++++++++++++++++++++++++++++++        | 83% ~11s           |++++++++++++++++++++++++++++++++++++++++++        | 84% ~10s           |+++++++++++++++++++++++++++++++++++++++++++       | 85% ~10s           |+++++++++++++++++++++++++++++++++++++++++++       | 86% ~09s           |++++++++++++++++++++++++++++++++++++++++++++      | 87% ~08s           |++++++++++++++++++++++++++++++++++++++++++++      | 88% ~08s           |+++++++++++++++++++++++++++++++++++++++++++++     | 89% ~07s           |+++++++++++++++++++++++++++++++++++++++++++++     | 90% ~07s           |++++++++++++++++++++++++++++++++++++++++++++++    | 91% ~06s           |++++++++++++++++++++++++++++++++++++++++++++++    | 92% ~05s           |+++++++++++++++++++++++++++++++++++++++++++++++   | 93% ~05s           |+++++++++++++++++++++++++++++++++++++++++++++++   | 94% ~04s           |++++++++++++++++++++++++++++++++++++++++++++++++  | 95% ~03s           |++++++++++++++++++++++++++++++++++++++++++++++++  | 96% ~03s           |+++++++++++++++++++++++++++++++++++++++++++++++++ | 97% ~02s           |+++++++++++++++++++++++++++++++++++++++++++++++++ | 98% ~01s           |++++++++++++++++++++++++++++++++++++++++++++++++++| 99% ~01s           |++++++++++++++++++++++++++++++++++++++++++++++++++| 100% elapsed=01m 03s\n"
     ]
    }
   ],
   "source": [
    "%%R\n",
    "DE_Seurat_original <-  FindMarkers(Seurat,ident.1=\"PD\",ident.2=\"HC\",\n",
    "    min.pct = min_pct_threshold,\n",
    "    logfc.threshold = 0\n",
    "    )"
   ]
  },
  {
   "cell_type": "code",
   "execution_count": 14,
   "metadata": {},
   "outputs": [],
   "source": [
    "%%R\n",
    "source(\"Functions.R\")\n",
    "DE_Seurat <- DE_Seurat_original\n",
    "DE_Seurat$gene <-  rownames(DE_Seurat)\n",
    "DE_Seurat  <- gene_score_calc(DE_Seurat)\n"
   ]
  },
  {
   "attachments": {},
   "cell_type": "markdown",
   "metadata": {},
   "source": [
    "# ADD ENSEMBL IDs"
   ]
  },
  {
   "cell_type": "code",
   "execution_count": 15,
   "metadata": {},
   "outputs": [
    {
     "name": "stdout",
     "output_type": "stream",
     "text": [
      "Rows: 36601 Columns: 3\n",
      "-- Column specification --------------------------------------------------------\n",
      "Delimiter: \"\\t\"\n",
      "chr (3): X1, X2, X3\n",
      "\n",
      "i Use `spec()` to retrieve the full column specification for this data.\n",
      "i Specify the column types or set `show_col_types = FALSE` to quiet this message.\n",
      "             gene     tstat gene.score p_val p_val_adj diff.pct\n",
      "CNOT6L     CNOT6L -320.0000   -1.36618     0         0   -0.165\n",
      "SAMSN1     SAMSN1 -301.4853   -3.50395     0         0   -0.397\n",
      "PPP1R16B PPP1R16B -261.2456   -1.36446     0         0   -0.281\n",
      "GNLY         GNLY  220.5115    2.61484     0         0    0.331\n",
      "P2RY8       P2RY8 -184.9007   -1.26162     0         0   -0.264\n",
      "         enrichment.ratio pct.1 pct.2 avg_log2FC cluster gene.name\n",
      "CNOT6L            1.20886 0.790 0.955   -1.13014      HC    CNOT6L\n",
      "SAMSN1            4.28096 0.121 0.518   -0.81850      HC    SAMSN1\n",
      "PPP1R16B          1.45249 0.621 0.902   -0.93939      HC  PPP1R16B\n",
      "GNLY              1.86649 0.713 0.382    1.40094      PD      GNLY\n",
      "P2RY8             1.44898 0.588 0.852   -0.87070      HC     P2RY8\n",
      "              ensembl.id\n",
      "CNOT6L   ENSG00000138767\n",
      "SAMSN1   ENSG00000155307\n",
      "PPP1R16B ENSG00000101445\n",
      "GNLY     ENSG00000115523\n",
      "P2RY8    ENSG00000182162\n"
     ]
    }
   ],
   "source": [
    "%%R -i projectdir\n",
    "gene_names <- as.data.frame(readr::read_tsv(paste0(projectdir,\"features.tsv\"),col_names =F))\n",
    "colnames(gene_names) <- c(\"ensembl.id\",\"gene.name\",\"Type\")\n",
    "DE_Seurat$gene.name <- DE_Seurat$gene\n",
    "\n",
    "\n",
    "remain_ensembl.id <- gene_names[gene_names$gene.name %in% DE_Seurat$gene.name,]\n",
    "doublicated_gene <- duplicated(remain_ensembl.id$gene.name)\n",
    "remain_ensembl.id2 <- remain_ensembl.id[!doublicated_gene,]\n",
    "rownames(remain_ensembl.id2) <- remain_ensembl.id2$gene.name\n",
    "DE_Seurat$ensembl.id <- remain_ensembl.id2[DE_Seurat$gene.name,\"ensembl.id\"]\n",
    "print(DE_Seurat[1:5,])\n"
   ]
  },
  {
   "attachments": {},
   "cell_type": "markdown",
   "metadata": {},
   "source": [
    "# ADD ENTREZ IDs"
   ]
  },
  {
   "cell_type": "code",
   "execution_count": 16,
   "metadata": {},
   "outputs": [
    {
     "name": "stdout",
     "output_type": "stream",
     "text": [
      "\n",
      "FALSE  TRUE \n",
      " 2611    16 \n"
     ]
    }
   ],
   "source": [
    "%%R\n",
    "source(\"Functions.R\")\n",
    "rownames(DE_Seurat) <- DE_Seurat$gene.name\n",
    "geneIDs <- DE_Seurat[,c(\"gene.name\",\"ensembl.id\")]\n",
    "DE_Seurat_mapped <- entrezMapper(DEGenes=DE_Seurat, geneIDs=geneIDs, species=\"hsa\")\n"
   ]
  },
  {
   "cell_type": "code",
   "execution_count": 17,
   "metadata": {},
   "outputs": [
    {
     "name": "stdout",
     "output_type": "stream",
     "text": [
      "[1] 2611   14\n",
      "[1] 2627   14\n"
     ]
    }
   ],
   "source": [
    "%%R\n",
    "cleanDEGenes <- DE_Seurat_mapped[!is.na(DE_Seurat_mapped$entrezID),]\n",
    "print(dim(cleanDEGenes))\n",
    "print(dim(DE_Seurat_mapped))"
   ]
  },
  {
   "cell_type": "code",
   "execution_count": 18,
   "metadata": {},
   "outputs": [
    {
     "name": "stdout",
     "output_type": "stream",
     "text": [
      "             gene     tstat gene.score p_val p_val_adj diff.pct\n",
      "GNLY         GNLY 220.51154    2.61484     0         0    0.331\n",
      "THEMIS     THEMIS  93.63955    1.14083     0         0    0.171\n",
      "HLA-DRB1 HLA-DRB1  80.99487    1.08137     0         0    0.172\n",
      "CD74         CD74 107.18943    1.05197     0         0    0.099\n",
      "ST6GAL1   ST6GAL1  90.07631    1.00078     0         0    0.191\n",
      "         enrichment.ratio pct.1 pct.2 avg_log2FC cluster gene.name\n",
      "GNLY              1.86649 0.713 0.382    1.40094      PD      GNLY\n",
      "THEMIS            1.34969 0.660 0.489    0.84525      PD    THEMIS\n",
      "HLA-DRB1          1.46612 0.541 0.369    0.73757"
     ]
    },
    {
     "name": "stdout",
     "output_type": "stream",
     "text": [
      "      PD  HLA-DRB1\n",
      "CD74              1.15789 0.726 0.627    0.90852      PD      CD74\n",
      "ST6GAL1           1.43212 0.633 0.442    0.69881      PD   ST6GAL1\n",
      "              ensembl.id entrezID\n",
      "GNLY     ENSG00000115523    10578\n",
      "THEMIS   ENSG00000172673   387357\n",
      "HLA-DRB1 ENSG00000196126     3123\n",
      "CD74     ENSG00000019582      972\n",
      "ST6GAL1  ENSG00000073849     6480\n"
     ]
    }
   ],
   "source": [
    "%%R\n",
    "DE_Seurat_signif <- cleanDEGenes %>%\n",
    "  filter(abs(avg_log2FC)>0.25 &  p_val_adj <0.05) %>%\n",
    "  arrange(desc(gene.score))\n",
    "DE_Seurat_signif[1:5,]"
   ]
  },
  {
   "cell_type": "code",
   "execution_count": 19,
   "metadata": {},
   "outputs": [],
   "source": [
    "%%R -i CellType\n",
    "Average_subset_ordered <- Average_Seurat[DE_Seurat$gene,]\n",
    "DE_Seurat <- as.data.frame(cbind(DE_Seurat,Average_subset_ordered))\n",
    "DE_Seurat <- DE_Seurat[order(DE_Seurat$gene.score,decreasing=T),]\n",
    "readr::write_csv(DE_Seurat,\n",
    "    file=paste0(resultdir,CellType,\"DEG_MinPct_\",min_pct_threshold,\".csv\"))\n"
   ]
  },
  {
   "cell_type": "code",
   "execution_count": 24,
   "metadata": {},
   "outputs": [
    {
     "name": "stdout",
     "output_type": "stream",
     "text": [
      "   [1] 1 1 1 1 1 1 1 1 1 1 1 1 1 1 1 1 1 1 1 1 1 1 1 1 1 1 1 1 1 1 1 1 1 1 1 1 1\n",
      "  [38] 1 1 1 1 1 1 1 1 1 1 1 1 1 1 1 1 1 1 1 1 1 1 1 1 1 1 1 1 1 1 1 1 1 1 1 1 1\n",
      "  [75] 1 1 1 1 1 1 1 1 1 1 1 1 1 1 1 1 1 1 1 1 1 1 1 1 1 1 1 1 1 1 1 1 1 1 1 1 1\n",
      " [112] 1 1 1 1 1 1 1 1 1 1 1 1 1 1 1 1 1 1 1 1 1 1 1 1 1 1 1 1 1 1 1 1 1 1 1 1 1\n",
      " [149] 1 1 1 1 1 1 1 1 1 1 1 1 1 1 1 1 1 1 1 1 1 1 1 1 1 1 1 1 1 1 1 1 1 1 1 1 1\n",
      " [186] 1 1 1 1 1 1 1 1 1 1 1 1 1 1 1 1 1 1 1 1 1 1 1 1 1 1 1 1 1 1 1 1 1 1 1 1 1\n",
      " [223] 1 1 1 1 1 1 1 1 1 1 1 1 1 1 1 1 1 1 1 1 1 1 1 1 1 1 1 1 1 1 1 1 1 1 1 1 1\n",
      " [260] 1 1 1 1 1 1 1 1 1 1 1 1 1 1 1 1 1 1 1 1 1 1 1 1 1 1 1 1 1 1 1 1 1 1 1 1 1\n",
      " [297] 1 1 1 1 1 1 1 1 1 1 1 1 1 1 1 1 1 1 1 1 1 1 1 1 1 1 1 1 1 1 1 1 1 1 1 1 1\n",
      " [334] 1 1 1 1 1 1 1 1 1 1 1 1 1 1 1 1 1 1 1 1 1 1 1 1 1 1 1 1 1 1 1 1 1 1 1 1 1\n",
      " [371] 1 1 1 1 1 1 1 1 1 1 1 1 1 1 1 1 1 1 1 1 1 1 1 1 1 1 1 1 1 1 1 1 1 1 1 1 1\n",
      " [408] 1 1 1 1 1 1 1 1 1 1 1 1 1 1 1 1 1 1 1 1 1 1 1 1 1 1 1 1 1 1 1 1 1 1 1 1 1\n",
      " [445] 1 1 1 1 1 1 1 1 1 1 1 1 1 1 1 1 1 1 1 1 1 1 1 1 1 1 1 1 1 1 1 1 1 1 1 1 1\n",
      " [482] 1 1 1 1 1 1 1 1 1 1 1 1 1 1 1 1 1 1 1 1 1 1 1 1 1 1 1 1 1 1 1 1 1 1 1 1 1\n",
      " [519] 1 1 1 1 1 1 1 1 1 1 1 1 1 1 1 1 1 1 1 1 1 1 1 1 1 1 1 1 1 1 1 1 1 1 1 1 1\n",
      " [556] 1 1 1 1 1 1 1 1 1 1 1 1 1 1 1 1 1 1 1 1 1 1 1 1 1 1 1 1 1 1 1 1 1 1 1 1 1\n",
      " [593] 1 1 1 1 1 1 1 1 1 1 1 1 1 1 1 1 1 1 1 1 1 1 1 1 1 1 1 1 1 1 1 1 1 1 1 1 1\n",
      " [630] 1 1 1 1 1 1 1 1 1 1 1 1 1 1 1 1 1 1 1 1 1 1 1 1 1 1 1 1 1 1 1 1 1 1 1 1 1\n",
      " [667] 1 1 1 1 1 1 1 1 1 1 1 1 1 1 1 1 1 1 1 1 1 1 1 1 1 1 1 1 1 1 1 1 1 1 1 1 1\n",
      " [704] 1 1 1 1 1 1 1 1 1 1 1 1 1 1 1 1 1 1 1 1 1 1 1 1 1 1 1 1 1 1 1 1 1 1 1 1 1\n",
      " [741] 1 1 1 1 1 1 1 1 1 1 1 1 1 1 1 1 1 1 1 1 1 1 1 1 1 1 1 1 1 1 1 1 1 1 1 1 1\n",
      " [778] 1 1 1 1 1 1 1 1 1 1 1 1 1 1 1 1 1 1 1 1 1 1 1 1 1 1 1 1 1 1 1 1 1 1 1 1 1\n",
      " [815] 1 1 1 1 1 1 1 1 1 1 1 1 1 1 1 1 1 1 1 1 1 1 1 1 1 1 1 1 1 1 1 1 1 1 1 1 1\n",
      " [852] 1 1 1 1 1 1 1 1 1 1 1 1 1 1 1 1 1 1 1 1 1 1 1 1 1 1 1 1 1 1 1 1 1 1 1 1 1\n",
      " [889] 1 1 1 1 1 1 1 1 1 1 1 1 1 1 1 1 1 1 1 1 1 1 1 1 1 1 1 1 1 1 1 1 1 1 1 1 1\n",
      " [926] 1 1 1 1 1 1 1 1 1 1 1 1 1 1 1 1 1 1 1 1 1 1 1 1 1 1 1 1 1 1 1 1 1 1 1 1 1\n",
      " [963] 1 1 1 1 1 1 1 1 1 1 1 1 1 1 1 1 1 1 1 1 1 1 1 1 1 1 1 1 1 1 1 1 1 1 1 1 1\n",
      "[1000] 1 1 1 1 1 1 1 1 1 1 1 1 1 1 1 1 1 1 1 1 1 1 1 1 1 1 1 1 1 1 1 1 1 1 1 1 1\n",
      "[1037] 1 1 1 1 1 1 1 1 1 1 1 1 1 1 1 1 1 1 1 1 1 1 1 1 1 1 1 6 6 6 6 6 6 6 6 6 6\n",
      "[1074] 6 6 6 6 6 6 6 6 6 6 6 6 6 6 6 6 6 6 6 6 6 6 6 6 6 6 6 6 6 6 6 6 6 6 6 6 6\n",
      "[1111] 6 6 6 6 6 6 6 6 6 6 6 6 6 6 6 6 6 6 6 6 6 6 6 6 6 6 6 6 6 6 6 6 6 6 6 6 6\n",
      "[1148] 6 6 6 6 6 6 6 6 6 6 6 6 6 6 6 6 6 6 6 6 6 6 6 6 6 6 6 6 6 6 6 6 6 6 6 6 6\n",
      "[1185] 6 6 6 6 6 6 6 6 6 6 6 6 6 6 6 6 6 6 6 6 6 6 6 6 6 6 6 6 6 6 6 6 6 6 6 6 6\n",
      "[1222] 6 6 6 6 6 6 6 6 6 6 6 6 6 6 6 6 6 6 6 6 6 6 6 6 6 6 6 6 6 6 6 6 6 6 6 6 6\n",
      "[1259] 6 6 6 6 6 6 6 6 6 6 6 6 6 6 6 6 6 6 6 6 6 6 6 6 6 6 6 6 6 6 6 6 6 6 6 6 6\n",
      "[1296] 6 6 6 6 6 6 6 6 6 6 6 6 6 6 6 6 6 6 6 6 6 6 6 6 6 6 6 6 6 6 6 6 6 6 6 6 6\n",
      "[1333] 6 6 6 6 6 6 6 6 6 6 6 6 6 6 6 6 6 6 6 6 6 6 6 6 6 6 6 6 6 6 6 6 6 6 6 6 6\n",
      "[1370] 6 6 6 6 6 6 6 6 6 6 6 6 6 6 6 6 6 6 6 6 6 6 6 6 6 6 6 6 6 6 6 6 6 6 6 6 6\n",
      "[1407] 6 6 6 6 6 6 6 6 6 6 6 6 6 6 6 6 6 6 6 6 6 6 6 6 6 6 6 6 6 6 6 6 6 6 6 6 6\n",
      "[1444] 6 6 6 6 6 6 6 6 6 6 6 6 6 6 6 6 6 6 6 6 6 6 6 6 6 6 6 6 6 6 6 6 6 6 6 6 6\n",
      "[1481] 6 6 6 6 6 6 6 6 6 6 6 6 6 6 6 6 6 6 6 6 6 6 6 6 6 6 6 6 6 6 6 6 6 6 6 6 6\n",
      "[1518] 6 6 6 6 6 6 6 6 6 6 6 6 6 6 6 6 6 6 6 6 6 6 6 6 6 6 6 6 6 6 6 6 6 6 6 6 6\n",
      "[1555] 6 6 6 6 6 6 6 6 6 6 6 6 6 6 6 6 6 6 6 6 6 6 6 6 6 6 6 6 6 6 6 6 6 6 6 6 6\n",
      "[1592] 6 6 6 6 6 6 6 6 6 6 6 6 6 6 6 6 6 6 6 6 6 6 6 6 6 6 6 6 6 6 6 6 6 6 6 6 6\n",
      "[1629] 6 6 6 6 6 6 6 6 6 6 6 6 6 6 6 6 6 6 6 6 6 6 6 6 6 6 6 6 6 6 6 6 6 6 6 6 6\n",
      "[1666] 6 6 6 6 6 6 6 6 6 6 6 6 6 6 6 6 6 6 6 6 6 6 6 6 6 6 6 6 6 6 6 6 6 6 6 6 6\n",
      "[1703] 6 6 6 6 6 6 6 6 6 6 6 6 6 6 6 6 6 6 6 6 6 6 6 6 6 6 6 6 6 6 6 6 6 6 6 6 6\n",
      "[1740] 6 6 6 6 6 6 6 6 6 6 6 6 6 6 6 6 6 6 6 6 6 6 6 6 6 6 6 6 6 6 6 6 6 6 6 6 6\n",
      "[1777] 6 6 6 6 6 6 6 6 6 6 6 6 6 6 6 6 6 6 6 6 6 6 6 6 6 6 6 6 6 6 6 6 6 6 6 6 6\n",
      "[1814] 6 6 6 6 6 6 6 6 6 6 6 6 6 6 6 6 6 6 6 6 6 6 6 6 6 6 6 6 6 6 6 6 6 6 6 6 6\n",
      "[1851] 6 6 6 6 6 6 6 6 6 6 6 6 6 6 6 6 6 6 6 6 6 6 6 6 6 6 6 6 6 6 6 6 6 6 6 6 6\n",
      "[1888] 6 6 6 6 6 6 6 6 6 6 6 6 6 6 6 6 6 6 6 6 6 6 6 6 6 6 6 6 6 6 6 6 6 6 6 6 6\n",
      "[1925] 6 6 6 6 6 6 6 6 6 6 6 6 6 6 6 6 6 6 6 6 6 6 6 6 6 6 6 6 6 6 6 6 6 6 6 6 6\n",
      "[1962] 6 6 6 6 6 6 6 6 6 6 6 6 6 6 6 6 6 6 6 6 6 6 6 6 6 6 6 6 6 6 6 6 6 6 6 6 6\n",
      "[1999] 6 6 6 6 6 6 6 6 6 6 6 6 6 6 6 6 6 6 6 6 6 6 6 6 6 6 6 6 6 6 6 6 6 6 6 6 6\n",
      "[2036] 6 6 6 6 6 6 6 6 6 6 6 6 6 6 6 6 6 6 6 6 6 6 6 6 6 6 6 6 6 6 6 6 6 6 6 6 6\n",
      "[2073] 6 6 6 6 6 6 6 6 6 6 6 6 6 6 6 6 6 6 6 6 6 6 6 6 6 6 6 6 6 6 6 6 6 6 6 6 6\n",
      "[2110] 6 6 6 6 6 6 6 6 6 6 6 6 6 6 6 6 6 6 6 6 6 6 6 6 6 6 6 6 6 6 6 6 6 6 6 6 6\n",
      "[2147] 6 6 6 6 6 6 6 6 6 6 6 6 6 6 6 6 6 6 6 6 6 6 6 6 6 6 6 6 6 6 6 6 6 6 6 6 6\n",
      "[2184] 6 6 6 6 6 6 6 6 6 6 6 6 6 6 6 6 6 6 6 6 6 6 6 6 6 6 6 6 6 6 6 6 6 6 6 6 6\n",
      "[2221] 6 6 6 6 6 6 6 6 6 6 6 6 6 6 6 6 6 6 6 6 6 6 6 6 6 6 6 6 6 6 6 6 6 6 6 6 6\n",
      "[2258] 6 6 6 6 6 6 6 6 6 6 6 6 6 6 6 6 6 6 6 6 6 6 6 6 6 6 6 6 6 6 6 6 6 6 6 6 6\n",
      "[2295] 6 6 6 6 6 6 6 6 6 6 6 6 6 6 6 6 6 6 6 6 6 6 6 6 6 6 6 6 6 6 6 6 6 6 6 6 6\n",
      "[2332] 6 6 6 6 6 6 6 6 6 6 6 6 6 6 6 6 6 6 6 6 6 6 6 6 6 6 6 6 6 6 6 6 6 6 6 6 6\n",
      "[2369] 6 6 6 6 6 6 6 6 6 6 6 6 6 6 6 6 6 6 6 6 6 6 6 6 6 6 6 6 6 6 6 6 6 6 6 6 6\n",
      "[2406] 6 6 6 6 6 6 6 6 6 6 6 6 6 6 6 6 6 6 6 6 6 6 6 6 6 6 6 6 6 6 6 6 6 6 6 6 6\n",
      "[2443] 6 6 6 6 6 6 6 6 6 6 6 6 6 6 6 6 6 6 6 6 6 6 6 6 6 6 6 6 6 6 6 6 6 6 6 6 6\n",
      "[2480] 6 6 6 6 6 6 6 6 6 6 6 6 6 6 6 6 6 6 6 6 6 6 6 6 6 6 6 6 6 6 6 6 6 6 6 6 6\n",
      "[2517] 6 6 6 6 6 6 6 6 6 6 6 6 6 6 6 6 6 6 6 6 6 6 6 6 6 6 6 6 6 6 6 6 6 6 6 6 6\n",
      "[2554] 6 6 6 6 6 6 6 6 6 6 6 6 6 6 6 6 6 6 6 6 6 6 6 6 6 6 6 6 6 6 6 6 6 6 6 6 6\n",
      "[2591] 6 6 6 6 6 6 6 6 6 6 6 6 6 6 6 6 6 6 6 6 6 6 6 6 6 6 6 6 6 6 6 6 6 6 6 6 6\n"
     ]
    }
   ],
   "source": [
    "%%R\n",
    "library(extrafont)\n",
    "par(family = \"arial\")\n",
    "keyvals.shape <- ifelse( DE_Seurat_original$p_val_adj < 0.05 , 1, 6)\n",
    "keyvals.shape"
   ]
  },
  {
   "cell_type": "code",
   "execution_count": 37,
   "metadata": {},
   "outputs": [
    {
     "name": "stdout",
     "output_type": "stream",
     "text": [
      "Saving 6.67 x 6.67 in image\n"
     ]
    },
    {
     "name": "stdout",
     "output_type": "stream",
     "text": [
      "Saving 6.67 x 6.67 in image\n",
      "Saving 6.67 x 6.67 in image\n",
      "Saving 6.67 x 6.67 in image\n"
     ]
    },
    {
     "data": {
      "image/png": "[encoded data removed]",
      "text/plain": [
       "<IPython.core.display.Image object>"
      ]
     },
     "metadata": {},
     "output_type": "display_data"
    }
   ],
   "source": [
    "%%R -i resultdir -i title_plot\n",
    "library(EnhancedVolcano)\n",
    "\n",
    "# keyvals.shape <- ifelse( DE_Seurat_original$p_val_adj < 0.05 , 1, 6)\n",
    "# keyvals.shape <- ifelse(\n",
    "#     res$log2FoldChange < -2.5, 6,\n",
    "#       ifelse(res$log2FoldChange > 2.5, 6,    'black'))\n",
    "\n",
    "p <- EnhancedVolcano(DE_Seurat_original,\n",
    "    lab = rownames(DE_Seurat_original),\n",
    "    x = 'avg_log2FC',\n",
    "    y = 'p_val',\n",
    "    FCcutoff = 0.5,\n",
    "    title=title_plot,\n",
    "    pointSize = 3.0,\n",
    "    labSize = 6.0,\n",
    "    colAlpha = 1,\n",
    "    shape = 1)\n",
    "ggsave(plot=p,filename=paste0(resultdir,CellType,\"_Volcano_pct\",min_pct_threshold,\"_pvalue.png\"))\n",
    "ggsave(plot=p,filename=paste0(resultdir,CellType,\"_Volcano_pct\",min_pct_threshold,\"_pvalue.pdf\"))\n",
    "p\n",
    "\n",
    "p <- EnhancedVolcano(DE_Seurat_original,\n",
    "    lab = rownames(DE_Seurat_original),\n",
    "    x = 'avg_log2FC',\n",
    "    y = 'p_val_adj',\n",
    "    FCcutoff = 0.5,\n",
    "    title=title_plot,\n",
    "    shape =1)\n",
    "ggsave(plot=p,filename=paste0(resultdir,CellType,\"_Volcano_pct\",min_pct_threshold,\"_adjustedp.png\"))\n",
    "ggsave(plot=p,filename=paste0(resultdir,CellType,\"_Volcano_pct\",min_pct_threshold,\"_adjustedp.pdf\"))\n",
    "p"
   ]
  },
  {
   "attachments": {},
   "cell_type": "markdown",
   "metadata": {},
   "source": [
    "# Kegg Pathway"
   ]
  },
  {
   "attachments": {},
   "cell_type": "markdown",
   "metadata": {},
   "source": [
    "## Possitive PD"
   ]
  },
  {
   "cell_type": "code",
   "execution_count": 21,
   "metadata": {},
   "outputs": [
    {
     "name": "stdout",
     "output_type": "stream",
     "text": [
      "Uploading data to Enrichr... Done.\n",
      "  Querying KEGG_2021_Human... Done.\n",
      "Parsing results... Done.\n",
      "                       KEGG_2021_Human.Term KEGG_2021_Human.Overlap\n",
      "1                         Viral myocarditis              ratio 7/60\n",
      "2 Natural killer cell mediated cytotoxicity             ratio 8/131\n",
      "3   Human T-cell leukemia virus 1 infection             ratio 9/219\n"
     ]
    }
   ],
   "source": [
    "%%R\n",
    "source(\"Functions.R\")\n",
    "enrich.database <- c(\"KEGG_2021_Human\")\n",
    "mypos <- enrichR_wrap_fun_pos(DE_Seurat_mapped,\n",
    "logfc.threshold=logfc.threshold,\n",
    "p.val.cutoff=p.val.cutoff,\n",
    "enrich.database=c(enrich.database ))    \n",
    "# ======= DEGs matrix ===================\n",
    "pos.markers <- mypos$pos.markers\n",
    "# ======= Enrichment matrix ===================\n",
    "pos_mat <- mypos$pos_mat\n",
    "print(pos_mat[1:3,1:2])\n",
    "kegg_pos_mat <- pos_mat  \n",
    "readr::write_csv(pos_mat,\n",
    "    file=paste0(resultdir,CellType,\"_POS_\",enrich.database,\"_MinPct_\",min_pct_threshold,\".csv\"))\n"
   ]
  },
  {
   "cell_type": "code",
   "execution_count": 22,
   "metadata": {},
   "outputs": [
    {
     "name": "stdout",
     "output_type": "stream",
     "text": [
      "[1] \"Take a break enrichr crashes\"\n"
     ]
    }
   ],
   "source": [
    "%%R\n",
    "print(\"Take a break enrichr crashes\")\n"
   ]
  },
  {
   "attachments": {},
   "cell_type": "markdown",
   "metadata": {},
   "source": [
    "## Negative PD"
   ]
  },
  {
   "cell_type": "code",
   "execution_count": 25,
   "metadata": {},
   "outputs": [
    {
     "name": "stdout",
     "output_type": "stream",
     "text": [
      "Uploading data to Enrichr... "
     ]
    },
    {
     "name": "stdout",
     "output_type": "stream",
     "text": [
      "Done.\n",
      "  Querying KEGG_2021_Human... Done.\n",
      "Parsing results... Done.\n",
      "        KEGG_2021_Human.Term KEGG_2021_Human.Overlap\n",
      "1 Osteoclast differentiation            ratio 13/127\n",
      "2                Hepatitis B            ratio 13/162\n",
      "3     cAMP signaling pathway            ratio 14/216\n"
     ]
    }
   ],
   "source": [
    "%%R\n",
    "source(\"Functions.R\")\n",
    "enrich.database <- c(\"KEGG_2021_Human\")\n",
    "myneg <- enrichR_wrap_fun_neg(DE_Seurat_mapped,\n",
    "logfc.threshold=logfc.threshold,\n",
    "p.val.cutoff=p.val.cutoff,\n",
    "enrich.database=c(enrich.database ))    \n",
    "# ======= DEGs matrix ===================\n",
    "neg.markers <- myneg$neg.markers\n",
    "# ======= Enrichment matrix ===================\n",
    "neg_mat <- myneg$neg_mat\n",
    "print(neg_mat[1:3,1:2])\n",
    "kegg_neg_mat <- neg_mat  \n",
    "readr::write_csv(neg_mat,\n",
    "    file=paste0(resultdir,CellType,\"_NEG_\",enrich.database,\"_MinPct_\",min_pct_threshold,\".csv\"))"
   ]
  },
  {
   "cell_type": "code",
   "execution_count": 26,
   "metadata": {},
   "outputs": [
    {
     "name": "stdout",
     "output_type": "stream",
     "text": [
      "Saving 12 x 6.67 in image\n",
      "Saving 12 x 6.67 in image\n"
     ]
    },
    {
     "data": {
      "image/png": "[encoded data removed]",
      "text/plain": [
       "<IPython.core.display.Image object>"
      ]
     },
     "metadata": {},
     "output_type": "display_data"
    }
   ],
   "source": [
    "%%R\n",
    "enrich.database <- \"KEGG_2021_Human\"\n",
    "p <- plot_enrichR_wrap_fun(\n",
    "        ident.1=\"PD\",\n",
    "        ident.2=\"HC\",\n",
    "        pos.er = kegg_pos_mat,\n",
    "        neg.er = kegg_neg_mat,\n",
    "        enrich.database= enrich.database )\n",
    "\n",
    "\n",
    "ggsave(plot=p,filename=paste0(resultdir,\"BarPlot_\",\n",
    "        CellType,\"_\",enrich.database,\"_pct_\",min_pct_threshold,\n",
    "        \"_logfc.threshold_\",logfc.threshold,\n",
    "        \"_p.val.cutoff_\"=p.val.cutoff,\n",
    "        \".png\"),width=12)\n",
    "ggsave(plot=p,filename=paste0(resultdir,\"BarPlot_\",\n",
    "        CellType,\"_\",enrich.database,\"_pct_\",min_pct_threshold,\n",
    "        \"_logfc.threshold_\",logfc.threshold,\n",
    "        \"_p.val.cutoff_\"=p.val.cutoff,\n",
    "        \".pdf\"),width=12)\n",
    "p"
   ]
  },
  {
   "cell_type": "code",
   "execution_count": 27,
   "metadata": {},
   "outputs": [
    {
     "data": {
      "image/png": "[encoded data removed]",
      "text/plain": [
       "<IPython.core.display.Image object>"
      ]
     },
     "metadata": {},
     "output_type": "display_data"
    }
   ],
   "source": [
    "%%R\n",
    "source(\"Functions.R\")\n",
    "enrich.database <- \"KEGG_2021_Human\"\n",
    "p <- dotplot_enrich_dim(pos_mat=kegg_pos_mat , neg_mat=kegg_neg_mat,n_paths=10)\n",
    "\n",
    "ggsave(plot=p,filename=paste0(resultdir,\"DotPlot_\",\n",
    "        CellType,\"_\",enrich.database,\"_pct_\",min_pct_threshold,\n",
    "        \"_logfc.threshold_\",logfc.threshold,\n",
    "        \"_p.val.cutoff_\"=p.val.cutoff,\n",
    "        \".png\"),width=20,height=6)\n",
    "ggsave(plot=p,filename=paste0(resultdir,\"DotPlot_\",\n",
    "        CellType,\"_\",enrich.database,\"_pct_\",min_pct_threshold,\n",
    "        \"_logfc.threshold_\",logfc.threshold,\n",
    "        \"_p.val.cutoff_\"=p.val.cutoff,\n",
    "        \".pdf\"),width=20,height=6)\n",
    "\n",
    "p\n",
    "\n"
   ]
  },
  {
   "attachments": {},
   "cell_type": "markdown",
   "metadata": {},
   "source": [
    "# Reactome Pathway"
   ]
  },
  {
   "attachments": {},
   "cell_type": "markdown",
   "metadata": {},
   "source": [
    "## Possitive PD"
   ]
  },
  {
   "cell_type": "code",
   "execution_count": 28,
   "metadata": {},
   "outputs": [
    {
     "name": "stdout",
     "output_type": "stream",
     "text": [
      "Uploading data to Enrichr... "
     ]
    },
    {
     "name": "stdout",
     "output_type": "stream",
     "text": [
      "Done.\n",
      "  Querying Reactome_2022... Done.\n",
      "Parsing results... Done.\n",
      "                                                                     Reactome_2022.Term\n",
      "1                                                  Adaptive Immune System R-HSA-1280218\n",
      "2                                                            Immune System R-HSA-168256\n",
      "3 Immunoregulatory Interactions Between A Lymphoid And A non-Lymphoid Cell R-HSA-198933\n",
      "  Reactome_2022.Overlap\n",
      "1          ratio 19/733\n",
      "2         ratio 28/1943\n",
      "3           ratio 7/123\n"
     ]
    }
   ],
   "source": [
    "%%R\n",
    "source(\"Functions.R\")\n",
    "enrich.database <- c(\"Reactome_2022\")\n",
    "mypos <- enrichR_wrap_fun_pos(DE_Seurat_mapped,\n",
    "logfc.threshold=logfc.threshold,\n",
    "p.val.cutoff=p.val.cutoff,\n",
    "enrich.database=c(enrich.database ))    \n",
    "# ======= DEGs matrix ===================\n",
    "pos.markers <- mypos$pos.markers\n",
    "# ======= Enrichment matrix ===================\n",
    "pos_mat <- mypos$pos_mat\n",
    "print(pos_mat[1:3,1:2])\n",
    "\n",
    "\n",
    "\n",
    "\n",
    "pos_IDs <- unlist(lapply( pos_mat$Reactome_2022.Term,function(term){\n",
    "        splitted_str <- strsplit(term,\" \")[[1]]\n",
    "        indxex_id <- grep(\"R-HSA\",splitted_str)\n",
    "        ID <- splitted_str[grep(\"R-HSA\",splitted_str)]\n",
    "        return(ID)\n",
    "    }))\n",
    "pos_mat$ID <- pos_IDs\n",
    "pos_Term <- unlist(lapply( pos_mat$Reactome_2022.Term,function(term){\n",
    "        splitted_str <- strsplit(term,\" \")[[1]]\n",
    "        indxex_id <- grep(\"R-HSA\",splitted_str)\n",
    "        Term_text <- paste(splitted_str[1:indxex_id-1],collapse=\" \")\n",
    "        return(Term_text)\n",
    "    }))\n",
    "pos_mat$term <- pos_Term\n",
    "pos_mat$term <- factor(pos_Term,levels= pos_Term)\n",
    "\n",
    "reactome_pos_mat <- pos_mat  \n",
    "\n",
    "\n",
    "readr::write_csv(pos_mat,\n",
    "    file=paste0(resultdir,CellType,\"_POS_\",enrich.database,\"_MinPct_\",min_pct_threshold,\".csv\"))\n"
   ]
  },
  {
   "attachments": {},
   "cell_type": "markdown",
   "metadata": {},
   "source": [
    "## Negative PD"
   ]
  },
  {
   "cell_type": "code",
   "execution_count": 29,
   "metadata": {},
   "outputs": [
    {
     "name": "stdout",
     "output_type": "stream",
     "text": [
      "Uploading data to Enrichr... Done.\n",
      "  Querying Reactome_2022... Done.\n",
      "Parsing results... Done.\n",
      "                                 Reactome_2022.Term Reactome_2022.Overlap\n",
      "1                  Signal Transduction R-HSA-162582         ratio 47/2465\n",
      "2 Cytokine Signaling In Immune System R-HSA-1280215          ratio 23/702\n",
      "3            Signaling By Interleukins R-HSA-449147          ratio 18/453\n"
     ]
    }
   ],
   "source": [
    "%%R\n",
    "source(\"Functions.R\")\n",
    "enrich.database<- c(\"Reactome_2022\")\n",
    "myneg <- enrichR_wrap_fun_neg(DE_Seurat_mapped,\n",
    "logfc.threshold=logfc.threshold,\n",
    "p.val.cutoff=p.val.cutoff,\n",
    "enrich.database=c(enrich.database ))    \n",
    "# ======= DEGs matrix ===================\n",
    "neg.markers <- myneg$neg.markers\n",
    "# ======= Enrichment matrix ===================\n",
    "neg_mat <- myneg$neg_mat\n",
    "print(neg_mat[1:3,1:2])\n",
    "\n",
    "\n",
    "neg_IDs <- unlist(lapply( neg_mat$Reactome_2022.Term,function(term){\n",
    "        splitted_str <- strsplit(term,\" \")[[1]]\n",
    "        indxex_id <- grep(\"R-HSA\",splitted_str)\n",
    "        ID <- splitted_str[grep(\"R-HSA\",splitted_str)]\n",
    "        return(ID)\n",
    "    }))\n",
    "neg_mat$ID <- neg_IDs\n",
    "neg_Term <- unlist(lapply( neg_mat$Reactome_2022.Term,function(term){\n",
    "        splitted_str <- strsplit(term,\" \")[[1]]\n",
    "        indxex_id <- grep(\"R-HSA\",splitted_str)\n",
    "        Term_text <- paste(splitted_str[1:indxex_id-1],collapse=\" \")\n",
    "        return(Term_text)\n",
    "    }))\n",
    "neg_mat$term <- neg_Term\n",
    "\n",
    "reactome_neg_mat <- neg_mat  \n",
    "\n",
    "readr::write_csv(neg_mat,\n",
    "    file=paste0(resultdir,CellType,\"_NEG_\",enrich.database,\"_MinPct_\",min_pct_threshold,\".csv\"))"
   ]
  },
  {
   "cell_type": "code",
   "execution_count": 30,
   "metadata": {},
   "outputs": [
    {
     "name": "stdout",
     "output_type": "stream",
     "text": [
      "Saving 12 x 6.67 in image\n",
      "Saving 12 x 6.67 in image\n"
     ]
    },
    {
     "data": {
      "image/png": "[encoded data removed]",
      "text/plain": [
       "<IPython.core.display.Image object>"
      ]
     },
     "metadata": {},
     "output_type": "display_data"
    }
   ],
   "source": [
    "%%R\n",
    "enrich.database <- \"Reactome_2022\"\n",
    "p <- plot_enrichR_wrap_fun(\n",
    "        ident.1=\"PD\",\n",
    "        ident.2=\"HC\",\n",
    "        pos.er = reactome_pos_mat,\n",
    "        neg.er = reactome_neg_mat,\n",
    "        enrich.database= enrich.database )\n",
    "\n",
    "ggsave(plot=p,filename=paste0(resultdir,\"BarPlot_\",\n",
    "        CellType,\"_\",enrich.database,\"_pct_\",min_pct_threshold,\n",
    "        \"_logfc.threshold_\",logfc.threshold,\n",
    "        \"_p.val.cutoff_\"=p.val.cutoff,\n",
    "        \".png\"),width=12)\n",
    "ggsave(plot=p,filename=paste0(resultdir,\"BarPlot_\",\n",
    "        CellType,\"_\",enrich.database,\"_pct_\",min_pct_threshold,\n",
    "        \"_logfc.threshold_\",logfc.threshold,\n",
    "        \"_p.val.cutoff_\"=p.val.cutoff,\n",
    "        \".pdf\"),width=12)\n",
    "p"
   ]
  },
  {
   "cell_type": "code",
   "execution_count": 31,
   "metadata": {},
   "outputs": [
    {
     "name": "stdout",
     "output_type": "stream",
     "text": [
      " [1] \"Reactome_2022.Term\"                 \"Reactome_2022.Overlap\"             \n",
      " [3] \"Reactome_2022.P.value\"              \"Reactome_2022.Adjusted.P.value\"    \n",
      " [5] \"Reactome_2022.Old.P.value\"          \"Reactome_2022.Old.Adjusted.P.value\"\n",
      " [7] \"Reactome_2022.Odds.Ratio\"           \"Reactome_2022.Combined.Score\"      \n",
      " [9] \"Reactome_2022.Genes\"                \"log10pval\"                         \n",
      "[11] \"term\"                               \"ID\"                                \n"
     ]
    }
   ],
   "source": [
    "%%R\n",
    "colnames(reactome_neg_mat)"
   ]
  },
  {
   "cell_type": "code",
   "execution_count": 32,
   "metadata": {},
   "outputs": [
    {
     "data": {
      "image/png": "[encoded data removed]",
      "text/plain": [
       "<IPython.core.display.Image object>"
      ]
     },
     "metadata": {},
     "output_type": "display_data"
    }
   ],
   "source": [
    "%%R\n",
    "source(\"Functions.R\")\n",
    "enrich.database <- \"Reactome_2022\"\n",
    "p <- dotplot_enrich_dim(pos_mat=reactome_pos_mat , neg_mat=reactome_neg_mat,n_paths=10)\n",
    "\n",
    "ggsave(plot=p,filename=paste0(resultdir,\"DotPlot_\",\n",
    "        CellType,\"_\",enrich.database,\"_pct_\",min_pct_threshold,\n",
    "        \"_logfc.threshold_\",logfc.threshold,\n",
    "        \"_p.val.cutoff_\"=p.val.cutoff,\n",
    "        \".png\"),width=20,height=6)\n",
    "ggsave(plot=p,filename=paste0(resultdir,\"DotPlot_\",\n",
    "        CellType,\"_\",enrich.database,\"_pct_\",min_pct_threshold,\n",
    "        \"_logfc.threshold_\",logfc.threshold,\n",
    "        \"_p.val.cutoff_\"=p.val.cutoff,\n",
    "        \".pdf\"),width=20,height=6)\n",
    "p\n",
    "\n"
   ]
  },
  {
   "attachments": {},
   "cell_type": "markdown",
   "metadata": {},
   "source": [
    "# GO Pathway"
   ]
  },
  {
   "attachments": {},
   "cell_type": "markdown",
   "metadata": {},
   "source": [
    "## Possitive PD"
   ]
  },
  {
   "cell_type": "code",
   "execution_count": 33,
   "metadata": {},
   "outputs": [
    {
     "name": "stdout",
     "output_type": "stream",
     "text": [
      "Uploading data to Enrichr... Done.\n",
      "  Querying GO_Biological_Process_2021... Done.\n",
      "Parsing results... Done.\n",
      "                           GO_Biological_Process_2021.Term\n",
      "1               regulation of immune response (GO:0050776)\n",
      "2           T cell receptor signaling pathway (GO:0050852)\n",
      "3 antigen receptor-mediated signaling pathway (GO:0050851)\n",
      "  GO_Biological_Process_2021.Overlap\n",
      "1                        ratio 9/179\n",
      "2                        ratio 8/158\n",
      "3                        ratio 8/185\n"
     ]
    }
   ],
   "source": [
    "%%R\n",
    "source(\"Functions.R\")\n",
    "enrich.database <- c(\"GO_Biological_Process_2021\")\n",
    "mypos <- enrichR_wrap_fun_pos(DE_Seurat_mapped,\n",
    "logfc.threshold=logfc.threshold,\n",
    "p.val.cutoff=p.val.cutoff,\n",
    "enrich.database=c(enrich.database ))    \n",
    "# ======= DEGs matrix ===================\n",
    "pos.markers <- mypos$pos.markers\n",
    "# ======= Enrichment matrix ===================\n",
    "pos_mat <- mypos$pos_mat\n",
    "print(pos_mat[1:3,1:2])\n",
    "go_pos_mat <- pos_mat  \n",
    "readr::write_csv(pos_mat,\n",
    "    file=paste0(resultdir,CellType,\"_POS_\",enrich.database,\"_MinPct_\",min_pct_threshold,\".csv\"))\n"
   ]
  },
  {
   "attachments": {},
   "cell_type": "markdown",
   "metadata": {},
   "source": [
    "## Negative PD"
   ]
  },
  {
   "cell_type": "code",
   "execution_count": 34,
   "metadata": {},
   "outputs": [
    {
     "name": "stdout",
     "output_type": "stream",
     "text": [
      "Uploading data to Enrichr... Done.\n",
      "  Querying GO_Biological_Process_2021... Done.\n",
      "Parsing results... Done.\n",
      "                                                                                GO_Biological_Process_2021.Term\n",
      "1          regulation of nuclear-transcribed mRNA catabolic process, deadenylation-dependent decay (GO:1900151)\n",
      "2 positive regulation of nuclear-transcribed mRNA catabolic process, deadenylation-dependent decay (GO:1900153)\n",
      "3                                                                     regulation of mRNA stability (GO:0043488)\n",
      "  GO_Biological_Process_2021.Overlap\n",
      "1                         ratio 5/15\n",
      "2                         ratio 5/15\n",
      "3                       ratio 10/146\n"
     ]
    }
   ],
   "source": [
    "%%R\n",
    "source(\"Functions.R\")\n",
    "enrich.database<- c(\"GO_Biological_Process_2021\")\n",
    "myneg <- enrichR_wrap_fun_neg(DE_Seurat_mapped,\n",
    "logfc.threshold=logfc.threshold,\n",
    "p.val.cutoff=p.val.cutoff,\n",
    "enrich.database=c(enrich.database ))    \n",
    "# ======= DEGs matrix ===================\n",
    "neg.markers <- myneg$neg.markers\n",
    "# ======= Enrichment matrix ===================\n",
    "neg_mat <- myneg$neg_mat\n",
    "print(neg_mat[1:3,1:2])\n",
    "go_neg_mat <- neg_mat  \n",
    "readr::write_csv(neg_mat,\n",
    "    file=paste0(resultdir,CellType,\"_NEG_\",enrich.database,\"_MinPct_\",min_pct_threshold,\".csv\"))"
   ]
  },
  {
   "cell_type": "code",
   "execution_count": 35,
   "metadata": {},
   "outputs": [
    {
     "name": "stdout",
     "output_type": "stream",
     "text": [
      "Saving 12 x 6.67 in image\n",
      "Saving 12 x 6.67 in image\n"
     ]
    },
    {
     "data": {
      "image/png": "[encoded data removed]",
      "text/plain": [
       "<IPython.core.display.Image object>"
      ]
     },
     "metadata": {},
     "output_type": "display_data"
    }
   ],
   "source": [
    "%%R\n",
    "enrich.database <- \"GO_Biological_Process_2021\"\n",
    "p <- plot_enrichR_wrap_fun(\n",
    "        ident.1=\"PD\",\n",
    "        ident.2=\"HC\",\n",
    "        pos.er = go_pos_mat,\n",
    "        neg.er = go_neg_mat,\n",
    "        enrich.database= enrich.database )\n",
    "\n",
    "ggsave(plot=p,filename=paste0(resultdir,\n",
    "        CellType,\"_\",enrich.database,\"_pct_\",min_pct_threshold,\n",
    "        \"_logfc.threshold_\",logfc.threshold,\n",
    "        \"_p.val.cutoff_\"=p.val.cutoff,\n",
    "        \".png\"),width=12)\n",
    "ggsave(plot=p,filename=paste0(resultdir,\n",
    "        CellType,\"_\",enrich.database,\"_pct_\",min_pct_threshold,\n",
    "        \"_logfc.threshold_\",logfc.threshold,\n",
    "        \"_p.val.cutoff_\"=p.val.cutoff,\n",
    "        \".pdf\"),width=12)\n",
    "p"
   ]
  },
  {
   "cell_type": "code",
   "execution_count": 36,
   "metadata": {},
   "outputs": [
    {
     "data": {
      "image/png": "[encoded data removed]",
      "text/plain": [
       "<IPython.core.display.Image object>"
      ]
     },
     "metadata": {},
     "output_type": "display_data"
    }
   ],
   "source": [
    "%%R\n",
    "source(\"Functions.R\")\n",
    "enrich.database <- \"GO_Biological_Process_2021\"\n",
    "p <- dotplot_enrich_dim(pos_mat=go_pos_mat , neg_mat=go_neg_mat,n_paths=10)\n",
    "\n",
    "ggsave(plot=p,filename=paste0(resultdir,\"DotPlot_\",\n",
    "        CellType,\"_\",enrich.database,\"_pct_\",min_pct_threshold,\n",
    "        \"_logfc.threshold_\",logfc.threshold,\n",
    "        \"_p.val.cutoff_\"=p.val.cutoff,\n",
    "        \".png\"),width=20,height=6)\n",
    "ggsave(plot=p,filename=paste0(resultdir,\"DotPlot_\",\n",
    "        CellType,\"_\",enrich.database,\"_pct_\",min_pct_threshold,\n",
    "        \"_logfc.threshold_\",logfc.threshold,\n",
    "        \"_p.val.cutoff_\"=p.val.cutoff,\n",
    "        \".pdf\"),width=20,height=6)\n",
    "p"
   ]
  },
  {
   "attachments": {},
   "cell_type": "markdown",
   "metadata": {},
   "source": [
    "# Calculate RANKS based on FC"
   ]
  },
  {
   "cell_type": "code",
   "execution_count": 37,
   "metadata": {},
   "outputs": [],
   "source": [
    "%%R\n",
    "ranks_avg_log2FC<- tibble::deframe( DE_Seurat_mapped%>%  dplyr::select(entrezID , avg_log2FC   )) \n",
    "ranks_avg_log2FC[1:4]\n",
    "gsea_kegg_log2FC <- gseKEGG(sort(ranks_avg_log2FC,decreasing=T), nPerm=10000,\n",
    "                pvalueCutoff=1,minGSSize = 0,\n",
    "                pAdjustMethod=\"BH\", verbose=FALSE)\n",
    "readr::write_csv(as.data.frame(gsea_kegg_log2FC),\n",
    "        file=paste0(resultdir,CellType,\"_KEGG_GSEA_MinPct_\",min_pct_threshold,\"_Ranks_log2FC.csv\"))"
   ]
  },
  {
   "cell_type": "code",
   "execution_count": null,
   "metadata": {},
   "outputs": [],
   "source": []
  },
  {
   "attachments": {},
   "cell_type": "markdown",
   "metadata": {},
   "source": [
    "#  TOP UP GSEA KEGG"
   ]
  },
  {
   "cell_type": "code",
   "execution_count": 38,
   "metadata": {},
   "outputs": [
    {
     "name": "stdout",
     "output_type": "stream",
     "text": [
      "[1] \"Viral myocarditis\"\n"
     ]
    },
    {
     "name": "stdout",
     "output_type": "stream",
     "text": [
      "[1] \"Natural killer cell mediated cytotoxicity\"\n",
      "[1] \"Human T-cell leukemia virus 1 infection\"\n",
      "[1] \"Graft-versus-host disease\"\n",
      "[1] \"Antigen processing and presentation\"\n",
      "[1] \"Cell adhesion molecules\"\n",
      "[1] \"T cell receptor signaling pathway\"\n",
      "[1] \"Allograft rejection\"\n",
      "[1] \"Type I diabetes mellitus\"\n",
      "[1] \"Rap1 signaling pathway\"\n"
     ]
    }
   ],
   "source": [
    "%%R\n",
    "library(enrichplot)\n",
    "sort_filt_gsea_kegg_log2FC <- gsea_kegg_log2FC[match(tolower(kegg_pos_mat$term[1:10]),tolower(gsea_kegg_log2FC$Description)),]\n",
    "\n",
    "temp_dir <- paste0(resultdir,\"Top10_Upreg_Enriched_KeggGSEAPlot/\")\n",
    "dir.create(temp_dir)\n",
    "top_pos <- sort_filt_gsea_kegg_log2FC\n",
    "for (row_iter in 1:10){\n",
    "    id_term <- top_pos$ID[row_iter]\n",
    "    text_term <- top_pos$Description[row_iter]\n",
    "    print(text_term)\n",
    "    p <- gseaplot2(gsea_kegg_log2FC, geneSetID = id_term,subplots = 1:3,pvalue_table = F,title=text_term)\n",
    "    ## Initiate writing to PDF file\n",
    "    pdf(paste0(temp_dir,CellType,\n",
    "        \"_Enr_KEGG_GSPlot_\",id_term,\"_pct_\",min_pct_threshold,\n",
    "            \"_logfc.threshold_\",logfc.threshold,\n",
    "            \"_Ranks_log2FC_up.pdf\"), height = 8.5, width = 11)\n",
    "    ## Create a graphical object g here\n",
    "    print(p)# print it\n",
    "    ## Stop writing to the PDF file\n",
    "    dev.off()\n",
    "}"
   ]
  },
  {
   "attachments": {},
   "cell_type": "markdown",
   "metadata": {},
   "source": [
    "# TOP Down GSEA KEGG"
   ]
  },
  {
   "cell_type": "code",
   "execution_count": 39,
   "metadata": {},
   "outputs": [
    {
     "name": "stdout",
     "output_type": "stream",
     "text": [
      "[1] \"Osteoclast differentiation\"\n"
     ]
    },
    {
     "name": "stdout",
     "output_type": "stream",
     "text": [
      "[1] \"Hepatitis B\"\n",
      "[1] \"cAMP signaling pathway\"\n",
      "[1] \"Measles\"\n",
      "[1] \"Apoptosis\"\n",
      "[1] \"Colorectal cancer\"\n",
      "[1] \"AGE-RAGE signaling pathway in diabetic complications\"\n",
      "[1] \"T cell receptor signaling pathway\"\n",
      "[1] \"Chronic myeloid leukemia\"\n",
      "[1] \"Fluid shear stress and atherosclerosis\"\n"
     ]
    }
   ],
   "source": [
    "%%R\n",
    "sort_filt_gsea_kegg_log2FC <- gsea_kegg_log2FC[match(tolower(kegg_neg_mat$term[1:10]),tolower(gsea_kegg_log2FC$Description)),]\n",
    "temp_dir <- paste0(resultdir,\"Top10_Downreg_Enriched_KeggGSEAPlot/\")\n",
    "dir.create(temp_dir)\n",
    "top_neg <- sort_filt_gsea_kegg_log2FC\n",
    "for (row_iter in 1:10){\n",
    "    id_term <- top_neg$ID[row_iter]\n",
    "    text_term <- top_neg$Description[row_iter]\n",
    "    print(text_term)\n",
    "    p <- gseaplot2(gsea_kegg_log2FC, geneSetID = id_term,subplots = 1:3,pvalue_table = F,title=text_term)\n",
    "    ## Initiate writing to PDF file\n",
    "    pdf(paste0(temp_dir,CellType,\n",
    "        \"_Enr_KEGG_GSPlot_\",id_term,\"_pct_\",min_pct_threshold,\n",
    "            \"_logfc.threshold_\",logfc.threshold,\n",
    "            \"_Ranks_log2FC_down.pdf\"), height = 8.5, width = 11)\n",
    "    ## Create a graphical object g here\n",
    "    print(p)# print it\n",
    "    ## Stop writing to the PDF file\n",
    "    dev.off()\n",
    "}"
   ]
  },
  {
   "cell_type": "code",
   "execution_count": 40,
   "metadata": {},
   "outputs": [
    {
     "name": "stdout",
     "output_type": "stream",
     "text": [
      "[1] \"Immunoregulatory interactions between a Lymphoid and a non-Lymphoid cell\"\n",
      "[2] \"Generation of second messenger molecules\"                                \n",
      "[3] \"Signaling by Insulin receptor\"                                           \n"
     ]
    }
   ],
   "source": [
    "%%R\n",
    "library(ReactomePA)\n",
    "require(clusterProfiler)\n",
    "gsea_reactome_log2FC <- gsePathway(sort(ranks_avg_log2FC,decreasing=T), nPerm=10000,\n",
    "                pvalueCutoff=1,minGSSize = 0,\n",
    "                pAdjustMethod=\"BH\", verbose=FALSE)\n",
    "readr::write_csv(as.data.frame(gsea_reactome_log2FC),\n",
    "        file=paste0(resultdir,CellType,\"_GSEA_MinPct_\",min_pct_threshold,\"_Ranks_log2FC.csv\"))\n",
    "gsea_reactome_log2FC[1:3,\"Description\"]"
   ]
  },
  {
   "attachments": {},
   "cell_type": "markdown",
   "metadata": {},
   "source": [
    "# TOP UP GSEA REACTOME"
   ]
  },
  {
   "cell_type": "code",
   "execution_count": 41,
   "metadata": {},
   "outputs": [
    {
     "name": "stdout",
     "output_type": "stream",
     "text": [
      "[1] \"Adaptive Immune System\"\n"
     ]
    },
    {
     "name": "stdout",
     "output_type": "stream",
     "text": [
      "[1] \"Immune System\"\n",
      "[1] \"Immunoregulatory Interactions Between A Lymphoid And A non-Lymphoid Cell\"\n",
      "[1] \"Generation Of Second Messenger Molecules\"\n",
      "[1] \"Hemostasis\"\n",
      "[1] \"TCR Signaling\"\n",
      "[1] \"DAP12 Signaling\"\n",
      "[1] \"FCERI Mediated Ca+2 Mobilization\"\n",
      "[1] \"Interferon Signaling\"\n",
      "[1] \"Cytokine Signaling In Immune System\"\n"
     ]
    }
   ],
   "source": [
    "%%R -i resultdir -i CellType\n",
    "temp_dir <- paste0(resultdir,\"Top10_Upreg_Enriched_GSEAPlot/\")\n",
    "dir.create(temp_dir)\n",
    "top_pos <- reactome_pos_mat[1:10,]\n",
    "for (row_iter in 1:10){\n",
    "    id_term <- top_pos$ID[row_iter]\n",
    "    text_term <- as.vector(top_pos$term)[row_iter]\n",
    "    print(text_term)\n",
    "    p <- gseaplot2(gsea_reactome_log2FC, geneSetID = id_term,subplots = 1:3,pvalue_table = F,title=text_term)\n",
    "    # Initiate writing to PDF file\n",
    "    pdf(paste0(temp_dir,CellType,\n",
    "        \"_Enr_React_GSPlot_\",id_term,\"_pct_\",min_pct_threshold,\n",
    "            \"_logfc.threshold_\",logfc.threshold,\n",
    "            \"_Ranks_log2FC_up.pdf\"), height = 8.5, width = 11)\n",
    "    # Create a graphical object g here\n",
    "    print(p)# print it\n",
    "    # Stop writing to the PDF file\n",
    "    dev.off()\n",
    "}\n"
   ]
  },
  {
   "cell_type": "code",
   "execution_count": 42,
   "metadata": {},
   "outputs": [
    {
     "name": "stdout",
     "output_type": "stream",
     "text": [
      "#\n",
      "# Gene Set Enrichment Analysis\n",
      "#\n",
      "#...@organism \t human \n",
      "#...@setType \t Reactome \n",
      "#...@keytype \t ENTREZID \n",
      "#...@geneList \t Named num [1:2627] 1.401 0.99 0.909 0.845 0.738 ...\n",
      " - attr(*, \"names\")= chr [1:2627] \"10578\" NA \"972\" \"387357\" ...\n",
      "#...nPerm \t 10000 \n",
      "#...pvalues adjusted by 'BH' with cutoff <1 \n",
      "#...1838 enriched terms found\n",
      "'data.frame':\t1838 obs. of  11 variables:\n",
      " $ ID             : chr  \"R-HSA-198933\" \"R-HSA-202433\" \"R-HSA-74752\" \"R-HSA-74751\" ...\n",
      " $ Description    : chr  \"Immunoregulatory interactions between a Lymphoid and a non-Lymphoid cell\" \"Generation of second messenger molecules\" \"Signaling by Insulin receptor\" \"Insulin receptor signalling cascade\" ...\n",
      " $ setSize        : int  36 20 14 9 8 8 8 8 6 270 ...\n",
      " $ enrichmentScore: num  0.674 0.709 -0.775 -0.845 -0.853 ...\n",
      " $ NES            : num  2.23 2.05 -1.88 -1.84 -1.8 ...\n",
      " $ pvalue         : num  0.000283 0.000264 0.000658 0.00034 0.000688 ...\n",
      " $ p.adjust       : num  0.0929 0.0929 0.0929 0.0929 0.0929 ...\n",
      " $ qvalue         : num  0.0893 0.0893 0.0893 0.0893 0.0893 ...\n",
      " $ rank           : num  392 343 11 11 11 11 11 11 22 401 ...\n",
      " $ leading_edge   : chr  \"tags=64%, list=15%, signal=55%\" \"tags=60%, list=13%, signal=53%\" \"tags=29%, list=0%, signal=29%\" \"tags=33%, list=0%, signal=33%\" ...\n",
      " $ core_enrichment: chr  \"3689/10219/3105/3683/3820/925/3824/916/915/2214/57823/10870/29990/926/10666/3695/51348/917/3134/4068/9976/3133/975\" \"3123/2533/9402/3937/916/915/3113/5336/7535/917/3932/27040\" \"5781/9550/5295/5140\" \"5781/5295/5140\" ...\n",
      "#...Citation\n",
      "  Guangchuang Yu, Qing-Yu He. ReactomePA: an R/Bioconductor package for\n",
      "  reactome pathway analysis and visualization. Molecular BioSystems\n",
      "  2016, 12(2):477-479 \n",
      "\n"
     ]
    }
   ],
   "source": [
    "%%R\n",
    "gsea_reactome_log2FC"
   ]
  },
  {
   "attachments": {},
   "cell_type": "markdown",
   "metadata": {},
   "source": [
    "## TOP Down GSEA REACTOME"
   ]
  },
  {
   "cell_type": "code",
   "execution_count": 43,
   "metadata": {},
   "outputs": [
    {
     "name": "stdout",
     "output_type": "stream",
     "text": [
      "[1] \"Signal Transduction\"\n"
     ]
    },
    {
     "name": "stdout",
     "output_type": "stream",
     "text": [
      "[1] \"Cytokine Signaling In Immune System\"\n",
      "[1] \"Signaling By Interleukins\"\n",
      "[1] \"Immune System\"\n",
      "[1] \"Diseases Of Signal Transduction By Growth Factor Receptors And Second Messengers\"\n",
      "[1] \"Gene Expression (Transcription)\"\n",
      "[1] \"RNA Polymerase II Transcription\"\n",
      "[1] \"Signaling By ALK Fusions And Activated Point Mutants\"\n",
      "[1] \"Intracellular Signaling By Second Messengers\"\n",
      "[1] \"Generic Transcription Pathway\"\n"
     ]
    }
   ],
   "source": [
    "%%R -i resultdir -i CellType\n",
    "temp_dir <- paste0(resultdir,\"Top10_Downreg_Enriched_GSEAPlot/\")\n",
    "dir.create(temp_dir)\n",
    "top_neg <- reactome_neg_mat[1:10,]\n",
    "for (row_iter in 1:10){\n",
    "    id_term <- top_neg$ID[row_iter]\n",
    "    text_term <- top_neg$term[row_iter]\n",
    "    print(text_term)\n",
    "    p <- gseaplot2(gsea_reactome_log2FC, geneSetID = id_term,subplots = 1:3,pvalue_table = F,title=text_term)\n",
    "    ## Initiate writing to PDF file\n",
    "    pdf(paste0(temp_dir,CellType,\n",
    "        \"_Enr_React_GSPlot_\",id_term,\"_pct_\",min_pct_threshold,\n",
    "            \"_logfc.thres_\",logfc.threshold,\n",
    "            \"_Ranks_log2FC_down.pdf\"), height = 8.5, width = 11)\n",
    "    ## Create a graphical object g here\n",
    "    print(p)# print it\n",
    "    ## Stop writing to the PDF file\n",
    "    dev.off()\n",
    "}"
   ]
  },
  {
   "cell_type": "code",
   "execution_count": 44,
   "metadata": {},
   "outputs": [
    {
     "data": {
      "image/png": "[encoded data removed]",
      "text/plain": [
       "<IPython.core.display.Image object>"
      ]
     },
     "metadata": {},
     "output_type": "display_data"
    }
   ],
   "source": [
    "%%R -i resultdir -i CellType\n",
    "p <- gseaplot2(gsea_reactome_log2FC, geneSetID = \"R-HSA-8939246\",subplots = 1:6,pvalue_table = F)\n",
    "## Initiate writing to PDF file\n",
    "pdf(paste0(resultdir,CellType,\n",
    "       \"_GSE_RUNX1_pct_\",min_pct_threshold,\n",
    "        \"_logfc.threshold_\",logfc.threshold,\n",
    "        \"_Ranks_log2FC.pdf\"), height = 8.5, width = 11)\n",
    "## Create a graphical object g here\n",
    "print(p)# print it\n",
    "## Stop writing to the PDF file\n",
    "dev.off()\n",
    "p"
   ]
  },
  {
   "cell_type": "code",
   "execution_count": null,
   "metadata": {},
   "outputs": [],
   "source": []
  },
  {
   "cell_type": "code",
   "execution_count": null,
   "metadata": {},
   "outputs": [],
   "source": []
  },
  {
   "attachments": {},
   "cell_type": "markdown",
   "metadata": {},
   "source": [
    "# Calculate RANKS based on Gene score"
   ]
  },
  {
   "cell_type": "code",
   "execution_count": 45,
   "metadata": {},
   "outputs": [],
   "source": [
    "%%R\n",
    "# Calculate RANKS based on genescore\n",
    "ranks_avg_genescore<- tibble::deframe( DE_Seurat_mapped%>%  dplyr::select(entrezID , gene.score )) \n",
    "ranks_avg_genescore[1:4]\n",
    "gsea_kegg_genescore <- gseKEGG(sort(ranks_avg_genescore,decreasing=T), nPerm=10000,\n",
    "                pvalueCutoff=1,minGSSize = 0,\n",
    "                pAdjustMethod=\"BH\", verbose=FALSE)\n",
    "readr::write_csv(as.data.frame(gsea_kegg_log2FC),\n",
    "        file=paste0(resultdir,CellType,\"_KEGG_GSEA_MinPct_\",min_pct_threshold,\"_Ranks_genescore.csv\"))"
   ]
  },
  {
   "cell_type": "code",
   "execution_count": 46,
   "metadata": {},
   "outputs": [
    {
     "name": "stdout",
     "output_type": "stream",
     "text": [
      "  KEGG_2021_Human.Term KEGG_2021_Human.Overlap KEGG_2021_Human.P.value\n",
      "1    Viral myocarditis              ratio 7/60             1.82988e-08\n",
      "  KEGG_2021_Human.Adjusted.P.value KEGG_2021_Human.Old.P.value\n",
      "1                     2.982704e-06                           0\n",
      "  KEGG_2021_Human.Old.Adjusted.P.value KEGG_2021_Human.Odds.Ratio\n",
      "1                                    0                   28.49385\n",
      "  KEGG_2021_Human.Combined.Score                       KEGG_2021_Human.Genes\n",
      "1                       507.6586 SGCD;ITGB2;PRF1;HLA-A;ITGAL;EIF4G3;HLA-DRB1\n",
      "  log10pval              term\n",
      "1  7.737577 Viral myocarditis\n"
     ]
    }
   ],
   "source": [
    "%%R\n",
    "kegg_pos_mat[1,]"
   ]
  },
  {
   "cell_type": "code",
   "execution_count": 47,
   "metadata": {},
   "outputs": [
    {
     "name": "stdout",
     "output_type": "stream",
     "text": [
      "[1] \"Viral myocarditis\"\n"
     ]
    },
    {
     "name": "stdout",
     "output_type": "stream",
     "text": [
      "[1] \"Natural killer cell mediated cytotoxicity\"\n",
      "[1] \"Human T-cell leukemia virus 1 infection\"\n",
      "[1] \"Graft-versus-host disease\"\n",
      "[1] \"Antigen processing and presentation\"\n",
      "[1] \"Cell adhesion molecules\"\n",
      "[1] \"T cell receptor signaling pathway\"\n",
      "[1] \"Allograft rejection\"\n",
      "[1] \"Type I diabetes mellitus\"\n",
      "[1] \"Rap1 signaling pathway\"\n"
     ]
    }
   ],
   "source": [
    "%%R\n",
    "library(enrichplot)\n",
    "sort_filt_gsea_kegg_genescore <- gsea_kegg_genescore[match(tolower(kegg_pos_mat$term[1:10]),tolower(gsea_kegg_genescore$Description)),]\n",
    "\n",
    "temp_dir <- paste0(resultdir,\"Top10_Upreg_Enriched_KeggGSEAPlot/\")\n",
    "dir.create(temp_dir)\n",
    "top_pos <- sort_filt_gsea_kegg_genescore\n",
    "for (row_iter in 1:10){\n",
    "    id_term <- top_pos$ID[row_iter]\n",
    "    text_term <- top_pos$Description[row_iter]\n",
    "    print(text_term)\n",
    "    p <- gseaplot2(gsea_kegg_genescore, geneSetID = id_term,subplots = 1:3,pvalue_table = F,title=text_term)\n",
    "    ## Initiate writing to PDF file\n",
    "    pdf(paste0(temp_dir,CellType,\n",
    "        \"_Enr_KEGG_GSPlot_\",id_term,\"_pct_\",min_pct_threshold,\n",
    "            \"_logfc.thres_\",logfc.threshold,\n",
    "            \"_Ranks_gs_up.pdf\"), height = 8.5, width = 11)\n",
    "    ## Create a graphical object g here\n",
    "    print(p)# print it\n",
    "    ## Stop writing to the PDF file\n",
    "    dev.off()\n",
    "}\n"
   ]
  },
  {
   "cell_type": "code",
   "execution_count": null,
   "metadata": {},
   "outputs": [],
   "source": []
  },
  {
   "cell_type": "code",
   "execution_count": 48,
   "metadata": {},
   "outputs": [
    {
     "name": "stdout",
     "output_type": "stream",
     "text": [
      "[1] \"Osteoclast differentiation\"\n"
     ]
    },
    {
     "name": "stdout",
     "output_type": "stream",
     "text": [
      "[1] \"Hepatitis B\"\n",
      "[1] \"cAMP signaling pathway\"\n",
      "[1] \"Measles\"\n",
      "[1] \"Apoptosis\"\n",
      "[1] \"Colorectal cancer\"\n",
      "[1] \"AGE-RAGE signaling pathway in diabetic complications\"\n",
      "[1] \"T cell receptor signaling pathway\"\n",
      "[1] \"Chronic myeloid leukemia\"\n",
      "[1] \"Fluid shear stress and atherosclerosis\"\n"
     ]
    }
   ],
   "source": [
    "%%R\n",
    "sort_filt_gsea_kegg_genescore <- gsea_kegg_genescore[match(tolower(kegg_neg_mat$term[1:10]),tolower(gsea_kegg_genescore$Description)),]\n",
    "temp_dir <- paste0(resultdir,\"Top10_Downreg_Enriched_KeggGSEAPlot/\")\n",
    "dir.create(temp_dir)\n",
    "top_neg <- sort_filt_gsea_kegg_genescore\n",
    "for (row_iter in 1:10){\n",
    "    id_term <- top_neg$ID[row_iter]\n",
    "    text_term <- top_neg$Description[row_iter]\n",
    "    print(text_term)\n",
    "    p <- gseaplot2(gsea_kegg_genescore, geneSetID = id_term,subplots = 1:3,pvalue_table = F,title=text_term)\n",
    "    ## Initiate writing to PDF file\n",
    "    pdf(paste0(temp_dir,CellType,\n",
    "        \"_Enr_KEGG_GSPlot_\",id_term,\"_pct_\",min_pct_threshold,\n",
    "            \"_logfc.thres_\",logfc.threshold,\n",
    "            \"_Ranks_gs_down.pdf\"), height = 8.5, width = 11)\n",
    "    ## Create a graphical object g here\n",
    "    print(p)# print it\n",
    "    ## Stop writing to the PDF file\n",
    "    dev.off()\n",
    "}"
   ]
  },
  {
   "cell_type": "code",
   "execution_count": 49,
   "metadata": {},
   "outputs": [
    {
     "name": "stdout",
     "output_type": "stream",
     "text": [
      "[1] \"Immunoregulatory interactions between a Lymphoid and a non-Lymphoid cell\"\n",
      "[2] \"Signaling by Insulin receptor\"                                           \n",
      "[3] \"Insulin receptor signalling cascade\"                                     \n"
     ]
    }
   ],
   "source": [
    "%%R\n",
    "library(ReactomePA)\n",
    "require(clusterProfiler)\n",
    "gsea_reactome_genescore <- gsePathway(sort(ranks_avg_genescore,decreasing=T), nPerm=10000,\n",
    "                pvalueCutoff=1,minGSSize = 0,\n",
    "                pAdjustMethod=\"BH\", verbose=FALSE)\n",
    "readr::write_csv(as.data.frame(gsea_reactome_genescore),\n",
    "        file=paste0(resultdir,CellType,\"_GSEA_MinPct_\",min_pct_threshold,\"_Ranks_genescore.csv\"))\n",
    "gsea_reactome_genescore[1:3,\"Description\"]\n",
    "# TOP UP GSEA REACTOME"
   ]
  },
  {
   "cell_type": "code",
   "execution_count": 50,
   "metadata": {},
   "outputs": [],
   "source": [
    "%%R \n",
    "pos_IDs <- unlist(lapply( reactome_pos_mat$Reactome_2022.Term,function(term){\n",
    "        splitted_str <- strsplit(term,\" \")[[1]]\n",
    "        indxex_id <- grep(\"R-HSA\",splitted_str)\n",
    "        ID <- splitted_str[grep(\"R-HSA\",splitted_str)]\n",
    "        return(ID)\n",
    "    }))\n",
    "reactome_pos_mat$ID <- pos_IDs\n",
    "pos_Term <- unlist(lapply( reactome_pos_mat$Reactome_2022.Term,function(term){\n",
    "        splitted_str <- strsplit(term,\" \")[[1]]\n",
    "        indxex_id <- grep(\"R-HSA\",splitted_str)\n",
    "        Term_text <- paste(splitted_str[1:indxex_id-1],collapse=\" \")\n",
    "        return(Term_text)\n",
    "    }))\n",
    "reactome_pos_mat$term <- pos_Term\n",
    "\n",
    "neg_IDs <- unlist(lapply( reactome_neg_mat$Reactome_2022.Term,function(term){\n",
    "        splitted_str <- strsplit(term,\" \")[[1]]\n",
    "        indxex_id <- grep(\"R-HSA\",splitted_str)\n",
    "        ID <- splitted_str[grep(\"R-HSA\",splitted_str)]\n",
    "        return(ID)\n",
    "    }))\n",
    "reactome_neg_mat$ID <- neg_IDs\n",
    "neg_Term <- unlist(lapply( reactome_neg_mat$Reactome_2022.Term,function(term){\n",
    "        splitted_str <- strsplit(term,\" \")[[1]]\n",
    "        indxex_id <- grep(\"R-HSA\",splitted_str)\n",
    "        Term_text <- paste(splitted_str[1:indxex_id-1],collapse=\" \")\n",
    "        return(Term_text)\n",
    "    }))\n",
    "reactome_neg_mat$term <- neg_Term"
   ]
  },
  {
   "cell_type": "code",
   "execution_count": 51,
   "metadata": {},
   "outputs": [
    {
     "name": "stdout",
     "output_type": "stream",
     "text": [
      "[1] \"Adaptive Immune System\"\n"
     ]
    },
    {
     "name": "stdout",
     "output_type": "stream",
     "text": [
      "[1] \"Immune System\"\n",
      "[1] \"Immunoregulatory Interactions Between A Lymphoid And A non-Lymphoid Cell\"\n",
      "[1] \"Generation Of Second Messenger Molecules\"\n",
      "[1] \"Hemostasis\"\n",
      "[1] \"TCR Signaling\"\n",
      "[1] \"DAP12 Signaling\"\n",
      "[1] \"FCERI Mediated Ca+2 Mobilization\"\n",
      "[1] \"Interferon Signaling\"\n",
      "[1] \"Cytokine Signaling In Immune System\"\n"
     ]
    }
   ],
   "source": [
    "%%R -i resultdir -i CellType\n",
    "temp_dir <- paste0(resultdir,\"Top10_Upreg_Enriched_GSEAPlot/\")\n",
    "dir.create(temp_dir)\n",
    "top_pos <- reactome_pos_mat[1:10,]\n",
    "for (row_iter in 1:10){\n",
    "    id_term <- top_pos$ID[row_iter]\n",
    "    text_term <- as.vector(top_pos$term)[row_iter]\n",
    "    print(text_term)\n",
    "    p <- gseaplot2(gsea_reactome_genescore, geneSetID = id_term,subplots = 1:3,pvalue_table = F,title=text_term)\n",
    "    # Initiate writing to PDF file\n",
    "    pdf(paste0(temp_dir,CellType,\n",
    "        \"_Enr_React_GSPlot_\",id_term,\"_pct_\",min_pct_threshold,\n",
    "            \"_logfc.thres_\",logfc.threshold,\n",
    "            \"_Ranks_gs_up.pdf\"), height = 8.5, width = 11)\n",
    "    # Create a graphical object g here\n",
    "    print(p)# print it\n",
    "    # Stop writing to the PDF file\n",
    "    dev.off()\n",
    "}"
   ]
  },
  {
   "cell_type": "code",
   "execution_count": 52,
   "metadata": {},
   "outputs": [
    {
     "name": "stdout",
     "output_type": "stream",
     "text": [
      "[1] \"Signal Transduction\"\n"
     ]
    },
    {
     "name": "stdout",
     "output_type": "stream",
     "text": [
      "[1] \"Cytokine Signaling In Immune System\"\n",
      "[1] \"Signaling By Interleukins\"\n",
      "[1] \"Immune System\"\n",
      "[1] \"Diseases Of Signal Transduction By Growth Factor Receptors And Second Messengers\"\n",
      "[1] \"Gene Expression (Transcription)\"\n",
      "[1] \"RNA Polymerase II Transcription\"\n",
      "[1] \"Signaling By ALK Fusions And Activated Point Mutants\"\n",
      "[1] \"Intracellular Signaling By Second Messengers\"\n",
      "[1] \"Generic Transcription Pathway\"\n"
     ]
    }
   ],
   "source": [
    "%%R -i resultdir -i CellType\n",
    "temp_dir <- paste0(resultdir,\"Top10_Downreg_Enriched_GSEAPlot/\")\n",
    "dir.create(temp_dir)\n",
    "top_neg <- reactome_neg_mat[1:10,]\n",
    "for (row_iter in 1:10){\n",
    "    id_term <- top_neg$ID[row_iter]\n",
    "    text_term <- top_neg$term[row_iter]\n",
    "    print(text_term)\n",
    "    p <- gseaplot2(gsea_reactome_genescore, geneSetID = id_term,subplots = 1:3,pvalue_table = F,title=text_term)\n",
    "    ## Initiate writing to PDF file\n",
    "    pdf(paste0(temp_dir,CellType,\n",
    "        \"_Enr_React_GSPlot_\",id_term,\"_pct_\",min_pct_threshold,\n",
    "            \"_logfc.thres_\",logfc.threshold,\n",
    "            \"_Ranks_gs_down.pdf\"), height = 8.5, width = 11)\n",
    "    ## Create a graphical object g here\n",
    "    print(p)# print it\n",
    "    ## Stop writing to the PDF file\n",
    "    dev.off()\n",
    "}"
   ]
  },
  {
   "cell_type": "code",
   "execution_count": 53,
   "metadata": {},
   "outputs": [
    {
     "data": {
      "image/png": "[encoded data removed]",
      "text/plain": [
       "<IPython.core.display.Image object>"
      ]
     },
     "metadata": {},
     "output_type": "display_data"
    }
   ],
   "source": [
    "%%R -i resultdir -i CellType\n",
    "p <- gseaplot2(gsea_reactome_genescore, geneSetID = \"R-HSA-8939246\",subplots = 1:6,pvalue_table = F)\n",
    "## Initiate writing to PDF file\n",
    "pdf(paste0(resultdir,CellType,\n",
    "       \"_GSE_RUNX1_pct_\",min_pct_threshold,\n",
    "        \"_logfc.thres_\",logfc.threshold,\n",
    "        \"_Ranks_gs.pdf\"), height = 8.5, width = 11)\n",
    "## Create a graphical object g here\n",
    "print(p)# print it\n",
    "## Stop writing to the PDF file\n",
    "dev.off()\n",
    "p"
   ]
  },
  {
   "cell_type": "code",
   "execution_count": null,
   "metadata": {},
   "outputs": [],
   "source": []
  },
  {
   "attachments": {},
   "cell_type": "markdown",
   "metadata": {},
   "source": [
    "# KEGG GSEA ONLY POSSITIVE & ONLY NEG"
   ]
  },
  {
   "cell_type": "code",
   "execution_count": 54,
   "metadata": {},
   "outputs": [],
   "source": [
    "%%R\n",
    "library(enrichplot)\n",
    "# Calculate RANKS based on genescore\n",
    "ranks_genescore_pos<- tibble::deframe( DE_Seurat_mapped %>% filter(gene.score>0) %>%  dplyr::select(entrezID , gene.score )) \n",
    "ranks_genescore_pos[1:4]\n",
    "gsea_kegg_genescore_pos <- gseKEGG(sort(ranks_genescore_pos,decreasing=T), nPerm=10000,\n",
    "                pvalueCutoff=1,minGSSize = 0,\n",
    "                pAdjustMethod=\"BH\", verbose=FALSE)\n",
    "# ==== Keep only pos enriched\n",
    "gsea_kegg_genescore_pos  <- gsea_kegg_genescore_pos %>% filter(enrichmentScore>=0)  \n",
    "readr::write_csv(as.data.frame(gsea_kegg_genescore_pos),\n",
    "        file=paste0(resultdir,CellType,\"_GSEA_KEGG_MinPct_\",min_pct_threshold,\"_Ranks_genescore_POS.csv\"))\n",
    "\n",
    "# Calculate RANKS based on genescore\n",
    "ranks_genescore_neg<- tibble::deframe( DE_Seurat_mapped %>% filter(gene.score<0) %>%  dplyr::select(entrezID , gene.score )) \n",
    "ranks_genescore_neg[1:4]\n",
    "gsea_kegg_genescore_neg <- gseKEGG(sort(ranks_genescore_neg,decreasing=T), nPerm=10000,\n",
    "                pvalueCutoff=1,minGSSize = 0,\n",
    "                pAdjustMethod=\"BH\", verbose=FALSE)\n",
    "# ==== Keep only pos enriched\n",
    "gsea_kegg_genescore_neg  <- gsea_kegg_genescore_neg %>% filter(enrichmentScore<=0)  \n",
    "readr::write_csv(as.data.frame(gsea_kegg_genescore_neg),\n",
    "        file=paste0(resultdir,CellType,\"_GSEA_KEGG_MinPct_\",min_pct_threshold,\"_Ranks_genescore_NEG.csv\"))"
   ]
  },
  {
   "cell_type": "code",
   "execution_count": 55,
   "metadata": {},
   "outputs": [],
   "source": [
    "%%R\n",
    "# ====================================== PLOTTING  POS =====================================================================\n",
    "temp_dir <- paste0(resultdir,\"Top10_Upreg_GSEA_Kegg_GSEAPlot_ONLY_POS/\")\n",
    "dir.create(temp_dir)\n",
    "for (row_iter in c(1:10)){\n",
    "    id_term <- gsea_kegg_genescore_pos$ID[row_iter]\n",
    "    text_term <- gsea_kegg_genescore_pos$Description[row_iter]\n",
    "    p <- gseaplot2(gsea_kegg_genescore_pos, geneSetID = id_term,subplots = 1:3,pvalue_table = F,title=text_term)\n",
    "    ## Initiate writing to PDF file\n",
    "    pdf(paste0(temp_dir,CellType,\n",
    "        \"_GS_KEGG_GSPlot_\",id_term,\"_pct_\",min_pct_threshold,\n",
    "            \"_logfc.thres_\",logfc.threshold,\n",
    "            \"_Ranks_gs_only_pos.pdf\"), height = 8.5, width = 11)\n",
    "    ## Create a graphical object g here\n",
    "    print(p)# print it\n",
    "    ## Stop writing to the PDF file\n",
    "    dev.off()\n",
    "}"
   ]
  },
  {
   "cell_type": "code",
   "execution_count": 56,
   "metadata": {},
   "outputs": [],
   "source": [
    "%%R\n",
    "# ====================================== PLOTTING  POS =====================================================================\n",
    "sort_filt_gsea_kegg_genescore <- gsea_kegg_genescore_pos[match(tolower(as.vector(kegg_pos_mat$term)[1:10]),tolower(gsea_kegg_genescore_pos$Description))%>% na.omit(),]\n",
    "temp_dir <- paste0(resultdir,\"Top10_Upreg_Enriched_KeggGSEAPlot_ONLY_POS/\")\n",
    "dir.create(temp_dir)\n",
    "top_pos <- sort_filt_gsea_kegg_genescore\n",
    "for (row_iter in 1:dim(sort_filt_gsea_kegg_genescore)[1]){\n",
    "    id_term <- top_pos$ID[row_iter]\n",
    "    text_term <- top_pos$Description[row_iter]\n",
    "    p <- gseaplot2(gsea_kegg_genescore_pos, geneSetID = id_term,subplots = 1:3,pvalue_table = F,title=text_term)\n",
    "    ## Initiate writing to PDF file\n",
    "    pdf(paste0(temp_dir,CellType,\n",
    "        \"_Enr_KEGG_GS_\",id_term,\"_pct_\",min_pct_threshold,\n",
    "            \"_logfc.thres_\",logfc.threshold,\n",
    "            \"_Ranks_gs_only_pos.pdf\"), height = 8.5, width = 11)\n",
    "    ## Create a graphical object g here\n",
    "    print(p)# print it\n",
    "    ## Stop writing to the PDF file\n",
    "    dev.off()\n",
    "}"
   ]
  },
  {
   "cell_type": "code",
   "execution_count": 57,
   "metadata": {},
   "outputs": [],
   "source": [
    "%%R\n",
    "# ====================================== PLOTTING  POS =====================================================================\n",
    "temp_dir <- paste0(resultdir,\"Top10_Upreg_GSEA_Kegg_GSEAPlot_ONLY_NEG/\")\n",
    "dir.create(temp_dir)\n",
    "for (row_iter in c(1:10)){\n",
    "    id_term <- gsea_kegg_genescore_neg$ID[row_iter]\n",
    "    text_term <- gsea_kegg_genescore_neg$Description[row_iter]\n",
    "    p <- gseaplot2(gsea_kegg_genescore_neg, geneSetID = id_term,subplots = 1:3,pvalue_table = F,title=text_term)\n",
    "    ## Initiate writing to PDF file\n",
    "    pdf(paste0(temp_dir,CellType,\n",
    "        \"_GS_KEGG_GSPlot_\",id_term,\"_pct_\",min_pct_threshold,\n",
    "            \"_logfc.thres_\",logfc.threshold,\n",
    "            \"_Ranks_genescore_only_neg.pdf\"), height = 8.5, width = 11)\n",
    "    ## Create a graphical object g here\n",
    "    print(p)# print it\n",
    "    ## Stop writing to the PDF file\n",
    "    dev.off()\n",
    "}"
   ]
  },
  {
   "cell_type": "code",
   "execution_count": 58,
   "metadata": {},
   "outputs": [],
   "source": [
    "%%R\n",
    "# ====================================== PLOTTING  NEG =====================================================================\n",
    "sort_filt_gsea_kegg_genescore <- gsea_kegg_genescore_neg[match(tolower(as.vector(kegg_neg_mat$term[1:10])),tolower(gsea_kegg_genescore_neg$Description))%>% na.omit(),]\n",
    "temp_dir <- paste0(resultdir,\"Top10_Downreg_Enriched_KeggGSEAPlot_ONLY_NEG/\")\n",
    "dir.create(temp_dir)\n",
    "top_neg <- sort_filt_gsea_kegg_genescore\n",
    "for (row_iter in 1:dim(sort_filt_gsea_kegg_genescore)[1]){\n",
    "    id_term <- top_neg$ID[row_iter]\n",
    "    text_term <- top_neg$Description[row_iter]\n",
    "    p <- gseaplot2(gsea_kegg_genescore_neg, geneSetID = id_term,subplots = 1:3,pvalue_table = F,title=text_term)\n",
    "    ## Initiate writing to PDF file\n",
    "    pdf(paste0(temp_dir,CellType,\n",
    "        \"_Enr_KEGG_GS_\",id_term,\"_pct_\",min_pct_threshold,\n",
    "            \"_logfc.thres_\",logfc.threshold,\n",
    "            \"_Ranks_gs_only_neg.pdf\"), height = 8.5, width = 11)\n",
    "    ## Create a graphical object g here\n",
    "    print(p)# print it\n",
    "    ## Stop writing to the PDF file\n",
    "    dev.off()\n",
    "}"
   ]
  },
  {
   "attachments": {},
   "cell_type": "markdown",
   "metadata": {},
   "source": [
    "# Reactome GSEA ONLY POSSITIVE & ONLY NEG"
   ]
  },
  {
   "cell_type": "code",
   "execution_count": null,
   "metadata": {},
   "outputs": [],
   "source": []
  },
  {
   "cell_type": "code",
   "execution_count": 59,
   "metadata": {},
   "outputs": [],
   "source": [
    "%%R\n",
    "library(ReactomePA)\n",
    "require(clusterProfiler)\n",
    "# Calculate RANKS based on genescore\n",
    "ranks_genescore_pos<- tibble::deframe( DE_Seurat_mapped %>% filter(gene.score>0) %>%  dplyr::select(entrezID , gene.score )) \n",
    "ranks_genescore_pos[1:4]\n",
    "gsea_Reactome_genescore_pos <- gsePathway(sort(ranks_genescore_pos,decreasing=T), nPerm=10000,\n",
    "                pvalueCutoff=1,minGSSize = 0,\n",
    "                pAdjustMethod=\"BH\", verbose=FALSE)\n",
    "# ==== Keep only pos enriched\n",
    "gsea_Reactome_genescore_pos  <- gsea_Reactome_genescore_pos %>% filter(enrichmentScore>=0)  \n",
    "readr::write_csv(as.data.frame(gsea_Reactome_genescore_pos),\n",
    "        file=paste0(resultdir,CellType,\"_GSEA_Reactome_MinPct_\",min_pct_threshold,\"_Ranks_genescore_POS.csv\"))\n",
    "\n",
    "# Calculate RANKS based on genescore\n",
    "ranks_genescore_neg<- tibble::deframe( DE_Seurat_mapped %>% filter(gene.score<0) %>%  dplyr::select(entrezID , gene.score )) \n",
    "ranks_genescore_neg[1:4]\n",
    "gsea_Reactome_genescore_neg <- gsePathway(sort(ranks_genescore_neg,decreasing=T), nPerm=10000,\n",
    "                pvalueCutoff=1,minGSSize = 0,\n",
    "                pAdjustMethod=\"BH\", verbose=FALSE)\n",
    "# ==== Keep only neg enriched\n",
    "gsea_Reactome_genescore_neg  <- gsea_Reactome_genescore_neg %>% filter(enrichmentScore<=0)  \n",
    "readr::write_csv(as.data.frame(gsea_Reactome_genescore_neg),\n",
    "        file=paste0(resultdir,CellType,\"_GSEA_Reactome_MinPct_\",min_pct_threshold,\"_Ranks_genescore_NEG.csv\"))"
   ]
  },
  {
   "cell_type": "code",
   "execution_count": 60,
   "metadata": {},
   "outputs": [
    {
     "name": "stdout",
     "output_type": "stream",
     "text": [
      "                         ID                                    Description\n",
      "R-HSA-202733   R-HSA-202733 Cell surface interactions at the vascular wall\n",
      "R-HSA-6803157 R-HSA-6803157                         Antimicrobial peptides\n",
      "R-HSA-977068   R-HSA-977068           Termination of O-glycan biosynthesis\n",
      "R-HSA-9683673 R-HSA-9683673                       Maturation of protein 3a\n",
      "R-HSA-9694719 R-HSA-9694719                       Maturation of protein 3a\n",
      "R-HSA-1280218 R-HSA-1280218                         Adaptive Immune System\n",
      "              setSize enrichmentScore      NES      pvalue  p.adjust    qvalue\n",
      "R-HSA-202733       15       0.7459749 1.608715 0.009436834 0.9420904 0.9420904\n",
      "R-HSA-6803157       1       0.9991438 1.332171 0.003833737 0.9420904 0.9420904\n",
      "R-HSA-977068        1       0.9957192 1.327605 0.011702986 0.9420904 0.9420904\n",
      "R-HSA-9683673       1       0.9957192 1.327605 0.011702986 0.9420904 0.9420904\n",
      "R-HSA-9694719       1       0.9957192 1.327605 0.011702986 0.9420904 0.9420904\n",
      "R-HSA-1280218     145       0.5076424 1.254552 0.010098990 0.9420904 0.9420904\n",
      "              rank                    leading_edge\n",
      "R-HSA-202733    63   tags=33%, list=5%, signal=32%\n",
      "R-HSA-6803157    2 tags=100%, list=0%, signal=100%\n",
      "R-HSA-977068     6 tags=100%, list=1%, signal=100%\n",
      "R-HSA-9683673    6 tags=100%, list=1%, signal=100%\n",
      "R-HSA-9694719    6 tags=100%, list=1%, signal=100%\n",
      "R-HSA-1280218  351  tags=43%, list=30%, signal=34%\n",
      "                                                                                                                                                                                                                                                                                                                            core_enrichment\n",
      "R-HSA-202733                                                                                                                                                                                                                                                                                                         972/3689/3683/6693/914\n",
      "R-HSA-6803157                                                                                                                                                                                                                                                                                                                         10578\n",
      "R-HSA-977068                                                                                                                                                                                                                                                                                                                           6480\n",
      "R-HSA-9683673                                                                                                                                                                                                                                                                                                                          6480\n",
      "R-HSA-9694719                                                                                                                                                                                                                                                                                                                          6480\n",
      "R-HSA-1280218 3123/972/10219/3689/23108/57674/3820/3105/3683/4775/6892/9402/3824/11118/925/6786/3937/84433/2533/57823/5336/79109/2214/5698/3113/5530/54461/915/916/5567/30011/1075/5293/29990/7535/3695/10870/811/10666/5699/1445/51348/926/26234/808/2923/8673/6494/11119/6890/5788/4068/5478/7314/55615/3134/27040/917/4012/5721/5696/832\n"
     ]
    }
   ],
   "source": [
    "%%R\n",
    "head(gsea_Reactome_genescore_pos)"
   ]
  },
  {
   "cell_type": "code",
   "execution_count": 61,
   "metadata": {},
   "outputs": [
    {
     "name": "stdout",
     "output_type": "stream",
     "text": [
      "                         ID\n",
      "R-HSA-74752     R-HSA-74752\n",
      "R-HSA-1433557 R-HSA-1433557\n",
      "R-HSA-442755   R-HSA-442755\n",
      "R-HSA-111933   R-HSA-111933\n",
      "R-HSA-111996   R-HSA-111996\n",
      "R-HSA-111997   R-HSA-111997\n",
      "                                                       Description setSize\n",
      "R-HSA-74752                          Signaling by Insulin receptor       9\n",
      "R-HSA-1433557                                 Signaling by SCF-KIT       9\n",
      "R-HSA-442755  Activation of NMDA receptors and postsynaptic events      12\n",
      "R-HSA-111933                             Calmodulin induced events       6\n",
      "R-HSA-111996                                   Ca-dependent events       6\n",
      "R-HSA-111997                                           CaM pathway       6\n",
      "              enrichmentScore       NES      pvalue  p.adjust    qvalue rank\n",
      "R-HSA-74752        -0.8744076 -1.680449 0.001904560 0.4788321 0.4597061   17\n",
      "R-HSA-1433557      -0.8463501 -1.626528 0.004020739 0.4788321 0.4597061  142\n",
      "R-HSA-442755       -0.8000842 -1.594808 0.005354752 0.4788321 0.4597061  175\n",
      "R-HSA-111933       -0.8759047 -1.577543 0.007654210 0.4788321 0.4597061  175\n",
      "R-HSA-111996       -0.8759047 -1.577543 0.007654210 0.4788321 0.4597061  175\n",
      "R-HSA-111997       -0.8759047 -1.577543 0.007654210 0.4788321 0.4597061  175\n",
      "                                leading_edge                   core_enrichment\n",
      "R-HSA-74752    tags=22%, list=1%, signal=22%                         5295/5140\n",
      "R-HSA-1433557 tags=56%, list=10%, signal=50%          6777/2241/2534/5578/5295\n",
      "R-HSA-442755  tags=58%, list=12%, signal=52% 805/7277/5576/814/10383/5613/8573\n",
      "R-HSA-111933  tags=83%, list=12%, signal=74%            805/5576/814/5578/5613\n",
      "R-HSA-111996  tags=83%, list=12%, signal=74%            805/5576/814/5578/5613\n",
      "R-HSA-111997  tags=83%, list=12%, signal=74%            805/5576/814/5578/5613\n"
     ]
    }
   ],
   "source": [
    "%%R\n",
    "head(gsea_Reactome_genescore_neg)"
   ]
  },
  {
   "cell_type": "code",
   "execution_count": 62,
   "metadata": {},
   "outputs": [
    {
     "name": "stdout",
     "output_type": "stream",
     "text": [
      " [1] \"Adaptive Immune System\"                                                  \n",
      " [2] \"Immune System\"                                                           \n",
      " [3] \"Immunoregulatory Interactions Between A Lymphoid And A non-Lymphoid Cell\"\n",
      " [4] \"Generation Of Second Messenger Molecules\"                                \n",
      " [5] \"Hemostasis\"                                                              \n",
      " [6] \"TCR Signaling\"                                                           \n",
      " [7] \"DAP12 Signaling\"                                                         \n",
      " [8] \"FCERI Mediated Ca+2 Mobilization\"                                        \n",
      " [9] \"Interferon Signaling\"                                                    \n",
      "[10] \"Cytokine Signaling In Immune System\"                                     \n"
     ]
    }
   ],
   "source": [
    "%%R\n",
    "as.vector(reactome_pos_mat$term)[1:10]"
   ]
  },
  {
   "cell_type": "code",
   "execution_count": 63,
   "metadata": {},
   "outputs": [
    {
     "name": "stdout",
     "output_type": "stream",
     "text": [
      " [1] \"cell surface interactions at the vascular wall\"     \n",
      " [2] \"antimicrobial peptides\"                             \n",
      " [3] \"termination of o-glycan biosynthesis\"               \n",
      " [4] \"maturation of protein 3a\"                           \n",
      " [5] \"maturation of protein 3a\"                           \n",
      " [6] \"adaptive immune system\"                             \n",
      " [7] \"immune system\"                                      \n",
      " [8] \"notch3 intracellular domain regulates transcription\"\n",
      " [9] \"pre-notch transcription and translation\"            \n",
      "[10] \"regulation of beta-cell development\"                \n"
     ]
    }
   ],
   "source": [
    "%%R\n",
    "tolower(gsea_Reactome_genescore_pos$Description)[1:10]"
   ]
  },
  {
   "cell_type": "code",
   "execution_count": 64,
   "metadata": {},
   "outputs": [
    {
     "name": "stdout",
     "output_type": "stream",
     "text": [
      " [1] \"Cell surface interactions at the vascular wall\"     \n",
      " [2] \"Antimicrobial peptides\"                             \n",
      " [3] \"Termination of O-glycan biosynthesis\"               \n",
      " [4] \"Maturation of protein 3a\"                           \n",
      " [5] \"Maturation of protein 3a\"                           \n",
      " [6] \"Adaptive Immune System\"                             \n",
      " [7] \"Immune System\"                                      \n",
      " [8] \"NOTCH3 Intracellular Domain Regulates Transcription\"\n",
      " [9] \"Pre-NOTCH Transcription and Translation\"            \n",
      "[10] \"Regulation of beta-cell development\"                \n"
     ]
    }
   ],
   "source": [
    "%%R\n",
    "gsea_Reactome_genescore_pos$Description[1:10]"
   ]
  },
  {
   "cell_type": "code",
   "execution_count": 65,
   "metadata": {},
   "outputs": [],
   "source": [
    "%%R\n",
    "# ====================================== PLOTTING  POS =====================================================================\n",
    "temp_dir <- paste0(resultdir,\"Top10_Upreg_GSEA_Reactome_GSEAPlot_ONLY_POS/\")\n",
    "dir.create(temp_dir)\n",
    "for (row_iter in c(1:10)){\n",
    "    id_term <- gsea_Reactome_genescore_pos$ID[row_iter]\n",
    "    text_term <- gsea_Reactome_genescore_pos$Description[row_iter]\n",
    "    p <- gseaplot2(gsea_Reactome_genescore_pos, geneSetID = id_term,subplots = 1:3,pvalue_table = F,title=text_term)\n",
    "    ## Initiate writing to PDF file\n",
    "    pdf(paste0(temp_dir,CellType,\n",
    "        \"_GS_React_GSPlot_\",id_term,\"_pct_\",min_pct_threshold,\n",
    "            \"_logfc.thres_\",logfc.threshold,\n",
    "            \"_Ranks_gs_only_pos.pdf\"), height = 8.5, width = 11)\n",
    "    ## Create a graphical object g here\n",
    "    print(p)# print it\n",
    "    ## Stop writing to the PDF file\n",
    "    dev.off()\n",
    "}"
   ]
  },
  {
   "cell_type": "code",
   "execution_count": 66,
   "metadata": {},
   "outputs": [
    {
     "name": "stdout",
     "output_type": "stream",
     "text": [
      "[1] 10 11\n"
     ]
    }
   ],
   "source": [
    "%%R\n",
    "# ====================================== PLOTTING  POS =====================================================================\n",
    "sort_filt_gsea_Reactome_genescore <- gsea_Reactome_genescore_pos[match(tolower(as.vector(reactome_pos_mat$term))[1:10],tolower(gsea_Reactome_genescore_pos$Description))%>% na.omit(),]\n",
    "temp_dir <- paste0(resultdir,\"Top10_Upreg_Enriched_Reactome_GSEAPlot_ONLY_POS/\")\n",
    "dir.create(temp_dir)\n",
    "print(dim(sort_filt_gsea_Reactome_genescore))\n",
    "top_pos <- sort_filt_gsea_Reactome_genescore\n",
    "for (row_iter in 1:dim(sort_filt_gsea_Reactome_genescore)[1]){\n",
    "    id_term <- top_pos$ID[row_iter]\n",
    "    text_term <- top_pos$Description[row_iter]\n",
    "    p <- gseaplot2(gsea_Reactome_genescore_pos, geneSetID = id_term,subplots = 1:3,pvalue_table = F,title=text_term)\n",
    "    ## Initiate writing to PDF file\n",
    "    pdf(paste0(temp_dir,CellType,\n",
    "        \"_Enr_React_GSPlot_\",id_term,\"_pct_\",min_pct_threshold,\n",
    "            \"_logfc.thres_\",logfc.threshold,\n",
    "            \"_Ranks_gs_only_pos.pdf\"), height = 8.5, width = 11)\n",
    "    ## Create a graphical object g here\n",
    "    print(p)# print it\n",
    "    ## Stop writing to the PDF file\n",
    "    dev.off()\n",
    "}"
   ]
  },
  {
   "cell_type": "code",
   "execution_count": 67,
   "metadata": {},
   "outputs": [],
   "source": [
    "%%R\n",
    "# ====================================== PLOTTING  neg =====================================================================\n",
    "temp_dir <- paste0(resultdir,\"Top10_Downreg_GSEA_Reactome_GSEAPlot_ONLY_NEG/\")\n",
    "dir.create(temp_dir)\n",
    "\n",
    "for (row_iter in c(1:10)){\n",
    "    id_term <- gsea_Reactome_genescore_neg$ID[row_iter]\n",
    "    text_term <- gsea_Reactome_genescore_neg$Description[row_iter]\n",
    "    p <- gseaplot2(gsea_Reactome_genescore_neg, geneSetID = id_term,subplots = 1:3,pvalue_table = F,title=text_term)\n",
    "    ## Initiate writing to PDF file\n",
    "    pdf(paste0(temp_dir,CellType,\n",
    "        \"_GS_React_GSPlot_\",id_term,\"_pct_\",min_pct_threshold,\n",
    "            \"_logfc.thres_\",logfc.threshold,\n",
    "            \"_Ranks_gs_only_neg.pdf\"), height = 8.5, width = 11)\n",
    "    ## Create a graphical object g here\n",
    "    print(p)# print it\n",
    "    ## Stop writing to the PDF file\n",
    "    dev.off()\n",
    "}"
   ]
  },
  {
   "cell_type": "code",
   "execution_count": 68,
   "metadata": {},
   "outputs": [
    {
     "name": "stdout",
     "output_type": "stream",
     "text": [
      "[1] 10 11\n"
     ]
    }
   ],
   "source": [
    "%%R\n",
    "# ====================================== PLOTTING  NEG =====================================================================\n",
    "sort_filt_gsea_Reactome_genescore <- gsea_Reactome_genescore_neg[match(tolower(as.vector(reactome_neg_mat$term)[1:10]),tolower(gsea_Reactome_genescore_neg$Description))%>% na.omit(),]\n",
    "temp_dir <- paste0(resultdir,\"Top10_Downreg_Enriched_Reactome_GSEAPlot_ONLY_NEG/\")\n",
    "dir.create(temp_dir)\n",
    "print(dim(sort_filt_gsea_Reactome_genescore))\n",
    "\n",
    "top_neg <- sort_filt_gsea_Reactome_genescore\n",
    "for (row_iter in 1:dim(sort_filt_gsea_Reactome_genescore)[1]){\n",
    "    id_term <- top_neg$ID[row_iter]\n",
    "    text_term <- top_neg$Description[row_iter]\n",
    "    p <- gseaplot2(gsea_Reactome_genescore_neg, geneSetID = id_term,subplots = 1:3,pvalue_table = F,title=text_term)\n",
    "    ## Initiate writing to PDF file\n",
    "    pdf(paste0(temp_dir,CellType,\n",
    "        \"_Enr_React_GSPlot_\",id_term,\"_pct_\",min_pct_threshold,\n",
    "            \"_logfc.thres_\",logfc.threshold,\n",
    "            \"_Ranks_gs_only_neg.pdf\"), height = 8.5, width = 11)\n",
    "    ## Create a graphical object g here\n",
    "    print(p)# print it\n",
    "    ## Stop writing to the PDF file\n",
    "    dev.off()\n",
    "}"
   ]
  },
  {
   "cell_type": "code",
   "execution_count": null,
   "metadata": {},
   "outputs": [],
   "source": []
  },
  {
   "attachments": {},
   "cell_type": "markdown",
   "metadata": {},
   "source": [
    "# END"
   ]
  },
  {
   "cell_type": "code",
   "execution_count": 69,
   "metadata": {},
   "outputs": [
    {
     "name": "stdout",
     "output_type": "stream",
     "text": [
      "R version 4.2.2 (2022-10-31 ucrt)\n",
      "Platform: x86_64-w64-mingw32/x64 (64-bit)\n",
      "Running under: Windows 10 x64 (build 22621)\n",
      "\n",
      "Matrix products: default\n",
      "\n",
      "locale:\n",
      "[1] LC_COLLATE=English_United States.1252 \n",
      "[2] LC_CTYPE=English_United States.1252   \n",
      "[3] LC_MONETARY=English_United States.1252\n",
      "[4] LC_NUMERIC=C                          \n",
      "[5] LC_TIME=English_United States.1252    \n",
      "\n",
      "attached base packages:\n",
      "[1] stats4    tools     stats     graphics  grDevices utils     datasets \n",
      "[8] methods   base     \n",
      "\n",
      "other attached packages:\n",
      " [1] ReactomePA_1.42.0           enrichplot_1.18.4          \n",
      " [3] EnhancedVolcano_1.16.0      ggrepel_0.9.2              \n",
      " [5] clusterProfiler_4.6.2       org.Hs.eg.db_3.16.0        \n",
      " [7] AnnotationDbi_1.60.2        forcats_1.0.0              \n",
      " [9] purrr_1.0.1                 readr_2.1.3                \n",
      "[11] tidyr_1.3.0                 tibble_3.2.0               \n",
      "[13] tidyverse_1.3.2             enrichR_3.2                \n",
      "[15] DESeq2_1.38.3               dittoSeq_1.10.0            \n",
      "[17] stringr_1.5.0               scCustomize_1.1.1          \n",
      "[19] dplyr_1.1.0                 BiocParallel_1.32.5        \n",
      "[21] scry_1.10.0                 scran_1.26.2               \n",
      "[23] scDblFinder_1.12.0          scater_1.26.1              \n",
      "[25] ggplot2_3.4.1               scuttle_1.8.4              \n",
      "[27] SingleCellExperiment_1.20.1 SummarizedExperiment_1.28.0\n",
      "[29] Biobase_2.58.0              GenomicRanges_1.50.2       \n",
      "[31] GenomeInfoDb_1.34.7         IRanges_2.32.0             \n",
      "[33] S4Vectors_0.36.1            BiocGenerics_0.44.0        \n",
      "[35] MatrixGenerics_1.10.0       matrixStats_0.63.0         \n",
      "[37] conos_1.5.0                 igraph_1.3.5               \n",
      "[39] SeuratWrappers_0.3.1        rliger_1.0.0               \n",
      "[41] patchwork_1.1.2             Matrix_1.5-3               \n",
      "[43] cowplot_1.1.1               sctransform_0.3.5          \n",
      "[45] SeuratObject_4.1.3          Seurat_4.3.0               \n",
      "\n",
      "loaded via a namespace (and not attached):\n",
      "  [1] rsvd_1.0.5                ica_1.0-3                \n",
      "  [3] Rsamtools_2.14.0          foreach_1.5.2            \n",
      "  [5] lmtest_0.9-40             crayon_1.5.2             \n",
      "  [7] MASS_7.3-58.1             WriteXLS_6.4.0           \n",
      "  [9] nlme_3.1-160              backports_1.4.1          \n",
      " [11] reprex_2.0.2              GOSemSim_2.24.0          \n",
      " [13] rlang_1.1.0               XVector_0.38.0           \n",
      " [15] HDO.db_0.99.1             ROCR_1.0-11              \n",
      " [17] readxl_1.4.1              irlba_2.3.5.1            \n",
      " [19] limma_3.54.2              xgboost_1.7.3.1          \n",
      " [21] rjson_0.2.21              bit64_4.0.5              \n",
      " [23] glue_1.6.2                pheatmap_1.0.12          \n",
      " [25] parallel_4.2.2            vipor_0.4.5              \n",
      " [27] spatstat.sparse_3.0-0     DOSE_3.24.2              \n",
      " [29] spatstat.geom_3.0-3       haven_2.5.1              \n",
      " [31] tidyselect_1.2.0          fitdistrplus_1.1-8       \n",
      " [33] XML_3.99-0.13             zoo_1.8-11               \n",
      " [35] GenomicAlignments_1.34.1  xtable_1.8-4             \n",
      " [37] magrittr_2.0.3            cli_3.6.0                \n",
      " [39] zlibbioc_1.44.0           miniUI_0.1.1.1           \n",
      " [41] sp_1.5-1                  fastmatch_1.1-3          \n",
      " [43] treeio_1.22.0             shiny_1.7.4              \n",
      " [45] BiocSingular_1.14.0       clue_0.3-64              \n",
      " [47] gson_0.1.0                cluster_2.1.4            \n",
      " [49] tidygraph_1.2.2           KEGGREST_1.38.0          \n",
      " [51] ape_5.7-1                 listenv_0.9.0            \n",
      " [53] Biostrings_2.66.0         png_0.1-8                \n",
      " [55] future_1.30.0             withr_2.5.0              \n",
      " [57] bitops_1.0-7              ggforce_0.4.1            \n",
      " [59] plyr_1.8.8                cellranger_1.1.0         \n",
      " [61] dqrng_0.3.0               pillar_1.8.1             \n",
      " [63] GlobalOptions_0.1.2       cachem_1.0.6             \n",
      " [65] fs_1.6.1                  hdf5r_1.3.7              \n",
      " [67] graphite_1.44.0           GetoptLong_1.0.5         \n",
      " [69] paletteer_1.5.0           DelayedMatrixStats_1.20.0\n",
      " [71] vctrs_0.5.2               ellipsis_0.3.2           \n",
      " [73] generics_0.1.3            beeswarm_0.4.0           \n",
      " [75] munsell_0.5.0             tweenr_2.0.2             \n",
      " [77] fgsea_1.24.0              DelayedArray_0.23.2      \n",
      " [79] fastmap_1.1.0             compiler_4.2.2           \n",
      " [81] abind_1.4-5               httpuv_1.6.7             \n",
      " [83] rtracklayer_1.58.0        plotly_4.10.1            \n",
      " [85] GenomeInfoDbData_1.2.9    gridExtra_2.3            \n",
      " [87] edgeR_3.40.2              riverplot_0.10           \n",
      " [89] lattice_0.20-45           deldir_1.0-6             \n",
      " [91] snow_0.4-4                utf8_1.2.3               \n",
      " [93] later_1.3.0               jsonlite_1.8.4           \n",
      " [95] scales_1.2.1              graph_1.76.0             \n",
      " [97] ScaledMatrix_1.6.0        tidytree_0.4.2           \n",
      " [99] pbapply_1.6-0             sparseMatrixStats_1.10.0 \n",
      "[101] lazyeval_0.2.2            promises_1.2.0.1         \n",
      "[103] doParallel_1.0.17         R.utils_2.12.2           \n",
      "[105] goftest_1.2-3             spatstat.utils_3.0-1     \n",
      "[107] reticulate_1.28           textshaping_0.3.6        \n",
      "[109] statmod_1.5.0             Rtsne_0.16               \n",
      "[111] downloader_0.4            uwot_0.1.14              \n",
      "[113] survival_3.4-0            yaml_2.3.6               \n",
      "[115] systemfonts_1.0.4         htmltools_0.5.4          \n",
      "[117] memoise_2.0.1             BiocIO_1.8.0             \n",
      "[119] locfit_1.5-9.7            graphlayouts_0.8.4       \n",
      "[121] viridisLite_0.4.1         digest_0.6.31            \n",
      "[123] assertthat_0.2.1          rappdirs_0.3.3           \n",
      "[125] mime_0.12                 RSQLite_2.3.0            \n",
      "[127] yulab.utils_0.0.6         future.apply_1.10.0      \n",
      "[129] remotes_2.4.2             data.table_1.14.6        \n",
      "[131] blob_1.2.3                R.oo_1.25.0              \n",
      "[133] ragg_1.2.5                labeling_0.4.2           \n",
      "[135] splines_4.2.2             rematch2_2.1.2           \n",
      "[137] googledrive_2.0.0         RCurl_1.98-1.10          \n",
      "[139] broom_1.0.4               hms_1.1.2                \n",
      "[141] modelr_0.1.10             colorspace_2.1-0         \n",
      "[143] BiocManager_1.30.19       ggbeeswarm_0.7.1         \n",
      "[145] shape_1.4.6               aplot_0.1.10             \n",
      "[147] ggrastr_1.0.2             Rcpp_1.0.10              \n",
      "[149] mclust_6.0.0              RANN_2.6.1               \n",
      "[151] circlize_0.4.15           fansi_1.0.4              \n",
      "[153] tzdb_0.3.0                parallelly_1.33.0        \n",
      "[155] R6_2.5.1                  grid_4.2.2               \n",
      "[157] ggridges_0.5.4            lifecycle_1.0.3          \n",
      "[159] bluster_1.8.0             curl_4.3.3               \n",
      "[161] googlesheets4_1.0.1       leiden_0.4.3             \n",
      "[163] snakecase_0.11.0          qvalue_2.30.0            \n",
      "[165] RcppAnnoy_0.0.20          RColorBrewer_1.1-3       \n",
      "[167] iterators_1.0.14          spatstat.explore_3.0-5   \n",
      "[169] htmlwidgets_1.6.1         beachmat_2.14.0          \n",
      "[171] polyclip_1.10-4           shadowtext_0.1.2         \n",
      "[173] gridGraphics_0.5-1        timechange_0.2.0         \n",
      "[175] reactome.db_1.82.0        rvest_1.0.3              \n",
      "[177] ComplexHeatmap_2.14.0     globals_0.16.2           \n",
      "[179] leidenAlg_1.0.5           spatstat.random_3.0-1    \n",
      "[181] progressr_0.13.0          codetools_0.2-18         \n",
      "[183] lubridate_1.9.1           GO.db_3.16.0             \n",
      "[185] FNN_1.1.3.1               metapod_1.6.0            \n",
      "[187] dbplyr_2.3.0              R.methodsS3_1.8.2        \n",
      "[189] gtable_0.3.1              DBI_1.1.3                \n",
      "[191] ggfun_0.0.9               tensor_1.5               \n",
      "[193] httr_1.4.4                KernSmooth_2.23-20       \n",
      "[195] vroom_1.6.1               stringi_1.7.12           \n",
      "[197] reshape2_1.4.4            farver_2.1.1             \n",
      "[199] annotate_1.76.0           viridis_0.6.2            \n",
      "[201] ggtree_3.6.2              xml2_1.3.3               \n",
      "[203] sccore_1.0.3              BiocNeighbors_1.16.0     \n",
      "[205] restfulr_0.0.15           geneplotter_1.76.0       \n",
      "[207] ggplotify_0.1.0           scattermore_0.8          \n",
      "[209] bit_4.0.5                 scatterpie_0.1.9         \n",
      "[211] spatstat.data_3.0-0       ggraph_2.1.0             \n",
      "[213] janitor_2.2.0             pkgconfig_2.0.3          \n",
      "[215] gargle_1.3.0              ggprism_1.0.4            \n"
     ]
    }
   ],
   "source": [
    "%%R\n",
    "sessionInfo()"
   ]
  },
  {
   "cell_type": "code",
   "execution_count": null,
   "metadata": {},
   "outputs": [],
   "source": []
  },
  {
   "cell_type": "code",
   "execution_count": null,
   "metadata": {},
   "outputs": [],
   "source": []
  }
 ],
 "metadata": {
  "kernelspec": {
   "display_name": "Py310",
   "language": "python",
   "name": "python3"
  },
  "language_info": {
   "codemirror_mode": {
    "name": "ipython",
    "version": 3
   },
   "file_extension": ".py",
   "mimetype": "text/x-python",
   "name": "python",
   "nbconvert_exporter": "python",
   "pygments_lexer": "ipython3",
   "version": "3.10.10"
  },
  "orig_nbformat": 4
 },
 "nbformat": 4,
 "nbformat_minor": 2
}
