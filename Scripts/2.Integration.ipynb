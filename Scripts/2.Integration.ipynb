{
 "cells": [
  {
   "cell_type": "code",
   "execution_count": 1,
   "metadata": {},
   "outputs": [
    {
     "name": "stderr",
     "output_type": "stream",
     "text": [
      "c:\\Users\\kyria.000\\anaconda3\\envs\\Py310\\lib\\site-packages\\rpy2\\robjects\\packages.py:367: UserWarning: The symbol 'quartz' is not in this R namespace/package.\n",
      "  warnings.warn(\n"
     ]
    }
   ],
   "source": [
    "import anndata2ri\n",
    "import logging\n",
    "import rpy2.rinterface_lib.callbacks as rcb\n",
    "import os\n",
    "import pandas as pd\n",
    "import numpy as np\n",
    "import rpy2.robjects as ro\n",
    "import sys\n",
    "\n",
    "import scanpy as sc\n",
    "import matplotlib.pyplot as plt\n",
    "\n",
    "rcb.logger.setLevel(logging.ERROR)\n",
    "ro.pandas2ri.activate()\n",
    "anndata2ri.activate()\n",
    "\n",
    "%load_ext rpy2.ipython"
   ]
  },
  {
   "cell_type": "code",
   "execution_count": 18,
   "metadata": {},
   "outputs": [
    {
     "data": {
      "text/plain": [
       "['HC_CCR7mCD45ROm_preprocessed.h5ad',\n",
       " 'HC_CCR7mCD45ROp_preprocessed.h5ad',\n",
       " 'HC_CCR7pCD45ROm_preprocessed.h5ad',\n",
       " 'HC_CCR7pCD45ROp_preprocessed.h5ad',\n",
       " 'PD_CCR7mCD45ROm_preprocessed.h5ad',\n",
       " 'PD_CCR7mCD45ROp_preprocessed.h5ad',\n",
       " 'PD_CCR7pCD45ROm_preprocessed.h5ad',\n",
       " 'PD_CCR7pCD45ROp_preprocessed.h5ad']"
      ]
     },
     "execution_count": 18,
     "metadata": {},
     "output_type": "execute_result"
    }
   ],
   "source": [
    "projectdir = \"C:/Users/kyria.000/Documents/PhD/Projects/Feng2023/CoPImmunoPD/\"\n",
    "datadir = projectdir + \"Data/\"\n",
    "resultdir = projectdir + \"Result/\"\n",
    "# csv_list = os.listdir(datadir)\n",
    "\n",
    "h5ad_list = [i for i in os.listdir(resultdir) if (i[-5:] == \".h5ad\") and (i[3]==\"C\")] \n",
    "h5ad_list"
   ]
  },
  {
   "cell_type": "code",
   "execution_count": 19,
   "metadata": {},
   "outputs": [
    {
     "name": "stdout",
     "output_type": "stream",
     "text": [
      "HC_CCR7mCD45ROm_preprocessed.h5ad\n",
      "HC_CCR7mCD45ROp_preprocessed.h5ad\n",
      "HC_CCR7pCD45ROm_preprocessed.h5ad\n",
      "HC_CCR7pCD45ROp_preprocessed.h5ad\n",
      "PD_CCR7mCD45ROm_preprocessed.h5ad\n",
      "PD_CCR7mCD45ROp_preprocessed.h5ad\n",
      "PD_CCR7pCD45ROm_preprocessed.h5ad\n",
      "PD_CCR7pCD45ROp_preprocessed.h5ad\n"
     ]
    },
    {
     "name": "stderr",
     "output_type": "stream",
     "text": [
      "c:\\Users\\kyria.000\\anaconda3\\envs\\Py310\\lib\\site-packages\\anndata\\_core\\anndata.py:1785: FutureWarning: X.dtype being converted to np.float32 from float64. In the next version of anndata (0.9) conversion will not be automatic. Pass dtype explicitly to avoid this warning. Pass `AnnData(X, dtype=X.dtype, ...)` to get the future behavour.\n",
      "  [AnnData(sparse.csr_matrix(a.shape), obs=a.obs) for a in all_adatas],\n",
      "c:\\Users\\kyria.000\\anaconda3\\envs\\Py310\\lib\\site-packages\\anndata\\_core\\anndata.py:1785: FutureWarning: X.dtype being converted to np.float32 from float64. In the next version of anndata (0.9) conversion will not be automatic. Pass dtype explicitly to avoid this warning. Pass `AnnData(X, dtype=X.dtype, ...)` to get the future behavour.\n",
      "  [AnnData(sparse.csr_matrix(a.shape), obs=a.obs) for a in all_adatas],\n",
      "c:\\Users\\kyria.000\\anaconda3\\envs\\Py310\\lib\\site-packages\\anndata\\_core\\anndata.py:1785: FutureWarning: X.dtype being converted to np.float32 from float64. In the next version of anndata (0.9) conversion will not be automatic. Pass dtype explicitly to avoid this warning. Pass `AnnData(X, dtype=X.dtype, ...)` to get the future behavour.\n",
      "  [AnnData(sparse.csr_matrix(a.shape), obs=a.obs) for a in all_adatas],\n",
      "c:\\Users\\kyria.000\\anaconda3\\envs\\Py310\\lib\\site-packages\\anndata\\_core\\anndata.py:1785: FutureWarning: X.dtype being converted to np.float32 from float64. In the next version of anndata (0.9) conversion will not be automatic. Pass dtype explicitly to avoid this warning. Pass `AnnData(X, dtype=X.dtype, ...)` to get the future behavour.\n",
      "  [AnnData(sparse.csr_matrix(a.shape), obs=a.obs) for a in all_adatas],\n",
      "c:\\Users\\kyria.000\\anaconda3\\envs\\Py310\\lib\\site-packages\\anndata\\_core\\anndata.py:1785: FutureWarning: X.dtype being converted to np.float32 from float64. In the next version of anndata (0.9) conversion will not be automatic. Pass dtype explicitly to avoid this warning. Pass `AnnData(X, dtype=X.dtype, ...)` to get the future behavour.\n",
      "  [AnnData(sparse.csr_matrix(a.shape), obs=a.obs) for a in all_adatas],\n",
      "c:\\Users\\kyria.000\\anaconda3\\envs\\Py310\\lib\\site-packages\\anndata\\_core\\anndata.py:1785: FutureWarning: X.dtype being converted to np.float32 from float64. In the next version of anndata (0.9) conversion will not be automatic. Pass dtype explicitly to avoid this warning. Pass `AnnData(X, dtype=X.dtype, ...)` to get the future behavour.\n",
      "  [AnnData(sparse.csr_matrix(a.shape), obs=a.obs) for a in all_adatas],\n",
      "c:\\Users\\kyria.000\\anaconda3\\envs\\Py310\\lib\\site-packages\\anndata\\_core\\anndata.py:1785: FutureWarning: X.dtype being converted to np.float32 from float64. In the next version of anndata (0.9) conversion will not be automatic. Pass dtype explicitly to avoid this warning. Pass `AnnData(X, dtype=X.dtype, ...)` to get the future behavour.\n",
      "  [AnnData(sparse.csr_matrix(a.shape), obs=a.obs) for a in all_adatas],\n",
      "c:\\Users\\kyria.000\\anaconda3\\envs\\Py310\\lib\\site-packages\\anndata\\_core\\anndata.py:1785: FutureWarning: X.dtype being converted to np.float32 from float64. In the next version of anndata (0.9) conversion will not be automatic. Pass dtype explicitly to avoid this warning. Pass `AnnData(X, dtype=X.dtype, ...)` to get the future behavour.\n",
      "  [AnnData(sparse.csr_matrix(a.shape), obs=a.obs) for a in all_adatas],\n"
     ]
    },
    {
     "name": "stdout",
     "output_type": "stream",
     "text": [
      "(40082, 13332)\n"
     ]
    }
   ],
   "source": [
    "\n",
    "adatas=[]\n",
    "for i in range(len(h5ad_list)):\n",
    "    print(h5ad_list[i])\n",
    "    file = resultdir+ h5ad_list[i]\n",
    "    adata_it = sc.read_h5ad(file)\n",
    "    adatas.append(adata_it)\n",
    "\n",
    "adata = adatas[0].concatenate(adatas[1:], join='inner')\n",
    "adata.X = adata.layers[\"soupX_counts\"].copy()\n",
    "adata.X.sort_indices()\n",
    "print(np.shape(adata)) \n"
   ]
  },
  {
   "cell_type": "code",
   "execution_count": 22,
   "metadata": {},
   "outputs": [],
   "source": [
    "adata.var_names_make_unique()"
   ]
  },
  {
   "cell_type": "code",
   "execution_count": 23,
   "metadata": {},
   "outputs": [
    {
     "name": "stdout",
     "output_type": "stream",
     "text": [
      "The ensmble in features contains all elements of the ensemble in merge dataset\n"
     ]
    }
   ],
   "source": [
    "gene_symbols = pd.read_csv(projectdir+\"/features.tsv\",sep=\"\\t\",header=None)\n",
    "symbols_in_dataset = adata.var_names \n",
    "gene_symbols_infile = gene_symbols[0].tolist()\n",
    "check =  all(item in gene_symbols_infile for item in symbols_in_dataset)\n",
    "if check is True:\n",
    "    print(\"The ensmble in features contains all elements of the ensemble in merge dataset\")   \n",
    "else :\n",
    "    print(\"No, feature.tsv doesn't have all elements of the  merge dataset.\")\n"
   ]
  },
  {
   "cell_type": "code",
   "execution_count": 27,
   "metadata": {},
   "outputs": [
    {
     "data": {
      "text/html": [
       "<div>\n",
       "<style scoped>\n",
       "    .dataframe tbody tr th:only-of-type {\n",
       "        vertical-align: middle;\n",
       "    }\n",
       "\n",
       "    .dataframe tbody tr th {\n",
       "        vertical-align: top;\n",
       "    }\n",
       "\n",
       "    .dataframe thead th {\n",
       "        text-align: right;\n",
       "    }\n",
       "</style>\n",
       "<table border=\"1\" class=\"dataframe\">\n",
       "  <thead>\n",
       "    <tr style=\"text-align: right;\">\n",
       "      <th></th>\n",
       "      <th>0</th>\n",
       "      <th>1</th>\n",
       "      <th>2</th>\n",
       "    </tr>\n",
       "  </thead>\n",
       "  <tbody>\n",
       "    <tr>\n",
       "      <th>ENSG00000243485</th>\n",
       "      <td>ENSG00000243485</td>\n",
       "      <td>MIR1302-2HG</td>\n",
       "      <td>Gene Expression</td>\n",
       "    </tr>\n",
       "    <tr>\n",
       "      <th>ENSG00000237613</th>\n",
       "      <td>ENSG00000237613</td>\n",
       "      <td>FAM138A</td>\n",
       "      <td>Gene Expression</td>\n",
       "    </tr>\n",
       "    <tr>\n",
       "      <th>ENSG00000186092</th>\n",
       "      <td>ENSG00000186092</td>\n",
       "      <td>OR4F5</td>\n",
       "      <td>Gene Expression</td>\n",
       "    </tr>\n",
       "    <tr>\n",
       "      <th>ENSG00000238009</th>\n",
       "      <td>ENSG00000238009</td>\n",
       "      <td>AL627309.1</td>\n",
       "      <td>Gene Expression</td>\n",
       "    </tr>\n",
       "    <tr>\n",
       "      <th>ENSG00000239945</th>\n",
       "      <td>ENSG00000239945</td>\n",
       "      <td>AL627309.3</td>\n",
       "      <td>Gene Expression</td>\n",
       "    </tr>\n",
       "    <tr>\n",
       "      <th>...</th>\n",
       "      <td>...</td>\n",
       "      <td>...</td>\n",
       "      <td>...</td>\n",
       "    </tr>\n",
       "    <tr>\n",
       "      <th>ENSG00000277836</th>\n",
       "      <td>ENSG00000277836</td>\n",
       "      <td>AC141272.1</td>\n",
       "      <td>Gene Expression</td>\n",
       "    </tr>\n",
       "    <tr>\n",
       "      <th>ENSG00000278633</th>\n",
       "      <td>ENSG00000278633</td>\n",
       "      <td>AC023491.2</td>\n",
       "      <td>Gene Expression</td>\n",
       "    </tr>\n",
       "    <tr>\n",
       "      <th>ENSG00000276017</th>\n",
       "      <td>ENSG00000276017</td>\n",
       "      <td>AC007325.1</td>\n",
       "      <td>Gene Expression</td>\n",
       "    </tr>\n",
       "    <tr>\n",
       "      <th>ENSG00000278817</th>\n",
       "      <td>ENSG00000278817</td>\n",
       "      <td>AC007325.4</td>\n",
       "      <td>Gene Expression</td>\n",
       "    </tr>\n",
       "    <tr>\n",
       "      <th>ENSG00000277196</th>\n",
       "      <td>ENSG00000277196</td>\n",
       "      <td>AC007325.2</td>\n",
       "      <td>Gene Expression</td>\n",
       "    </tr>\n",
       "  </tbody>\n",
       "</table>\n",
       "<p>36601 rows × 3 columns</p>\n",
       "</div>"
      ],
      "text/plain": [
       "                               0            1                2\n",
       "ENSG00000243485  ENSG00000243485  MIR1302-2HG  Gene Expression\n",
       "ENSG00000237613  ENSG00000237613      FAM138A  Gene Expression\n",
       "ENSG00000186092  ENSG00000186092        OR4F5  Gene Expression\n",
       "ENSG00000238009  ENSG00000238009   AL627309.1  Gene Expression\n",
       "ENSG00000239945  ENSG00000239945   AL627309.3  Gene Expression\n",
       "...                          ...          ...              ...\n",
       "ENSG00000277836  ENSG00000277836   AC141272.1  Gene Expression\n",
       "ENSG00000278633  ENSG00000278633   AC023491.2  Gene Expression\n",
       "ENSG00000276017  ENSG00000276017   AC007325.1  Gene Expression\n",
       "ENSG00000278817  ENSG00000278817   AC007325.4  Gene Expression\n",
       "ENSG00000277196  ENSG00000277196   AC007325.2  Gene Expression\n",
       "\n",
       "[36601 rows x 3 columns]"
      ]
     },
     "execution_count": 27,
     "metadata": {},
     "output_type": "execute_result"
    }
   ],
   "source": [
    "gene_symbols.index = gene_symbols[0].tolist()\n",
    "gene_symbols"
   ]
  },
  {
   "cell_type": "code",
   "execution_count": 28,
   "metadata": {},
   "outputs": [
    {
     "data": {
      "text/html": [
       "<div>\n",
       "<style scoped>\n",
       "    .dataframe tbody tr th:only-of-type {\n",
       "        vertical-align: middle;\n",
       "    }\n",
       "\n",
       "    .dataframe tbody tr th {\n",
       "        vertical-align: top;\n",
       "    }\n",
       "\n",
       "    .dataframe thead th {\n",
       "        text-align: right;\n",
       "    }\n",
       "</style>\n",
       "<table border=\"1\" class=\"dataframe\">\n",
       "  <thead>\n",
       "    <tr style=\"text-align: right;\">\n",
       "      <th></th>\n",
       "      <th>0</th>\n",
       "      <th>1</th>\n",
       "      <th>2</th>\n",
       "    </tr>\n",
       "  </thead>\n",
       "  <tbody>\n",
       "    <tr>\n",
       "      <th>ENSG00000237491</th>\n",
       "      <td>ENSG00000237491</td>\n",
       "      <td>LINC01409</td>\n",
       "      <td>Gene Expression</td>\n",
       "    </tr>\n",
       "    <tr>\n",
       "      <th>ENSG00000228794</th>\n",
       "      <td>ENSG00000228794</td>\n",
       "      <td>LINC01128</td>\n",
       "      <td>Gene Expression</td>\n",
       "    </tr>\n",
       "    <tr>\n",
       "      <th>ENSG00000225880</th>\n",
       "      <td>ENSG00000225880</td>\n",
       "      <td>LINC00115</td>\n",
       "      <td>Gene Expression</td>\n",
       "    </tr>\n",
       "    <tr>\n",
       "      <th>ENSG00000230368</th>\n",
       "      <td>ENSG00000230368</td>\n",
       "      <td>FAM41C</td>\n",
       "      <td>Gene Expression</td>\n",
       "    </tr>\n",
       "    <tr>\n",
       "      <th>ENSG00000188976</th>\n",
       "      <td>ENSG00000188976</td>\n",
       "      <td>NOC2L</td>\n",
       "      <td>Gene Expression</td>\n",
       "    </tr>\n",
       "    <tr>\n",
       "      <th>...</th>\n",
       "      <td>...</td>\n",
       "      <td>...</td>\n",
       "      <td>...</td>\n",
       "    </tr>\n",
       "    <tr>\n",
       "      <th>ENSG00000198727</th>\n",
       "      <td>ENSG00000198727</td>\n",
       "      <td>MT-CYB</td>\n",
       "      <td>Gene Expression</td>\n",
       "    </tr>\n",
       "    <tr>\n",
       "      <th>ENSG00000278384</th>\n",
       "      <td>ENSG00000278384</td>\n",
       "      <td>AL354822.1</td>\n",
       "      <td>Gene Expression</td>\n",
       "    </tr>\n",
       "    <tr>\n",
       "      <th>ENSG00000273748</th>\n",
       "      <td>ENSG00000273748</td>\n",
       "      <td>AL592183.1</td>\n",
       "      <td>Gene Expression</td>\n",
       "    </tr>\n",
       "    <tr>\n",
       "      <th>ENSG00000271254</th>\n",
       "      <td>ENSG00000271254</td>\n",
       "      <td>AC240274.1</td>\n",
       "      <td>Gene Expression</td>\n",
       "    </tr>\n",
       "    <tr>\n",
       "      <th>ENSG00000278817</th>\n",
       "      <td>ENSG00000278817</td>\n",
       "      <td>AC007325.4</td>\n",
       "      <td>Gene Expression</td>\n",
       "    </tr>\n",
       "  </tbody>\n",
       "</table>\n",
       "<p>13332 rows × 3 columns</p>\n",
       "</div>"
      ],
      "text/plain": [
       "                               0           1                2\n",
       "ENSG00000237491  ENSG00000237491   LINC01409  Gene Expression\n",
       "ENSG00000228794  ENSG00000228794   LINC01128  Gene Expression\n",
       "ENSG00000225880  ENSG00000225880   LINC00115  Gene Expression\n",
       "ENSG00000230368  ENSG00000230368      FAM41C  Gene Expression\n",
       "ENSG00000188976  ENSG00000188976       NOC2L  Gene Expression\n",
       "...                          ...         ...              ...\n",
       "ENSG00000198727  ENSG00000198727      MT-CYB  Gene Expression\n",
       "ENSG00000278384  ENSG00000278384  AL354822.1  Gene Expression\n",
       "ENSG00000273748  ENSG00000273748  AL592183.1  Gene Expression\n",
       "ENSG00000271254  ENSG00000271254  AC240274.1  Gene Expression\n",
       "ENSG00000278817  ENSG00000278817  AC007325.4  Gene Expression\n",
       "\n",
       "[13332 rows x 3 columns]"
      ]
     },
     "execution_count": 28,
     "metadata": {},
     "output_type": "execute_result"
    }
   ],
   "source": [
    "gene_symbols1 = gene_symbols.reindex(symbols_in_dataset)\n",
    "gene_symbols1"
   ]
  },
  {
   "cell_type": "code",
   "execution_count": 29,
   "metadata": {},
   "outputs": [],
   "source": [
    "adata.var_names = gene_symbols1[1]\n",
    "adata.var_names_make_unique()"
   ]
  },
  {
   "cell_type": "code",
   "execution_count": 31,
   "metadata": {},
   "outputs": [
    {
     "data": {
      "image/png": "[encoded data removed]",
      "text/plain": [
       "<Figure size 500x550 with 1 Axes>"
      ]
     },
     "metadata": {},
     "output_type": "display_data"
    }
   ],
   "source": [
    "sc.pl.highest_expr_genes(adata, n_top=20)"
   ]
  },
  {
   "attachments": {},
   "cell_type": "markdown",
   "metadata": {},
   "source": [
    "## REMOVE GENES"
   ]
  },
  {
   "cell_type": "code",
   "execution_count": null,
   "metadata": {},
   "outputs": [],
   "source": [
    "import re\n",
    "# mitochondrial genes\n",
    "adata.var[\"mt\"] = adata.var_names.str.startswith(\"MT-\", re.I)\n",
    "# ribosomal genes\n",
    "adata.var[\"ribo\"] = adata.var_names.str.startswith((\"RPS\", \"RPL\"), re.I)\n",
    "# hemoglobin genes.\n",
    "adata.var[\"hb\"] = adata.var_names.str.contains((\"^HB[^(P)]\"), re.I)\n",
    "\n",
    "sc.pp.calculate_qc_metrics(\n",
    "    adata, qc_vars=[\"mt\", \"ribo\", \"hb\"], inplace=True, percent_top=[20], log1p=True\n",
    ")"
   ]
  },
  {
   "cell_type": "code",
   "execution_count": null,
   "metadata": {},
   "outputs": [],
   "source": [
    "adata.obs[\"mt_outlier\"] =  adata.obs[\"pct_counts_mt\"] > 20\n",
    "adata.obs.mt_outlier.value_counts()"
   ]
  },
  {
   "cell_type": "code",
   "execution_count": null,
   "metadata": {},
   "outputs": [],
   "source": [
    "print(f\"Total number of cells: {adata.n_obs}\")\n",
    "adata = adata[(~adata.obs.mt_outlier)].copy()\n",
    "print(f\"Number of cells after filtering of low quality cells: {adata.n_obs}\")"
   ]
  },
  {
   "cell_type": "code",
   "execution_count": null,
   "metadata": {},
   "outputs": [],
   "source": [
    "import seaborn as sns\n",
    "p1 = sns.displot(adata.obs[\"total_counts\"], bins=100, kde=False)\n",
    "sc.pl.violin(adata, 'total_counts')\n",
    "p2 = sc.pl.violin(adata, \"pct_counts_mt\")"
   ]
  },
  {
   "cell_type": "code",
   "execution_count": null,
   "metadata": {},
   "outputs": [],
   "source": []
  },
  {
   "cell_type": "code",
   "execution_count": null,
   "metadata": {},
   "outputs": [],
   "source": [
    "genes_remove = []\n",
    "genes = adata[:,adata.var['mt']==True].var_names\n",
    "info = 'Mito genes: '+str(len(genes))\n",
    "print(info)\n",
    "genes_remove.extend(genes)\n",
    "\n",
    "genes = adata[:,adata.var['ribo']==True].var_names\n",
    "info = 'Ribo genes: '+str(len(genes))\n",
    "print(info)\n",
    "genes_remove.extend(genes)\n",
    "\n",
    "genes = adata[:,adata.var['hb']==True].var_names\n",
    "info = 'Hb genes: '+str(len(genes))\n",
    "print(info)\n",
    "genes_remove.extend(genes)\n",
    "\n",
    "\n",
    "genes_remove = list(set(genes_remove))\n",
    "info = 'Remove '+str(len(genes_remove))+' genes.'\n",
    "print(info)\n",
    "\n",
    "genes_keep = list(set(adata.var_names) - set(genes_remove))\n",
    "print('Keep '+str(len(genes_keep))+' genes.')\n",
    "\n",
    "adata = adata[:, genes_keep]\n",
    "\n",
    "info_meta = 'After genes filter:'\n",
    "info = str(len(adata.obs))+' cells and '+str(len(adata.var))+' genes'"
   ]
  },
  {
   "cell_type": "code",
   "execution_count": null,
   "metadata": {},
   "outputs": [],
   "source": [
    "sc.pp.normalize_total(adata)\n",
    "sc.pp.log1p(adata)\n",
    "adata.layers[\"logcounts\"] = adata.X.copy()\n",
    "sc.pp.highly_variable_genes(adata)\n",
    "sc.tl.pca(adata)\n",
    "sc.pp.neighbors(adata)\n",
    "sc.tl.umap(adata)\n",
    "sc.tl.tsne(adata)"
   ]
  },
  {
   "cell_type": "code",
   "execution_count": null,
   "metadata": {},
   "outputs": [],
   "source": [
    "sc.tl.leiden(adata)\n",
    "sc.tl.louvain(adata)\n"
   ]
  },
  {
   "cell_type": "code",
   "execution_count": null,
   "metadata": {},
   "outputs": [],
   "source": [
    "sc.pl.umap(adata, color = ['Condition','CellType'])\n",
    "sc.pl.tsne(adata, color ='Condition')\n",
    "sc.pl.tsne(adata, color =['Condition','CellType'])"
   ]
  },
  {
   "cell_type": "code",
   "execution_count": null,
   "metadata": {},
   "outputs": [],
   "source": [
    "sc.pl.umap(adata, color = ['Condition','CellType','leiden'])\n"
   ]
  },
  {
   "cell_type": "code",
   "execution_count": null,
   "metadata": {},
   "outputs": [],
   "source": [
    "tmp = pd.crosstab(adata.obs['leiden'],adata.obs['CellType'], normalize='index')\n",
    "tmp.plot.bar(stacked=True).legend(loc='center left', bbox_to_anchor=(1, 0.5))"
   ]
  },
  {
   "cell_type": "code",
   "execution_count": null,
   "metadata": {},
   "outputs": [],
   "source": [
    "tmp = pd.crosstab(adata.obs['leiden'],adata.obs['Condition'], normalize='index')\n",
    "tmp.plot.bar(stacked=True).legend(loc='center left', bbox_to_anchor=(1, 0.5))"
   ]
  },
  {
   "cell_type": "code",
   "execution_count": null,
   "metadata": {},
   "outputs": [],
   "source": [
    "import scanpy.external as sce\n",
    "\n",
    "sce.pp.harmony_integrate(adata, 'Condition')\n",
    "sc.pl.embedding(adata, basis='X_pca_harmony', color = ['Condition'])\n",
    "sc.pp.neighbors(adata, use_rep='X_pca_harmony')\n",
    "sc.tl.leiden(adata)\n",
    "sc.tl.louvain(adata)\n",
    "sc.tl.umap(adata)\n",
    "adata.obsm[\"Harmonised_umap\"] = adata.obsm[\"X_umap\"].copy()"
   ]
  },
  {
   "cell_type": "code",
   "execution_count": null,
   "metadata": {},
   "outputs": [],
   "source": []
  },
  {
   "cell_type": "code",
   "execution_count": null,
   "metadata": {},
   "outputs": [],
   "source": [
    "sc.pp.neighbors(adata, use_rep='X_pca_harmony')\n",
    "sc.tl.tsne(adata,use_rep='X_pca_harmony')\n"
   ]
  },
  {
   "cell_type": "code",
   "execution_count": null,
   "metadata": {},
   "outputs": [],
   "source": [
    "sc.tl.umap(adata)"
   ]
  },
  {
   "cell_type": "code",
   "execution_count": null,
   "metadata": {},
   "outputs": [],
   "source": [
    "sc.pl.umap(adata, color = ['Condition','CellType','leiden'])\n"
   ]
  },
  {
   "cell_type": "code",
   "execution_count": null,
   "metadata": {},
   "outputs": [],
   "source": [
    "sc.pl.umap(adata, color = ['CellType'])\n"
   ]
  },
  {
   "cell_type": "code",
   "execution_count": null,
   "metadata": {},
   "outputs": [],
   "source": [
    "sc.pl.tsne(adata, color = ['Condition','CellType','leiden'])\n"
   ]
  },
  {
   "cell_type": "code",
   "execution_count": null,
   "metadata": {},
   "outputs": [],
   "source": [
    "tmp = pd.crosstab(adata.obs['leiden'],adata.obs['CellType'], normalize='index')\n",
    "tmp.plot.bar(stacked=True).legend(loc='center left', bbox_to_anchor=(1, 0.5))"
   ]
  },
  {
   "cell_type": "code",
   "execution_count": null,
   "metadata": {},
   "outputs": [],
   "source": [
    "tmp = pd.crosstab(adata.obs['leiden'],adata.obs['Condition'], normalize='index')\n",
    "tmp.plot.bar(stacked=True).legend(loc='center left', bbox_to_anchor=(1, 0.5))"
   ]
  },
  {
   "cell_type": "code",
   "execution_count": null,
   "metadata": {},
   "outputs": [],
   "source": []
  },
  {
   "cell_type": "code",
   "execution_count": null,
   "metadata": {},
   "outputs": [],
   "source": [
    "sc.pl.umap(adata, color = ['louvain','CCR7','PTPRC'])\n"
   ]
  },
  {
   "cell_type": "code",
   "execution_count": null,
   "metadata": {},
   "outputs": [],
   "source": [
    "p1 = sc.pl.scatter(adata, \"total_counts\", \"n_genes_by_counts\", color=\"pct_counts_mt\")"
   ]
  },
  {
   "cell_type": "code",
   "execution_count": null,
   "metadata": {},
   "outputs": [],
   "source": [
    "ls = adata.var_names\n",
    " \n",
    "matches = [match for match in ls if \"PTPRC\" in match]\n",
    " \n",
    "print(matches)"
   ]
  },
  {
   "cell_type": "code",
   "execution_count": null,
   "metadata": {},
   "outputs": [],
   "source": [
    "sc.pl.dotplot(adata, ['PTPRC','CCR7'], groupby='louvain')\n",
    "sc.pl.dotplot(adata, ['PTPRC','CCR7'], groupby='leiden')\n"
   ]
  },
  {
   "cell_type": "code",
   "execution_count": null,
   "metadata": {},
   "outputs": [],
   "source": [
    "sc.pl.umap(adata, color = ['CellType'])\n",
    "sc.pl.umap(adata, color = ['leiden'],legend_loc =\"on data\")\n",
    "sc.pl.umap(adata, color = ['louvain'],legend_loc =\"on data\")\n"
   ]
  },
  {
   "attachments": {},
   "cell_type": "markdown",
   "metadata": {},
   "source": [
    "## Mitochondrial clusters"
   ]
  },
  {
   "cell_type": "code",
   "execution_count": null,
   "metadata": {},
   "outputs": [],
   "source": [
    "mt_leiden_cl = pd.read_csv(resultdir+\"Mito_leiden_cluster.csv\")\n",
    "list_mt_cl = mt_leiden_cl[mt_leiden_cl.columns[1]].values.tolist()\n",
    "adata.obs['mito_leiden'] = [ \"Mito_cl_\"+str(x) for x in list_mt_cl ]  \n",
    "sc.pl.umap(adata, color = ['mito_leiden'])#,legend_loc =\"on data\")"
   ]
  },
  {
   "cell_type": "code",
   "execution_count": null,
   "metadata": {},
   "outputs": [],
   "source": [
    "adata.write(resultdir+'AnnData_Integrated.h5ad')\n"
   ]
  },
  {
   "cell_type": "code",
   "execution_count": null,
   "metadata": {},
   "outputs": [],
   "source": [
    "adata"
   ]
  },
  {
   "cell_type": "code",
   "execution_count": null,
   "metadata": {},
   "outputs": [],
   "source": [
    "sc.tl.rank_genes_groups(\n",
    "    adata, groupby=\"louvain\", method=\"wilcoxon\", key_added=\"dea_louvain\"\n",
    ")\n"
   ]
  },
  {
   "cell_type": "code",
   "execution_count": null,
   "metadata": {},
   "outputs": [],
   "source": [
    "sc.pl.rank_genes_groups_dotplot(\n",
    "    adata,\n",
    "    groupby=\"louvain\",\n",
    "    standard_scale=\"var\",\n",
    "    n_genes=5,\n",
    "    key=\"dea_louvain\",\n",
    ")"
   ]
  },
  {
   "cell_type": "code",
   "execution_count": null,
   "metadata": {},
   "outputs": [],
   "source": [
    "sc.tl.filter_rank_genes_groups(\n",
    "    adata,\n",
    "    min_in_group_fraction=0.2,\n",
    "    max_out_group_fraction=0.2,\n",
    "    key=\"dea_louvain\",\n",
    "    key_added=\"dea_louvain_filtered\",\n",
    ")"
   ]
  },
  {
   "cell_type": "code",
   "execution_count": null,
   "metadata": {},
   "outputs": [],
   "source": [
    "sc.pl.rank_genes_groups_dotplot(\n",
    "    adata,\n",
    "    groupby=\"louvain\",\n",
    "    standard_scale=\"var\",\n",
    "    n_genes=5,\n",
    "    key=\"dea_louvain_filtered\",\n",
    ")\n",
    "\n"
   ]
  },
  {
   "cell_type": "code",
   "execution_count": null,
   "metadata": {},
   "outputs": [],
   "source": [
    "sc.tl.rank_genes_groups(adata, groupby='louvain', method='wilcoxon')"
   ]
  },
  {
   "cell_type": "code",
   "execution_count": null,
   "metadata": {},
   "outputs": [],
   "source": [
    "sc.pl.rank_genes_groups_heatmap(adata, n_genes=10, use_raw=False, swap_axes=True, show_gene_labels=False,\n",
    "                                vmin=-3, vmax=3, cmap='bwr')"
   ]
  },
  {
   "cell_type": "code",
   "execution_count": null,
   "metadata": {},
   "outputs": [],
   "source": [
    "ax = sc.pl.correlation_matrix(adata, 'louvain', figsize=(5,3.5))\n",
    "ax = sc.pl.correlation_matrix(adata, 'leiden', figsize=(5,3.5))\n"
   ]
  },
  {
   "cell_type": "code",
   "execution_count": null,
   "metadata": {},
   "outputs": [],
   "source": [
    "# Plotting functions - 'GProfiler-official version'\n",
    "import pandas as pd\n",
    "import numpy as np\n",
    "import matplotlib.pyplot as plt\n",
    "import seaborn as sb\n",
    "from matplotlib import colors\n",
    "from matplotlib import rcParams\n",
    "\n",
    "\n",
    "def scale_data_5_75(data):\n",
    "    mind = np.min(data)\n",
    "    maxd = np.max(data)\n",
    "    \n",
    "    if maxd == mind:\n",
    "        maxd=maxd+1\n",
    "        mind=mind-1\n",
    "        \n",
    "    drange = maxd - mind\n",
    "    return ((((data - mind)/drange*0.70)+0.05)*100)\n",
    "    \n",
    "def plot_enrich(data, n_terms=20, save=False):\n",
    "    # Test data input\n",
    "    if not isinstance(data, pd.DataFrame):\n",
    "        raise ValueError('Please input a Pandas Dataframe output by gprofiler.')\n",
    "        \n",
    "    if not np.all([term in data.columns for term in ['p_value', 'name', 'intersection_size']]):\n",
    "        raise TypeError('The data frame {} does not contain enrichment results from gprofiler.'.format(data))\n",
    "    \n",
    "    data_to_plot = data.iloc[:n_terms,:].copy()\n",
    "    data_to_plot['go.id'] = data_to_plot.index\n",
    "\n",
    "    min_pval = data_to_plot['p_value'].min()\n",
    "    max_pval = data_to_plot['p_value'].max()\n",
    "    \n",
    "    # Scale intersection_size to be between 5 and 75 for plotting\n",
    "    #Note: this is done as calibration was done for values between 5 and 75\n",
    "    data_to_plot['scaled.overlap'] = scale_data_5_75(data_to_plot['intersection_size'])\n",
    "    \n",
    "    norm = colors.LogNorm(min_pval, max_pval)\n",
    "    sm = plt.cm.ScalarMappable(cmap=\"cool\", norm=norm)\n",
    "    sm.set_array([])\n",
    "\n",
    "    rcParams.update({'font.size': 14, 'font.weight': 'bold'})\n",
    "\n",
    "    sb.set(style=\"whitegrid\")\n",
    "\n",
    "    path = plt.scatter(x='recall', y=\"name\", c='p_value', cmap='cool', \n",
    "                       norm=colors.LogNorm(min_pval, max_pval), \n",
    "                       data=data_to_plot, linewidth=1, edgecolor=\"grey\", \n",
    "                       s=[(i+10)**1.5 for i in data_to_plot['scaled.overlap']])\n",
    "    ax = plt.gca()\n",
    "    ax.invert_yaxis()\n",
    "\n",
    "    ax.set_ylabel('')\n",
    "    ax.set_xlabel('Gene ratio', fontsize=14, fontweight='bold')\n",
    "    ax.xaxis.grid(False)\n",
    "    ax.yaxis.grid(True)\n",
    "\n",
    "    # Shrink current axis by 20%\n",
    "    box = ax.get_position()\n",
    "    ax.set_position([box.x0, box.y0, box.width * 0.8, box.height])\n",
    "\n",
    "    # Get tick marks for this plot\n",
    "    #Note: 6 ticks maximum\n",
    "    min_tick = np.floor(np.log10(min_pval)).astype(int)\n",
    "    max_tick = np.ceil(np.log10(max_pval)).astype(int)\n",
    "    tick_step = np.ceil((max_tick - min_tick)/6).astype(int)\n",
    "    \n",
    "    # Ensure no 0 values\n",
    "    if tick_step == 0:\n",
    "        tick_step = 1\n",
    "        min_tick = max_tick-1\n",
    "    \n",
    "    ticks_vals = [10**i for i in range(max_tick, min_tick-1, -tick_step)]\n",
    "    ticks_labs = ['$10^{'+str(i)+'}$' for i in range(max_tick, min_tick-1, -tick_step)]\n",
    "\n",
    "    #Colorbar\n",
    "    fig = plt.gcf()\n",
    "    cbaxes = fig.add_axes([0.8, 0.15, 0.03, 0.4])\n",
    "    cbar = ax.figure.colorbar(sm, ticks=ticks_vals, shrink=0.5, anchor=(0,0.1), cax=cbaxes)\n",
    "    cbar.ax.set_yticklabels(ticks_labs)\n",
    "    cbar.set_label(\"Adjusted p-value\", fontsize=14, fontweight='bold')\n",
    "\n",
    "    #Size legend\n",
    "    min_olap = data_to_plot['intersection_size'].min()\n",
    "    max_olap = data_to_plot['intersection_size'].max()\n",
    "    olap_range = max_olap - min_olap\n",
    "    \n",
    "    #Note: approximate scaled 5, 25, 50, 75 values are calculated\n",
    "    #      and then rounded to nearest number divisible by 5\n",
    "    size_leg_vals = [np.round(i/5)*5 for i in \n",
    "                          [min_olap, min_olap+(20/70)*olap_range, min_olap+(45/70)*olap_range, max_olap]]\n",
    "    size_leg_scaled_vals = scale_data_5_75(size_leg_vals)\n",
    "\n",
    "    \n",
    "    l1 = plt.scatter([],[], s=(size_leg_scaled_vals[0]+10)**1.5, edgecolors='none', color='black')\n",
    "    l2 = plt.scatter([],[], s=(size_leg_scaled_vals[1]+10)**1.5, edgecolors='none', color='black')\n",
    "    l3 = plt.scatter([],[], s=(size_leg_scaled_vals[2]+10)**1.5, edgecolors='none', color='black')\n",
    "    l4 = plt.scatter([],[], s=(size_leg_scaled_vals[3]+10)**1.5, edgecolors='none', color='black')\n",
    "\n",
    "    labels = [str(int(i)) for i in size_leg_vals]\n",
    "\n",
    "    leg = plt.legend([l1, l2, l3, l4], labels, ncol=1, frameon=False, fontsize=12,\n",
    "                     handlelength=1, loc = 'center left', borderpad = 1, labelspacing = 1.4,\n",
    "                     handletextpad=2, title='Gene overlap', scatterpoints = 1,  bbox_to_anchor=(-2, 1.5), \n",
    "                     facecolor='black')\n",
    "\n",
    "    if save:\n",
    "        plt.savefig(save, dpi=300, format='pdf')\n",
    "\n",
    "    plt.show()"
   ]
  },
  {
   "cell_type": "code",
   "execution_count": null,
   "metadata": {},
   "outputs": [],
   "source": [
    "from gprofiler import GProfiler\n",
    "#Interpretation of differentially expressed genes in paneth cells - g:profiler\n",
    "gp = GProfiler(return_dataframe=True, user_agent='g:GOSt')"
   ]
  },
  {
   "cell_type": "code",
   "execution_count": null,
   "metadata": {},
   "outputs": [],
   "source": [
    "Cl0_genes = sc.get.rank_genes_groups_df(adata, group=\"0\",pval_cutoff=0.01,log2fc_min=0.5)\n",
    "Cl0_enrichment = gp.profile(organism='hsapiens', sources=['GO:MF','GO:BP','KEGG','WikiPathways'], user_threshold=0.05,\n",
    "                               significance_threshold_method='fdr', \n",
    "                               background=adata.var_names.tolist(), \n",
    "                               query=Cl0_genes['names'].tolist())\n",
    "Cl0_enrichment_results = Cl0_enrichment.set_index('native').sort_values('p_value').iloc[:,[2,5,7,10,1]]\n",
    "plot_enrich(Cl0_enrichment_results)"
   ]
  },
  {
   "cell_type": "code",
   "execution_count": null,
   "metadata": {},
   "outputs": [],
   "source": [
    "import decoupler as dc\n",
    "msigdb = dc.get_resource('MSigDB')\n",
    "msigdb['collection'].unique()\n"
   ]
  },
  {
   "cell_type": "code",
   "execution_count": null,
   "metadata": {},
   "outputs": [],
   "source": [
    "# Filter by hallmark\n",
    "msigdb = msigdb[msigdb['collection']=='hallmark']\n",
    "msigdb\n"
   ]
  },
  {
   "cell_type": "code",
   "execution_count": null,
   "metadata": {},
   "outputs": [],
   "source": [
    "# Remove duplicated entries\n",
    "msigdb = msigdb[~msigdb.duplicated(['geneset', 'genesymbol'])]\n",
    "msigdb"
   ]
  },
  {
   "cell_type": "code",
   "execution_count": null,
   "metadata": {},
   "outputs": [],
   "source": [
    "dc.run_ora(mat=adata, net=msigdb, source='geneset', target='genesymbol', verbose=True,use_raw=False)\n"
   ]
  },
  {
   "cell_type": "code",
   "execution_count": null,
   "metadata": {},
   "outputs": [],
   "source": [
    "acts = dc.get_acts(adata, obsm_key='ora_estimate')\n",
    "sc.pl.umap(acts, color='HALLMARK_COAGULATION')"
   ]
  },
  {
   "cell_type": "code",
   "execution_count": null,
   "metadata": {},
   "outputs": [],
   "source": [
    "mean_enr = dc.summarize_acts(acts, groupby='louvain', min_std=1)\n",
    "sns.clustermap(mean_enr, xticklabels=mean_enr.columns, vmax=20, cmap='viridis')\n",
    "plt.show()"
   ]
  },
  {
   "attachments": {},
   "cell_type": "markdown",
   "metadata": {},
   "source": [
    "## MAP ON REFERENCE"
   ]
  },
  {
   "cell_type": "code",
   "execution_count": null,
   "metadata": {},
   "outputs": [],
   "source": [
    "adata_query = adata.copy()\n",
    "adata_ref = sc.datasets.pbmc3k_processed()  "
   ]
  },
  {
   "cell_type": "code",
   "execution_count": null,
   "metadata": {},
   "outputs": [],
   "source": [
    "var_names = adata_ref.var_names.intersection(adata_query.var_names)\n",
    "adata_ref = adata_ref[:, var_names]\n",
    "adata_query = adata_query[:, var_names]"
   ]
  },
  {
   "cell_type": "code",
   "execution_count": null,
   "metadata": {},
   "outputs": [],
   "source": [
    "sc.pp.pca(adata_ref)\n",
    "sc.pp.neighbors(adata_ref)\n",
    "sc.tl.umap(adata_ref)"
   ]
  },
  {
   "cell_type": "code",
   "execution_count": null,
   "metadata": {},
   "outputs": [],
   "source": [
    "sc.pl.umap(adata_ref, color='louvain')"
   ]
  },
  {
   "cell_type": "code",
   "execution_count": null,
   "metadata": {},
   "outputs": [],
   "source": [
    "sc.tl.ingest(adata_query, adata_ref, obs='louvain')\n"
   ]
  },
  {
   "cell_type": "code",
   "execution_count": null,
   "metadata": {},
   "outputs": [],
   "source": [
    "adata_query.uns['louvain_colors'] = adata_ref.uns['louvain_colors']  # fix colors\n"
   ]
  },
  {
   "cell_type": "code",
   "execution_count": null,
   "metadata": {},
   "outputs": [],
   "source": [
    "sc.pl.umap(adata_query, color=['louvain', 'CellType'], wspace=0.5)\n"
   ]
  },
  {
   "cell_type": "code",
   "execution_count": null,
   "metadata": {},
   "outputs": [],
   "source": []
  }
 ],
 "metadata": {
  "kernelspec": {
   "display_name": "Py310",
   "language": "python",
   "name": "python3"
  },
  "language_info": {
   "codemirror_mode": {
    "name": "ipython",
    "version": 3
   },
   "file_extension": ".py",
   "mimetype": "text/x-python",
   "name": "python",
   "nbconvert_exporter": "python",
   "pygments_lexer": "ipython3",
   "version": "3.10.10"
  },
  "orig_nbformat": 4
 },
 "nbformat": 4,
 "nbformat_minor": 2
}
