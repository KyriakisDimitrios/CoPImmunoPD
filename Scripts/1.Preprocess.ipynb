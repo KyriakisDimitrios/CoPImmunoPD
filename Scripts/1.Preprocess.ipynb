{
 "cells": [
  {
   "attachments": {},
   "cell_type": "markdown",
   "metadata": {},
   "source": [
    "## FENG 2023"
   ]
  },
  {
   "attachments": {},
   "cell_type": "markdown",
   "metadata": {},
   "source": [
    "# Need to load these modules first in the env"
   ]
  },
  {
   "cell_type": "code",
   "execution_count": null,
   "metadata": {},
   "outputs": [],
   "source": [
    "import anndata2ri\n",
    "import logging\n",
    "import rpy2.rinterface_lib.callbacks as rcb\n",
    "import os\n",
    "import pandas as pd\n",
    "import numpy as np\n",
    "import rpy2.robjects as ro\n",
    "import sys\n",
    "\n",
    "import scanpy as sc\n",
    "import matplotlib.pyplot as plt\n",
    "\n",
    "rcb.logger.setLevel(logging.ERROR)\n",
    "ro.pandas2ri.activate()\n",
    "anndata2ri.activate()\n",
    "\n",
    "%load_ext rpy2.ipython"
   ]
  },
  {
   "cell_type": "code",
   "execution_count": null,
   "metadata": {},
   "outputs": [],
   "source": [
    "%%R\n",
    "set.seed(2422012)\n",
    "\n",
    "# Single cell libraries\n",
    "library(Seurat)\n",
    "library(SoupX)\n",
    "library(scater)\n",
    "library(scDblFinder)\n",
    "library(scran)\n",
    "library(sctransform)\n",
    "library(scry)\n",
    "\n",
    "# Rest libraries\n",
    "library(BiocParallel)\n",
    "library(ggplot2)\n",
    "library(dplyr)\n"
   ]
  },
  {
   "attachments": {},
   "cell_type": "markdown",
   "metadata": {},
   "source": [
    "## Load Data"
   ]
  },
  {
   "cell_type": "code",
   "execution_count": null,
   "metadata": {},
   "outputs": [],
   "source": [
    "projectdir = \"C:/Users/kyria.000/Documents/PhD/Projects/Feng2023/CoPImmunoPD/\"\n",
    "datadir = projectdir + \"Data/\"\n",
    "resultdir = projectdir + \"Result/\"\n",
    "# csv_list = os.listdir(datadir)\n",
    "\n",
    "csv_list = [i for i in os.listdir(datadir) if i[0] != \".\"] \n",
    "\n",
    "iteration = 7\n",
    "file = csv_list[iteration]\n",
    "splitted_name = csv_list[iteration].split(\"_\")\n",
    "Condition = splitted_name[2]\n",
    "CellType = splitted_name[3][:-4]"
   ]
  },
  {
   "cell_type": "code",
   "execution_count": null,
   "metadata": {},
   "outputs": [],
   "source": [
    "# Filtering Parameters\n",
    "min_genes_per_cell = 100 # To keep cells with more than X genes\n",
    "min_cells_per_gene = 10 # To keep genes expressed in more than X cells\n",
    "\n",
    "# Mitochondrial counts percentage filtering\n",
    "mito_cut_per = 10 #\n",
    "\n",
    "# Remove genesets\n",
    "remove_mitochondrial = True\n",
    "remove_ribosomal     = True\n",
    "remove_mitocard      = True\n",
    "remove_noncoding     = True"
   ]
  },
  {
   "cell_type": "code",
   "execution_count": null,
   "metadata": {},
   "outputs": [],
   "source": [
    "csv_list[0]"
   ]
  },
  {
   "cell_type": "code",
   "execution_count": null,
   "metadata": {},
   "outputs": [],
   "source": [
    "DEM = pd.read_csv(datadir+file,index_col=0).T\n",
    "adata = sc.AnnData(DEM,dtype=np.float32)\n",
    "adata.var_names_make_unique()\n",
    "sc.pp.filter_cells(adata, min_genes=min_genes_per_cell)\n",
    "sc.pp.filter_genes(adata, min_cells=min_cells_per_gene)"
   ]
  },
  {
   "cell_type": "code",
   "execution_count": null,
   "metadata": {},
   "outputs": [],
   "source": [
    "adata"
   ]
  },
  {
   "cell_type": "code",
   "execution_count": null,
   "metadata": {},
   "outputs": [],
   "source": [
    "# Create the \"knee plot\"\n",
    "knee = np.sort((np.array(DEM.sum(axis=1))).flatten())[::-1]\n",
    "fig, ax = plt.subplots(figsize=(10, 7))\n",
    "\n",
    "ax.loglog(knee, range(len(knee)),linewidth=5, color=\"g\")\n",
    "\n",
    "ax.set_xlabel(\"UMI Counts\")\n",
    "ax.set_ylabel(\"Set of Barcodes\")\n",
    "\n",
    "plt.grid(True, which=\"both\")\n",
    "plt.show()"
   ]
  },
  {
   "cell_type": "code",
   "execution_count": null,
   "metadata": {},
   "outputs": [],
   "source": [
    "# Normalization\n",
    "adata_pp = adata.copy()\n",
    "sc.pp.normalize_per_cell(adata_pp)\n",
    "sc.pp.log1p(adata_pp)"
   ]
  },
  {
   "cell_type": "code",
   "execution_count": null,
   "metadata": {},
   "outputs": [],
   "source": [
    "sc.pp.pca(adata_pp)\n",
    "sc.pp.neighbors(adata_pp)\n",
    "sc.tl.leiden(adata_pp, key_added=\"soupx_groups\")\n",
    "\n",
    "# Preprocess variables for SoupX\n",
    "soupx_groups = adata_pp.obs[\"soupx_groups\"]"
   ]
  },
  {
   "cell_type": "code",
   "execution_count": null,
   "metadata": {},
   "outputs": [],
   "source": [
    "# Free memory\n",
    "del adata_pp"
   ]
  },
  {
   "cell_type": "code",
   "execution_count": null,
   "metadata": {},
   "outputs": [],
   "source": [
    "cells = adata.obs_names\n",
    "genes = adata.var_names\n",
    "data = adata.X.T\n",
    "data.shape"
   ]
  },
  {
   "cell_type": "code",
   "execution_count": null,
   "metadata": {},
   "outputs": [],
   "source": [
    "# Filter\n",
    "adata_raw = sc.AnnData(DEM,dtype=np.float32)\n",
    "adata_raw.var_names_make_unique()\n",
    "sc.pp.filter_cells(adata_raw, min_genes=min_genes_per_cell)\n",
    "sc.pp.filter_genes(adata_raw, min_cells=min_cells_per_gene)\n",
    "adata_raw.var_names_make_unique()\n",
    "data_tod = adata_raw.X.T\n",
    "del adata_raw"
   ]
  },
  {
   "cell_type": "code",
   "execution_count": null,
   "metadata": {},
   "outputs": [],
   "source": [
    "%%R -i data -i genes -i cells -i data_tod \n",
    "# specify row and column names of data\n",
    "rownames(data) = genes\n",
    "colnames(data) = cells\n",
    "# ensure correct sparse format for table of counts and table of droplets\n",
    "data <- as(data, \"sparseMatrix\")\n",
    "data_tod <- as(data_tod, \"sparseMatrix\")"
   ]
  },
  {
   "cell_type": "code",
   "execution_count": null,
   "metadata": {},
   "outputs": [],
   "source": [
    "%%R -i soupx_groups -o out \n",
    "# Generate SoupChannel Object for SoupX \n",
    "sc = SoupChannel(data_tod, data, calcSoupProfile = FALSE)\n",
    "\n",
    "# Add extra meta data to the SoupChannel object\n",
    "soupProf = data.frame(row.names = rownames(data), est = rowSums(data)/sum(data), counts = rowSums(data))\n",
    "sc = setSoupProfile(sc, soupProf)\n",
    "# Set cluster information in SoupChannel\n",
    "sc = setClusters(sc, soupx_groups)\n",
    "\n",
    "# Estimate contamination fraction\n",
    "sc  = autoEstCont(sc, doPlot=FALSE)\n",
    "# Infer corrected table of counts and rount to integer\n",
    "out = adjustCounts(sc, roundToInt = TRUE)"
   ]
  },
  {
   "cell_type": "code",
   "execution_count": null,
   "metadata": {},
   "outputs": [],
   "source": [
    "adata.layers[\"counts\"] = adata.X\n",
    "adata.layers[\"soupX_counts\"] = out.T\n",
    "adata.X = adata.layers[\"soupX_counts\"]"
   ]
  },
  {
   "attachments": {},
   "cell_type": "markdown",
   "metadata": {},
   "source": [
    "## Doublet Detection"
   ]
  },
  {
   "cell_type": "code",
   "execution_count": null,
   "metadata": {},
   "outputs": [],
   "source": [
    "data_mat = adata.X.T"
   ]
  },
  {
   "cell_type": "code",
   "execution_count": null,
   "metadata": {},
   "outputs": [],
   "source": [
    "%%R -i data_mat -o droplet_class\n",
    "sce = scDblFinder(\n",
    "    SingleCellExperiment(\n",
    "        list(counts=data_mat),\n",
    "    ) \n",
    ")\n",
    "droplet_class = sce$scDblFinder.class\n",
    "droplet_class <- as.vector(droplet_class)\n",
    "droplet_class[droplet_class==1] <- 'singlet'\n",
    "droplet_class[droplet_class==2] <- 'doublet'"
   ]
  },
  {
   "cell_type": "code",
   "execution_count": null,
   "metadata": {},
   "outputs": [],
   "source": [
    "adata.obs[\"scDblFinder_class\"] = droplet_class\n",
    "adata.obs.scDblFinder_class.value_counts()"
   ]
  },
  {
   "cell_type": "code",
   "execution_count": null,
   "metadata": {},
   "outputs": [],
   "source": [
    "print(f\"Total number of cells: {adata.n_obs}\")\n",
    "adata = adata[adata.obs.scDblFinder_class == \"singlet\"].copy()\n",
    "print(f\"Number of cells after filtering of doublets: {adata.n_obs}\")"
   ]
  },
  {
   "cell_type": "code",
   "execution_count": null,
   "metadata": {},
   "outputs": [],
   "source": [
    "sc.pp.calculate_qc_metrics(\n",
    "    adata, inplace=True, percent_top=[20], log1p=True\n",
    ")"
   ]
  },
  {
   "cell_type": "code",
   "execution_count": null,
   "metadata": {},
   "outputs": [],
   "source": [
    "import seaborn as sns\n",
    "p1 = sns.displot(adata.obs[\"total_counts\"], bins=100, kde=False)\n",
    "sc.pl.violin(adata, 'total_counts')\n",
    "p3 = sc.pl.scatter(adata, \"total_counts\", \"n_genes_by_counts\")"
   ]
  },
  {
   "cell_type": "code",
   "execution_count": null,
   "metadata": {},
   "outputs": [],
   "source": [
    "print(f\"Total number of genes: {adata.n_vars}\")\n",
    "# Min 20 cells - filters out 0 count genes\n",
    "sc.pp.filter_genes(adata, min_cells=20)\n",
    "print(f\"Number of genes after cell filter: {adata.n_vars}\")"
   ]
  },
  {
   "attachments": {},
   "cell_type": "markdown",
   "metadata": {},
   "source": [
    "## Normalization"
   ]
  },
  {
   "cell_type": "code",
   "execution_count": null,
   "metadata": {},
   "outputs": [],
   "source": [
    "# proportional fitting to mean of cell depth\n",
    "proportional_fitting = sc.pp.normalize_total(adata, target_sum=None, inplace=False)\n",
    "# log1p transform\n",
    "adata.layers[\"log1pPF_normalization\"] = sc.pp.log1p(proportional_fitting[\"X\"])\n",
    "# proportional fitting\n",
    "adata.layers[\"PFlog1pPF_normalization\"] = sc.pp.normalize_total(\n",
    "    adata, target_sum=None, layer=\"log1pPF_normalization\", inplace=False\n",
    ")[\"X\"]"
   ]
  },
  {
   "attachments": {},
   "cell_type": "markdown",
   "metadata": {},
   "source": [
    "## Dimensionality Reduction"
   ]
  },
  {
   "cell_type": "code",
   "execution_count": null,
   "metadata": {},
   "outputs": [],
   "source": [
    "adata.X = adata.layers[\"log1pPF_normalization\"]\n",
    "sc.pp.pca(adata, n_comps=30, use_highly_variable=False, svd_solver=\"arpack\")\n",
    "sc.pp.neighbors(adata, n_pcs=30)"
   ]
  },
  {
   "cell_type": "code",
   "execution_count": null,
   "metadata": {},
   "outputs": [],
   "source": [
    "sc.pl.pca_scatter(adata, color=\"total_counts\")"
   ]
  },
  {
   "cell_type": "code",
   "execution_count": null,
   "metadata": {},
   "outputs": [],
   "source": [
    "sc.tl.tsne(adata)\n",
    "sc.pl.tsne(adata, color=\"total_counts\")"
   ]
  },
  {
   "cell_type": "code",
   "execution_count": null,
   "metadata": {},
   "outputs": [],
   "source": [
    "sc.tl.umap(adata)\n",
    "sc.pl.umap(adata, color=\"total_counts\")"
   ]
  },
  {
   "cell_type": "code",
   "execution_count": null,
   "metadata": {},
   "outputs": [],
   "source": [
    "\n",
    "adata.obs[\"Condition\"] = Condition \n",
    "adata.obs[\"CellType\"] = CellType"
   ]
  },
  {
   "cell_type": "code",
   "execution_count": null,
   "metadata": {},
   "outputs": [],
   "source": [
    "adata.write(resultdir+Condition+\"_\"+CellType+\"_preprocessed.h5ad\")"
   ]
  },
  {
   "cell_type": "code",
   "execution_count": null,
   "metadata": {},
   "outputs": [],
   "source": [
    "\n",
    "\n",
    "\n",
    "sc.pl.umap(adata, color = ['louvain','CCR7','PTPRC'])\n"
   ]
  }
 ],
 "metadata": {
  "kernelspec": {
   "display_name": "Py310",
   "language": "python",
   "name": "python3"
  },
  "language_info": {
   "codemirror_mode": {
    "name": "ipython",
    "version": 3
   },
   "file_extension": ".py",
   "mimetype": "text/x-python",
   "name": "python",
   "nbconvert_exporter": "python",
   "pygments_lexer": "ipython3",
   "version": "3.10.10"
  },
  "orig_nbformat": 4
 },
 "nbformat": 4,
 "nbformat_minor": 2
}
