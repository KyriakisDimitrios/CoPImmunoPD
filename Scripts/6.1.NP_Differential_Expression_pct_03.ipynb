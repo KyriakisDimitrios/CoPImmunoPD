{
 "cells": [
  {
   "cell_type": "code",
   "execution_count": 1,
   "metadata": {},
   "outputs": [
    {
     "name": "stderr",
     "output_type": "stream",
     "text": [
      "c:\\Users\\kyria.000\\anaconda3\\envs\\Py310\\lib\\site-packages\\rpy2\\robjects\\packages.py:367: UserWarning: The symbol 'quartz' is not in this R namespace/package.\n",
      "  warnings.warn(\n"
     ]
    }
   ],
   "source": [
    "import anndata2ri\n",
    "import logging\n",
    "import rpy2.rinterface_lib.callbacks as rcb\n",
    "import os\n",
    "import pandas as pd\n",
    "import numpy as np\n",
    "import rpy2.robjects as ro\n",
    "import sys\n",
    "\n",
    "import scanpy as sc\n",
    "import matplotlib.pyplot as plt\n",
    "\n",
    "rcb.logger.setLevel(logging.ERROR)\n",
    "ro.pandas2ri.activate()\n",
    "anndata2ri.activate()\n",
    "\n",
    "%load_ext rpy2.ipython"
   ]
  },
  {
   "cell_type": "code",
   "execution_count": 2,
   "metadata": {},
   "outputs": [
    {
     "name": "stdout",
     "output_type": "stream",
     "text": [
      "\n",
      "    WARNING: The R package \"reticulate\" only fixed recently\n",
      "    an issue that caused a segfault when used with rpy2:\n",
      "    https://github.com/rstudio/reticulate/pull/1188\n",
      "    Make sure that you use a version of that package that includes\n",
      "    the fix.\n",
      "    -- Attaching packages --------------------------------------- tidyverse 1.3.2 --\n",
      "v tibble  3.2.0     v purrr   1.0.1\n",
      "v tidyr   1.3.0     v forcats 1.0.0\n",
      "v readr   2.1.3     \n",
      "-- Conflicts ------------------------------------------ tidyverse_conflicts() --\n",
      "x tibble::as_data_frame() masks dplyr::as_data_frame(), igraph::as_data_frame()\n",
      "x dplyr::collapse()       masks IRanges::collapse()\n",
      "x dplyr::combine()        masks Biobase::combine(), BiocGenerics::combine()\n",
      "x purrr::compose()        masks igraph::compose()\n",
      "x dplyr::count()          masks matrixStats::count()\n",
      "x tidyr::crossing()       masks igraph::crossing()\n",
      "x dplyr::desc()           masks IRanges::desc()\n",
      "x tidyr::expand()         masks S4Vectors::expand(), Matrix::expand()\n",
      "x dplyr::filter()         masks stats::filter()\n",
      "x dplyr::first()          masks S4Vectors::first()\n",
      "x dplyr::groups()         masks igraph::groups()\n",
      "x dplyr::lag()            masks stats::lag()\n",
      "x tidyr::pack()           masks Matrix::pack()\n",
      "x ggplot2::Position()     masks BiocGenerics::Position(), base::Position()\n",
      "x purrr::reduce()         masks GenomicRanges::reduce(), IRanges::reduce()\n",
      "x dplyr::rename()         masks S4Vectors::rename()\n",
      "x purrr::simplify()       masks igraph::simplify()\n",
      "x dplyr::slice()          masks IRanges::slice()\n",
      "x tidyr::unpack()         masks Matrix::unpack()\n"
     ]
    }
   ],
   "source": [
    "%%R\n",
    "options(future.globals.maxSize = 1000000 * 1024^2)\n",
    "set.seed(2422012)\n",
    "\n",
    "# Single cell libraries\n",
    "library(Seurat)\n",
    "library(sctransform)\n",
    "library(rliger)\n",
    "library(SeuratWrappers)\n",
    "library(conos)\n",
    "library(scater)\n",
    "library(scDblFinder)\n",
    "library(scran)\n",
    "library(sctransform)\n",
    "library(scry)\n",
    "\n",
    "# Rest libraries\n",
    "library(BiocParallel)\n",
    "library(ggplot2)\n",
    "library(dplyr)\n",
    "library(cowplot)\n",
    "\n",
    "library(scCustomize)\n",
    "library(stringr)\n",
    "library(dittoSeq)\n",
    "library(DESeq2)\n",
    "library(enrichR)\n",
    "\n",
    "library(tidyverse)\n",
    "library(org.Hs.eg.db)\n",
    "library(clusterProfiler)"
   ]
  },
  {
   "cell_type": "code",
   "execution_count": 3,
   "metadata": {},
   "outputs": [],
   "source": [
    "CellType=\"CCR7pCD45ROm\"\n",
    "title_plot = \"CD45RO-CCR7+\""
   ]
  },
  {
   "cell_type": "code",
   "execution_count": 4,
   "metadata": {},
   "outputs": [],
   "source": [
    "projectdir = \"C:/Users/kyria.000/Documents/PhD/Projects/Feng2023/CoPImmunoPD/\"\n",
    "datadir = projectdir + \"Data/\"\n",
    "objtdir = projectdir + \"Result/Differnetial_Expression_pct_03/\"\n",
    "\n",
    "resultdir = projectdir + \"Result/Differnetial_Expression_pct_03/\"+CellType+\"/\"\n",
    "adata_file = 'AnnData_Integrated.h5ad'\n"
   ]
  },
  {
   "cell_type": "code",
   "execution_count": 5,
   "metadata": {},
   "outputs": [],
   "source": [
    "%%R -i projectdir\n",
    "setwd(projectdir)"
   ]
  },
  {
   "cell_type": "code",
   "execution_count": 6,
   "metadata": {},
   "outputs": [],
   "source": [
    "%%R -i objtdir -i resultdir -i projectdir\n",
    "# setwd(projectdir)\n",
    "dir.create(objtdir)\n",
    "dir.create(resultdir)\n",
    "Subbbb <- readRDS(paste0(projectdir,\"Subset_raarranged.rds\"))"
   ]
  },
  {
   "cell_type": "code",
   "execution_count": 7,
   "metadata": {},
   "outputs": [
    {
     "data": {
      "image/png": "[encoded data removed]",
      "text/plain": [
       "<IPython.core.display.Image object>"
      ]
     },
     "metadata": {},
     "output_type": "display_data"
    }
   ],
   "source": [
    "%%R -i resultdir -i projectdir\n",
    "DimPlot(Subbbb,group.by=\"CellType\",cols=c(dittoColors(1)[seq_len(4)]))"
   ]
  },
  {
   "cell_type": "code",
   "execution_count": 8,
   "metadata": {},
   "outputs": [],
   "source": [
    "%%R\n",
    "DefaultAssay(Subbbb) <- \"SCT\"\n",
    "# ====== Find markers parameters  ==============\n",
    "min_pct_threshold = 0.3\n",
    "# ====== Go enrichment parameters ==============\n",
    "logfc.threshold <- 0.25\n",
    "p.val.cutoff <- 0.05\n",
    "max.genes <- 500\n"
   ]
  },
  {
   "attachments": {},
   "cell_type": "markdown",
   "metadata": {},
   "source": [
    "# Subset different CD8 T cells"
   ]
  },
  {
   "cell_type": "code",
   "execution_count": 9,
   "metadata": {},
   "outputs": [],
   "source": [
    "%%R -i CellType\n",
    "# ====================== CCR7mCD45ROp ================================\n",
    "Seurat = subset(Subbbb, idents = CellType)\n",
    "Seurat<- SetIdent(Seurat , value = \"Condition\")\n",
    "Seurat <- PrepSCTFindMarkers(Seurat)"
   ]
  },
  {
   "cell_type": "code",
   "execution_count": 10,
   "metadata": {},
   "outputs": [
    {
     "data": {
      "image/png": "[encoded data removed]",
      "text/plain": [
       "<IPython.core.display.Image object>"
      ]
     },
     "metadata": {},
     "output_type": "display_data"
    }
   ],
   "source": [
    "%%R\n",
    "DimPlot(Seurat,group.by=\"CellType\")"
   ]
  },
  {
   "attachments": {},
   "cell_type": "markdown",
   "metadata": {},
   "source": [
    "# Create Average Expression"
   ]
  },
  {
   "cell_type": "code",
   "execution_count": 11,
   "metadata": {},
   "outputs": [],
   "source": [
    "%%R\n",
    "source(paste0(projectdir,\"Functions.R\"))"
   ]
  },
  {
   "cell_type": "code",
   "execution_count": 12,
   "metadata": {},
   "outputs": [],
   "source": [
    "%%R -i resultdir -i CellType\n",
    "Idents(Seurat) <- \"Condition\"\n",
    "Average_Seurat <- AverageExpression(Seurat,return.seurat=T)\n",
    "Average_Seurat_norm <- as.data.frame(Average_Seurat@assays$SCT@data)\n",
    "rownames(Average_Seurat_norm) <- rownames(Average_Seurat)\n",
    "colnames(Average_Seurat_norm)<- paste0(rownames(Average_Seurat@meta.data),\"_norm\")\n",
    "Average_Seurat_counts <- as.data.frame(Average_Seurat@assays$RNA@data)\n",
    "rownames(Average_Seurat_counts) <- rownames(Average_Seurat)\n",
    "colnames(Average_Seurat_counts)<- paste0(rownames(Average_Seurat@meta.data),\"_counts\")\n",
    "Average_Seurat <- as.data.frame(cbind(Average_Seurat_counts,Average_Seurat_norm))\n",
    "write.csv(Average_Seurat,paste0(resultdir,\"Average_\",CellType,\".csv\"))\n"
   ]
  },
  {
   "attachments": {},
   "cell_type": "markdown",
   "metadata": {},
   "source": [
    "# Differential Expression"
   ]
  },
  {
   "cell_type": "code",
   "execution_count": 13,
   "metadata": {},
   "outputs": [
    {
     "name": "stdout",
     "output_type": "stream",
     "text": [
      "  |                                                  | 0 % ~calculating   |+                                                 | 1 % ~59s           |++                                                | 2 % ~57s           |++                                                | 3 % ~57s           |+++                                               | 4 % ~58s           |+++                                               | 5 % ~59s           |++++                                              | 6 % ~58s           |++++                                              | 7 % ~57s           |+++++                                             | 8 % ~56s           |+++++                                             | 9 % ~55s           |++++++                                            | 10% ~54s           |++++++                                            | 11% ~54s           |+++++++                                           | 12% ~53s           |+++++++                                           | 13% ~52s           |++++++++                                          | 14% ~51s           |++++++++                                          | 15% ~51s           |+++++++++                                         | 16% ~50s           |+++++++++                                         | 18% ~49s           |++++++++++                                        | 19% ~48s           |++++++++++                                        | 20% ~48s           |+++++++++++                                       | 21% ~47s           |+++++++++++                                       | 22% ~46s           |++++++++++++                                      | 23% ~46s           |++++++++++++                                      | 24% ~45s           |+++++++++++++                                     | 25% ~44s           |+++++++++++++                                     | 26% ~44s           |++++++++++++++                                    | 27% ~43s           |++++++++++++++                                    | 28% ~42s           |+++++++++++++++                                   | 29% ~42s           |+++++++++++++++                                   | 30% ~41s           |++++++++++++++++                                  | 31% ~41s           |++++++++++++++++                                  | 32% ~40s           |+++++++++++++++++                                 | 33% ~39s           |++++++++++++++++++                                | 34% ~39s           |++++++++++++++++++                                | 35% ~38s           |+++++++++++++++++++                               | 36% ~38s           |+++++++++++++++++++                               | 37% ~37s           |++++++++++++++++++++                              | 38% ~37s           |++++++++++++++++++++                              | 39% ~36s           |+++++++++++++++++++++                             | 40% ~35s           |+++++++++++++++++++++                             | 41% ~35s           |++++++++++++++++++++++                            | 42% ~34s           |++++++++++++++++++++++                            | 43% ~33s           |+++++++++++++++++++++++                           | 44% ~33s           |+++++++++++++++++++++++                           | 45% ~32s           |++++++++++++++++++++++++                          | 46% ~32s           |++++++++++++++++++++++++                          | 47% ~31s           |+++++++++++++++++++++++++                         | 48% ~30s           |+++++++++++++++++++++++++                         | 49% ~30s           |++++++++++++++++++++++++++                        | 51% ~29s           |++++++++++++++++++++++++++                        | 52% ~28s           |+++++++++++++++++++++++++++                       | 53% ~28s           |+++++++++++++++++++++++++++                       | 54% ~27s           |++++++++++++++++++++++++++++                      | 55% ~27s           |++++++++++++++++++++++++++++                      | 56% ~26s           |+++++++++++++++++++++++++++++                     | 57% ~25s           |+++++++++++++++++++++++++++++                     | 58% ~25s           |++++++++++++++++++++++++++++++                    | 59% ~24s           |++++++++++++++++++++++++++++++                    | 60% ~23s           |+++++++++++++++++++++++++++++++                   | 61% ~23s           |+++++++++++++++++++++++++++++++                   | 62% ~22s           |++++++++++++++++++++++++++++++++                  | 63% ~22s           |++++++++++++++++++++++++++++++++                  | 64% ~21s           |+++++++++++++++++++++++++++++++++                 | 65% ~20s           |+++++++++++++++++++++++++++++++++                 | 66% ~20s           |++++++++++++++++++++++++++++++++++                | 67% ~19s           |+++++++++++++++++++++++++++++++++++               | 68% ~19s           |+++++++++++++++++++++++++++++++++++               | 69% ~18s           |++++++++++++++++++++++++++++++++++++              | 70% ~17s           |++++++++++++++++++++++++++++++++++++              | 71% ~17s           |+++++++++++++++++++++++++++++++++++++             | 72% ~16s           |+++++++++++++++++++++++++++++++++++++             | 73% ~16s           |++++++++++++++++++++++++++++++++++++++            | 74% ~15s           |++++++++++++++++++++++++++++++++++++++            | 75% ~14s           |+++++++++++++++++++++++++++++++++++++++           | 76% ~14s           |+++++++++++++++++++++++++++++++++++++++           | 77% ~13s           |++++++++++++++++++++++++++++++++++++++++          | 78% ~13s           |++++++++++++++++++++++++++++++++++++++++          | 79% ~12s           |+++++++++++++++++++++++++++++++++++++++++         | 80% ~11s           |+++++++++++++++++++++++++++++++++++++++++         | 81% ~11s           |++++++++++++++++++++++++++++++++++++++++++        | 82% ~10s           |++++++++++++++++++++++++++++++++++++++++++        | 84% ~10s           |+++++++++++++++++++++++++++++++++++++++++++       | 85% ~09s           |+++++++++++++++++++++++++++++++++++++++++++       | 86% ~08s           |++++++++++++++++++++++++++++++++++++++++++++      | 87% ~08s           |++++++++++++++++++++++++++++++++++++++++++++      | 88% ~07s           |+++++++++++++++++++++++++++++++++++++++++++++     | 89% ~07s           |+++++++++++++++++++++++++++++++++++++++++++++     | 90% ~06s           |++++++++++++++++++++++++++++++++++++++++++++++    | 91% ~05s           |++++++++++++++++++++++++++++++++++++++++++++++    | 92% ~05s           |+++++++++++++++++++++++++++++++++++++++++++++++   | 93% ~04s           |+++++++++++++++++++++++++++++++++++++++++++++++   | 94% ~04s           |++++++++++++++++++++++++++++++++++++++++++++++++  | 95% ~03s           |++++++++++++++++++++++++++++++++++++++++++++++++  | 96% ~02s           |+++++++++++++++++++++++++++++++++++++++++++++++++ | 97% ~02s           |+++++++++++++++++++++++++++++++++++++++++++++++++ | 98% ~01s           |++++++++++++++++++++++++++++++++++++++++++++++++++| 99% ~01s           |++++++++++++++++++++++++++++++++++++++++++++++++++| 100% elapsed=59s  \n"
     ]
    }
   ],
   "source": [
    "%%R\n",
    "DE_Seurat_original <-  FindMarkers(Seurat,ident.1=\"PD\",ident.2=\"HC\",\n",
    "    min.pct = min_pct_threshold,\n",
    "    logfc.threshold = 0\n",
    "    )"
   ]
  },
  {
   "cell_type": "code",
   "execution_count": 14,
   "metadata": {},
   "outputs": [],
   "source": [
    "%%R\n",
    "source(\"Functions.R\")\n",
    "DE_Seurat <- DE_Seurat_original\n",
    "DE_Seurat$gene <-  rownames(DE_Seurat)\n",
    "DE_Seurat  <- gene_score_calc(DE_Seurat)\n"
   ]
  },
  {
   "attachments": {},
   "cell_type": "markdown",
   "metadata": {},
   "source": [
    "# ADD ENSEMBL IDs"
   ]
  },
  {
   "cell_type": "code",
   "execution_count": 15,
   "metadata": {},
   "outputs": [
    {
     "name": "stdout",
     "output_type": "stream",
     "text": [
      "Rows: 36601 Columns: 3\n",
      "-- Column specification --------------------------------------------------------\n",
      "Delimiter: \"\\t\"\n",
      "chr (3): X1, X2, X3\n",
      "\n",
      "i Use `spec()` to retrieve the full column specification for this data.\n",
      "i Specify the column types or set `show_col_types = FALSE` to quiet this message.\n",
      "           gene     tstat gene.score p_val p_val_adj diff.pct enrichment.ratio\n",
      "RNF125   RNF125 -266.6246   -1.50347     0         0   -0.200          1.27548\n",
      "ZFP36L2 ZFP36L2 -254.0397   -0.99831     0         0   -0.047          1.04963\n",
      "CNOT6L   CNOT6L -229.0696   -1.11585     0         0   -0.118          1.14200\n",
      "P2RY8     P2RY8 -208.3705   -1.42069     0         0   -0.231          1.35538\n",
      "TXNIP     TXNIP  188.9837    0.73517     0         0    0.029          1.03014\n",
      "        pct.1 pct.2 avg_log2FC cluster gene.name      ensembl.id\n",
      "RNF125  0.726 0.926   -1.17875      HC    RNF125 ENSG00000101695\n",
      "ZFP36L2 0.947 0.994   -0.95111      HC   ZFP36L2 ENSG00000152518\n",
      "CNOT6L  0.831 0.949   -0.97711      HC    CNOT6L ENSG00000138767\n",
      "P2RY8   0.650 0.881   -1.04818      HC     P2RY8 ENSG00000182162\n",
      "TXNIP   0.991 0.962    0.71366      PD     TXNIP ENSG00000265972\n"
     ]
    }
   ],
   "source": [
    "%%R -i projectdir\n",
    "gene_names <- as.data.frame(readr::read_tsv(paste0(projectdir,\"features.tsv\"),col_names =F))\n",
    "colnames(gene_names) <- c(\"ensembl.id\",\"gene.name\",\"Type\")\n",
    "DE_Seurat$gene.name <- DE_Seurat$gene\n",
    "\n",
    "\n",
    "remain_ensembl.id <- gene_names[gene_names$gene.name %in% DE_Seurat$gene.name,]\n",
    "doublicated_gene <- duplicated(remain_ensembl.id$gene.name)\n",
    "remain_ensembl.id2 <- remain_ensembl.id[!doublicated_gene,]\n",
    "rownames(remain_ensembl.id2) <- remain_ensembl.id2$gene.name\n",
    "DE_Seurat$ensembl.id <- remain_ensembl.id2[DE_Seurat$gene.name,\"ensembl.id\"]\n",
    "print(DE_Seurat[1:5,])\n"
   ]
  },
  {
   "attachments": {},
   "cell_type": "markdown",
   "metadata": {},
   "source": [
    "# ADD ENTREZ IDs"
   ]
  },
  {
   "cell_type": "code",
   "execution_count": 16,
   "metadata": {},
   "outputs": [
    {
     "name": "stdout",
     "output_type": "stream",
     "text": [
      "\n",
      "FALSE  TRUE \n",
      " 2981    23 \n"
     ]
    }
   ],
   "source": [
    "%%R\n",
    "source(\"Functions.R\")\n",
    "rownames(DE_Seurat) <- DE_Seurat$gene.name\n",
    "geneIDs <- DE_Seurat[,c(\"gene.name\",\"ensembl.id\")]\n",
    "DE_Seurat_mapped <- entrezMapper(DEGenes=DE_Seurat, geneIDs=geneIDs, species=\"hsa\")\n"
   ]
  },
  {
   "cell_type": "code",
   "execution_count": 17,
   "metadata": {},
   "outputs": [
    {
     "name": "stdout",
     "output_type": "stream",
     "text": [
      "[1] 2981   14\n",
      "[1] 3004   14\n"
     ]
    }
   ],
   "source": [
    "%%R\n",
    "cleanDEGenes <- DE_Seurat_mapped[!is.na(DE_Seurat_mapped$entrezID),]\n",
    "print(dim(cleanDEGenes))\n",
    "print(dim(DE_Seurat_mapped))"
   ]
  },
  {
   "cell_type": "code",
   "execution_count": 18,
   "metadata": {},
   "outputs": [
    {
     "name": "stdout",
     "output_type": "stream",
     "text": [
      "                 gene      tstat gene.score p_val p_val_adj diff.pct\n",
      "AC099489.1 AC099489.1 -102.40464   -2.61704     0         0   -0.249\n",
      "RNF125         RNF125 -266.62464   -1.50347     0         0   -0.200\n",
      "P2RY8           P2RY8 -208.37050   -1.42069     0         0   -0.231\n",
      "HIST1H1E     HIST1H1E   91.55809    1.33506     0         0    0.238\n",
      "TUBB4B         TUBB4B -142.74568   -1.30216     0         0   -0.319\n",
      "           enrichment.ratio pct.1 pct.2 avg_log2FC cluster  gene.name\n",
      "AC099489.1          3.73622 0.091 0.340   -0.70045      HC AC099489.1\n",
      "RNF125              1.27548 0.726 0.926   -1.17875      HC     RNF125\n",
      "P2RY8               1.35538 0.650 0.881   -1.04818      HC      P2RY8\n",
      "HIST1H1E            2.59730 0.387 0.149    0.51402      PD   HIST1H1E\n",
      "TUBB4B              1.93548 0.341 0.660   -0.67278      HC     TUBB4B\n",
      "                ensembl.id entrezID\n",
      "AC099489.1 ENSG00000188897   400499\n",
      "RNF125     ENSG00000101695    54941\n",
      "P2RY8      ENSG00000182162"
     ]
    },
    {
     "name": "stdout",
     "output_type": "stream",
     "text": [
      "   286530\n",
      "HIST1H1E   ENSG00000168298     3008\n",
      "TUBB4B     ENSG00000188229    10383\n"
     ]
    }
   ],
   "source": [
    "%%R\n",
    "DE_Seurat_signif <- cleanDEGenes %>%\n",
    "  filter(abs(avg_log2FC)>0.25 &  p_val_adj <0.05) %>%\n",
    "  arrange(desc(abs(gene.score)))\n",
    "DE_Seurat_signif[1:5,]"
   ]
  },
  {
   "cell_type": "code",
   "execution_count": 19,
   "metadata": {},
   "outputs": [],
   "source": [
    "%%R -i CellType\n",
    "Average_subset_ordered <- Average_Seurat[DE_Seurat$gene,]\n",
    "DE_Seurat <- as.data.frame(cbind(DE_Seurat,Average_subset_ordered))\n",
    "DE_Seurat <- DE_Seurat[order(DE_Seurat$gene.score,decreasing=T),]\n",
    "readr::write_csv(DE_Seurat,\n",
    "    file=paste0(resultdir,CellType,\"DEG_MinPct_\",min_pct_threshold,\".csv\"))\n"
   ]
  },
  {
   "cell_type": "code",
   "execution_count": 85,
   "metadata": {},
   "outputs": [
    {
     "name": "stdout",
     "output_type": "stream",
     "text": [
      "                   p_val avg_log2FC pct.1 pct.2     p_val_adj       gene\n",
      "AC099489.1 2.978519e-107 -0.7004506 0.091 0.340 3.938794e-103 AC099489.1\n",
      "RNF125     1.794706e-271 -1.1787515 0.726 0.926 2.373320e-267     RNF125\n",
      "P2RY8      3.222057e-213 -1.0481807 0.650 0.881 4.260848e-209      P2RY8\n",
      "HIST1H1E    2.091950e-96  0.5140204 0.387 0.149  2.766395e-92   HIST1H1E\n",
      "TUBB4B     1.358181e-147 -0.6727843 0.341 0.660 1.796058e-143     TUBB4B\n",
      "FMN1        9.017034e-71 -0.5246406 0.149 0.364  1.192413e-66       FMN1\n",
      "            gene.name cluster enrichment.ratio diff.pct      tstat gene.score\n",
      "AC099489.1 AC099489.1      HC         3.736223   -0.249 -102.40464  -2.617039\n",
      "RNF125         RNF125      HC         1.275480   -0.200 -266.62464  -1.503474\n",
      "P2RY8           P2RY8      HC         1.355383   -0.231 -208.37050  -1.420686\n",
      "HIST1H1E     HIST1H1E      PD         2.597298    0.238   91.55809   1.335064\n",
      "TUBB4B         TUBB4B      HC         1.935478   -0.319 -142.74568  -1.302159\n",
      "FMN1             FMN1      HC         2.442937   -0.215  -65.92357  -1.281664\n"
     ]
    },
    {
     "name": "stdout",
     "output_type": "stream",
     "text": [
      "Saving 6.67 x 6.67 in image\n",
      "Saving 6.67 x 6.67 in image\n"
     ]
    },
    {
     "data": {
      "image/png": "[encoded data removed]",
      "text/plain": [
       "<IPython.core.display.Image object>"
      ]
     },
     "metadata": {},
     "output_type": "display_data"
    }
   ],
   "source": [
    "%%R -i resultdir -i title_plot\n",
    "source(\"Functions.R\")\n",
    "library(ggrepel)\n",
    "Vlcano_df <- DE_Seurat_original\n",
    "Vlcano_df$gene <- rownames(Vlcano_df)\n",
    "Vlcano_df$gene.name <- rownames(Vlcano_df)\n",
    "Vlcano_df$cluster = ifelse(Vlcano_df$avg_log2FC >0 , \"PD\" ,\"HC\")\n",
    "Vlcano_df$enrichment.ratio = ifelse(Vlcano_df$pct.1>Vlcano_df$pct.2, Vlcano_df$pct.1 / (Vlcano_df$pct.2 + .000001), Vlcano_df$pct.2 / (Vlcano_df$pct.1 + .000001))\n",
    "Vlcano_df$diff.pct = Vlcano_df$pct.1 - Vlcano_df$pct.2\n",
    "Vlcano_df$tstat= -log10(Vlcano_df$p_val_adj + 1e-320) * sign(Vlcano_df$avg_log2FC) \n",
    "Vlcano_df$gene.score = Vlcano_df$avg_log2FC * Vlcano_df$enrichment.ratio\n",
    "Vlcano_df <- Vlcano_df  %>% arrange(desc(abs(gene.score)))\n",
    "print(head(Vlcano_df))\n",
    "\n",
    "up_labs   <- rownames(Vlcano_df %>% filter(avg_log2FC > 0.5 , p_val_adj<0.05 ))[1:10]\n",
    "down_labs <- rownames(Vlcano_df %>% filter(avg_log2FC < -0.5 , p_val_adj < 0.05))[1:10]\n",
    "\n",
    "\n",
    "# add a column of NAs\n",
    "Vlcano_df$diffexpressed <- \"NO\"\n",
    "# if log2Foldchange > 0.6 and pvalue < 0.05, set as \"UP\" \n",
    "Vlcano_df$diffexpressed[Vlcano_df$avg_log2FC > 0.5 & Vlcano_df$p_val < 0.05] <- \"UP\"\n",
    "# if log2Foldchange < -0.6 and pvalue < 0.05, set as \"DOWN\"\n",
    "Vlcano_df$diffexpressed[Vlcano_df$avg_log2FC < -0.5 & Vlcano_df$p_val < 0.05] <- \"DOWN\"\n",
    "Vlcano_df$delabel <- NA\n",
    "# Vlcano_df$delabel[Vlcano_df$diffexpressed != \"NO\"] <- Vlcano_df$gene.name[Vlcano_df$diffexpressed != \"NO\"]\n",
    "Vlcano_df$delabel[Vlcano_df$gene.name %in% c(up_labs,down_labs)] <- Vlcano_df$gene.name[Vlcano_df$gene.name %in% c(up_labs,down_labs)]\n",
    "\n",
    "\n",
    "x_lim <- max(abs(Vlcano_df$avg_log2FC))\n",
    "\n",
    "\n",
    "# p <- ggplot(data=Vlcano_df, aes(x=avg_log2FC, y=-log10(p_val), col=diffexpressed, label=delabel,shape=diffexpressed)) +\n",
    "#         geom_point() + \n",
    "#         theme_cowplot()  + theme_light()+\n",
    "#         geom_text_repel() +\n",
    "#         scale_shape_manual(values =c(1,19,1)) +\n",
    "#         scale_color_manual(values=c(\"blue\", \"black\", \"red\")) +\n",
    "#         geom_vline(xintercept=c(-0.5, 0.5), col=\"red\") +\n",
    "#         geom_hline(yintercept=-log10(0.05), col=\"red\")+\n",
    "#         ggtitle(title_plot, subtitle = paste0(\"Total genes tested: \",dim(Vlcano_df)[1] ))+\n",
    "#         xlim(-x_lim,x_lim)+\n",
    "#         theme(legend.position=\"bottom\",\n",
    "#         legend.spacing.x = unit(0, 'cm'))\n",
    "# ggsave(plot=p,filename=paste0(resultdir,CellType,\"_Volcano_pct\",min_pct_threshold,\"_pvalue.png\"))\n",
    "# ggsave(plot=p,filename=paste0(resultdir,CellType,\"_Volcano_pct\",min_pct_threshold,\"_pvalue.pdf\"))\n",
    "\n",
    "\n",
    "# add a column of NAs\n",
    "Vlcano_df$diffexpressed <- \"NS\"\n",
    "# if log2Foldchange > 0.6 and pvalue < 0.05, set as \"UP\" \n",
    "Vlcano_df$diffexpressed[(Vlcano_df$avg_log2FC > 0.25 & Vlcano_df$p_val_adj < 0.05) | (Vlcano_df$avg_log2FC < -0.25 & Vlcano_df$p_val_adj < 0.05)] <- \"p-value and log2FC >0.25\"\n",
    "Vlcano_df$diffexpressed[(Vlcano_df$avg_log2FC > 0.5 & Vlcano_df$p_val_adj < 0.05) | (Vlcano_df$avg_log2FC < -0.5 & Vlcano_df$p_val_adj < 0.05)] <-  \"p-value and log2FC >0.5\"\n",
    "Vlcano_df$delabel <- NA\n",
    "Vlcano_df$delabel[Vlcano_df$gene.name %in% c(up_labs,down_labs)] <- Vlcano_df$gene.name[Vlcano_df$gene.name %in% c(up_labs,down_labs)]\n",
    "\n",
    "p <- ggplot(data=Vlcano_df, aes(x=avg_log2FC, y=-log10(p_val_adj), col=diffexpressed, label=delabel,shape=diffexpressed)) +\n",
    "        geom_point() + \n",
    "        theme_cowplot()  + theme_light()+\n",
    "        geom_text_repel() +\n",
    "        scale_shape_manual(values =c(19,1,1)) +\n",
    "        scale_color_manual(values=c(\"black\",\"blue\",\"red\")) +\n",
    "        geom_vline(xintercept=c(-0.25, 0.25), col=\"black\", linetype = \"longdash\") +\n",
    "        \n",
    "        geom_vline(xintercept=c(-0.5, 0.5), col=\"red\") +\n",
    "        geom_hline(yintercept=-log10(0.05), col=\"red\")+\n",
    "        ggtitle(title_plot, subtitle = paste0(\"Total genes tested: \",dim(Vlcano_df)[1] ))+\n",
    "        xlim(-x_lim,x_lim)+\n",
    "        theme(legend.position=\"bottom\", legend.box=\"vertical\", legend.margin=margin(),\n",
    "                # legend.spacing.x = unit(0, 'cm'),\n",
    "                plot.title = element_text(size = 21,face = \"bold\"),\n",
    "                axis.text=element_text(size=12),\n",
    "                axis.title=element_text(size=14))\n",
    "ggsave(plot=p,filename=paste0(resultdir,CellType,\"_Volcano_pct\",min_pct_threshold,\"_adjustedp.png\"))\n",
    "ggsave(plot=p,filename=paste0(resultdir,CellType,\"_Volcano_pct\",min_pct_threshold,\"_adjustedp.pdf\"))\n",
    "p\n",
    "# p+guides(fill=guide_legend(nrow=2,byrow=TRUE))"
   ]
  },
  {
   "cell_type": "code",
   "execution_count": 97,
   "metadata": {},
   "outputs": [
    {
     "name": "stdout",
     "output_type": "stream",
     "text": [
      "Saving 6.67 x 6.67 in image\n",
      "Saving 6.67 x 6.67 in image\n"
     ]
    },
    {
     "data": {
      "image/png": "[encoded data removed]",
      "text/plain": [
       "<IPython.core.display.Image object>"
      ]
     },
     "metadata": {},
     "output_type": "display_data"
    }
   ],
   "source": [
    "%%R -i resultdir -i title_plot\n",
    "source(\"Functions.R\")\n",
    "library(ggrepel)\n",
    "Vlcano_df <- DE_Seurat_original\n",
    "Vlcano_df$gene <- rownames(Vlcano_df)\n",
    "Vlcano_df$gene.name <- rownames(Vlcano_df)\n",
    "Vlcano_df$cluster = ifelse(Vlcano_df$avg_log2FC >0 , \"PD\" ,\"HC\")\n",
    "Vlcano_df$enrichment.ratio = ifelse(Vlcano_df$pct.1>Vlcano_df$pct.2, Vlcano_df$pct.1 / (Vlcano_df$pct.2 + .000001), Vlcano_df$pct.2 / (Vlcano_df$pct.1 + .000001))\n",
    "Vlcano_df$diff.pct = Vlcano_df$pct.1 - Vlcano_df$pct.2\n",
    "Vlcano_df$tstat= -log10(Vlcano_df$p_val_adj + 1e-320) * sign(Vlcano_df$avg_log2FC) \n",
    "Vlcano_df$gene.score = Vlcano_df$avg_log2FC * Vlcano_df$enrichment.ratio\n",
    "Vlcano_df <- Vlcano_df  %>% arrange(desc(abs(gene.score)))\n",
    "\n",
    "up_labs   <- rownames(Vlcano_df %>% filter(avg_log2FC > 0.5 , p_val_adj<0.05 ))[1:10]\n",
    "down_labs <- rownames(Vlcano_df %>% filter(avg_log2FC < -0.5 , p_val_adj < 0.05))[1:10]\n",
    "x_lim <- max(abs(Vlcano_df$avg_log2FC))\n",
    "\n",
    "# add a column of NAs\n",
    "Vlcano_df$diffexpressed_updown <- \"NS\"\n",
    "# if log2Foldchange > 0.6 and pvalue < 0.05, set as \"UP\" \n",
    "Vlcano_df$diffexpressed_updown[(Vlcano_df$avg_log2FC > 0.25 & Vlcano_df$p_val_adj < 0.05)] <- \"Up\"\n",
    "Vlcano_df$diffexpressed_updown[(Vlcano_df$avg_log2FC < -0.25 & Vlcano_df$p_val_adj < 0.05)] <- \"Down\"\n",
    "# add a column of NAs\n",
    "Vlcano_df$diffexpressed_shape <- \"NS\"\n",
    "# if log2Foldchange > 0.6 and pvalue < 0.05, set as \"UP\" \n",
    "Vlcano_df$diffexpressed_shape[(Vlcano_df$avg_log2FC > 0.25 & Vlcano_df$p_val_adj < 0.05) | (Vlcano_df$avg_log2FC < -0.25 & Vlcano_df$p_val_adj < 0.05)] <- \"p-value and log2FC >0.25\"\n",
    "Vlcano_df$diffexpressed_shape[(Vlcano_df$avg_log2FC > 0.5 & Vlcano_df$p_val_adj < 0.05) | (Vlcano_df$avg_log2FC < -0.5 & Vlcano_df$p_val_adj < 0.05)] <-  \"p-value and log2FC >0.5\"\n",
    "Vlcano_df$delabel <- NA\n",
    "Vlcano_df$delabel[Vlcano_df$gene.name %in% c(up_labs,down_labs)] <- Vlcano_df$gene.name[Vlcano_df$gene.name %in% c(up_labs,down_labs)]\n",
    "\n",
    "p <- ggplot(data=Vlcano_df, aes(x=avg_log2FC, y=-log10(p_val_adj), col=diffexpressed_updown, label=delabel,shape=diffexpressed_shape)) +\n",
    "        geom_point() + \n",
    "        theme_cowplot()  + theme_light()+\n",
    "        geom_text_repel() +\n",
    "        scale_shape_manual(values =c(19,1,19)) +\n",
    "        scale_color_manual(values=c(\"blue\",\"black\",\"red\")) +\n",
    "        geom_vline(xintercept=c(-0.25, 0.25), col=\"black\", linetype = \"longdash\") +\n",
    "        geom_vline(xintercept=c(-0.5, 0.5), col=\"red\") +\n",
    "        geom_hline(yintercept=-log10(0.05), col=\"red\")+\n",
    "        ggtitle(title_plot, subtitle = paste0(\"Total genes tested: \",dim(Vlcano_df)[1] ))+\n",
    "        xlim(-x_lim,x_lim)+\n",
    "        theme(legend.position=\"bottom\", legend.box=\"vertical\", legend.margin=margin(),\n",
    "                # legend.spacing.x = unit(0, 'cm'),\n",
    "                plot.title = element_text(size = 21,face = \"bold\"),\n",
    "                axis.text=element_text(size=12),\n",
    "                axis.title=element_text(size=14))\n",
    "ggsave(plot=p,filename=paste0(resultdir,CellType,\"_Volcano_pct\",min_pct_threshold,\"_adjustedp.png\"))\n",
    "ggsave(plot=p,filename=paste0(resultdir,CellType,\"_Volcano_pct\",min_pct_threshold,\"_adjustedp.pdf\"))\n",
    "p"
   ]
  },
  {
   "attachments": {},
   "cell_type": "markdown",
   "metadata": {},
   "source": [
    "# Kegg Pathway"
   ]
  },
  {
   "attachments": {},
   "cell_type": "markdown",
   "metadata": {},
   "source": [
    "## Possitive PD"
   ]
  },
  {
   "cell_type": "code",
   "execution_count": 21,
   "metadata": {},
   "outputs": [
    {
     "name": "stdout",
     "output_type": "stream",
     "text": [
      "Uploading data to Enrichr... Done.\n",
      "  Querying KEGG_2021_Human... Done.\n",
      "Parsing results... Done.\n",
      "                     KEGG_2021_Human.Term KEGG_2021_Human.Overlap\n",
      "1       T cell receptor signaling pathway             ratio 6/104\n",
      "2 Human T-cell leukemia virus 1 infection             ratio 6/219\n",
      "3               Th17 cell differentiation             ratio 4/107\n"
     ]
    }
   ],
   "source": [
    "%%R\n",
    "source(\"Functions.R\")\n",
    "enrich.database <- c(\"KEGG_2021_Human\")\n",
    "mypos <- enrichR_wrap_fun_pos(DE_Seurat_mapped,\n",
    "logfc.threshold=logfc.threshold,\n",
    "p.val.cutoff=p.val.cutoff,\n",
    "enrich.database=c(enrich.database ))    \n",
    "# ======= DEGs matrix ===================\n",
    "pos.markers <- mypos$pos.markers\n",
    "# ======= Enrichment matrix ===================\n",
    "pos_mat <- mypos$pos_mat\n",
    "print(pos_mat[1:3,1:2])\n",
    "kegg_pos_mat <- pos_mat  \n",
    "readr::write_csv(pos_mat,\n",
    "    file=paste0(resultdir,CellType,\"_POS_\",enrich.database,\"_MinPct_\",min_pct_threshold,\".csv\"))\n"
   ]
  },
  {
   "cell_type": "code",
   "execution_count": 22,
   "metadata": {},
   "outputs": [
    {
     "name": "stdout",
     "output_type": "stream",
     "text": [
      "[1] \"Take a break enrichr crashes\"\n"
     ]
    }
   ],
   "source": [
    "%%R\n",
    "print(\"Take a break enrichr crashes\")\n"
   ]
  },
  {
   "attachments": {},
   "cell_type": "markdown",
   "metadata": {},
   "source": [
    "## Negative PD"
   ]
  },
  {
   "cell_type": "code",
   "execution_count": 23,
   "metadata": {},
   "outputs": [
    {
     "name": "stdout",
     "output_type": "stream",
     "text": [
      "Uploading data to Enrichr... Done.\n",
      "  Querying KEGG_2021_Human... Done.\n",
      "Parsing results... Done.\n",
      "  KEGG_2021_Human.Term KEGG_2021_Human.Overlap\n",
      "1          Hepatitis B            ratio 10/162\n",
      "2            Apoptosis             ratio 9/142\n",
      "3    Colorectal cancer              ratio 7/86\n"
     ]
    }
   ],
   "source": [
    "%%R\n",
    "source(\"Functions.R\")\n",
    "enrich.database <- c(\"KEGG_2021_Human\")\n",
    "myneg <- enrichR_wrap_fun_neg(DE_Seurat_mapped,\n",
    "logfc.threshold=logfc.threshold,\n",
    "p.val.cutoff=p.val.cutoff,\n",
    "enrich.database=c(enrich.database ))    \n",
    "# ======= DEGs matrix ===================\n",
    "neg.markers <- myneg$neg.markers\n",
    "# ======= Enrichment matrix ===================\n",
    "neg_mat <- myneg$neg_mat\n",
    "print(neg_mat[1:3,1:2])\n",
    "kegg_neg_mat <- neg_mat  \n",
    "readr::write_csv(neg_mat,\n",
    "    file=paste0(resultdir,CellType,\"_NEG_\",enrich.database,\"_MinPct_\",min_pct_threshold,\".csv\"))"
   ]
  },
  {
   "cell_type": "code",
   "execution_count": 24,
   "metadata": {},
   "outputs": [
    {
     "name": "stdout",
     "output_type": "stream",
     "text": [
      "Saving 12 x 6.67 in image\n",
      "Saving 12 x 6.67 in image\n"
     ]
    },
    {
     "data": {
      "image/png": "[encoded data removed]",
      "text/plain": [
       "<IPython.core.display.Image object>"
      ]
     },
     "metadata": {},
     "output_type": "display_data"
    }
   ],
   "source": [
    "%%R\n",
    "enrich.database <- \"KEGG_2021_Human\"\n",
    "p <- plot_enrichR_wrap_fun(\n",
    "        ident.1=\"PD\",\n",
    "        ident.2=\"HC\",\n",
    "        pos.er = kegg_pos_mat,\n",
    "        neg.er = kegg_neg_mat,\n",
    "        enrich.database= enrich.database )\n",
    "\n",
    "\n",
    "ggsave(plot=p,filename=paste0(resultdir,\"BarPlot_\",\n",
    "        CellType,\"_\",enrich.database,\"_pct_\",min_pct_threshold,\n",
    "        \"_logfc.threshold_\",logfc.threshold,\n",
    "        \"_p.val.cutoff_\"=p.val.cutoff,\n",
    "        \".png\"),width=12)\n",
    "ggsave(plot=p,filename=paste0(resultdir,\"BarPlot_\",\n",
    "        CellType,\"_\",enrich.database,\"_pct_\",min_pct_threshold,\n",
    "        \"_logfc.threshold_\",logfc.threshold,\n",
    "        \"_p.val.cutoff_\"=p.val.cutoff,\n",
    "        \".pdf\"),width=12)\n",
    "p"
   ]
  },
  {
   "cell_type": "code",
   "execution_count": 25,
   "metadata": {},
   "outputs": [
    {
     "data": {
      "image/png": "[encoded data removed]",
      "text/plain": [
       "<IPython.core.display.Image object>"
      ]
     },
     "metadata": {},
     "output_type": "display_data"
    }
   ],
   "source": [
    "%%R\n",
    "source(\"Functions.R\")\n",
    "enrich.database <- \"KEGG_2021_Human\"\n",
    "p <- dotplot_enrich_dim(pos_mat=kegg_pos_mat , neg_mat=kegg_neg_mat,n_paths=10)\n",
    "\n",
    "ggsave(plot=p,filename=paste0(resultdir,\"DotPlot_\",\n",
    "        CellType,\"_\",enrich.database,\"_pct_\",min_pct_threshold,\n",
    "        \"_logfc.threshold_\",logfc.threshold,\n",
    "        \"_p.val.cutoff_\"=p.val.cutoff,\n",
    "        \".png\"),width=20,height=6)\n",
    "ggsave(plot=p,filename=paste0(resultdir,\"DotPlot_\",\n",
    "        CellType,\"_\",enrich.database,\"_pct_\",min_pct_threshold,\n",
    "        \"_logfc.threshold_\",logfc.threshold,\n",
    "        \"_p.val.cutoff_\"=p.val.cutoff,\n",
    "        \".pdf\"),width=20,height=6)\n",
    "\n",
    "p\n",
    "\n"
   ]
  },
  {
   "attachments": {},
   "cell_type": "markdown",
   "metadata": {},
   "source": [
    "# Reactome Pathway"
   ]
  },
  {
   "attachments": {},
   "cell_type": "markdown",
   "metadata": {},
   "source": [
    "## Possitive PD"
   ]
  },
  {
   "cell_type": "code",
   "execution_count": 26,
   "metadata": {},
   "outputs": [
    {
     "name": "stdout",
     "output_type": "stream",
     "text": [
      "Uploading data to Enrichr... Done.\n",
      "  Querying Reactome_2022... Done.\n",
      "Parsing results... Done.\n",
      "                                                                                 Reactome_2022.Term\n",
      "1 RUNX1 Regulates Transcription Of Genes Involved In Differentiation Of Myeloid Cells R-HSA-8939246\n",
      "2                                       Constitutive Signaling By Overexpressed ERBB2 R-HSA-9634285\n",
      "3                                               HuR (ELAVL1) Binds And Stabilizes mRNA R-HSA-450520\n",
      "  Reactome_2022.Overlap\n",
      "1             ratio 2/7\n",
      "2            ratio 2/10\n",
      "3            ratio 2/10\n"
     ]
    }
   ],
   "source": [
    "%%R\n",
    "source(\"Functions.R\")\n",
    "enrich.database <- c(\"Reactome_2022\")\n",
    "mypos <- enrichR_wrap_fun_pos(DE_Seurat_mapped,\n",
    "logfc.threshold=logfc.threshold,\n",
    "p.val.cutoff=p.val.cutoff,\n",
    "enrich.database=c(enrich.database ))    \n",
    "# ======= DEGs matrix ===================\n",
    "pos.markers <- mypos$pos.markers\n",
    "# ======= Enrichment matrix ===================\n",
    "pos_mat <- mypos$pos_mat\n",
    "print(pos_mat[1:3,1:2])\n",
    "\n",
    "\n",
    "\n",
    "\n",
    "pos_IDs <- unlist(lapply( pos_mat$Reactome_2022.Term,function(term){\n",
    "        splitted_str <- strsplit(term,\" \")[[1]]\n",
    "        indxex_id <- grep(\"R-HSA\",splitted_str)\n",
    "        ID <- splitted_str[grep(\"R-HSA\",splitted_str)]\n",
    "        return(ID)\n",
    "    }))\n",
    "pos_mat$ID <- pos_IDs\n",
    "pos_Term <- unlist(lapply( pos_mat$Reactome_2022.Term,function(term){\n",
    "        splitted_str <- strsplit(term,\" \")[[1]]\n",
    "        indxex_id <- grep(\"R-HSA\",splitted_str)\n",
    "        Term_text <- paste(splitted_str[1:indxex_id-1],collapse=\" \")\n",
    "        return(Term_text)\n",
    "    }))\n",
    "pos_mat$term <- pos_Term\n",
    "pos_mat$term <- factor(pos_Term,levels= pos_Term)\n",
    "\n",
    "reactome_pos_mat <- pos_mat  \n",
    "\n",
    "\n",
    "readr::write_csv(pos_mat,\n",
    "    file=paste0(resultdir,CellType,\"_POS_\",enrich.database,\"_MinPct_\",min_pct_threshold,\".csv\"))\n"
   ]
  },
  {
   "attachments": {},
   "cell_type": "markdown",
   "metadata": {},
   "source": [
    "## Negative PD"
   ]
  },
  {
   "cell_type": "code",
   "execution_count": 27,
   "metadata": {},
   "outputs": [
    {
     "name": "stdout",
     "output_type": "stream",
     "text": [
      "Uploading data to Enrichr... Done.\n",
      "  Querying Reactome_2022... Done.\n",
      "Parsing results... Done.\n",
      "                                 Reactome_2022.Term Reactome_2022.Overlap\n",
      "1 Cytokine Signaling In Immune System R-HSA-1280215          ratio 28/702\n",
      "2            Signaling By Interleukins R-HSA-449147          ratio 20/453\n",
      "3                        Immune System R-HSA-168256         ratio 45/1943\n"
     ]
    }
   ],
   "source": [
    "%%R\n",
    "source(\"Functions.R\")\n",
    "enrich.database<- c(\"Reactome_2022\")\n",
    "myneg <- enrichR_wrap_fun_neg(DE_Seurat_mapped,\n",
    "logfc.threshold=logfc.threshold,\n",
    "p.val.cutoff=p.val.cutoff,\n",
    "enrich.database=c(enrich.database ))    \n",
    "# ======= DEGs matrix ===================\n",
    "neg.markers <- myneg$neg.markers\n",
    "# ======= Enrichment matrix ===================\n",
    "neg_mat <- myneg$neg_mat\n",
    "print(neg_mat[1:3,1:2])\n",
    "\n",
    "\n",
    "neg_IDs <- unlist(lapply( neg_mat$Reactome_2022.Term,function(term){\n",
    "        splitted_str <- strsplit(term,\" \")[[1]]\n",
    "        indxex_id <- grep(\"R-HSA\",splitted_str)\n",
    "        ID <- splitted_str[grep(\"R-HSA\",splitted_str)]\n",
    "        return(ID)\n",
    "    }))\n",
    "neg_mat$ID <- neg_IDs\n",
    "neg_Term <- unlist(lapply( neg_mat$Reactome_2022.Term,function(term){\n",
    "        splitted_str <- strsplit(term,\" \")[[1]]\n",
    "        indxex_id <- grep(\"R-HSA\",splitted_str)\n",
    "        Term_text <- paste(splitted_str[1:indxex_id-1],collapse=\" \")\n",
    "        return(Term_text)\n",
    "    }))\n",
    "neg_mat$term <- neg_Term\n",
    "\n",
    "reactome_neg_mat <- neg_mat  \n",
    "\n",
    "readr::write_csv(neg_mat,\n",
    "    file=paste0(resultdir,CellType,\"_NEG_\",enrich.database,\"_MinPct_\",min_pct_threshold,\".csv\"))"
   ]
  },
  {
   "cell_type": "code",
   "execution_count": 28,
   "metadata": {},
   "outputs": [
    {
     "name": "stdout",
     "output_type": "stream",
     "text": [
      "Saving 12 x 6.67 in image\n",
      "Saving 12 x 6.67 in image\n"
     ]
    },
    {
     "data": {
      "image/png": "[encoded data removed]",
      "text/plain": [
       "<IPython.core.display.Image object>"
      ]
     },
     "metadata": {},
     "output_type": "display_data"
    }
   ],
   "source": [
    "%%R\n",
    "enrich.database <- \"Reactome_2022\"\n",
    "p <- plot_enrichR_wrap_fun(\n",
    "        ident.1=\"PD\",\n",
    "        ident.2=\"HC\",\n",
    "        pos.er = reactome_pos_mat,\n",
    "        neg.er = reactome_neg_mat,\n",
    "        enrich.database= enrich.database )\n",
    "\n",
    "ggsave(plot=p,filename=paste0(resultdir,\"BarPlot_\",\n",
    "        CellType,\"_\",enrich.database,\"_pct_\",min_pct_threshold,\n",
    "        \"_logfc.threshold_\",logfc.threshold,\n",
    "        \"_p.val.cutoff_\"=p.val.cutoff,\n",
    "        \".png\"),width=12)\n",
    "ggsave(plot=p,filename=paste0(resultdir,\"BarPlot_\",\n",
    "        CellType,\"_\",enrich.database,\"_pct_\",min_pct_threshold,\n",
    "        \"_logfc.threshold_\",logfc.threshold,\n",
    "        \"_p.val.cutoff_\"=p.val.cutoff,\n",
    "        \".pdf\"),width=12)\n",
    "p"
   ]
  },
  {
   "cell_type": "code",
   "execution_count": 29,
   "metadata": {},
   "outputs": [
    {
     "name": "stdout",
     "output_type": "stream",
     "text": [
      " [1] \"Reactome_2022.Term\"                 \"Reactome_2022.Overlap\"             \n",
      " [3] \"Reactome_2022.P.value\"              \"Reactome_2022.Adjusted.P.value\"    \n",
      " [5] \"Reactome_2022.Old.P.value\"          \"Reactome_2022.Old.Adjusted.P.value\"\n",
      " [7] \"Reactome_2022.Odds.Ratio\"           \"Reactome_2022.Combined.Score\"      \n",
      " [9] \"Reactome_2022.Genes\"                \"log10pval\"                         \n",
      "[11] \"term\"                               \"ID\"                                \n"
     ]
    }
   ],
   "source": [
    "%%R\n",
    "colnames(reactome_neg_mat)"
   ]
  },
  {
   "cell_type": "code",
   "execution_count": 30,
   "metadata": {},
   "outputs": [
    {
     "data": {
      "image/png": "[encoded data removed]",
      "text/plain": [
       "<IPython.core.display.Image object>"
      ]
     },
     "metadata": {},
     "output_type": "display_data"
    }
   ],
   "source": [
    "%%R\n",
    "source(\"Functions.R\")\n",
    "enrich.database <- \"Reactome_2022\"\n",
    "p <- dotplot_enrich_dim(pos_mat=reactome_pos_mat , neg_mat=reactome_neg_mat,n_paths=10)\n",
    "\n",
    "ggsave(plot=p,filename=paste0(resultdir,\"DotPlot_\",\n",
    "        CellType,\"_\",enrich.database,\"_pct_\",min_pct_threshold,\n",
    "        \"_logfc.threshold_\",logfc.threshold,\n",
    "        \"_p.val.cutoff_\"=p.val.cutoff,\n",
    "        \".png\"),width=20,height=6)\n",
    "ggsave(plot=p,filename=paste0(resultdir,\"DotPlot_\",\n",
    "        CellType,\"_\",enrich.database,\"_pct_\",min_pct_threshold,\n",
    "        \"_logfc.threshold_\",logfc.threshold,\n",
    "        \"_p.val.cutoff_\"=p.val.cutoff,\n",
    "        \".pdf\"),width=20,height=6)\n",
    "p\n",
    "\n"
   ]
  },
  {
   "attachments": {},
   "cell_type": "markdown",
   "metadata": {},
   "source": [
    "# GO Pathway"
   ]
  },
  {
   "attachments": {},
   "cell_type": "markdown",
   "metadata": {},
   "source": [
    "## Possitive PD"
   ]
  },
  {
   "cell_type": "code",
   "execution_count": 31,
   "metadata": {},
   "outputs": [
    {
     "name": "stdout",
     "output_type": "stream",
     "text": [
      "Uploading data to Enrichr... Done.\n",
      "  Querying GO_Biological_Process_2021... Done.\n",
      "Parsing results... Done.\n",
      "                           GO_Biological_Process_2021.Term\n",
      "1           T cell receptor signaling pathway (GO:0050852)\n",
      "2 antigen receptor-mediated signaling pathway (GO:0050851)\n",
      "3                  mRNA splice site selection (GO:0006376)\n",
      "  GO_Biological_Process_2021.Overlap\n",
      "1                        ratio 8/158\n",
      "2                        ratio 8/185\n",
      "3                         ratio 4/30\n"
     ]
    }
   ],
   "source": [
    "%%R\n",
    "source(\"Functions.R\")\n",
    "enrich.database <- c(\"GO_Biological_Process_2021\")\n",
    "mypos <- enrichR_wrap_fun_pos(DE_Seurat_mapped,\n",
    "logfc.threshold=logfc.threshold,\n",
    "p.val.cutoff=p.val.cutoff,\n",
    "enrich.database=c(enrich.database ))    \n",
    "# ======= DEGs matrix ===================\n",
    "pos.markers <- mypos$pos.markers\n",
    "# ======= Enrichment matrix ===================\n",
    "pos_mat <- mypos$pos_mat\n",
    "print(pos_mat[1:3,1:2])\n",
    "go_pos_mat <- pos_mat  \n",
    "readr::write_csv(pos_mat,\n",
    "    file=paste0(resultdir,CellType,\"_POS_\",enrich.database,\"_MinPct_\",min_pct_threshold,\".csv\"))\n"
   ]
  },
  {
   "attachments": {},
   "cell_type": "markdown",
   "metadata": {},
   "source": [
    "## Negative PD"
   ]
  },
  {
   "cell_type": "code",
   "execution_count": 32,
   "metadata": {},
   "outputs": [
    {
     "name": "stdout",
     "output_type": "stream",
     "text": [
      "Uploading data to Enrichr... Done.\n",
      "  Querying GO_Biological_Process_2021... Done.\n",
      "Parsing results... Done.\n",
      "                                             GO_Biological_Process_2021.Term\n",
      "1                        cellular response to cytokine stimulus (GO:0071345)\n",
      "2                           cytokine-mediated signaling pathway (GO:0019221)\n",
      "3 cellular response to transforming growth factor beta stimulus (GO:0071560)\n",
      "  GO_Biological_Process_2021.Overlap\n",
      "1                       ratio 21/482\n",
      "2                       ratio 22/621\n",
      "3                        ratio 9/114\n"
     ]
    }
   ],
   "source": [
    "%%R\n",
    "source(\"Functions.R\")\n",
    "enrich.database<- c(\"GO_Biological_Process_2021\")\n",
    "myneg <- enrichR_wrap_fun_neg(DE_Seurat_mapped,\n",
    "logfc.threshold=logfc.threshold,\n",
    "p.val.cutoff=p.val.cutoff,\n",
    "enrich.database=c(enrich.database ))    \n",
    "# ======= DEGs matrix ===================\n",
    "neg.markers <- myneg$neg.markers\n",
    "# ======= Enrichment matrix ===================\n",
    "neg_mat <- myneg$neg_mat\n",
    "print(neg_mat[1:3,1:2])\n",
    "go_neg_mat <- neg_mat  \n",
    "readr::write_csv(neg_mat,\n",
    "    file=paste0(resultdir,CellType,\"_NEG_\",enrich.database,\"_MinPct_\",min_pct_threshold,\".csv\"))"
   ]
  },
  {
   "cell_type": "code",
   "execution_count": 33,
   "metadata": {},
   "outputs": [
    {
     "name": "stdout",
     "output_type": "stream",
     "text": [
      "Saving 12 x 6.67 in image\n",
      "Saving 12 x 6.67 in image\n"
     ]
    },
    {
     "data": {
      "image/png": "[encoded data removed]",
      "text/plain": [
       "<IPython.core.display.Image object>"
      ]
     },
     "metadata": {},
     "output_type": "display_data"
    }
   ],
   "source": [
    "%%R\n",
    "enrich.database <- \"GO_Biological_Process_2021\"\n",
    "p <- plot_enrichR_wrap_fun(\n",
    "        ident.1=\"PD\",\n",
    "        ident.2=\"HC\",\n",
    "        pos.er = go_pos_mat,\n",
    "        neg.er = go_neg_mat,\n",
    "        enrich.database= enrich.database )\n",
    "\n",
    "ggsave(plot=p,filename=paste0(resultdir,\n",
    "        CellType,\"_\",enrich.database,\"_pct_\",min_pct_threshold,\n",
    "        \"_logfc.threshold_\",logfc.threshold,\n",
    "        \"_p.val.cutoff_\"=p.val.cutoff,\n",
    "        \".png\"),width=12)\n",
    "ggsave(plot=p,filename=paste0(resultdir,\n",
    "        CellType,\"_\",enrich.database,\"_pct_\",min_pct_threshold,\n",
    "        \"_logfc.threshold_\",logfc.threshold,\n",
    "        \"_p.val.cutoff_\"=p.val.cutoff,\n",
    "        \".pdf\"),width=12)\n",
    "p"
   ]
  },
  {
   "cell_type": "code",
   "execution_count": 34,
   "metadata": {},
   "outputs": [
    {
     "data": {
      "image/png": "[encoded data removed]",
      "text/plain": [
       "<IPython.core.display.Image object>"
      ]
     },
     "metadata": {},
     "output_type": "display_data"
    }
   ],
   "source": [
    "%%R\n",
    "source(\"Functions.R\")\n",
    "enrich.database <- \"GO_Biological_Process_2021\"\n",
    "p <- dotplot_enrich_dim(pos_mat=go_pos_mat , neg_mat=go_neg_mat,n_paths=10)\n",
    "\n",
    "ggsave(plot=p,filename=paste0(resultdir,\"DotPlot_\",\n",
    "        CellType,\"_\",enrich.database,\"_pct_\",min_pct_threshold,\n",
    "        \"_logfc.threshold_\",logfc.threshold,\n",
    "        \"_p.val.cutoff_\"=p.val.cutoff,\n",
    "        \".png\"),width=20,height=6)\n",
    "ggsave(plot=p,filename=paste0(resultdir,\"DotPlot_\",\n",
    "        CellType,\"_\",enrich.database,\"_pct_\",min_pct_threshold,\n",
    "        \"_logfc.threshold_\",logfc.threshold,\n",
    "        \"_p.val.cutoff_\"=p.val.cutoff,\n",
    "        \".pdf\"),width=20,height=6)\n",
    "p"
   ]
  },
  {
   "attachments": {},
   "cell_type": "markdown",
   "metadata": {},
   "source": [
    "# Calculate RANKS based on FC"
   ]
  },
  {
   "cell_type": "code",
   "execution_count": 35,
   "metadata": {},
   "outputs": [],
   "source": [
    "%%R\n",
    "ranks_avg_log2FC<- tibble::deframe( DE_Seurat_mapped%>%  dplyr::select(entrezID , avg_log2FC   )) \n",
    "ranks_avg_log2FC[1:4]\n",
    "gsea_kegg_log2FC <- gseKEGG(sort(ranks_avg_log2FC,decreasing=T), nPerm=10000,\n",
    "                pvalueCutoff=1,minGSSize = 0,\n",
    "                pAdjustMethod=\"BH\", verbose=FALSE)\n",
    "readr::write_csv(as.data.frame(gsea_kegg_log2FC),\n",
    "        file=paste0(resultdir,CellType,\"_KEGG_GSEA_MinPct_\",min_pct_threshold,\"_Ranks_log2FC.csv\"))"
   ]
  },
  {
   "cell_type": "code",
   "execution_count": null,
   "metadata": {},
   "outputs": [],
   "source": []
  },
  {
   "attachments": {},
   "cell_type": "markdown",
   "metadata": {},
   "source": [
    "#  TOP UP GSEA KEGG"
   ]
  },
  {
   "cell_type": "code",
   "execution_count": 36,
   "metadata": {},
   "outputs": [
    {
     "name": "stdout",
     "output_type": "stream",
     "text": [
      "[1] \"T cell receptor signaling pathway\"\n",
      "[1] \"Human T-cell leukemia virus 1 infection\"\n",
      "[1] \"Th17 cell differentiation\"\n",
      "[1] \"Transcriptional misregulation in cancer\"\n",
      "[1] \"Human immunodeficiency virus 1 infection\"\n",
      "[1] \"Acute myeloid leukemia\"\n",
      "[1] \"Cell adhesion molecules\"\n",
      "[1] \"Cellular senescence\"\n",
      "[1] \"Salmonella infection\"\n",
      "[1] \"PD-L1 expression and PD-1 checkpoint pathway in cancer\"\n"
     ]
    }
   ],
   "source": [
    "%%R\n",
    "library(enrichplot)\n",
    "sort_filt_gsea_kegg_log2FC <- gsea_kegg_log2FC[match(tolower(kegg_pos_mat$term[1:10]),tolower(gsea_kegg_log2FC$Description)),]\n",
    "\n",
    "temp_dir <- paste0(resultdir,\"Top10_Upreg_Enriched_KeggGSEAPlot/\")\n",
    "dir.create(temp_dir)\n",
    "top_pos <- sort_filt_gsea_kegg_log2FC\n",
    "for (row_iter in 1:10){\n",
    "    id_term <- top_pos$ID[row_iter]\n",
    "    text_term <- top_pos$Description[row_iter]\n",
    "    print(text_term)\n",
    "    p <- gseaplot2(gsea_kegg_log2FC, geneSetID = id_term,subplots = 1:3,pvalue_table = F,title=text_term)\n",
    "    ## Initiate writing to PDF file\n",
    "    pdf(paste0(temp_dir,CellType,\n",
    "        \"_Enr_KEGG_GSPlot_\",id_term,\"_pct_\",min_pct_threshold,\n",
    "            \"_logfc.threshold_\",logfc.threshold,\n",
    "            \"_Ranks_log2FC_up.pdf\"), height = 8.5, width = 11)\n",
    "    ## Create a graphical object g here\n",
    "    print(p)# print it\n",
    "    ## Stop writing to the PDF file\n",
    "    dev.off()\n",
    "}"
   ]
  },
  {
   "attachments": {},
   "cell_type": "markdown",
   "metadata": {},
   "source": [
    "# TOP Down GSEA KEGG"
   ]
  },
  {
   "cell_type": "code",
   "execution_count": 37,
   "metadata": {},
   "outputs": [
    {
     "name": "stdout",
     "output_type": "stream",
     "text": [
      "[1] \"Hepatitis B\"\n",
      "[1] \"Apoptosis\"\n",
      "[1] \"Colorectal cancer\"\n",
      "[1] \"Kaposi sarcoma-associated herpesvirus infection\"\n",
      "[1] \"Cellular senescence\"\n",
      "[1] \"Epstein-Barr virus infection\"\n",
      "[1] \"Osteoclast differentiation\"\n",
      "[1] \"Relaxin signaling pathway\"\n",
      "[1] \"FoxO signaling pathway\"\n",
      "[1] \"Non-small cell lung cancer\"\n"
     ]
    }
   ],
   "source": [
    "%%R\n",
    "sort_filt_gsea_kegg_log2FC <- gsea_kegg_log2FC[match(tolower(kegg_neg_mat$term[1:10]),tolower(gsea_kegg_log2FC$Description)),]\n",
    "temp_dir <- paste0(resultdir,\"Top10_Downreg_Enriched_KeggGSEAPlot/\")\n",
    "dir.create(temp_dir)\n",
    "top_neg <- sort_filt_gsea_kegg_log2FC\n",
    "for (row_iter in 1:10){\n",
    "    id_term <- top_neg$ID[row_iter]\n",
    "    text_term <- top_neg$Description[row_iter]\n",
    "    print(text_term)\n",
    "    p <- gseaplot2(gsea_kegg_log2FC, geneSetID = id_term,subplots = 1:3,pvalue_table = F,title=text_term)\n",
    "    ## Initiate writing to PDF file\n",
    "    pdf(paste0(temp_dir,CellType,\n",
    "        \"_Enr_KEGG_GSPlot_\",id_term,\"_pct_\",min_pct_threshold,\n",
    "            \"_logfc.threshold_\",logfc.threshold,\n",
    "            \"_Ranks_log2FC_down.pdf\"), height = 8.5, width = 11)\n",
    "    ## Create a graphical object g here\n",
    "    print(p)# print it\n",
    "    ## Stop writing to the PDF file\n",
    "    dev.off()\n",
    "}"
   ]
  },
  {
   "cell_type": "code",
   "execution_count": 38,
   "metadata": {},
   "outputs": [
    {
     "name": "stdout",
     "output_type": "stream",
     "text": [
      "[1] \"Formation of Senescence-Associated Heterochromatin Foci (SAHF)\"\n",
      "[2] \"Apoptosis induced DNA fragmentation\"                           \n",
      "[3] \"Transmission across Chemical Synapses\"                         \n"
     ]
    }
   ],
   "source": [
    "%%R\n",
    "library(ReactomePA)\n",
    "require(clusterProfiler)\n",
    "gsea_reactome_log2FC <- gsePathway(sort(ranks_avg_log2FC,decreasing=T), nPerm=10000,\n",
    "                pvalueCutoff=1,minGSSize = 0,\n",
    "                pAdjustMethod=\"BH\", verbose=FALSE)\n",
    "readr::write_csv(as.data.frame(gsea_reactome_log2FC),\n",
    "        file=paste0(resultdir,CellType,\"_GSEA_MinPct_\",min_pct_threshold,\"_Ranks_log2FC.csv\"))\n",
    "gsea_reactome_log2FC[1:3,\"Description\"]"
   ]
  },
  {
   "attachments": {},
   "cell_type": "markdown",
   "metadata": {},
   "source": [
    "# TOP UP GSEA REACTOME"
   ]
  },
  {
   "cell_type": "code",
   "execution_count": 39,
   "metadata": {},
   "outputs": [
    {
     "name": "stdout",
     "output_type": "stream",
     "text": [
      "[1] \"RUNX1 Regulates Transcription Of Genes Involved In Differentiation Of Myeloid Cells\"\n",
      "[1] \"Constitutive Signaling By Overexpressed ERBB2\"\n",
      "[1] \"HuR (ELAVL1) Binds And Stabilizes mRNA\"\n",
      "[1] \"TCR Signaling\"\n",
      "[1] \"Signaling By ERBB2 ECD Mutants\"\n",
      "[1] \"Transcriptional Regulation Of Granulopoiesis\"\n",
      "[1] \"Selective Autophagy\"\n",
      "[1] \"Fc Epsilon Receptor (FCERI) Signaling\"\n",
      "[1] \"RUNX1 Regulates Genes Involved In Megakaryocyte Differentiation And Platelet Function\"\n",
      "[1] \"Signaling By ERBB2 TMD/JMD Mutants\"\n"
     ]
    }
   ],
   "source": [
    "%%R -i resultdir -i CellType\n",
    "temp_dir <- paste0(resultdir,\"Top10_Upreg_Enriched_GSEAPlot/\")\n",
    "dir.create(temp_dir)\n",
    "top_pos <- reactome_pos_mat[1:10,]\n",
    "for (row_iter in 1:10){\n",
    "    id_term <- top_pos$ID[row_iter]\n",
    "    text_term <- as.vector(top_pos$term)[row_iter]\n",
    "    print(text_term)\n",
    "    p <- gseaplot2(gsea_reactome_log2FC, geneSetID = id_term,subplots = 1:3,pvalue_table = F,title=text_term)\n",
    "    # Initiate writing to PDF file\n",
    "    pdf(paste0(temp_dir,CellType,\n",
    "        \"_Enr_React_GSPlot_\",id_term,\"_pct_\",min_pct_threshold,\n",
    "            \"_logfc.threshold_\",logfc.threshold,\n",
    "            \"_Ranks_log2FC_up.pdf\"), height = 8.5, width = 11)\n",
    "    # Create a graphical object g here\n",
    "    print(p)# print it\n",
    "    # Stop writing to the PDF file\n",
    "    dev.off()\n",
    "}\n"
   ]
  },
  {
   "cell_type": "code",
   "execution_count": 40,
   "metadata": {},
   "outputs": [
    {
     "name": "stdout",
     "output_type": "stream",
     "text": [
      "#\n",
      "# Gene Set Enrichment Analysis\n",
      "#\n",
      "#...@organism \t human \n",
      "#...@setType \t Reactome \n",
      "#...@keytype \t ENTREZID \n",
      "#...@geneList \t Named num [1:3004] 0.714 0.684 0.619 0.546 0.514 ...\n",
      " - attr(*, \"names\")= chr [1:3004] \"10628\" \"51176\" \"387357\" \"9750\" ...\n",
      "#...nPerm \t 10000 \n",
      "#...pvalues adjusted by 'BH' with cutoff <1 \n",
      "#...1887 enriched terms found\n",
      "'data.frame':\t1887 obs. of  11 variables:\n",
      " $ ID             : chr  \"R-HSA-2559584\" \"R-HSA-140342\" \"R-HSA-112315\" \"R-HSA-418555\" ...\n",
      " $ Description    : chr  \"Formation of Senescence-Associated Heterochromatin Foci (SAHF)\" \"Apoptosis induced DNA fragmentation\" \"Transmission across Chemical Synapses\" \"G alpha (s) signalling events\" ...\n",
      " $ setSize        : int  8 7 41 21 35 9 4 9 5 50 ...\n",
      " $ enrichmentScore: num  0.84 0.85 -0.616 -0.69 -0.613 ...\n",
      " $ NES            : num  1.97 1.91 -1.89 -1.85 -1.82 ...\n",
      " $ pvalue         : num  0.00076 0.001472 0.000136 0.001633 0.000976 ...\n",
      " $ p.adjust       : num  0.193 0.193 0.193 0.193 0.193 ...\n",
      " $ qvalue         : num  0.179 0.179 0.179 0.179 0.179 ...\n",
      " $ rank           : num  11 138 436 411 372 341 28 283 108 451 ...\n",
      " $ leading_edge   : chr  \"tags=38%, list=0%, signal=37%\" \"tags=57%, list=5%, signal=55%\" \"tags=44%, list=15%, signal=38%\" \"tags=52%, list=14%, signal=46%\" ...\n",
      " $ core_enrichment: chr  \"3008/3007/3006\" \"3008/3007/3006/3146\" \"6844/2744/2771/81539/801/2773/5613/83988/2782/10681/5576/805/7277/5578/54407/10376/54331/10383\" \"5151/2771/2773/2782/10681/5576/5734/5144/3688/5140/54331\" ...\n",
      "#...Citation\n",
      "  Guangchuang Yu, Qing-Yu He. ReactomePA: an R/Bioconductor package for\n",
      "  reactome pathway analysis and visualization. Molecular BioSystems\n",
      "  2016, 12(2):477-479 \n",
      "\n"
     ]
    }
   ],
   "source": [
    "%%R\n",
    "gsea_reactome_log2FC"
   ]
  },
  {
   "attachments": {},
   "cell_type": "markdown",
   "metadata": {},
   "source": [
    "## TOP Down GSEA REACTOME"
   ]
  },
  {
   "cell_type": "code",
   "execution_count": 41,
   "metadata": {},
   "outputs": [
    {
     "name": "stdout",
     "output_type": "stream",
     "text": [
      "[1] \"Cytokine Signaling In Immune System\"\n",
      "[1] \"Signaling By Interleukins\"\n",
      "[1] \"Immune System\"\n",
      "[1] \"Signal Transduction\"\n",
      "[1] \"Hemostasis\"\n",
      "[1] \"Cell Surface Interactions At Vascular Wall\"\n",
      "[1] \"Diseases Of Signal Transduction By Growth Factor Receptors And Second Messengers\"\n",
      "[1] \"Interleukin-4 And Interleukin-13 Signaling\"\n",
      "[1] \"RNA Polymerase II Transcription\"\n",
      "[1] \"Gene Expression (Transcription)\"\n"
     ]
    }
   ],
   "source": [
    "%%R -i resultdir -i CellType\n",
    "temp_dir <- paste0(resultdir,\"Top10_Downreg_Enriched_GSEAPlot/\")\n",
    "dir.create(temp_dir)\n",
    "top_neg <- reactome_neg_mat[1:10,]\n",
    "for (row_iter in 1:10){\n",
    "    id_term <- top_neg$ID[row_iter]\n",
    "    text_term <- top_neg$term[row_iter]\n",
    "    print(text_term)\n",
    "    p <- gseaplot2(gsea_reactome_log2FC, geneSetID = id_term,subplots = 1:3,pvalue_table = F,title=text_term)\n",
    "    ## Initiate writing to PDF file\n",
    "    pdf(paste0(temp_dir,CellType,\n",
    "        \"_Enr_React_GSPlot_\",id_term,\"_pct_\",min_pct_threshold,\n",
    "            \"_logfc.thres_\",logfc.threshold,\n",
    "            \"_Ranks_log2FC_down.pdf\"), height = 8.5, width = 11)\n",
    "    ## Create a graphical object g here\n",
    "    print(p)# print it\n",
    "    ## Stop writing to the PDF file\n",
    "    dev.off()\n",
    "}"
   ]
  },
  {
   "cell_type": "code",
   "execution_count": 42,
   "metadata": {},
   "outputs": [
    {
     "data": {
      "image/png": "[encoded data removed]",
      "text/plain": [
       "<IPython.core.display.Image object>"
      ]
     },
     "metadata": {},
     "output_type": "display_data"
    }
   ],
   "source": [
    "%%R -i resultdir -i CellType\n",
    "p <- gseaplot2(gsea_reactome_log2FC, geneSetID = \"R-HSA-8939246\",subplots = 1:6,pvalue_table = F)\n",
    "## Initiate writing to PDF file\n",
    "pdf(paste0(resultdir,CellType,\n",
    "       \"_GSE_RUNX1_pct_\",min_pct_threshold,\n",
    "        \"_logfc.threshold_\",logfc.threshold,\n",
    "        \"_Ranks_log2FC.pdf\"), height = 8.5, width = 11)\n",
    "## Create a graphical object g here\n",
    "print(p)# print it\n",
    "## Stop writing to the PDF file\n",
    "dev.off()\n",
    "p"
   ]
  },
  {
   "cell_type": "code",
   "execution_count": null,
   "metadata": {},
   "outputs": [],
   "source": []
  },
  {
   "cell_type": "code",
   "execution_count": null,
   "metadata": {},
   "outputs": [],
   "source": []
  },
  {
   "attachments": {},
   "cell_type": "markdown",
   "metadata": {},
   "source": [
    "# Calculate RANKS based on Gene score"
   ]
  },
  {
   "cell_type": "code",
   "execution_count": 43,
   "metadata": {},
   "outputs": [],
   "source": [
    "%%R\n",
    "# Calculate RANKS based on genescore\n",
    "ranks_avg_genescore<- tibble::deframe( DE_Seurat_mapped%>%  dplyr::select(entrezID , gene.score )) \n",
    "ranks_avg_genescore[1:4]\n",
    "gsea_kegg_genescore <- gseKEGG(sort(ranks_avg_genescore,decreasing=T), nPerm=10000,\n",
    "                pvalueCutoff=1,minGSSize = 0,\n",
    "                pAdjustMethod=\"BH\", verbose=FALSE)\n",
    "readr::write_csv(as.data.frame(gsea_kegg_log2FC),\n",
    "        file=paste0(resultdir,CellType,\"_KEGG_GSEA_MinPct_\",min_pct_threshold,\"_Ranks_genescore.csv\"))"
   ]
  },
  {
   "cell_type": "code",
   "execution_count": 44,
   "metadata": {},
   "outputs": [
    {
     "name": "stdout",
     "output_type": "stream",
     "text": [
      "               KEGG_2021_Human.Term KEGG_2021_Human.Overlap\n",
      "1 T cell receptor signaling pathway             ratio 6/104\n",
      "  KEGG_2021_Human.P.value KEGG_2021_Human.Adjusted.P.value\n",
      "1            9.034105e-06                      0.001382218\n",
      "  KEGG_2021_Human.Old.P.value KEGG_2021_Human.Old.Adjusted.P.value\n",
      "1                           0                                    0\n",
      "  KEGG_2021_Human.Odds.Ratio KEGG_2021_Human.Combined.Score\n",
      "1                   13.94018                       161.9083\n",
      "                KEGG_2021_Human.Genes log10pval\n",
      "1 PTPRC;PIK3CD;CD3G;LCP2;PRKCQ;CARD11  5.044115\n",
      "                               term\n",
      "1 T cell receptor signaling pathway\n"
     ]
    }
   ],
   "source": [
    "%%R\n",
    "kegg_pos_mat[1,]"
   ]
  },
  {
   "cell_type": "code",
   "execution_count": 45,
   "metadata": {},
   "outputs": [
    {
     "name": "stdout",
     "output_type": "stream",
     "text": [
      "[1] \"T cell receptor signaling pathway\"\n",
      "[1] \"Human T-cell leukemia virus 1 infection\"\n",
      "[1] \"Th17 cell differentiation\"\n",
      "[1] \"Transcriptional misregulation in cancer\"\n",
      "[1] \"Human immunodeficiency virus 1 infection\"\n",
      "[1] \"Acute myeloid leukemia\"\n",
      "[1] \"Cell adhesion molecules\"\n",
      "[1] \"Cellular senescence\"\n",
      "[1] \"Salmonella infection\"\n",
      "[1] \"PD-L1 expression and PD-1 checkpoint pathway in cancer\"\n"
     ]
    }
   ],
   "source": [
    "%%R\n",
    "library(enrichplot)\n",
    "sort_filt_gsea_kegg_genescore <- gsea_kegg_genescore[match(tolower(kegg_pos_mat$term[1:10]),tolower(gsea_kegg_genescore$Description)),]\n",
    "\n",
    "temp_dir <- paste0(resultdir,\"Top10_Upreg_Enriched_KeggGSEAPlot/\")\n",
    "dir.create(temp_dir)\n",
    "top_pos <- sort_filt_gsea_kegg_genescore\n",
    "for (row_iter in 1:10){\n",
    "    id_term <- top_pos$ID[row_iter]\n",
    "    text_term <- top_pos$Description[row_iter]\n",
    "    print(text_term)\n",
    "    p <- gseaplot2(gsea_kegg_genescore, geneSetID = id_term,subplots = 1:3,pvalue_table = F,title=text_term)\n",
    "    ## Initiate writing to PDF file\n",
    "    pdf(paste0(temp_dir,CellType,\n",
    "        \"_Enr_KEGG_GSPlot_\",id_term,\"_pct_\",min_pct_threshold,\n",
    "            \"_logfc.thres_\",logfc.threshold,\n",
    "            \"_Ranks_gs_up.pdf\"), height = 8.5, width = 11)\n",
    "    ## Create a graphical object g here\n",
    "    print(p)# print it\n",
    "    ## Stop writing to the PDF file\n",
    "    dev.off()\n",
    "}\n"
   ]
  },
  {
   "cell_type": "code",
   "execution_count": null,
   "metadata": {},
   "outputs": [],
   "source": []
  },
  {
   "cell_type": "code",
   "execution_count": 46,
   "metadata": {},
   "outputs": [
    {
     "name": "stdout",
     "output_type": "stream",
     "text": [
      "[1] \"Hepatitis B\"\n",
      "[1] \"Apoptosis\"\n",
      "[1] \"Colorectal cancer\"\n",
      "[1] \"Kaposi sarcoma-associated herpesvirus infection\"\n",
      "[1] \"Cellular senescence\"\n",
      "[1] \"Epstein-Barr virus infection\"\n",
      "[1] \"Osteoclast differentiation\"\n",
      "[1] \"Relaxin signaling pathway\"\n",
      "[1] \"FoxO signaling pathway\"\n",
      "[1] \"Non-small cell lung cancer\"\n"
     ]
    }
   ],
   "source": [
    "%%R\n",
    "sort_filt_gsea_kegg_genescore <- gsea_kegg_genescore[match(tolower(kegg_neg_mat$term[1:10]),tolower(gsea_kegg_genescore$Description)),]\n",
    "temp_dir <- paste0(resultdir,\"Top10_Downreg_Enriched_KeggGSEAPlot/\")\n",
    "dir.create(temp_dir)\n",
    "top_neg <- sort_filt_gsea_kegg_genescore\n",
    "for (row_iter in 1:10){\n",
    "    id_term <- top_neg$ID[row_iter]\n",
    "    text_term <- top_neg$Description[row_iter]\n",
    "    print(text_term)\n",
    "    p <- gseaplot2(gsea_kegg_genescore, geneSetID = id_term,subplots = 1:3,pvalue_table = F,title=text_term)\n",
    "    ## Initiate writing to PDF file\n",
    "    pdf(paste0(temp_dir,CellType,\n",
    "        \"_Enr_KEGG_GSPlot_\",id_term,\"_pct_\",min_pct_threshold,\n",
    "            \"_logfc.thres_\",logfc.threshold,\n",
    "            \"_Ranks_gs_down.pdf\"), height = 8.5, width = 11)\n",
    "    ## Create a graphical object g here\n",
    "    print(p)# print it\n",
    "    ## Stop writing to the PDF file\n",
    "    dev.off()\n",
    "}"
   ]
  },
  {
   "cell_type": "code",
   "execution_count": 47,
   "metadata": {},
   "outputs": [
    {
     "name": "stdout",
     "output_type": "stream",
     "text": [
      "[1] \"Formation of Senescence-Associated Heterochromatin Foci (SAHF)\"\n",
      "[2] \"Carboxyterminal post-translational modifications of tubulin\"   \n",
      "[3] \"Apoptotic execution phase\"                                     \n"
     ]
    }
   ],
   "source": [
    "%%R\n",
    "library(ReactomePA)\n",
    "require(clusterProfiler)\n",
    "gsea_reactome_genescore <- gsePathway(sort(ranks_avg_genescore,decreasing=T), nPerm=10000,\n",
    "                pvalueCutoff=1,minGSSize = 0,\n",
    "                pAdjustMethod=\"BH\", verbose=FALSE)\n",
    "readr::write_csv(as.data.frame(gsea_reactome_genescore),\n",
    "        file=paste0(resultdir,CellType,\"_GSEA_MinPct_\",min_pct_threshold,\"_Ranks_genescore.csv\"))\n",
    "gsea_reactome_genescore[1:3,\"Description\"]\n",
    "# TOP UP GSEA REACTOME"
   ]
  },
  {
   "cell_type": "code",
   "execution_count": 48,
   "metadata": {},
   "outputs": [],
   "source": [
    "%%R \n",
    "pos_IDs <- unlist(lapply( reactome_pos_mat$Reactome_2022.Term,function(term){\n",
    "        splitted_str <- strsplit(term,\" \")[[1]]\n",
    "        indxex_id <- grep(\"R-HSA\",splitted_str)\n",
    "        ID <- splitted_str[grep(\"R-HSA\",splitted_str)]\n",
    "        return(ID)\n",
    "    }))\n",
    "reactome_pos_mat$ID <- pos_IDs\n",
    "pos_Term <- unlist(lapply( reactome_pos_mat$Reactome_2022.Term,function(term){\n",
    "        splitted_str <- strsplit(term,\" \")[[1]]\n",
    "        indxex_id <- grep(\"R-HSA\",splitted_str)\n",
    "        Term_text <- paste(splitted_str[1:indxex_id-1],collapse=\" \")\n",
    "        return(Term_text)\n",
    "    }))\n",
    "reactome_pos_mat$term <- pos_Term\n",
    "\n",
    "neg_IDs <- unlist(lapply( reactome_neg_mat$Reactome_2022.Term,function(term){\n",
    "        splitted_str <- strsplit(term,\" \")[[1]]\n",
    "        indxex_id <- grep(\"R-HSA\",splitted_str)\n",
    "        ID <- splitted_str[grep(\"R-HSA\",splitted_str)]\n",
    "        return(ID)\n",
    "    }))\n",
    "reactome_neg_mat$ID <- neg_IDs\n",
    "neg_Term <- unlist(lapply( reactome_neg_mat$Reactome_2022.Term,function(term){\n",
    "        splitted_str <- strsplit(term,\" \")[[1]]\n",
    "        indxex_id <- grep(\"R-HSA\",splitted_str)\n",
    "        Term_text <- paste(splitted_str[1:indxex_id-1],collapse=\" \")\n",
    "        return(Term_text)\n",
    "    }))\n",
    "reactome_neg_mat$term <- neg_Term"
   ]
  },
  {
   "cell_type": "code",
   "execution_count": 49,
   "metadata": {},
   "outputs": [
    {
     "name": "stdout",
     "output_type": "stream",
     "text": [
      "[1] \"RUNX1 Regulates Transcription Of Genes Involved In Differentiation Of Myeloid Cells\"\n",
      "[1] \"Constitutive Signaling By Overexpressed ERBB2\"\n",
      "[1] \"HuR (ELAVL1) Binds And Stabilizes mRNA\"\n",
      "[1] \"TCR Signaling\"\n",
      "[1] \"Signaling By ERBB2 ECD Mutants\"\n",
      "[1] \"Transcriptional Regulation Of Granulopoiesis\"\n",
      "[1] \"Selective Autophagy\"\n",
      "[1] \"Fc Epsilon Receptor (FCERI) Signaling\"\n",
      "[1] \"RUNX1 Regulates Genes Involved In Megakaryocyte Differentiation And Platelet Function\"\n",
      "[1] \"Signaling By ERBB2 TMD/JMD Mutants\"\n"
     ]
    }
   ],
   "source": [
    "%%R -i resultdir -i CellType\n",
    "temp_dir <- paste0(resultdir,\"Top10_Upreg_Enriched_GSEAPlot/\")\n",
    "dir.create(temp_dir)\n",
    "top_pos <- reactome_pos_mat[1:10,]\n",
    "for (row_iter in 1:10){\n",
    "    id_term <- top_pos$ID[row_iter]\n",
    "    text_term <- as.vector(top_pos$term)[row_iter]\n",
    "    print(text_term)\n",
    "    p <- gseaplot2(gsea_reactome_genescore, geneSetID = id_term,subplots = 1:3,pvalue_table = F,title=text_term)\n",
    "    # Initiate writing to PDF file\n",
    "    pdf(paste0(temp_dir,CellType,\n",
    "        \"_Enr_React_GSPlot_\",id_term,\"_pct_\",min_pct_threshold,\n",
    "            \"_logfc.thres_\",logfc.threshold,\n",
    "            \"_Ranks_gs_up.pdf\"), height = 8.5, width = 11)\n",
    "    # Create a graphical object g here\n",
    "    print(p)# print it\n",
    "    # Stop writing to the PDF file\n",
    "    dev.off()\n",
    "}"
   ]
  },
  {
   "cell_type": "code",
   "execution_count": 50,
   "metadata": {},
   "outputs": [
    {
     "name": "stdout",
     "output_type": "stream",
     "text": [
      "[1] \"Cytokine Signaling In Immune System\"\n",
      "[1] \"Signaling By Interleukins\"\n",
      "[1] \"Immune System\"\n",
      "[1] \"Signal Transduction\"\n",
      "[1] \"Hemostasis\"\n",
      "[1] \"Cell Surface Interactions At Vascular Wall\"\n",
      "[1] \"Diseases Of Signal Transduction By Growth Factor Receptors And Second Messengers\"\n",
      "[1] \"Interleukin-4 And Interleukin-13 Signaling\"\n",
      "[1] \"RNA Polymerase II Transcription\"\n",
      "[1] \"Gene Expression (Transcription)\"\n"
     ]
    }
   ],
   "source": [
    "%%R -i resultdir -i CellType\n",
    "temp_dir <- paste0(resultdir,\"Top10_Downreg_Enriched_GSEAPlot/\")\n",
    "dir.create(temp_dir)\n",
    "top_neg <- reactome_neg_mat[1:10,]\n",
    "for (row_iter in 1:10){\n",
    "    id_term <- top_neg$ID[row_iter]\n",
    "    text_term <- top_neg$term[row_iter]\n",
    "    print(text_term)\n",
    "    p <- gseaplot2(gsea_reactome_genescore, geneSetID = id_term,subplots = 1:3,pvalue_table = F,title=text_term)\n",
    "    ## Initiate writing to PDF file\n",
    "    pdf(paste0(temp_dir,CellType,\n",
    "        \"_Enr_React_GSPlot_\",id_term,\"_pct_\",min_pct_threshold,\n",
    "            \"_logfc.thres_\",logfc.threshold,\n",
    "            \"_Ranks_gs_down.pdf\"), height = 8.5, width = 11)\n",
    "    ## Create a graphical object g here\n",
    "    print(p)# print it\n",
    "    ## Stop writing to the PDF file\n",
    "    dev.off()\n",
    "}"
   ]
  },
  {
   "cell_type": "code",
   "execution_count": 51,
   "metadata": {},
   "outputs": [
    {
     "data": {
      "image/png": "[encoded data removed]",
      "text/plain": [
       "<IPython.core.display.Image object>"
      ]
     },
     "metadata": {},
     "output_type": "display_data"
    }
   ],
   "source": [
    "%%R -i resultdir -i CellType\n",
    "p <- gseaplot2(gsea_reactome_genescore, geneSetID = \"R-HSA-8939246\",subplots = 1:6,pvalue_table = F)\n",
    "## Initiate writing to PDF file\n",
    "pdf(paste0(resultdir,CellType,\n",
    "       \"_GSE_RUNX1_pct_\",min_pct_threshold,\n",
    "        \"_logfc.thres_\",logfc.threshold,\n",
    "        \"_Ranks_gs.pdf\"), height = 8.5, width = 11)\n",
    "## Create a graphical object g here\n",
    "print(p)# print it\n",
    "## Stop writing to the PDF file\n",
    "dev.off()\n",
    "p"
   ]
  },
  {
   "cell_type": "code",
   "execution_count": null,
   "metadata": {},
   "outputs": [],
   "source": []
  },
  {
   "attachments": {},
   "cell_type": "markdown",
   "metadata": {},
   "source": [
    "# KEGG GSEA ONLY POSSITIVE & ONLY NEG"
   ]
  },
  {
   "cell_type": "code",
   "execution_count": 52,
   "metadata": {},
   "outputs": [],
   "source": [
    "%%R\n",
    "library(enrichplot)\n",
    "# Calculate RANKS based on genescore\n",
    "ranks_genescore_pos<- tibble::deframe( DE_Seurat_mapped %>% filter(gene.score>0) %>%  dplyr::select(entrezID , gene.score )) \n",
    "ranks_genescore_pos[1:4]\n",
    "gsea_kegg_genescore_pos <- gseKEGG(sort(ranks_genescore_pos,decreasing=T), nPerm=10000,\n",
    "                pvalueCutoff=1,minGSSize = 0,\n",
    "                pAdjustMethod=\"BH\", verbose=FALSE)\n",
    "# ==== Keep only pos enriched\n",
    "gsea_kegg_genescore_pos  <- gsea_kegg_genescore_pos %>% filter(enrichmentScore>=0)  \n",
    "readr::write_csv(as.data.frame(gsea_kegg_genescore_pos),\n",
    "        file=paste0(resultdir,CellType,\"_GSEA_KEGG_MinPct_\",min_pct_threshold,\"_Ranks_genescore_POS.csv\"))\n",
    "\n",
    "# Calculate RANKS based on genescore\n",
    "ranks_genescore_neg<- tibble::deframe( DE_Seurat_mapped %>% filter(gene.score<0) %>%  dplyr::select(entrezID , gene.score )) \n",
    "ranks_genescore_neg[1:4]\n",
    "gsea_kegg_genescore_neg <- gseKEGG(sort(ranks_genescore_neg,decreasing=T), nPerm=10000,\n",
    "                pvalueCutoff=1,minGSSize = 0,\n",
    "                pAdjustMethod=\"BH\", verbose=FALSE)\n",
    "# ==== Keep only pos enriched\n",
    "gsea_kegg_genescore_neg  <- gsea_kegg_genescore_neg %>% filter(enrichmentScore<=0)  \n",
    "readr::write_csv(as.data.frame(gsea_kegg_genescore_neg),\n",
    "        file=paste0(resultdir,CellType,\"_GSEA_KEGG_MinPct_\",min_pct_threshold,\"_Ranks_genescore_NEG.csv\"))"
   ]
  },
  {
   "cell_type": "code",
   "execution_count": 53,
   "metadata": {},
   "outputs": [],
   "source": [
    "%%R\n",
    "# ====================================== PLOTTING  POS =====================================================================\n",
    "temp_dir <- paste0(resultdir,\"Top10_Upreg_GSEA_Kegg_GSEAPlot_ONLY_POS/\")\n",
    "dir.create(temp_dir)\n",
    "for (row_iter in c(1:10)){\n",
    "    id_term <- gsea_kegg_genescore_pos$ID[row_iter]\n",
    "    text_term <- gsea_kegg_genescore_pos$Description[row_iter]\n",
    "    p <- gseaplot2(gsea_kegg_genescore_pos, geneSetID = id_term,subplots = 1:3,pvalue_table = F,title=text_term)\n",
    "    ## Initiate writing to PDF file\n",
    "    pdf(paste0(temp_dir,CellType,\n",
    "        \"_GS_KEGG_GSPlot_\",id_term,\"_pct_\",min_pct_threshold,\n",
    "            \"_logfc.thres_\",logfc.threshold,\n",
    "            \"_Ranks_gs_only_pos.pdf\"), height = 8.5, width = 11)\n",
    "    ## Create a graphical object g here\n",
    "    print(p)# print it\n",
    "    ## Stop writing to the PDF file\n",
    "    dev.off()\n",
    "}"
   ]
  },
  {
   "cell_type": "code",
   "execution_count": 54,
   "metadata": {},
   "outputs": [],
   "source": [
    "%%R\n",
    "# ====================================== PLOTTING  POS =====================================================================\n",
    "sort_filt_gsea_kegg_genescore <- gsea_kegg_genescore_pos[match(tolower(as.vector(kegg_pos_mat$term)[1:10]),tolower(gsea_kegg_genescore_pos$Description))%>% na.omit(),]\n",
    "temp_dir <- paste0(resultdir,\"Top10_Upreg_Enriched_KeggGSEAPlot_ONLY_POS/\")\n",
    "dir.create(temp_dir)\n",
    "top_pos <- sort_filt_gsea_kegg_genescore\n",
    "for (row_iter in 1:dim(sort_filt_gsea_kegg_genescore)[1]){\n",
    "    id_term <- top_pos$ID[row_iter]\n",
    "    text_term <- top_pos$Description[row_iter]\n",
    "    p <- gseaplot2(gsea_kegg_genescore_pos, geneSetID = id_term,subplots = 1:3,pvalue_table = F,title=text_term)\n",
    "    ## Initiate writing to PDF file\n",
    "    pdf(paste0(temp_dir,CellType,\n",
    "        \"_Enr_KEGG_GS_\",id_term,\"_pct_\",min_pct_threshold,\n",
    "            \"_logfc.thres_\",logfc.threshold,\n",
    "            \"_Ranks_gs_only_pos.pdf\"), height = 8.5, width = 11)\n",
    "    ## Create a graphical object g here\n",
    "    print(p)# print it\n",
    "    ## Stop writing to the PDF file\n",
    "    dev.off()\n",
    "}"
   ]
  },
  {
   "cell_type": "code",
   "execution_count": 55,
   "metadata": {},
   "outputs": [],
   "source": [
    "%%R\n",
    "# ====================================== PLOTTING  POS =====================================================================\n",
    "temp_dir <- paste0(resultdir,\"Top10_Upreg_GSEA_Kegg_GSEAPlot_ONLY_NEG/\")\n",
    "dir.create(temp_dir)\n",
    "for (row_iter in c(1:10)){\n",
    "    id_term <- gsea_kegg_genescore_neg$ID[row_iter]\n",
    "    text_term <- gsea_kegg_genescore_neg$Description[row_iter]\n",
    "    p <- gseaplot2(gsea_kegg_genescore_neg, geneSetID = id_term,subplots = 1:3,pvalue_table = F,title=text_term)\n",
    "    ## Initiate writing to PDF file\n",
    "    pdf(paste0(temp_dir,CellType,\n",
    "        \"_GS_KEGG_GSPlot_\",id_term,\"_pct_\",min_pct_threshold,\n",
    "            \"_logfc.thres_\",logfc.threshold,\n",
    "            \"_Ranks_genescore_only_neg.pdf\"), height = 8.5, width = 11)\n",
    "    ## Create a graphical object g here\n",
    "    print(p)# print it\n",
    "    ## Stop writing to the PDF file\n",
    "    dev.off()\n",
    "}"
   ]
  },
  {
   "cell_type": "code",
   "execution_count": 56,
   "metadata": {},
   "outputs": [],
   "source": [
    "%%R\n",
    "# ====================================== PLOTTING  NEG =====================================================================\n",
    "sort_filt_gsea_kegg_genescore <- gsea_kegg_genescore_neg[match(tolower(as.vector(kegg_neg_mat$term[1:10])),tolower(gsea_kegg_genescore_neg$Description))%>% na.omit(),]\n",
    "temp_dir <- paste0(resultdir,\"Top10_Downreg_Enriched_KeggGSEAPlot_ONLY_NEG/\")\n",
    "dir.create(temp_dir)\n",
    "top_neg <- sort_filt_gsea_kegg_genescore\n",
    "for (row_iter in 1:dim(sort_filt_gsea_kegg_genescore)[1]){\n",
    "    id_term <- top_neg$ID[row_iter]\n",
    "    text_term <- top_neg$Description[row_iter]\n",
    "    p <- gseaplot2(gsea_kegg_genescore_neg, geneSetID = id_term,subplots = 1:3,pvalue_table = F,title=text_term)\n",
    "    ## Initiate writing to PDF file\n",
    "    pdf(paste0(temp_dir,CellType,\n",
    "        \"_Enr_KEGG_GS_\",id_term,\"_pct_\",min_pct_threshold,\n",
    "            \"_logfc.thres_\",logfc.threshold,\n",
    "            \"_Ranks_gs_only_neg.pdf\"), height = 8.5, width = 11)\n",
    "    ## Create a graphical object g here\n",
    "    print(p)# print it\n",
    "    ## Stop writing to the PDF file\n",
    "    dev.off()\n",
    "}"
   ]
  },
  {
   "attachments": {},
   "cell_type": "markdown",
   "metadata": {},
   "source": [
    "# Reactome GSEA ONLY POSSITIVE & ONLY NEG"
   ]
  },
  {
   "cell_type": "code",
   "execution_count": null,
   "metadata": {},
   "outputs": [],
   "source": []
  },
  {
   "cell_type": "code",
   "execution_count": 57,
   "metadata": {},
   "outputs": [],
   "source": [
    "%%R\n",
    "library(ReactomePA)\n",
    "require(clusterProfiler)\n",
    "# Calculate RANKS based on genescore\n",
    "ranks_genescore_pos<- tibble::deframe( DE_Seurat_mapped %>% filter(gene.score>0) %>%  dplyr::select(entrezID , gene.score )) \n",
    "ranks_genescore_pos[1:4]\n",
    "gsea_Reactome_genescore_pos <- gsePathway(sort(ranks_genescore_pos,decreasing=T), nPerm=10000,\n",
    "                pvalueCutoff=1,minGSSize = 0,\n",
    "                pAdjustMethod=\"BH\", verbose=FALSE)\n",
    "# ==== Keep only pos enriched\n",
    "gsea_Reactome_genescore_pos  <- gsea_Reactome_genescore_pos %>% filter(enrichmentScore>=0)  \n",
    "readr::write_csv(as.data.frame(gsea_Reactome_genescore_pos),\n",
    "        file=paste0(resultdir,CellType,\"_GSEA_Reactome_MinPct_\",min_pct_threshold,\"_Ranks_genescore_POS.csv\"))\n",
    "\n",
    "# Calculate RANKS based on genescore\n",
    "ranks_genescore_neg<- tibble::deframe( DE_Seurat_mapped %>% filter(gene.score<0) %>%  dplyr::select(entrezID , gene.score )) \n",
    "ranks_genescore_neg[1:4]\n",
    "gsea_Reactome_genescore_neg <- gsePathway(sort(ranks_genescore_neg,decreasing=T), nPerm=10000,\n",
    "                pvalueCutoff=1,minGSSize = 0,\n",
    "                pAdjustMethod=\"BH\", verbose=FALSE)\n",
    "# ==== Keep only neg enriched\n",
    "gsea_Reactome_genescore_neg  <- gsea_Reactome_genescore_neg %>% filter(enrichmentScore<=0)  \n",
    "readr::write_csv(as.data.frame(gsea_Reactome_genescore_neg),\n",
    "        file=paste0(resultdir,CellType,\"_GSEA_Reactome_MinPct_\",min_pct_threshold,\"_Ranks_genescore_NEG.csv\"))"
   ]
  },
  {
   "cell_type": "code",
   "execution_count": 58,
   "metadata": {},
   "outputs": [
    {
     "name": "stdout",
     "output_type": "stream",
     "text": [
      "                         ID\n",
      "R-HSA-2559586 R-HSA-2559586\n",
      "R-HSA-2559584 R-HSA-2559584\n",
      "R-HSA-2559583 R-HSA-2559583\n",
      "R-HSA-75153     R-HSA-75153\n",
      "R-HSA-390522   R-HSA-390522\n",
      "R-HSA-140342   R-HSA-140342\n",
      "                                                                 Description\n",
      "R-HSA-2559586                  DNA Damage/Telomere Stress Induced Senescence\n",
      "R-HSA-2559584 Formation of Senescence-Associated Heterochromatin Foci (SAHF)\n",
      "R-HSA-2559583                                            Cellular Senescence\n",
      "R-HSA-75153                                        Apoptotic execution phase\n",
      "R-HSA-390522                                     Striated Muscle Contraction\n",
      "R-HSA-140342                             Apoptosis induced DNA fragmentation\n",
      "              setSize enrichmentScore      NES       pvalue  p.adjust    qvalue\n",
      "R-HSA-2559586       9       0.8906892 1.836659 0.0002118195 0.1127586 0.1127474\n",
      "R-HSA-2559584       6       0.9337028 1.786728 0.0001124986 0.1127586 0.1127474\n",
      "R-HSA-2559583      25       0.7241247 1.705848 0.0002003406 0.1127586 0.1127474\n",
      "R-HSA-75153        11       0.8016495 1.706933 0.0009348707 0.2985977 0.2985682\n",
      "R-HSA-390522        3       0.9749938 1.601963 0.0013152703 0.3500811 0.3500465\n",
      "R-HSA-140342        5       0.9063404 1.667096 0.0017568517 0.4008132 0.4007735\n",
      "              rank                   leading_edge\n",
      "R-HSA-2559586   61  tags=44%, list=5%, signal=43%\n",
      "R-HSA-2559584    3  tags=50%, list=0%, signal=50%\n",
      "R-HSA-2559583   61  tags=24%, list=5%, signal=23%\n",
      "R-HSA-75153    179 tags=64%, list=14%, signal=55%\n",
      "R-HSA-390522     8  tags=33%, list=1%, signal=33%\n",
      "R-HSA-140342     3  tags=60%, list=0%, signal=60%\n",
      "                                core_enrichment\n",
      "R-HSA-2559586                3008/3007/3006/472\n",
      "R-HSA-2559584                    3008/3007/3006\n",
      "R-HSA-2559583      3008/3007/3006/2113/9448/472\n",
      "R-HSA-75153   3008/3007/3006/5588/841/6093/3146\n",
      "R-HSA-390522                               7273\n",
      "R-HSA-140342                     3008/3007/3006\n"
     ]
    }
   ],
   "source": [
    "%%R\n",
    "head(gsea_Reactome_genescore_pos)"
   ]
  },
  {
   "cell_type": "code",
   "execution_count": 59,
   "metadata": {},
   "outputs": [
    {
     "name": "stdout",
     "output_type": "stream",
     "text": [
      "                         ID\n",
      "R-HSA-109582   R-HSA-109582\n",
      "R-HSA-9609736 R-HSA-9609736\n",
      "R-HSA-6785807 R-HSA-6785807\n",
      "R-HSA-389977   R-HSA-389977\n",
      "R-HSA-373076   R-HSA-373076\n",
      "R-HSA-9668328 R-HSA-9668328\n",
      "                                                           Description setSize\n",
      "R-HSA-109582                                                Hemostasis      87\n",
      "R-HSA-9609736 Assembly and cell surface presentation of NMDA receptors       4\n",
      "R-HSA-6785807               Interleukin-4 and Interleukin-13 signaling      16\n",
      "R-HSA-389977                   Post-chaperonin tubulin folding pathway       4\n",
      "R-HSA-373076                      Class A/1 (Rhodopsin-like receptors)       5\n",
      "R-HSA-9668328        Sealing of the nuclear envelope (NE) by ESCRT-III       4\n",
      "              enrichmentScore       NES      pvalue  p.adjust    qvalue rank\n",
      "R-HSA-109582       -0.5945959 -1.367773 0.000399960 0.6907309 0.6879312  328\n",
      "R-HSA-9609736      -0.9389189 -1.585997 0.003099430 0.7821512 0.7789809   86\n",
      "R-HSA-6785807      -0.7625338 -1.580824 0.001517758 0.7821512 0.7789809  228\n",
      "R-HSA-389977       -0.9303016 -1.571441 0.004835110 0.7821512 0.7789809   86\n",
      "R-HSA-373076       -0.8865448 -1.559281 0.006814710 0.7821512 0.7789809   84\n",
      "R-HSA-9668328      -0.9213815 -1.556373 0.006570791 0.7821512 0.7789809   86\n",
      "                                leading_edge\n",
      "R-HSA-109582  tags=38%, list=19%, signal=32%\n",
      "R-HSA-9609736  tags=75%, list=5%, signal=71%\n",
      "R-HSA-6785807 tags=62%, list=13%, signal=55%\n",
      "R-HSA-389977   tags=75%, list=5%, signal=71%\n",
      "R-HSA-373076   tags=60%, list=5%, signal=57%\n",
      "R-HSA-9668328  tags=75%, list=5%, signal=71%\n",
      "                                                                                                                                                                       core_enrichment\n",
      "R-HSA-109582  5894/2773/5581/5515/2782/1521/3659/7525/5527/829/5295/8407/10681/805/960/5578/3635/4267/3309/7534/5576/5552/2534/7277/54331/10376/483/3688/23186/7040/83700/161882/10383\n",
      "R-HSA-9609736                                                                                                                                                         7277/10376/10383\n",
      "R-HSA-6785807                                                                                                                         6774/2353/5295/6935/7431/9021/3726/301/3688/7040\n",
      "R-HSA-389977                                                                                                                                                          7277/10376/10383\n",
      "R-HSA-373076                                                                                                                                                            5734/301/29933\n",
      "R-HSA-9668328                                                                                                                                                         7277/10376/10383\n"
     ]
    }
   ],
   "source": [
    "%%R\n",
    "head(gsea_Reactome_genescore_neg)"
   ]
  },
  {
   "cell_type": "code",
   "execution_count": 60,
   "metadata": {},
   "outputs": [
    {
     "name": "stdout",
     "output_type": "stream",
     "text": [
      " [1] \"RUNX1 Regulates Transcription Of Genes Involved In Differentiation Of Myeloid Cells\"  \n",
      " [2] \"Constitutive Signaling By Overexpressed ERBB2\"                                        \n",
      " [3] \"HuR (ELAVL1) Binds And Stabilizes mRNA\"                                               \n",
      " [4] \"TCR Signaling\"                                                                        \n",
      " [5] \"Signaling By ERBB2 ECD Mutants\"                                                       \n",
      " [6] \"Transcriptional Regulation Of Granulopoiesis\"                                         \n",
      " [7] \"Selective Autophagy\"                                                                  \n",
      " [8] \"Fc Epsilon Receptor (FCERI) Signaling\"                                                \n",
      " [9] \"RUNX1 Regulates Genes Involved In Megakaryocyte Differentiation And Platelet Function\"\n",
      "[10] \"Signaling By ERBB2 TMD/JMD Mutants\"                                                   \n"
     ]
    }
   ],
   "source": [
    "%%R\n",
    "as.vector(reactome_pos_mat$term)[1:10]"
   ]
  },
  {
   "cell_type": "code",
   "execution_count": 61,
   "metadata": {},
   "outputs": [
    {
     "name": "stdout",
     "output_type": "stream",
     "text": [
      " [1] \"dna damage/telomere stress induced senescence\"                                      \n",
      " [2] \"formation of senescence-associated heterochromatin foci (sahf)\"                     \n",
      " [3] \"cellular senescence\"                                                                \n",
      " [4] \"apoptotic execution phase\"                                                          \n",
      " [5] \"striated muscle contraction\"                                                        \n",
      " [6] \"apoptosis induced dna fragmentation\"                                                \n",
      " [7] \"runx1 regulates transcription of genes involved in differentiation of myeloid cells\"\n",
      " [8] \"runx2 regulates genes involved in differentiation of myeloid cells\"                 \n",
      " [9] \"formation of the beta-catenin:tcf transactivating complex\"                          \n",
      "[10] \"rnd3 gtpase cycle\"                                                                  \n"
     ]
    }
   ],
   "source": [
    "%%R\n",
    "tolower(gsea_Reactome_genescore_pos$Description)[1:10]"
   ]
  },
  {
   "cell_type": "code",
   "execution_count": 62,
   "metadata": {},
   "outputs": [
    {
     "name": "stdout",
     "output_type": "stream",
     "text": [
      " [1] \"DNA Damage/Telomere Stress Induced Senescence\"                                      \n",
      " [2] \"Formation of Senescence-Associated Heterochromatin Foci (SAHF)\"                     \n",
      " [3] \"Cellular Senescence\"                                                                \n",
      " [4] \"Apoptotic execution phase\"                                                          \n",
      " [5] \"Striated Muscle Contraction\"                                                        \n",
      " [6] \"Apoptosis induced DNA fragmentation\"                                                \n",
      " [7] \"RUNX1 regulates transcription of genes involved in differentiation of myeloid cells\"\n",
      " [8] \"RUNX2 regulates genes involved in differentiation of myeloid cells\"                 \n",
      " [9] \"Formation of the beta-catenin:TCF transactivating complex\"                          \n",
      "[10] \"RND3 GTPase cycle\"                                                                  \n"
     ]
    }
   ],
   "source": [
    "%%R\n",
    "gsea_Reactome_genescore_pos$Description[1:10]"
   ]
  },
  {
   "cell_type": "code",
   "execution_count": 63,
   "metadata": {},
   "outputs": [],
   "source": [
    "%%R\n",
    "# ====================================== PLOTTING  POS =====================================================================\n",
    "temp_dir <- paste0(resultdir,\"Top10_Upreg_GSEA_Reactome_GSEAPlot_ONLY_POS/\")\n",
    "dir.create(temp_dir)\n",
    "for (row_iter in c(1:10)){\n",
    "    id_term <- gsea_Reactome_genescore_pos$ID[row_iter]\n",
    "    text_term <- gsea_Reactome_genescore_pos$Description[row_iter]\n",
    "    p <- gseaplot2(gsea_Reactome_genescore_pos, geneSetID = id_term,subplots = 1:3,pvalue_table = F,title=text_term)\n",
    "    ## Initiate writing to PDF file\n",
    "    pdf(paste0(temp_dir,CellType,\n",
    "        \"_GS_React_GSPlot_\",id_term,\"_pct_\",min_pct_threshold,\n",
    "            \"_logfc.thres_\",logfc.threshold,\n",
    "            \"_Ranks_gs_only_pos.pdf\"), height = 8.5, width = 11)\n",
    "    ## Create a graphical object g here\n",
    "    print(p)# print it\n",
    "    ## Stop writing to the PDF file\n",
    "    dev.off()\n",
    "}"
   ]
  },
  {
   "cell_type": "code",
   "execution_count": 64,
   "metadata": {},
   "outputs": [
    {
     "name": "stdout",
     "output_type": "stream",
     "text": [
      "[1] 10 11\n"
     ]
    }
   ],
   "source": [
    "%%R\n",
    "# ====================================== PLOTTING  POS =====================================================================\n",
    "sort_filt_gsea_Reactome_genescore <- gsea_Reactome_genescore_pos[match(tolower(as.vector(reactome_pos_mat$term))[1:10],tolower(gsea_Reactome_genescore_pos$Description))%>% na.omit(),]\n",
    "temp_dir <- paste0(resultdir,\"Top10_Upreg_Enriched_Reactome_GSEAPlot_ONLY_POS/\")\n",
    "dir.create(temp_dir)\n",
    "print(dim(sort_filt_gsea_Reactome_genescore))\n",
    "top_pos <- sort_filt_gsea_Reactome_genescore\n",
    "for (row_iter in 1:dim(sort_filt_gsea_Reactome_genescore)[1]){\n",
    "    id_term <- top_pos$ID[row_iter]\n",
    "    text_term <- top_pos$Description[row_iter]\n",
    "    p <- gseaplot2(gsea_Reactome_genescore_pos, geneSetID = id_term,subplots = 1:3,pvalue_table = F,title=text_term)\n",
    "    ## Initiate writing to PDF file\n",
    "    pdf(paste0(temp_dir,CellType,\n",
    "        \"_Enr_React_GSPlot_\",id_term,\"_pct_\",min_pct_threshold,\n",
    "            \"_logfc.thres_\",logfc.threshold,\n",
    "            \"_Ranks_gs_only_pos.pdf\"), height = 8.5, width = 11)\n",
    "    ## Create a graphical object g here\n",
    "    print(p)# print it\n",
    "    ## Stop writing to the PDF file\n",
    "    dev.off()\n",
    "}"
   ]
  },
  {
   "cell_type": "code",
   "execution_count": 65,
   "metadata": {},
   "outputs": [],
   "source": [
    "%%R\n",
    "# ====================================== PLOTTING  neg =====================================================================\n",
    "temp_dir <- paste0(resultdir,\"Top10_Downreg_GSEA_Reactome_GSEAPlot_ONLY_NEG/\")\n",
    "dir.create(temp_dir)\n",
    "\n",
    "for (row_iter in c(1:10)){\n",
    "    id_term <- gsea_Reactome_genescore_neg$ID[row_iter]\n",
    "    text_term <- gsea_Reactome_genescore_neg$Description[row_iter]\n",
    "    p <- gseaplot2(gsea_Reactome_genescore_neg, geneSetID = id_term,subplots = 1:3,pvalue_table = F,title=text_term)\n",
    "    ## Initiate writing to PDF file\n",
    "    pdf(paste0(temp_dir,CellType,\n",
    "        \"_GS_React_GSPlot_\",id_term,\"_pct_\",min_pct_threshold,\n",
    "            \"_logfc.thres_\",logfc.threshold,\n",
    "            \"_Ranks_gs_only_neg.pdf\"), height = 8.5, width = 11)\n",
    "    ## Create a graphical object g here\n",
    "    print(p)# print it\n",
    "    ## Stop writing to the PDF file\n",
    "    dev.off()\n",
    "}"
   ]
  },
  {
   "cell_type": "code",
   "execution_count": 66,
   "metadata": {},
   "outputs": [
    {
     "name": "stdout",
     "output_type": "stream",
     "text": [
      "[1]  9 11\n"
     ]
    }
   ],
   "source": [
    "%%R\n",
    "# ====================================== PLOTTING  NEG =====================================================================\n",
    "sort_filt_gsea_Reactome_genescore <- gsea_Reactome_genescore_neg[match(tolower(as.vector(reactome_neg_mat$term)[1:10]),tolower(gsea_Reactome_genescore_neg$Description))%>% na.omit(),]\n",
    "temp_dir <- paste0(resultdir,\"Top10_Downreg_Enriched_Reactome_GSEAPlot_ONLY_NEG/\")\n",
    "dir.create(temp_dir)\n",
    "print(dim(sort_filt_gsea_Reactome_genescore))\n",
    "\n",
    "top_neg <- sort_filt_gsea_Reactome_genescore\n",
    "for (row_iter in 1:dim(sort_filt_gsea_Reactome_genescore)[1]){\n",
    "    id_term <- top_neg$ID[row_iter]\n",
    "    text_term <- top_neg$Description[row_iter]\n",
    "    p <- gseaplot2(gsea_Reactome_genescore_neg, geneSetID = id_term,subplots = 1:3,pvalue_table = F,title=text_term)\n",
    "    ## Initiate writing to PDF file\n",
    "    pdf(paste0(temp_dir,CellType,\n",
    "        \"_Enr_React_GSPlot_\",id_term,\"_pct_\",min_pct_threshold,\n",
    "            \"_logfc.thres_\",logfc.threshold,\n",
    "            \"_Ranks_gs_only_neg.pdf\"), height = 8.5, width = 11)\n",
    "    ## Create a graphical object g here\n",
    "    print(p)# print it\n",
    "    ## Stop writing to the PDF file\n",
    "    dev.off()\n",
    "}"
   ]
  },
  {
   "cell_type": "code",
   "execution_count": null,
   "metadata": {},
   "outputs": [],
   "source": []
  },
  {
   "attachments": {},
   "cell_type": "markdown",
   "metadata": {},
   "source": [
    "# END"
   ]
  },
  {
   "cell_type": "code",
   "execution_count": 67,
   "metadata": {},
   "outputs": [
    {
     "name": "stdout",
     "output_type": "stream",
     "text": [
      "R version 4.2.2 (2022-10-31 ucrt)\n",
      "Platform: x86_64-w64-mingw32/x64 (64-bit)\n",
      "Running under: Windows 10 x64 (build 22621)\n",
      "\n",
      "Matrix products: default\n",
      "\n",
      "locale:\n",
      "[1] LC_COLLATE=English_United States.1252 \n",
      "[2] LC_CTYPE=English_United States.1252   \n",
      "[3] LC_MONETARY=English_United States.1252\n",
      "[4] LC_NUMERIC=C                          \n",
      "[5] LC_TIME=English_United States.1252    \n",
      "\n",
      "attached base packages:\n",
      "[1] stats4    tools     stats     graphics  grDevices utils     datasets \n",
      "[8] methods   base     \n",
      "\n",
      "other attached packages:\n",
      " [1] ReactomePA_1.42.0           enrichplot_1.18.4          \n",
      " [3] EnhancedVolcano_1.16.0      ggrepel_0.9.2              \n",
      " [5] clusterProfiler_4.6.2       org.Hs.eg.db_3.16.0        \n",
      " [7] AnnotationDbi_1.60.2        forcats_1.0.0              \n",
      " [9] purrr_1.0.1                 readr_2.1.3                \n",
      "[11] tidyr_1.3.0                 tibble_3.2.0               \n",
      "[13] tidyverse_1.3.2             enrichR_3.2                \n",
      "[15] DESeq2_1.38.3               dittoSeq_1.10.0            \n",
      "[17] stringr_1.5.0               scCustomize_1.1.1          \n",
      "[19] dplyr_1.1.0                 BiocParallel_1.32.5        \n",
      "[21] scry_1.10.0                 scran_1.26.2               \n",
      "[23] scDblFinder_1.12.0          scater_1.26.1              \n",
      "[25] ggplot2_3.4.1               scuttle_1.8.4              \n",
      "[27] SingleCellExperiment_1.20.1 SummarizedExperiment_1.28.0\n",
      "[29] Biobase_2.58.0              GenomicRanges_1.50.2       \n",
      "[31] GenomeInfoDb_1.34.7         IRanges_2.32.0             \n",
      "[33] S4Vectors_0.36.1            BiocGenerics_0.44.0        \n",
      "[35] MatrixGenerics_1.10.0       matrixStats_0.63.0         \n",
      "[37] conos_1.5.0                 igraph_1.3.5               \n",
      "[39] SeuratWrappers_0.3.1        rliger_1.0.0               \n",
      "[41] patchwork_1.1.2             Matrix_1.5-3               \n",
      "[43] cowplot_1.1.1               sctransform_0.3.5          \n",
      "[45] SeuratObject_4.1.3          Seurat_4.3.0               \n",
      "\n",
      "loaded via a namespace (and not attached):\n",
      "  [1] rsvd_1.0.5                ica_1.0-3                \n",
      "  [3] Rsamtools_2.14.0          foreach_1.5.2            \n",
      "  [5] lmtest_0.9-40             crayon_1.5.2             \n",
      "  [7] MASS_7.3-58.1             WriteXLS_6.4.0           \n",
      "  [9] nlme_3.1-160              backports_1.4.1          \n",
      " [11] reprex_2.0.2              GOSemSim_2.24.0          \n",
      " [13] rlang_1.1.0               XVector_0.38.0           \n",
      " [15] HDO.db_0.99.1             ROCR_1.0-11              \n",
      " [17] readxl_1.4.1              irlba_2.3.5.1            \n",
      " [19] limma_3.54.2              xgboost_1.7.3.1          \n",
      " [21] rjson_0.2.21              bit64_4.0.5              \n",
      " [23] glue_1.6.2                pheatmap_1.0.12          \n",
      " [25] parallel_4.2.2            vipor_0.4.5              \n",
      " [27] spatstat.sparse_3.0-0     DOSE_3.24.2              \n",
      " [29] spatstat.geom_3.0-3       haven_2.5.1              \n",
      " [31] tidyselect_1.2.0          fitdistrplus_1.1-8       \n",
      " [33] XML_3.99-0.13             zoo_1.8-11               \n",
      " [35] GenomicAlignments_1.34.1  xtable_1.8-4             \n",
      " [37] magrittr_2.0.3            cli_3.6.0                \n",
      " [39] zlibbioc_1.44.0           miniUI_0.1.1.1           \n",
      " [41] sp_1.5-1                  fastmatch_1.1-3          \n",
      " [43] treeio_1.22.0             shiny_1.7.4              \n",
      " [45] BiocSingular_1.14.0       clue_0.3-64              \n",
      " [47] gson_0.1.0                cluster_2.1.4            \n",
      " [49] tidygraph_1.2.2           KEGGREST_1.38.0          \n",
      " [51] ape_5.7-1                 listenv_0.9.0            \n",
      " [53] Biostrings_2.66.0         png_0.1-8                \n",
      " [55] future_1.30.0             withr_2.5.0              \n",
      " [57] bitops_1.0-7              ggforce_0.4.1            \n",
      " [59] plyr_1.8.8                cellranger_1.1.0         \n",
      " [61] dqrng_0.3.0               pillar_1.8.1             \n",
      " [63] GlobalOptions_0.1.2       cachem_1.0.6             \n",
      " [65] fs_1.6.1                  hdf5r_1.3.7              \n",
      " [67] graphite_1.44.0           GetoptLong_1.0.5         \n",
      " [69] paletteer_1.5.0           DelayedMatrixStats_1.20.0\n",
      " [71] vctrs_0.5.2               ellipsis_0.3.2           \n",
      " [73] generics_0.1.3            beeswarm_0.4.0           \n",
      " [75] munsell_0.5.0             tweenr_2.0.2             \n",
      " [77] fgsea_1.24.0              DelayedArray_0.23.2      \n",
      " [79] fastmap_1.1.0             compiler_4.2.2           \n",
      " [81] abind_1.4-5               httpuv_1.6.7             \n",
      " [83] rtracklayer_1.58.0        plotly_4.10.1            \n",
      " [85] GenomeInfoDbData_1.2.9    gridExtra_2.3            \n",
      " [87] edgeR_3.40.2              riverplot_0.10           \n",
      " [89] lattice_0.20-45           deldir_1.0-6             \n",
      " [91] snow_0.4-4                utf8_1.2.3               \n",
      " [93] later_1.3.0               jsonlite_1.8.4           \n",
      " [95] scales_1.2.1              graph_1.76.0             \n",
      " [97] ScaledMatrix_1.6.0        tidytree_0.4.2           \n",
      " [99] pbapply_1.6-0             sparseMatrixStats_1.10.0 \n",
      "[101] lazyeval_0.2.2            promises_1.2.0.1         \n",
      "[103] doParallel_1.0.17         R.utils_2.12.2           \n",
      "[105] goftest_1.2-3             spatstat.utils_3.0-1     \n",
      "[107] reticulate_1.28           textshaping_0.3.6        \n",
      "[109] statmod_1.5.0             Rtsne_0.16               \n",
      "[111] downloader_0.4            uwot_0.1.14              \n",
      "[113] survival_3.4-0            yaml_2.3.6               \n",
      "[115] systemfonts_1.0.4         htmltools_0.5.4          \n",
      "[117] memoise_2.0.1             BiocIO_1.8.0             \n",
      "[119] locfit_1.5-9.7            graphlayouts_0.8.4       \n",
      "[121] viridisLite_0.4.1         digest_0.6.31            \n",
      "[123] assertthat_0.2.1          rappdirs_0.3.3           \n",
      "[125] mime_0.12                 RSQLite_2.3.0            \n",
      "[127] yulab.utils_0.0.6         future.apply_1.10.0      \n",
      "[129] remotes_2.4.2             data.table_1.14.6        \n",
      "[131] blob_1.2.3                R.oo_1.25.0              \n",
      "[133] ragg_1.2.5                labeling_0.4.2           \n",
      "[135] splines_4.2.2             rematch2_2.1.2           \n",
      "[137] googledrive_2.0.0         RCurl_1.98-1.10          \n",
      "[139] broom_1.0.4               hms_1.1.2                \n",
      "[141] modelr_0.1.10             colorspace_2.1-0         \n",
      "[143] BiocManager_1.30.19       ggbeeswarm_0.7.1         \n",
      "[145] shape_1.4.6               aplot_0.1.10             \n",
      "[147] ggrastr_1.0.2             Rcpp_1.0.10              \n",
      "[149] mclust_6.0.0              RANN_2.6.1               \n",
      "[151] circlize_0.4.15           fansi_1.0.4              \n",
      "[153] tzdb_0.3.0                parallelly_1.33.0        \n",
      "[155] R6_2.5.1                  grid_4.2.2               \n",
      "[157] ggridges_0.5.4            lifecycle_1.0.3          \n",
      "[159] bluster_1.8.0             curl_4.3.3               \n",
      "[161] googlesheets4_1.0.1       leiden_0.4.3             \n",
      "[163] snakecase_0.11.0          qvalue_2.30.0            \n",
      "[165] RcppAnnoy_0.0.20          RColorBrewer_1.1-3       \n",
      "[167] iterators_1.0.14          spatstat.explore_3.0-5   \n",
      "[169] htmlwidgets_1.6.1         beachmat_2.14.0          \n",
      "[171] polyclip_1.10-4           shadowtext_0.1.2         \n",
      "[173] gridGraphics_0.5-1        timechange_0.2.0         \n",
      "[175] reactome.db_1.82.0        rvest_1.0.3              \n",
      "[177] ComplexHeatmap_2.14.0     globals_0.16.2           \n",
      "[179] leidenAlg_1.0.5           spatstat.random_3.0-1    \n",
      "[181] progressr_0.13.0          codetools_0.2-18         \n",
      "[183] lubridate_1.9.1           GO.db_3.16.0             \n",
      "[185] FNN_1.1.3.1               metapod_1.6.0            \n",
      "[187] dbplyr_2.3.0              R.methodsS3_1.8.2        \n",
      "[189] gtable_0.3.1              DBI_1.1.3                \n",
      "[191] ggfun_0.0.9               tensor_1.5               \n",
      "[193] httr_1.4.4                KernSmooth_2.23-20       \n",
      "[195] vroom_1.6.1               stringi_1.7.12           \n",
      "[197] reshape2_1.4.4            farver_2.1.1             \n",
      "[199] annotate_1.76.0           viridis_0.6.2            \n",
      "[201] ggtree_3.6.2              xml2_1.3.3               \n",
      "[203] sccore_1.0.3              BiocNeighbors_1.16.0     \n",
      "[205] restfulr_0.0.15           geneplotter_1.76.0       \n",
      "[207] ggplotify_0.1.0           scattermore_0.8          \n",
      "[209] bit_4.0.5                 scatterpie_0.1.9         \n",
      "[211] spatstat.data_3.0-0       ggraph_2.1.0             \n",
      "[213] janitor_2.2.0             pkgconfig_2.0.3          \n",
      "[215] gargle_1.3.0              ggprism_1.0.4            \n"
     ]
    }
   ],
   "source": [
    "%%R\n",
    "sessionInfo()"
   ]
  },
  {
   "cell_type": "code",
   "execution_count": null,
   "metadata": {},
   "outputs": [],
   "source": []
  }
 ],
 "metadata": {
  "kernelspec": {
   "display_name": "Py310",
   "language": "python",
   "name": "python3"
  },
  "language_info": {
   "codemirror_mode": {
    "name": "ipython",
    "version": 3
   },
   "file_extension": ".py",
   "mimetype": "text/x-python",
   "name": "python",
   "nbconvert_exporter": "python",
   "pygments_lexer": "ipython3",
   "version": "3.10.10"
  },
  "orig_nbformat": 4
 },
 "nbformat": 4,
 "nbformat_minor": 2
}
