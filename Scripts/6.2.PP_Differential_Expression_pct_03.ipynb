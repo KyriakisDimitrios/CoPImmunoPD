{
 "cells": [
  {
   "cell_type": "code",
   "execution_count": 1,
   "metadata": {},
   "outputs": [
    {
     "name": "stderr",
     "output_type": "stream",
     "text": [
      "c:\\Users\\kyria.000\\anaconda3\\envs\\Py310\\lib\\site-packages\\rpy2\\robjects\\packages.py:367: UserWarning: The symbol 'quartz' is not in this R namespace/package.\n",
      "  warnings.warn(\n"
     ]
    }
   ],
   "source": [
    "import anndata2ri\n",
    "import logging\n",
    "import rpy2.rinterface_lib.callbacks as rcb\n",
    "import os\n",
    "import pandas as pd\n",
    "import numpy as np\n",
    "import rpy2.robjects as ro\n",
    "import sys\n",
    "\n",
    "import scanpy as sc\n",
    "import matplotlib.pyplot as plt\n",
    "\n",
    "rcb.logger.setLevel(logging.ERROR)\n",
    "ro.pandas2ri.activate()\n",
    "anndata2ri.activate()\n",
    "\n",
    "%load_ext rpy2.ipython"
   ]
  },
  {
   "cell_type": "code",
   "execution_count": 2,
   "metadata": {},
   "outputs": [
    {
     "name": "stdout",
     "output_type": "stream",
     "text": [
      "\n",
      "    WARNING: The R package \"reticulate\" only fixed recently\n",
      "    an issue that caused a segfault when used with rpy2:\n",
      "    https://github.com/rstudio/reticulate/pull/1188\n",
      "    Make sure that you use a version of that package that includes\n",
      "    the fix.\n",
      "    -- Attaching packages --------------------------------------- tidyverse 1.3.2 --\n",
      "v tibble  3.2.0     v purrr   1.0.1\n",
      "v tidyr   1.3.0     v forcats 1.0.0\n",
      "v readr   2.1.3     \n",
      "-- Conflicts ------------------------------------------ tidyverse_conflicts() --\n",
      "x tibble::as_data_frame() masks dplyr::as_data_frame(), igraph::as_data_frame()\n",
      "x dplyr::collapse()       masks IRanges::collapse()\n",
      "x dplyr::combine()        masks Biobase::combine(), BiocGenerics::combine()\n",
      "x purrr::compose()        masks igraph::compose()\n",
      "x dplyr::count()          masks matrixStats::count()\n",
      "x tidyr::crossing()       masks igraph::crossing()\n",
      "x dplyr::desc()           masks IRanges::desc()\n",
      "x tidyr::expand()         masks S4Vectors::expand(), Matrix::expand()\n",
      "x dplyr::filter()         masks stats::filter()\n",
      "x dplyr::first()          masks S4Vectors::first()\n",
      "x dplyr::groups()         masks igraph::groups()\n",
      "x dplyr::lag()            masks stats::lag()\n",
      "x tidyr::pack()           masks Matrix::pack()\n",
      "x ggplot2::Position()     masks BiocGenerics::Position(), base::Position()\n",
      "x purrr::reduce()         masks GenomicRanges::reduce(), IRanges::reduce()\n",
      "x dplyr::rename()         masks S4Vectors::rename()\n",
      "x purrr::simplify()       masks igraph::simplify()\n",
      "x dplyr::slice()          masks IRanges::slice()\n",
      "x tidyr::unpack()         masks Matrix::unpack()\n"
     ]
    }
   ],
   "source": [
    "%%R\n",
    "options(future.globals.maxSize = 1000000 * 1024^2)\n",
    "set.seed(2422012)\n",
    "\n",
    "# Single cell libraries\n",
    "library(Seurat)\n",
    "library(sctransform)\n",
    "library(rliger)\n",
    "library(SeuratWrappers)\n",
    "library(conos)\n",
    "library(scater)\n",
    "library(scDblFinder)\n",
    "library(scran)\n",
    "library(sctransform)\n",
    "library(scry)\n",
    "\n",
    "# Rest libraries\n",
    "library(BiocParallel)\n",
    "library(ggplot2)\n",
    "library(dplyr)\n",
    "library(cowplot)\n",
    "\n",
    "library(scCustomize)\n",
    "library(stringr)\n",
    "library(dittoSeq)\n",
    "library(DESeq2)\n",
    "library(enrichR)\n",
    "\n",
    "library(tidyverse)\n",
    "library(org.Hs.eg.db)\n",
    "library(clusterProfiler)"
   ]
  },
  {
   "cell_type": "code",
   "execution_count": 4,
   "metadata": {},
   "outputs": [],
   "source": [
    "CellType=\"CCR7pCD45ROp\"\n",
    "title_plot = \"CD45RO+CCR7+\""
   ]
  },
  {
   "cell_type": "code",
   "execution_count": 5,
   "metadata": {},
   "outputs": [],
   "source": [
    "projectdir = \"C:/Users/kyria.000/Documents/PhD/Projects/Feng2023/CoPImmunoPD/\"\n",
    "datadir = projectdir + \"Data/\"\n",
    "objtdir = projectdir + \"Result/Differnetial_Expression_pct_03/\"\n",
    "\n",
    "resultdir = projectdir + \"Result/Differnetial_Expression_pct_03/\"+CellType+\"/\"\n",
    "adata_file = 'AnnData_Integrated.h5ad'\n"
   ]
  },
  {
   "cell_type": "code",
   "execution_count": 6,
   "metadata": {},
   "outputs": [],
   "source": [
    "%%R -i projectdir\n",
    "setwd(projectdir)"
   ]
  },
  {
   "cell_type": "code",
   "execution_count": 7,
   "metadata": {},
   "outputs": [],
   "source": [
    "%%R -i objtdir -i resultdir -i projectdir\n",
    "# setwd(projectdir)\n",
    "dir.create(objtdir)\n",
    "dir.create(resultdir)\n",
    "Subbbb <- readRDS(paste0(projectdir,\"Subset_raarranged.rds\"))"
   ]
  },
  {
   "cell_type": "code",
   "execution_count": 8,
   "metadata": {},
   "outputs": [
    {
     "data": {
      "image/png": "[encoded data removed]",
      "text/plain": [
       "<IPython.core.display.Image object>"
      ]
     },
     "metadata": {},
     "output_type": "display_data"
    }
   ],
   "source": [
    "%%R -i resultdir -i projectdir\n",
    "DimPlot(Subbbb,group.by=\"CellType\",cols=c(dittoColors(1)[seq_len(4)]))"
   ]
  },
  {
   "cell_type": "code",
   "execution_count": 9,
   "metadata": {},
   "outputs": [],
   "source": [
    "%%R\n",
    "DefaultAssay(Subbbb) <- \"SCT\"\n",
    "# ====== Find markers parameters  ==============\n",
    "min_pct_threshold = 0.3\n",
    "# ====== Go enrichment parameters ==============\n",
    "logfc.threshold <- 0.25\n",
    "p.val.cutoff <- 0.05\n",
    "max.genes <- 500\n"
   ]
  },
  {
   "attachments": {},
   "cell_type": "markdown",
   "metadata": {},
   "source": [
    "# Subset different CD8 T cells"
   ]
  },
  {
   "cell_type": "code",
   "execution_count": 10,
   "metadata": {},
   "outputs": [],
   "source": [
    "%%R -i CellType\n",
    "# ====================== CCR7mCD45ROp ================================\n",
    "Seurat = subset(Subbbb, idents = CellType)\n",
    "Seurat<- SetIdent(Seurat , value = \"Condition\")\n",
    "Seurat <- PrepSCTFindMarkers(Seurat)"
   ]
  },
  {
   "cell_type": "code",
   "execution_count": 11,
   "metadata": {},
   "outputs": [
    {
     "data": {
      "image/png": "[encoded data removed]",
      "text/plain": [
       "<IPython.core.display.Image object>"
      ]
     },
     "metadata": {},
     "output_type": "display_data"
    }
   ],
   "source": [
    "%%R\n",
    "DimPlot(Seurat,group.by=\"CellType\")"
   ]
  },
  {
   "attachments": {},
   "cell_type": "markdown",
   "metadata": {},
   "source": [
    "# Create Average Expression"
   ]
  },
  {
   "cell_type": "code",
   "execution_count": 12,
   "metadata": {},
   "outputs": [],
   "source": [
    "%%R\n",
    "source(paste0(projectdir,\"Functions.R\"))"
   ]
  },
  {
   "cell_type": "code",
   "execution_count": 13,
   "metadata": {},
   "outputs": [],
   "source": [
    "%%R -i resultdir -i CellType\n",
    "Idents(Seurat) <- \"Condition\"\n",
    "Average_Seurat <- AverageExpression(Seurat,return.seurat=T)\n",
    "Average_Seurat_norm <- as.data.frame(Average_Seurat@assays$SCT@data)\n",
    "rownames(Average_Seurat_norm) <- rownames(Average_Seurat)\n",
    "colnames(Average_Seurat_norm)<- paste0(rownames(Average_Seurat@meta.data),\"_norm\")\n",
    "Average_Seurat_counts <- as.data.frame(Average_Seurat@assays$RNA@data)\n",
    "rownames(Average_Seurat_counts) <- rownames(Average_Seurat)\n",
    "colnames(Average_Seurat_counts)<- paste0(rownames(Average_Seurat@meta.data),\"_counts\")\n",
    "Average_Seurat <- as.data.frame(cbind(Average_Seurat_counts,Average_Seurat_norm))\n",
    "write.csv(Average_Seurat,paste0(resultdir,\"Average_\",CellType,\".csv\"))\n"
   ]
  },
  {
   "attachments": {},
   "cell_type": "markdown",
   "metadata": {},
   "source": [
    "# Differential Expression"
   ]
  },
  {
   "cell_type": "code",
   "execution_count": 14,
   "metadata": {},
   "outputs": [
    {
     "name": "stdout",
     "output_type": "stream",
     "text": [
      "  |                                                  | 0 % ~calculating   |+                                                 | 1 % ~32s           |++                                                | 2 % ~32s           |++                                                | 3 % ~31s           |+++                                               | 4 % ~31s           |+++                                               | 5 % ~31s           |++++                                              | 6 % ~31s           |++++                                              | 7 % ~31s           |+++++                                             | 8 % ~31s           |+++++                                             | 9 % ~30s           |++++++                                            | 10% ~30s           |++++++                                            | 11% ~30s           |+++++++                                           | 12% ~29s           |+++++++                                           | 13% ~29s           |++++++++                                          | 14% ~29s           |++++++++                                          | 15% ~28s           |+++++++++                                         | 16% ~28s           |+++++++++                                         | 18% ~28s           |++++++++++                                        | 19% ~27s           |++++++++++                                        | 20% ~27s           |+++++++++++                                       | 21% ~27s           |+++++++++++                                       | 22% ~26s           |++++++++++++                                      | 23% ~26s           |++++++++++++                                      | 24% ~26s           |+++++++++++++                                     | 25% ~25s           |+++++++++++++                                     | 26% ~25s           |++++++++++++++                                    | 27% ~24s           |++++++++++++++                                    | 28% ~24s           |+++++++++++++++                                   | 29% ~24s           |+++++++++++++++                                   | 30% ~23s           |++++++++++++++++                                  | 31% ~23s           |++++++++++++++++                                  | 32% ~22s           |+++++++++++++++++                                 | 33% ~22s           |++++++++++++++++++                                | 34% ~22s           |++++++++++++++++++                                | 35% ~21s           |+++++++++++++++++++                               | 36% ~21s           |+++++++++++++++++++                               | 37% ~21s           |++++++++++++++++++++                              | 38% ~20s           |++++++++++++++++++++                              | 39% ~20s           |+++++++++++++++++++++                             | 40% ~20s           |+++++++++++++++++++++                             | 41% ~19s           |++++++++++++++++++++++                            | 42% ~19s           |++++++++++++++++++++++                            | 43% ~19s           |+++++++++++++++++++++++                           | 44% ~18s           |+++++++++++++++++++++++                           | 45% ~18s           |++++++++++++++++++++++++                          | 46% ~18s           |++++++++++++++++++++++++                          | 47% ~17s           |+++++++++++++++++++++++++                         | 48% ~17s           |+++++++++++++++++++++++++                         | 49% ~17s           |++++++++++++++++++++++++++                        | 51% ~16s           |++++++++++++++++++++++++++                        | 52% ~16s           |+++++++++++++++++++++++++++                       | 53% ~15s           |+++++++++++++++++++++++++++                       | 54% ~15s           |++++++++++++++++++++++++++++                      | 55% ~15s           |++++++++++++++++++++++++++++                      | 56% ~14s           |+++++++++++++++++++++++++++++                     | 57% ~14s           |+++++++++++++++++++++++++++++                     | 58% ~14s           |++++++++++++++++++++++++++++++                    | 59% ~13s           |++++++++++++++++++++++++++++++                    | 60% ~13s           |+++++++++++++++++++++++++++++++                   | 61% ~13s           |+++++++++++++++++++++++++++++++                   | 62% ~12s           |++++++++++++++++++++++++++++++++                  | 63% ~12s           |++++++++++++++++++++++++++++++++                  | 64% ~12s           |+++++++++++++++++++++++++++++++++                 | 65% ~11s           |+++++++++++++++++++++++++++++++++                 | 66% ~11s           |++++++++++++++++++++++++++++++++++                | 67% ~11s           |+++++++++++++++++++++++++++++++++++               | 68% ~10s           |+++++++++++++++++++++++++++++++++++               | 69% ~10s           |++++++++++++++++++++++++++++++++++++              | 70% ~10s           |++++++++++++++++++++++++++++++++++++              | 71% ~09s           |+++++++++++++++++++++++++++++++++++++             | 72% ~09s           |+++++++++++++++++++++++++++++++++++++             | 73% ~09s           |++++++++++++++++++++++++++++++++++++++            | 74% ~08s           |++++++++++++++++++++++++++++++++++++++            | 75% ~08s           |+++++++++++++++++++++++++++++++++++++++           | 76% ~08s           |+++++++++++++++++++++++++++++++++++++++           | 77% ~07s           |++++++++++++++++++++++++++++++++++++++++          | 78% ~07s           |++++++++++++++++++++++++++++++++++++++++          | 79% ~07s           |+++++++++++++++++++++++++++++++++++++++++         | 80% ~06s           |+++++++++++++++++++++++++++++++++++++++++         | 81% ~06s           |++++++++++++++++++++++++++++++++++++++++++        | 82% ~06s           |++++++++++++++++++++++++++++++++++++++++++        | 84% ~05s           |+++++++++++++++++++++++++++++++++++++++++++       | 85% ~05s           |+++++++++++++++++++++++++++++++++++++++++++       | 86% ~05s           |++++++++++++++++++++++++++++++++++++++++++++      | 87% ~04s           |++++++++++++++++++++++++++++++++++++++++++++      | 88% ~04s           |+++++++++++++++++++++++++++++++++++++++++++++     | 89% ~04s           |+++++++++++++++++++++++++++++++++++++++++++++     | 90% ~03s           |++++++++++++++++++++++++++++++++++++++++++++++    | 91% ~03s           |++++++++++++++++++++++++++++++++++++++++++++++    | 92% ~03s           |+++++++++++++++++++++++++++++++++++++++++++++++   | 93% ~02s           |+++++++++++++++++++++++++++++++++++++++++++++++   | 94% ~02s           |++++++++++++++++++++++++++++++++++++++++++++++++  | 95% ~02s           |++++++++++++++++++++++++++++++++++++++++++++++++  | 96% ~01s           |+++++++++++++++++++++++++++++++++++++++++++++++++ | 97% ~01s           |+++++++++++++++++++++++++++++++++++++++++++++++++ | 98% ~01s           |++++++++++++++++++++++++++++++++++++++++++++++++++| 99% ~00s           |++++++++++++++++++++++++++++++++++++++++++++++++++| 100% elapsed=32s  \n"
     ]
    }
   ],
   "source": [
    "%%R\n",
    "DE_Seurat_original <-  FindMarkers(Seurat,ident.1=\"PD\",ident.2=\"HC\",\n",
    "    min.pct = min_pct_threshold,\n",
    "    logfc.threshold = 0\n",
    "    )"
   ]
  },
  {
   "cell_type": "code",
   "execution_count": 15,
   "metadata": {},
   "outputs": [],
   "source": [
    "%%R\n",
    "source(\"Functions.R\")\n",
    "DE_Seurat <- DE_Seurat_original\n",
    "DE_Seurat$gene <-  rownames(DE_Seurat)\n",
    "DE_Seurat  <- gene_score_calc(DE_Seurat)\n"
   ]
  },
  {
   "attachments": {},
   "cell_type": "markdown",
   "metadata": {},
   "source": [
    "# ADD ENSEMBL IDs"
   ]
  },
  {
   "cell_type": "code",
   "execution_count": 16,
   "metadata": {},
   "outputs": [
    {
     "name": "stdout",
     "output_type": "stream",
     "text": [
      "Rows: 36601 Columns: 3\n",
      "-- Column specification --------------------------------------------------------\n",
      "Delimiter: \"\\t\"\n",
      "chr (3): X1, X2, X3\n",
      "\n",
      "i Use `spec()` to retrieve the full column specification for this data.\n",
      "i Specify the column types or set `show_col_types = FALSE` to quiet this message.\n",
      "             gene     tstat gene.score p_val p_val_adj diff.pct\n",
      "HIST1H1E HIST1H1E 117.21804    3.15312     0         0    0.349\n",
      "CFAP70     CFAP70 107.57241    4.17935     0         0    0.287\n",
      "TXNIP       TXNIP 107.30767    0.93547     0         0    0.048\n",
      "RNF125     RNF125 -97.39269   -1.30520     0         0   -0.212\n",
      "ZFP36L2   ZFP36L2 -87.65396   -0.75138     0         0   -0.025\n",
      "         enrichment.ratio pct.1 pct.2 avg_log2FC cluster gene.name\n",
      "HIST1H1E          4.17269 0.459 0.110    0.75566      PD  HIST1H1E\n",
      "CFAP70            6.73987 0.337 0.050    0.62009      PD    CFAP70\n",
      "TXNIP             1.05189 0.973 0.925    0.88932      PD     TXNIP\n",
      "RNF125            1.30503 0.695 0.907   -1.00013      HC    RNF125\n",
      "ZFP36L2           1.02569 0.973 0.998   -0.73256      HC   ZFP36L2\n",
      "              ensembl.id\n",
      "HIST1H1E ENSG00000168298\n",
      "CFAP70   ENSG00000156042\n",
      "TXNIP    ENSG00000265972\n",
      "RNF125   ENSG00000101695\n",
      "ZFP36L2  ENSG00000152518\n"
     ]
    }
   ],
   "source": [
    "%%R -i projectdir\n",
    "gene_names <- as.data.frame(readr::read_tsv(paste0(projectdir,\"features.tsv\"),col_names =F))\n",
    "colnames(gene_names) <- c(\"ensembl.id\",\"gene.name\",\"Type\")\n",
    "DE_Seurat$gene.name <- DE_Seurat$gene\n",
    "\n",
    "\n",
    "remain_ensembl.id <- gene_names[gene_names$gene.name %in% DE_Seurat$gene.name,]\n",
    "doublicated_gene <- duplicated(remain_ensembl.id$gene.name)\n",
    "remain_ensembl.id2 <- remain_ensembl.id[!doublicated_gene,]\n",
    "rownames(remain_ensembl.id2) <- remain_ensembl.id2$gene.name\n",
    "DE_Seurat$ensembl.id <- remain_ensembl.id2[DE_Seurat$gene.name,\"ensembl.id\"]\n",
    "print(DE_Seurat[1:5,])\n"
   ]
  },
  {
   "attachments": {},
   "cell_type": "markdown",
   "metadata": {},
   "source": [
    "# ADD ENTREZ IDs"
   ]
  },
  {
   "cell_type": "code",
   "execution_count": 17,
   "metadata": {},
   "outputs": [
    {
     "name": "stdout",
     "output_type": "stream",
     "text": [
      "\n",
      "FALSE  TRUE \n",
      " 2780    25 \n"
     ]
    }
   ],
   "source": [
    "%%R\n",
    "source(\"Functions.R\")\n",
    "rownames(DE_Seurat) <- DE_Seurat$gene.name\n",
    "geneIDs <- DE_Seurat[,c(\"gene.name\",\"ensembl.id\")]\n",
    "DE_Seurat_mapped <- entrezMapper(DEGenes=DE_Seurat, geneIDs=geneIDs, species=\"hsa\")\n"
   ]
  },
  {
   "cell_type": "code",
   "execution_count": 18,
   "metadata": {},
   "outputs": [
    {
     "name": "stdout",
     "output_type": "stream",
     "text": [
      "[1] 2780   14\n",
      "[1] 2805   14\n"
     ]
    }
   ],
   "source": [
    "%%R\n",
    "cleanDEGenes <- DE_Seurat_mapped[!is.na(DE_Seurat_mapped$entrezID),]\n",
    "print(dim(cleanDEGenes))\n",
    "print(dim(DE_Seurat_mapped))"
   ]
  },
  {
   "cell_type": "code",
   "execution_count": 19,
   "metadata": {},
   "outputs": [
    {
     "name": "stdout",
     "output_type": "stream",
     "text": [
      "             gene     tstat gene.score"
     ]
    },
    {
     "name": "stdout",
     "output_type": "stream",
     "text": [
      " p_val p_val_adj diff.pct\n",
      "CFAP70     CFAP70 107.57241    4.17935     0         0    0.287\n",
      "HIST1H1E HIST1H1E 117.21804    3.15312     0         0    0.349\n",
      "HIST1H1D HIST1H1D  79.62442    2.12086     0         0    0.286\n",
      "HIST1H1C HIST1H1C  85.78760    2.09947     0         0    0.311\n",
      "FAAH2       FAAH2  33.43738    1.18203     0         0    0.207\n",
      "         enrichment.ratio pct.1 pct.2 avg_log2FC cluster gene.name\n",
      "CFAP70            6.73987 0.337 0.050    0.62009      PD    CFAP70\n",
      "HIST1H1E          4.17269 0.459 0.110    0.75566      PD  HIST1H1E\n",
      "HIST1H1D          3.46549 0.402 0.116    0.61200      PD  HIST1H1D\n",
      "HIST1H1C          3.01946 0.465 0.154    0.69531      PD  HIST1H1C\n",
      "FAAH2             1.83805 0.454 0.247    0.64309      PD     FAAH2\n",
      "              ensembl.id entrezID\n",
      "CFAP70   ENSG00000156042   118491\n",
      "HIST1H1E ENSG00000168298     3008\n",
      "HIST1H1D ENSG00000124575     3007\n",
      "HIST1H1C ENSG00000187837     3006\n",
      "FAAH2    ENSG00000165591   158584\n"
     ]
    }
   ],
   "source": [
    "%%R\n",
    "DE_Seurat_signif <- cleanDEGenes %>%\n",
    "  filter(abs(avg_log2FC)>0.25 &  p_val_adj <0.05) %>%\n",
    "  arrange(desc(gene.score))\n",
    "DE_Seurat_signif[1:5,]"
   ]
  },
  {
   "cell_type": "code",
   "execution_count": 20,
   "metadata": {},
   "outputs": [],
   "source": [
    "%%R -i CellType\n",
    "Average_subset_ordered <- Average_Seurat[DE_Seurat$gene,]\n",
    "DE_Seurat <- as.data.frame(cbind(DE_Seurat,Average_subset_ordered))\n",
    "DE_Seurat <- DE_Seurat[order(DE_Seurat$gene.score,decreasing=T),]\n",
    "readr::write_csv(DE_Seurat,\n",
    "    file=paste0(resultdir,CellType,\"DEG_MinPct_\",min_pct_threshold,\".csv\"))\n"
   ]
  },
  {
   "cell_type": "code",
   "execution_count": 21,
   "metadata": {},
   "outputs": [
    {
     "name": "stdout",
     "output_type": "stream",
     "text": [
      "Saving 6.67 x 6.67 in image\n",
      "Saving 6.67 x 6.67 in image\n"
     ]
    },
    {
     "data": {
      "image/png": "[encoded data removed]",
      "text/plain": [
       "<IPython.core.display.Image object>"
      ]
     },
     "metadata": {},
     "output_type": "display_data"
    }
   ],
   "source": [
    "%%R -i resultdir -i title_plot\n",
    "library(EnhancedVolcano)\n",
    "p <- EnhancedVolcano(DE_Seurat_original,\n",
    "    lab = rownames(DE_Seurat_original),\n",
    "    x = 'avg_log2FC',\n",
    "    y = 'p_val_adj',FCcutoff = 0.5,title=title_plot)\n",
    "ggsave(plot=p,filename=paste0(resultdir,CellType,\"_Volcano_pct\",min_pct_threshold,\".png\"))\n",
    "ggsave(plot=p,filename=paste0(resultdir,CellType,\"_Volcano_pct\",min_pct_threshold,\".pdf\"))\n",
    "p"
   ]
  },
  {
   "attachments": {},
   "cell_type": "markdown",
   "metadata": {},
   "source": [
    "# Kegg Pathway"
   ]
  },
  {
   "attachments": {},
   "cell_type": "markdown",
   "metadata": {},
   "source": [
    "## Possitive PD"
   ]
  },
  {
   "cell_type": "code",
   "execution_count": 22,
   "metadata": {},
   "outputs": [
    {
     "name": "stdout",
     "output_type": "stream",
     "text": [
      "Uploading data to Enrichr... Done.\n",
      "  Querying KEGG_2021_Human... Done.\n",
      "Parsing results... Done.\n",
      "                     KEGG_2021_Human.Term KEGG_2021_Human.Overlap\n",
      "1 Human T-cell leukemia virus 1 infection             ratio 7/219\n",
      "2     NOD-like receptor signaling pathway             ratio 6/181\n",
      "3                 Cell adhesion molecules             ratio 5/148\n"
     ]
    }
   ],
   "source": [
    "%%R\n",
    "source(\"Functions.R\")\n",
    "enrich.database <- c(\"KEGG_2021_Human\")\n",
    "mypos <- enrichR_wrap_fun_pos(DE_Seurat_mapped,\n",
    "logfc.threshold=logfc.threshold,\n",
    "p.val.cutoff=p.val.cutoff,\n",
    "enrich.database=c(enrich.database ))    \n",
    "# ======= DEGs matrix ===================\n",
    "pos.markers <- mypos$pos.markers\n",
    "# ======= Enrichment matrix ===================\n",
    "pos_mat <- mypos$pos_mat\n",
    "print(pos_mat[1:3,1:2])\n",
    "kegg_pos_mat <- pos_mat  \n",
    "readr::write_csv(pos_mat,\n",
    "    file=paste0(resultdir,CellType,\"_POS_\",enrich.database,\"_MinPct_\",min_pct_threshold,\".csv\"))\n"
   ]
  },
  {
   "cell_type": "code",
   "execution_count": 23,
   "metadata": {},
   "outputs": [
    {
     "name": "stdout",
     "output_type": "stream",
     "text": [
      "[1] \"Take a break enrichr crashes\"\n"
     ]
    }
   ],
   "source": [
    "%%R\n",
    "print(\"Take a break enrichr crashes\")\n"
   ]
  },
  {
   "attachments": {},
   "cell_type": "markdown",
   "metadata": {},
   "source": [
    "## Negative PD"
   ]
  },
  {
   "cell_type": "code",
   "execution_count": 24,
   "metadata": {},
   "outputs": [
    {
     "name": "stdout",
     "output_type": "stream",
     "text": [
      "Uploading data to Enrichr... Done.\n",
      "  Querying KEGG_2021_Human... Done.\n",
      "Parsing results... Done.\n",
      "            KEGG_2021_Human.Term KEGG_2021_Human.Overlap\n",
      "1                      Apoptosis             ratio 7/142\n",
      "2   Epstein-Barr virus infection             ratio 8/202\n",
      "3 Sphingolipid signaling pathway             ratio 6/119\n"
     ]
    }
   ],
   "source": [
    "%%R\n",
    "source(\"Functions.R\")\n",
    "enrich.database <- c(\"KEGG_2021_Human\")\n",
    "myneg <- enrichR_wrap_fun_neg(DE_Seurat_mapped,\n",
    "logfc.threshold=logfc.threshold,\n",
    "p.val.cutoff=p.val.cutoff,\n",
    "enrich.database=c(enrich.database ))    \n",
    "# ======= DEGs matrix ===================\n",
    "neg.markers <- myneg$neg.markers\n",
    "# ======= Enrichment matrix ===================\n",
    "neg_mat <- myneg$neg_mat\n",
    "print(neg_mat[1:3,1:2])\n",
    "kegg_neg_mat <- neg_mat  \n",
    "readr::write_csv(neg_mat,\n",
    "    file=paste0(resultdir,CellType,\"_NEG_\",enrich.database,\"_MinPct_\",min_pct_threshold,\".csv\"))"
   ]
  },
  {
   "cell_type": "code",
   "execution_count": 25,
   "metadata": {},
   "outputs": [
    {
     "name": "stdout",
     "output_type": "stream",
     "text": [
      "Saving 12 x 6.67 in image\n",
      "Saving 12 x 6.67 in image\n"
     ]
    },
    {
     "data": {
      "image/png": "[encoded data removed]",
      "text/plain": [
       "<IPython.core.display.Image object>"
      ]
     },
     "metadata": {},
     "output_type": "display_data"
    }
   ],
   "source": [
    "%%R\n",
    "enrich.database <- \"KEGG_2021_Human\"\n",
    "p <- plot_enrichR_wrap_fun(\n",
    "        ident.1=\"PD\",\n",
    "        ident.2=\"HC\",\n",
    "        pos.er = kegg_pos_mat,\n",
    "        neg.er = kegg_neg_mat,\n",
    "        enrich.database= enrich.database )\n",
    "\n",
    "\n",
    "ggsave(plot=p,filename=paste0(resultdir,\"BarPlot_\",\n",
    "        CellType,\"_\",enrich.database,\"_pct_\",min_pct_threshold,\n",
    "        \"_logfc.threshold_\",logfc.threshold,\n",
    "        \"_p.val.cutoff_\"=p.val.cutoff,\n",
    "        \".png\"),width=12)\n",
    "ggsave(plot=p,filename=paste0(resultdir,\"BarPlot_\",\n",
    "        CellType,\"_\",enrich.database,\"_pct_\",min_pct_threshold,\n",
    "        \"_logfc.threshold_\",logfc.threshold,\n",
    "        \"_p.val.cutoff_\"=p.val.cutoff,\n",
    "        \".pdf\"),width=12)\n",
    "p"
   ]
  },
  {
   "cell_type": "code",
   "execution_count": 26,
   "metadata": {},
   "outputs": [
    {
     "data": {
      "image/png": "[encoded data removed]",
      "text/plain": [
       "<IPython.core.display.Image object>"
      ]
     },
     "metadata": {},
     "output_type": "display_data"
    }
   ],
   "source": [
    "%%R\n",
    "source(\"Functions.R\")\n",
    "enrich.database <- \"KEGG_2021_Human\"\n",
    "p <- dotplot_enrich_dim(pos_mat=kegg_pos_mat , neg_mat=kegg_neg_mat,n_paths=10)\n",
    "\n",
    "ggsave(plot=p,filename=paste0(resultdir,\"DotPlot_\",\n",
    "        CellType,\"_\",enrich.database,\"_pct_\",min_pct_threshold,\n",
    "        \"_logfc.threshold_\",logfc.threshold,\n",
    "        \"_p.val.cutoff_\"=p.val.cutoff,\n",
    "        \".png\"),width=20,height=6)\n",
    "ggsave(plot=p,filename=paste0(resultdir,\"DotPlot_\",\n",
    "        CellType,\"_\",enrich.database,\"_pct_\",min_pct_threshold,\n",
    "        \"_logfc.threshold_\",logfc.threshold,\n",
    "        \"_p.val.cutoff_\"=p.val.cutoff,\n",
    "        \".pdf\"),width=20,height=6)\n",
    "\n",
    "p\n",
    "\n"
   ]
  },
  {
   "attachments": {},
   "cell_type": "markdown",
   "metadata": {},
   "source": [
    "# Reactome Pathway"
   ]
  },
  {
   "attachments": {},
   "cell_type": "markdown",
   "metadata": {},
   "source": [
    "## Possitive PD"
   ]
  },
  {
   "cell_type": "code",
   "execution_count": 27,
   "metadata": {},
   "outputs": [
    {
     "name": "stdout",
     "output_type": "stream",
     "text": [
      "Uploading data to Enrichr... "
     ]
    },
    {
     "name": "stdout",
     "output_type": "stream",
     "text": [
      "Done.\n",
      "  Querying Reactome_2022... Done.\n",
      "Parsing results... Done.\n",
      "                                                  Reactome_2022.Term\n",
      "1                       Signaling By ERBB2 ECD Mutants R-HSA-9665348\n",
      "2 Signaling By ALK Fusions And Activated Point Mutants R-HSA-9725370\n",
      "3                        Signaling By ERBB2 KD Mutants R-HSA-9664565\n",
      "  Reactome_2022.Overlap\n",
      "1            ratio 3/15\n",
      "2            ratio 4/55\n",
      "3            ratio 3/24\n"
     ]
    }
   ],
   "source": [
    "%%R\n",
    "source(\"Functions.R\")\n",
    "enrich.database <- c(\"Reactome_2022\")\n",
    "mypos <- enrichR_wrap_fun_pos(DE_Seurat_mapped,\n",
    "logfc.threshold=logfc.threshold,\n",
    "p.val.cutoff=p.val.cutoff,\n",
    "enrich.database=c(enrich.database ))    \n",
    "# ======= DEGs matrix ===================\n",
    "pos.markers <- mypos$pos.markers\n",
    "# ======= Enrichment matrix ===================\n",
    "pos_mat <- mypos$pos_mat\n",
    "print(pos_mat[1:3,1:2])\n",
    "\n",
    "\n",
    "\n",
    "\n",
    "pos_IDs <- unlist(lapply( pos_mat$Reactome_2022.Term,function(term){\n",
    "        splitted_str <- strsplit(term,\" \")[[1]]\n",
    "        indxex_id <- grep(\"R-HSA\",splitted_str)\n",
    "        ID <- splitted_str[grep(\"R-HSA\",splitted_str)]\n",
    "        return(ID)\n",
    "    }))\n",
    "pos_mat$ID <- pos_IDs\n",
    "pos_Term <- unlist(lapply( pos_mat$Reactome_2022.Term,function(term){\n",
    "        splitted_str <- strsplit(term,\" \")[[1]]\n",
    "        indxex_id <- grep(\"R-HSA\",splitted_str)\n",
    "        Term_text <- paste(splitted_str[1:indxex_id-1],collapse=\" \")\n",
    "        return(Term_text)\n",
    "    }))\n",
    "pos_mat$term <- pos_Term\n",
    "pos_mat$term <- factor(pos_Term,levels= pos_Term)\n",
    "\n",
    "reactome_pos_mat <- pos_mat  \n",
    "\n",
    "\n",
    "readr::write_csv(pos_mat,\n",
    "    file=paste0(resultdir,CellType,\"_POS_\",enrich.database,\"_MinPct_\",min_pct_threshold,\".csv\"))\n"
   ]
  },
  {
   "attachments": {},
   "cell_type": "markdown",
   "metadata": {},
   "source": [
    "## Negative PD"
   ]
  },
  {
   "cell_type": "code",
   "execution_count": 28,
   "metadata": {},
   "outputs": [
    {
     "name": "stdout",
     "output_type": "stream",
     "text": [
      "Uploading data to Enrichr... Done.\n",
      "  Querying Reactome_2022... Done.\n",
      "Parsing results... Done.\n",
      "                                 Reactome_2022.Term Reactome_2022.Overlap\n",
      "1 Cytokine Signaling In Immune System R-HSA-1280215          ratio 19/702\n",
      "2                        Immune System R-HSA-168256         ratio 34/1943\n",
      "3                           Hemostasis R-HSA-109582          ratio 16/576\n"
     ]
    }
   ],
   "source": [
    "%%R\n",
    "source(\"Functions.R\")\n",
    "enrich.database<- c(\"Reactome_2022\")\n",
    "myneg <- enrichR_wrap_fun_neg(DE_Seurat_mapped,\n",
    "logfc.threshold=logfc.threshold,\n",
    "p.val.cutoff=p.val.cutoff,\n",
    "enrich.database=c(enrich.database ))    \n",
    "# ======= DEGs matrix ===================\n",
    "neg.markers <- myneg$neg.markers\n",
    "# ======= Enrichment matrix ===================\n",
    "neg_mat <- myneg$neg_mat\n",
    "print(neg_mat[1:3,1:2])\n",
    "\n",
    "\n",
    "neg_IDs <- unlist(lapply( neg_mat$Reactome_2022.Term,function(term){\n",
    "        splitted_str <- strsplit(term,\" \")[[1]]\n",
    "        indxex_id <- grep(\"R-HSA\",splitted_str)\n",
    "        ID <- splitted_str[grep(\"R-HSA\",splitted_str)]\n",
    "        return(ID)\n",
    "    }))\n",
    "neg_mat$ID <- neg_IDs\n",
    "neg_Term <- unlist(lapply( neg_mat$Reactome_2022.Term,function(term){\n",
    "        splitted_str <- strsplit(term,\" \")[[1]]\n",
    "        indxex_id <- grep(\"R-HSA\",splitted_str)\n",
    "        Term_text <- paste(splitted_str[1:indxex_id-1],collapse=\" \")\n",
    "        return(Term_text)\n",
    "    }))\n",
    "neg_mat$term <- neg_Term\n",
    "\n",
    "reactome_neg_mat <- neg_mat  \n",
    "\n",
    "readr::write_csv(neg_mat,\n",
    "    file=paste0(resultdir,CellType,\"_NEG_\",enrich.database,\"_MinPct_\",min_pct_threshold,\".csv\"))"
   ]
  },
  {
   "cell_type": "code",
   "execution_count": 29,
   "metadata": {},
   "outputs": [
    {
     "name": "stdout",
     "output_type": "stream",
     "text": [
      "Saving 12 x 6.67 in image\n",
      "Saving 12 x 6.67 in image\n"
     ]
    },
    {
     "data": {
      "image/png": "[encoded data removed]",
      "text/plain": [
       "<IPython.core.display.Image object>"
      ]
     },
     "metadata": {},
     "output_type": "display_data"
    }
   ],
   "source": [
    "%%R\n",
    "enrich.database <- \"Reactome_2022\"\n",
    "p <- plot_enrichR_wrap_fun(\n",
    "        ident.1=\"PD\",\n",
    "        ident.2=\"HC\",\n",
    "        pos.er = reactome_pos_mat,\n",
    "        neg.er = reactome_neg_mat,\n",
    "        enrich.database= enrich.database )\n",
    "\n",
    "ggsave(plot=p,filename=paste0(resultdir,\"BarPlot_\",\n",
    "        CellType,\"_\",enrich.database,\"_pct_\",min_pct_threshold,\n",
    "        \"_logfc.threshold_\",logfc.threshold,\n",
    "        \"_p.val.cutoff_\"=p.val.cutoff,\n",
    "        \".png\"),width=12)\n",
    "ggsave(plot=p,filename=paste0(resultdir,\"BarPlot_\",\n",
    "        CellType,\"_\",enrich.database,\"_pct_\",min_pct_threshold,\n",
    "        \"_logfc.threshold_\",logfc.threshold,\n",
    "        \"_p.val.cutoff_\"=p.val.cutoff,\n",
    "        \".pdf\"),width=12)\n",
    "p"
   ]
  },
  {
   "cell_type": "code",
   "execution_count": 30,
   "metadata": {},
   "outputs": [
    {
     "name": "stdout",
     "output_type": "stream",
     "text": [
      " [1] \"Reactome_2022.Term\"                 \"Reactome_2022.Overlap\"             \n",
      " [3] \"Reactome_2022.P.value\"              \"Reactome_2022.Adjusted.P.value\"    \n",
      " [5] \"Reactome_2022.Old.P.value\"          \"Reactome_2022.Old.Adjusted.P.value\"\n",
      " [7] \"Reactome_2022.Odds.Ratio\"           \"Reactome_2022.Combined.Score\"      \n",
      " [9] \"Reactome_2022.Genes\"                \"log10pval\"                         \n",
      "[11] \"term\"                               \"ID\"                                \n"
     ]
    }
   ],
   "source": [
    "%%R\n",
    "colnames(reactome_neg_mat)"
   ]
  },
  {
   "cell_type": "code",
   "execution_count": 31,
   "metadata": {},
   "outputs": [
    {
     "data": {
      "image/png": "[encoded data removed]",
      "text/plain": [
       "<IPython.core.display.Image object>"
      ]
     },
     "metadata": {},
     "output_type": "display_data"
    }
   ],
   "source": [
    "%%R\n",
    "source(\"Functions.R\")\n",
    "enrich.database <- \"Reactome_2022\"\n",
    "p <- dotplot_enrich_dim(pos_mat=reactome_pos_mat , neg_mat=reactome_neg_mat,n_paths=10)\n",
    "\n",
    "ggsave(plot=p,filename=paste0(resultdir,\"DotPlot_\",\n",
    "        CellType,\"_\",enrich.database,\"_pct_\",min_pct_threshold,\n",
    "        \"_logfc.threshold_\",logfc.threshold,\n",
    "        \"_p.val.cutoff_\"=p.val.cutoff,\n",
    "        \".png\"),width=20,height=6)\n",
    "ggsave(plot=p,filename=paste0(resultdir,\"DotPlot_\",\n",
    "        CellType,\"_\",enrich.database,\"_pct_\",min_pct_threshold,\n",
    "        \"_logfc.threshold_\",logfc.threshold,\n",
    "        \"_p.val.cutoff_\"=p.val.cutoff,\n",
    "        \".pdf\"),width=20,height=6)\n",
    "p\n",
    "\n"
   ]
  },
  {
   "attachments": {},
   "cell_type": "markdown",
   "metadata": {},
   "source": [
    "# GO Pathway"
   ]
  },
  {
   "attachments": {},
   "cell_type": "markdown",
   "metadata": {},
   "source": [
    "## Possitive PD"
   ]
  },
  {
   "cell_type": "code",
   "execution_count": 32,
   "metadata": {},
   "outputs": [
    {
     "name": "stdout",
     "output_type": "stream",
     "text": [
      "Uploading data to Enrichr... Done.\n",
      "  Querying GO_Biological_Process_2021... Done.\n",
      "Parsing results... Done.\n",
      "                                  GO_Biological_Process_2021.Term\n",
      "1                                  B cell activation (GO:0042113)\n",
      "2                         mRNA splice site selection (GO:0006376)\n",
      "3 negative regulation of nucleocytoplasmic transport (GO:0046823)\n",
      "  GO_Biological_Process_2021.Overlap\n",
      "1                         ratio 6/85\n",
      "2                         ratio 4/30\n",
      "3                         ratio 3/13\n"
     ]
    }
   ],
   "source": [
    "%%R\n",
    "source(\"Functions.R\")\n",
    "enrich.database <- c(\"GO_Biological_Process_2021\")\n",
    "mypos <- enrichR_wrap_fun_pos(DE_Seurat_mapped,\n",
    "logfc.threshold=logfc.threshold,\n",
    "p.val.cutoff=p.val.cutoff,\n",
    "enrich.database=c(enrich.database ))    \n",
    "# ======= DEGs matrix ===================\n",
    "pos.markers <- mypos$pos.markers\n",
    "# ======= Enrichment matrix ===================\n",
    "pos_mat <- mypos$pos_mat\n",
    "print(pos_mat[1:3,1:2])\n",
    "go_pos_mat <- pos_mat  \n",
    "readr::write_csv(pos_mat,\n",
    "    file=paste0(resultdir,CellType,\"_POS_\",enrich.database,\"_MinPct_\",min_pct_threshold,\".csv\"))\n"
   ]
  },
  {
   "attachments": {},
   "cell_type": "markdown",
   "metadata": {},
   "source": [
    "## Negative PD"
   ]
  },
  {
   "cell_type": "code",
   "execution_count": 33,
   "metadata": {},
   "outputs": [
    {
     "name": "stdout",
     "output_type": "stream",
     "text": [
      "Uploading data to Enrichr... Done.\n",
      "  Querying GO_Biological_Process_2021... Done.\n",
      "Parsing results... Done.\n",
      "                                 GO_Biological_Process_2021.Term\n",
      "1               cytokine-mediated signaling pathway (GO:0019221)\n",
      "2            regulation of fat cell differentiation (GO:0045598)\n",
      "3 positive regulation of macrophage differentiation (GO:0045651)\n",
      "  GO_Biological_Process_2021.Overlap\n",
      "1                       ratio 16/621\n",
      "2                         ratio 6/80\n",
      "3                         ratio 3/11\n"
     ]
    }
   ],
   "source": [
    "%%R\n",
    "source(\"Functions.R\")\n",
    "enrich.database<- c(\"GO_Biological_Process_2021\")\n",
    "myneg <- enrichR_wrap_fun_neg(DE_Seurat_mapped,\n",
    "logfc.threshold=logfc.threshold,\n",
    "p.val.cutoff=p.val.cutoff,\n",
    "enrich.database=c(enrich.database ))    \n",
    "# ======= DEGs matrix ===================\n",
    "neg.markers <- myneg$neg.markers\n",
    "# ======= Enrichment matrix ===================\n",
    "neg_mat <- myneg$neg_mat\n",
    "print(neg_mat[1:3,1:2])\n",
    "go_neg_mat <- neg_mat  \n",
    "readr::write_csv(neg_mat,\n",
    "    file=paste0(resultdir,CellType,\"_NEG_\",enrich.database,\"_MinPct_\",min_pct_threshold,\".csv\"))"
   ]
  },
  {
   "cell_type": "code",
   "execution_count": 34,
   "metadata": {},
   "outputs": [
    {
     "name": "stdout",
     "output_type": "stream",
     "text": [
      "Saving 12 x 6.67 in image\n",
      "Saving 12 x 6.67 in image\n"
     ]
    },
    {
     "data": {
      "image/png": "[encoded data removed]",
      "text/plain": [
       "<IPython.core.display.Image object>"
      ]
     },
     "metadata": {},
     "output_type": "display_data"
    }
   ],
   "source": [
    "%%R\n",
    "enrich.database <- \"GO_Biological_Process_2021\"\n",
    "p <- plot_enrichR_wrap_fun(\n",
    "        ident.1=\"PD\",\n",
    "        ident.2=\"HC\",\n",
    "        pos.er = go_pos_mat,\n",
    "        neg.er = go_neg_mat,\n",
    "        enrich.database= enrich.database )\n",
    "\n",
    "ggsave(plot=p,filename=paste0(resultdir,\n",
    "        CellType,\"_\",enrich.database,\"_pct_\",min_pct_threshold,\n",
    "        \"_logfc.threshold_\",logfc.threshold,\n",
    "        \"_p.val.cutoff_\"=p.val.cutoff,\n",
    "        \".png\"),width=12)\n",
    "ggsave(plot=p,filename=paste0(resultdir,\n",
    "        CellType,\"_\",enrich.database,\"_pct_\",min_pct_threshold,\n",
    "        \"_logfc.threshold_\",logfc.threshold,\n",
    "        \"_p.val.cutoff_\"=p.val.cutoff,\n",
    "        \".pdf\"),width=12)\n",
    "p"
   ]
  },
  {
   "cell_type": "code",
   "execution_count": 35,
   "metadata": {},
   "outputs": [
    {
     "data": {
      "image/png": "[encoded data removed]",
      "text/plain": [
       "<IPython.core.display.Image object>"
      ]
     },
     "metadata": {},
     "output_type": "display_data"
    }
   ],
   "source": [
    "%%R\n",
    "source(\"Functions.R\")\n",
    "enrich.database <- \"GO_Biological_Process_2021\"\n",
    "p <- dotplot_enrich_dim(pos_mat=go_pos_mat , neg_mat=go_neg_mat,n_paths=10)\n",
    "\n",
    "ggsave(plot=p,filename=paste0(resultdir,\"DotPlot_\",\n",
    "        CellType,\"_\",enrich.database,\"_pct_\",min_pct_threshold,\n",
    "        \"_logfc.threshold_\",logfc.threshold,\n",
    "        \"_p.val.cutoff_\"=p.val.cutoff,\n",
    "        \".png\"),width=20,height=6)\n",
    "ggsave(plot=p,filename=paste0(resultdir,\"DotPlot_\",\n",
    "        CellType,\"_\",enrich.database,\"_pct_\",min_pct_threshold,\n",
    "        \"_logfc.threshold_\",logfc.threshold,\n",
    "        \"_p.val.cutoff_\"=p.val.cutoff,\n",
    "        \".pdf\"),width=20,height=6)\n",
    "p"
   ]
  },
  {
   "attachments": {},
   "cell_type": "markdown",
   "metadata": {},
   "source": [
    "# Calculate RANKS based on FC"
   ]
  },
  {
   "cell_type": "code",
   "execution_count": 36,
   "metadata": {},
   "outputs": [],
   "source": [
    "%%R\n",
    "ranks_avg_log2FC<- tibble::deframe( DE_Seurat_mapped%>%  dplyr::select(entrezID , avg_log2FC   )) \n",
    "ranks_avg_log2FC[1:4]\n",
    "gsea_kegg_log2FC <- gseKEGG(sort(ranks_avg_log2FC,decreasing=T), nPerm=10000,\n",
    "                pvalueCutoff=1,minGSSize = 0,\n",
    "                pAdjustMethod=\"BH\", verbose=FALSE)\n",
    "readr::write_csv(as.data.frame(gsea_kegg_log2FC),\n",
    "        file=paste0(resultdir,CellType,\"_KEGG_GSEA_MinPct_\",min_pct_threshold,\"_Ranks_log2FC.csv\"))"
   ]
  },
  {
   "cell_type": "code",
   "execution_count": null,
   "metadata": {},
   "outputs": [],
   "source": []
  },
  {
   "attachments": {},
   "cell_type": "markdown",
   "metadata": {},
   "source": [
    "#  TOP UP GSEA KEGG"
   ]
  },
  {
   "cell_type": "code",
   "execution_count": 37,
   "metadata": {},
   "outputs": [
    {
     "name": "stdout",
     "output_type": "stream",
     "text": [
      "[1] \"Human T-cell leukemia virus 1 infection\"\n"
     ]
    },
    {
     "name": "stdout",
     "output_type": "stream",
     "text": [
      "[1] \"NOD-like receptor signaling pathway\"\n",
      "[1] \"Cell adhesion molecules\"\n",
      "[1] \"Cellular senescence\"\n",
      "[1] \"Prostate cancer\"\n",
      "[1] \"Human papillomavirus infection\"\n",
      "[1] \"Salmonella infection\"\n",
      "[1] \"Pathways in cancer\"\n",
      "[1] \"Endometrial cancer\"\n",
      "[1] \"Viral carcinogenesis\"\n"
     ]
    }
   ],
   "source": [
    "%%R\n",
    "library(enrichplot)\n",
    "sort_filt_gsea_kegg_log2FC <- gsea_kegg_log2FC[match(tolower(kegg_pos_mat$term[1:10]),tolower(gsea_kegg_log2FC$Description)),]\n",
    "\n",
    "temp_dir <- paste0(resultdir,\"Top10_Upreg_Enriched_KeggGSEAPlot/\")\n",
    "dir.create(temp_dir)\n",
    "top_pos <- sort_filt_gsea_kegg_log2FC\n",
    "for (row_iter in 1:10){\n",
    "    id_term <- top_pos$ID[row_iter]\n",
    "    text_term <- top_pos$Description[row_iter]\n",
    "    print(text_term)\n",
    "    p <- gseaplot2(gsea_kegg_log2FC, geneSetID = id_term,subplots = 1:3,pvalue_table = F,title=text_term)\n",
    "    ## Initiate writing to PDF file\n",
    "    pdf(paste0(temp_dir,CellType,\n",
    "        \"_Enr_KEGG_GSPlot_\",id_term,\"_pct_\",min_pct_threshold,\n",
    "            \"_logfc.threshold_\",logfc.threshold,\n",
    "            \"_Ranks_log2FC_up.pdf\"), height = 8.5, width = 11)\n",
    "    ## Create a graphical object g here\n",
    "    print(p)# print it\n",
    "    ## Stop writing to the PDF file\n",
    "    dev.off()\n",
    "}"
   ]
  },
  {
   "attachments": {},
   "cell_type": "markdown",
   "metadata": {},
   "source": [
    "# TOP Down GSEA KEGG"
   ]
  },
  {
   "cell_type": "code",
   "execution_count": 38,
   "metadata": {},
   "outputs": [
    {
     "name": "stdout",
     "output_type": "stream",
     "text": [
      "[1] \"Apoptosis\"\n"
     ]
    },
    {
     "name": "stdout",
     "output_type": "stream",
     "text": [
      "[1] \"Epstein-Barr virus infection\"\n",
      "[1] \"Sphingolipid signaling pathway\"\n",
      "[1] \"Osteoclast differentiation\"\n",
      "[1] \"Gap junction\"\n",
      "[1] \"Parkinson disease\"\n",
      "[1] \"Adrenergic signaling in cardiomyocytes\"\n",
      "[1] \"Phagosome\"\n",
      "[1] \"Cellular senescence\"\n",
      "[1] \"Hepatitis B\"\n"
     ]
    }
   ],
   "source": [
    "%%R\n",
    "sort_filt_gsea_kegg_log2FC <- gsea_kegg_log2FC[match(tolower(kegg_neg_mat$term[1:10]),tolower(gsea_kegg_log2FC$Description)),]\n",
    "temp_dir <- paste0(resultdir,\"Top10_Downreg_Enriched_KeggGSEAPlot/\")\n",
    "dir.create(temp_dir)\n",
    "top_neg <- sort_filt_gsea_kegg_log2FC\n",
    "for (row_iter in 1:10){\n",
    "    id_term <- top_neg$ID[row_iter]\n",
    "    text_term <- top_neg$Description[row_iter]\n",
    "    print(text_term)\n",
    "    p <- gseaplot2(gsea_kegg_log2FC, geneSetID = id_term,subplots = 1:3,pvalue_table = F,title=text_term)\n",
    "    ## Initiate writing to PDF file\n",
    "    pdf(paste0(temp_dir,CellType,\n",
    "        \"_Enr_KEGG_GSPlot_\",id_term,\"_pct_\",min_pct_threshold,\n",
    "            \"_logfc.threshold_\",logfc.threshold,\n",
    "            \"_Ranks_log2FC_down.pdf\"), height = 8.5, width = 11)\n",
    "    ## Create a graphical object g here\n",
    "    print(p)# print it\n",
    "    ## Stop writing to the PDF file\n",
    "    dev.off()\n",
    "}"
   ]
  },
  {
   "cell_type": "code",
   "execution_count": 39,
   "metadata": {},
   "outputs": [
    {
     "name": "stdout",
     "output_type": "stream",
     "text": [
      "[1] \"Transmission across Chemical Synapses\"                          \n",
      "[2] \"Neurotransmitter receptors and postsynaptic signal transmission\"\n",
      "[3] \"Activation of AMPK downstream of NMDARs\"                        \n"
     ]
    }
   ],
   "source": [
    "%%R\n",
    "library(ReactomePA)\n",
    "require(clusterProfiler)\n",
    "gsea_reactome_log2FC <- gsePathway(sort(ranks_avg_log2FC,decreasing=T), nPerm=10000,\n",
    "                pvalueCutoff=1,minGSSize = 0,\n",
    "                pAdjustMethod=\"BH\", verbose=FALSE)\n",
    "readr::write_csv(as.data.frame(gsea_reactome_log2FC),\n",
    "        file=paste0(resultdir,CellType,\"_GSEA_MinPct_\",min_pct_threshold,\"_Ranks_log2FC.csv\"))\n",
    "gsea_reactome_log2FC[1:3,\"Description\"]"
   ]
  },
  {
   "attachments": {},
   "cell_type": "markdown",
   "metadata": {},
   "source": [
    "# TOP UP GSEA REACTOME"
   ]
  },
  {
   "cell_type": "code",
   "execution_count": 40,
   "metadata": {},
   "outputs": [
    {
     "name": "stdout",
     "output_type": "stream",
     "text": [
      "[1] \"Signaling By ERBB2 ECD Mutants\""
     ]
    },
    {
     "name": "stdout",
     "output_type": "stream",
     "text": [
      "\n",
      "[1] \"Signaling By ALK Fusions And Activated Point Mutants\"\n",
      "[1] \"Signaling By ERBB2 KD Mutants\"\n",
      "[1] \"Signaling By ERBB2 In Cancer\"\n",
      "[1] \"TCR Signaling\"\n",
      "[1] \"Interferon Signaling\"\n",
      "[1] \"DDX58/IFIH1-mediated Induction Of Interferon-Alpha/Beta\"\n",
      "[1] \"Constitutive Signaling By Overexpressed ERBB2\"\n",
      "[1] \"Adaptive Immune System\"\n",
      "[1] \"Interferon Gamma Signaling\"\n"
     ]
    }
   ],
   "source": [
    "%%R -i resultdir -i CellType\n",
    "temp_dir <- paste0(resultdir,\"Top10_Upreg_Enriched_GSEAPlot/\")\n",
    "dir.create(temp_dir)\n",
    "top_pos <- reactome_pos_mat[1:10,]\n",
    "for (row_iter in 1:10){\n",
    "    id_term <- top_pos$ID[row_iter]\n",
    "    text_term <- as.vector(top_pos$term)[row_iter]\n",
    "    print(text_term)\n",
    "    p <- gseaplot2(gsea_reactome_log2FC, geneSetID = id_term,subplots = 1:3,pvalue_table = F,title=text_term)\n",
    "    # Initiate writing to PDF file\n",
    "    pdf(paste0(temp_dir,CellType,\n",
    "        \"_Enr_React_GSPlot_\",id_term,\"_pct_\",min_pct_threshold,\n",
    "            \"_logfc.threshold_\",logfc.threshold,\n",
    "            \"_Ranks_log2FC_up.pdf\"), height = 8.5, width = 11)\n",
    "    # Create a graphical object g here\n",
    "    print(p)# print it\n",
    "    # Stop writing to the PDF file\n",
    "    dev.off()\n",
    "}\n"
   ]
  },
  {
   "cell_type": "code",
   "execution_count": 41,
   "metadata": {},
   "outputs": [
    {
     "name": "stdout",
     "output_type": "stream",
     "text": [
      "#\n",
      "# Gene Set Enrichment Analysis\n",
      "#\n",
      "#...@organism \t human \n",
      "#...@setType \t Reactome \n",
      "#...@keytype \t ENTREZID \n",
      "#...@geneList \t Named num [1:2805] 0.889 0.756 0.739 0.695 0.664 ...\n",
      " - attr(*, \"names\")= chr [1:2805] \"10628\" \"3008\" NA \"3006\" ...\n",
      "#...nPerm \t 10000 \n",
      "#...pvalues adjusted by 'BH' with cutoff <1 \n",
      "#...1860 enriched terms found\n",
      "'data.frame':\t1860 obs. of  11 variables:\n",
      " $ ID             : chr  \"R-HSA-112315\" \"R-HSA-112314\" \"R-HSA-9619483\" \"R-HSA-109582\" ...\n",
      " $ Description    : chr  \"Transmission across Chemical Synapses\" \"Neurotransmitter receptors and postsynaptic signal transmission\" \"Activation of AMPK downstream of NMDARs\" \"Hemostasis\" ...\n",
      " $ setSize        : int  40 34 10 140 7 16 17 16 15 27 ...\n",
      " $ enrichmentScore: num  -0.605 -0.619 -0.791 -0.42 0.89 ...\n",
      " $ NES            : num  -2.02 -1.99 -1.87 -1.75 1.89 ...\n",
      " $ pvalue         : num  0.000387 0.000391 0.000411 0.000182 0.000582 ...\n",
      " $ p.adjust       : num  0.191 0.191 0.191 0.191 0.217 ...\n",
      " $ qvalue         : num  0.184 0.184 0.184 0.184 0.208 ...\n",
      " $ rank           : num  567 567 252 413 216 306 252 409 252 366 ...\n",
      " $ leading_edge   : chr  \"tags=50%, list=20%, signal=40%\" \"tags=53%, list=20%, signal=43%\" \"tags=50%, list=9%, signal=46%\" \"tags=27%, list=15%, signal=24%\" ...\n",
      " $ core_enrichment: chr  \"2773/84790/2783/1173/10681/6844/5579/8573/801/83988/7277/54407/2782/2771/5576/805/5613/10376/5578/10383\" \"2773/84790/2783/1173/10681/5579/8573/801/83988/7277/2782/2771/5576/805/5613/10376/5578/10383\" \"801/7277/805/10376/10383\" \"5890/23303/10681/5515/5579/3309/5295/5216/5581/1072/5894/801/8140/2625/2995/7277/2776/5552/2782/2771/483/5576/7\"| __truncated__ ...\n",
      "#...Citation\n",
      "  Guangchuang Yu, Qing-Yu He. ReactomePA: an R/Bioconductor package for\n",
      "  reactome pathway analysis and visualization. Molecular BioSystems\n",
      "  2016, 12(2):477-479 \n",
      "\n"
     ]
    }
   ],
   "source": [
    "%%R\n",
    "gsea_reactome_log2FC"
   ]
  },
  {
   "attachments": {},
   "cell_type": "markdown",
   "metadata": {},
   "source": [
    "## TOP Down GSEA REACTOME"
   ]
  },
  {
   "cell_type": "code",
   "execution_count": 42,
   "metadata": {},
   "outputs": [
    {
     "name": "stdout",
     "output_type": "stream",
     "text": [
      "[1] \"Cytokine Signaling In Immune System\"\n",
      "[1] \"Immune System\"\n",
      "[1] \"Hemostasis\"\n",
      "[1] \"Signal Transduction\"\n",
      "[1] \"RUNX3 Regulates p14-ARF\"\n",
      "[1] \"Adaptive Immune System\"\n",
      "[1] \"Disease\"\n",
      "[1] \"CREB1 Phosphorylation Thru Activation Of Adenylate Cyclase\"\n",
      "[1] \"Intracellular Signaling By Second Messengers\"\n",
      "[1] \"Infectious Disease\"\n"
     ]
    }
   ],
   "source": [
    "%%R -i resultdir -i CellType\n",
    "temp_dir <- paste0(resultdir,\"Top10_Downreg_Enriched_GSEAPlot/\")\n",
    "dir.create(temp_dir)\n",
    "top_neg <- reactome_neg_mat[1:10,]\n",
    "for (row_iter in 1:10){\n",
    "    id_term <- top_neg$ID[row_iter]\n",
    "    text_term <- top_neg$term[row_iter]\n",
    "    print(text_term)\n",
    "    p <- gseaplot2(gsea_reactome_log2FC, geneSetID = id_term,subplots = 1:3,pvalue_table = F,title=text_term)\n",
    "    ## Initiate writing to PDF file\n",
    "    pdf(paste0(temp_dir,CellType,\n",
    "        \"_Enr_React_GSPlot_\",id_term,\"_pct_\",min_pct_threshold,\n",
    "            \"_logfc.thres_\",logfc.threshold,\n",
    "            \"_Ranks_log2FC_down.pdf\"), height = 8.5, width = 11)\n",
    "    ## Create a graphical object g here\n",
    "    print(p)# print it\n",
    "    ## Stop writing to the PDF file\n",
    "    dev.off()\n",
    "}"
   ]
  },
  {
   "cell_type": "code",
   "execution_count": 43,
   "metadata": {},
   "outputs": [
    {
     "data": {
      "image/png": "[encoded data removed]",
      "text/plain": [
       "<IPython.core.display.Image object>"
      ]
     },
     "metadata": {},
     "output_type": "display_data"
    }
   ],
   "source": [
    "%%R -i resultdir -i CellType\n",
    "p <- gseaplot2(gsea_reactome_log2FC, geneSetID = \"R-HSA-8939246\",subplots = 1:6,pvalue_table = F)\n",
    "## Initiate writing to PDF file\n",
    "pdf(paste0(resultdir,CellType,\n",
    "       \"_GSE_RUNX1_pct_\",min_pct_threshold,\n",
    "        \"_logfc.threshold_\",logfc.threshold,\n",
    "        \"_Ranks_log2FC.pdf\"), height = 8.5, width = 11)\n",
    "## Create a graphical object g here\n",
    "print(p)# print it\n",
    "## Stop writing to the PDF file\n",
    "dev.off()\n",
    "p"
   ]
  },
  {
   "cell_type": "code",
   "execution_count": null,
   "metadata": {},
   "outputs": [],
   "source": []
  },
  {
   "cell_type": "code",
   "execution_count": null,
   "metadata": {},
   "outputs": [],
   "source": []
  },
  {
   "attachments": {},
   "cell_type": "markdown",
   "metadata": {},
   "source": [
    "# Calculate RANKS based on Gene score"
   ]
  },
  {
   "cell_type": "code",
   "execution_count": 44,
   "metadata": {},
   "outputs": [],
   "source": [
    "%%R\n",
    "# Calculate RANKS based on genescore\n",
    "ranks_avg_genescore<- tibble::deframe( DE_Seurat_mapped%>%  dplyr::select(entrezID , gene.score )) \n",
    "ranks_avg_genescore[1:4]\n",
    "gsea_kegg_genescore <- gseKEGG(sort(ranks_avg_genescore,decreasing=T), nPerm=10000,\n",
    "                pvalueCutoff=1,minGSSize = 0,\n",
    "                pAdjustMethod=\"BH\", verbose=FALSE)\n",
    "readr::write_csv(as.data.frame(gsea_kegg_log2FC),\n",
    "        file=paste0(resultdir,CellType,\"_KEGG_GSEA_MinPct_\",min_pct_threshold,\"_Ranks_genescore.csv\"))"
   ]
  },
  {
   "cell_type": "code",
   "execution_count": 45,
   "metadata": {},
   "outputs": [
    {
     "name": "stdout",
     "output_type": "stream",
     "text": [
      "                     KEGG_2021_Human.Term KEGG_2021_Human.Overlap\n",
      "1 Human T-cell leukemia virus 1 infection             ratio 7/219\n",
      "  KEGG_2021_Human.P.value KEGG_2021_Human.Adjusted.P.value\n",
      "1            0.0003960564                       0.07643889\n",
      "  KEGG_2021_Human.Old.P.value KEGG_2021_Human.Old.Adjusted.P.value\n",
      "1                           0                                    0\n",
      "  KEGG_2021_Human.Odds.Ratio KEGG_2021_Human.Combined.Score\n",
      "1                   5.646514                       44.23453\n",
      "                     KEGG_2021_Human.Genes log10pval\n",
      "1 MAP3K1;PIK3CA;PTEN;ATM;HLA-F;ETS1;PRKACB  3.402243\n",
      "                                     term\n",
      "1 Human T-cell leukemia virus 1 infection\n"
     ]
    }
   ],
   "source": [
    "%%R\n",
    "kegg_pos_mat[1,]"
   ]
  },
  {
   "cell_type": "code",
   "execution_count": 46,
   "metadata": {},
   "outputs": [
    {
     "name": "stdout",
     "output_type": "stream",
     "text": [
      "[1] \"Human T-cell leukemia virus 1 infection\"\n"
     ]
    },
    {
     "name": "stdout",
     "output_type": "stream",
     "text": [
      "[1] \"NOD-like receptor signaling pathway\"\n",
      "[1] \"Cell adhesion molecules\"\n",
      "[1] \"Cellular senescence\"\n",
      "[1] \"Prostate cancer\"\n",
      "[1] \"Human papillomavirus infection\"\n",
      "[1] \"Salmonella infection\"\n",
      "[1] \"Pathways in cancer\"\n",
      "[1] \"Endometrial cancer\"\n",
      "[1] \"Viral carcinogenesis\"\n"
     ]
    }
   ],
   "source": [
    "%%R\n",
    "library(enrichplot)\n",
    "sort_filt_gsea_kegg_genescore <- gsea_kegg_genescore[match(tolower(kegg_pos_mat$term[1:10]),tolower(gsea_kegg_genescore$Description)),]\n",
    "\n",
    "temp_dir <- paste0(resultdir,\"Top10_Upreg_Enriched_KeggGSEAPlot/\")\n",
    "dir.create(temp_dir)\n",
    "top_pos <- sort_filt_gsea_kegg_genescore\n",
    "for (row_iter in 1:10){\n",
    "    id_term <- top_pos$ID[row_iter]\n",
    "    text_term <- top_pos$Description[row_iter]\n",
    "    print(text_term)\n",
    "    p <- gseaplot2(gsea_kegg_genescore, geneSetID = id_term,subplots = 1:3,pvalue_table = F,title=text_term)\n",
    "    ## Initiate writing to PDF file\n",
    "    pdf(paste0(temp_dir,CellType,\n",
    "        \"_Enr_KEGG_GSPlot_\",id_term,\"_pct_\",min_pct_threshold,\n",
    "            \"_logfc.thres_\",logfc.threshold,\n",
    "            \"_Ranks_gs_up.pdf\"), height = 8.5, width = 11)\n",
    "    ## Create a graphical object g here\n",
    "    print(p)# print it\n",
    "    ## Stop writing to the PDF file\n",
    "    dev.off()\n",
    "}\n"
   ]
  },
  {
   "cell_type": "code",
   "execution_count": null,
   "metadata": {},
   "outputs": [],
   "source": []
  },
  {
   "cell_type": "code",
   "execution_count": 47,
   "metadata": {},
   "outputs": [
    {
     "name": "stdout",
     "output_type": "stream",
     "text": [
      "[1] \"Apoptosis\"\n"
     ]
    },
    {
     "name": "stdout",
     "output_type": "stream",
     "text": [
      "[1] \"Epstein-Barr virus infection\"\n",
      "[1] \"Sphingolipid signaling pathway\"\n",
      "[1] \"Osteoclast differentiation\"\n",
      "[1] \"Gap junction\"\n",
      "[1] \"Parkinson disease\"\n",
      "[1] \"Adrenergic signaling in cardiomyocytes\"\n",
      "[1] \"Phagosome\"\n",
      "[1] \"Cellular senescence\"\n",
      "[1] \"Hepatitis B\"\n"
     ]
    }
   ],
   "source": [
    "%%R\n",
    "sort_filt_gsea_kegg_genescore <- gsea_kegg_genescore[match(tolower(kegg_neg_mat$term[1:10]),tolower(gsea_kegg_genescore$Description)),]\n",
    "temp_dir <- paste0(resultdir,\"Top10_Downreg_Enriched_KeggGSEAPlot/\")\n",
    "dir.create(temp_dir)\n",
    "top_neg <- sort_filt_gsea_kegg_genescore\n",
    "for (row_iter in 1:10){\n",
    "    id_term <- top_neg$ID[row_iter]\n",
    "    text_term <- top_neg$Description[row_iter]\n",
    "    print(text_term)\n",
    "    p <- gseaplot2(gsea_kegg_genescore, geneSetID = id_term,subplots = 1:3,pvalue_table = F,title=text_term)\n",
    "    ## Initiate writing to PDF file\n",
    "    pdf(paste0(temp_dir,CellType,\n",
    "        \"_Enr_KEGG_GSPlot_\",id_term,\"_pct_\",min_pct_threshold,\n",
    "            \"_logfc.thres_\",logfc.threshold,\n",
    "            \"_Ranks_gs_down.pdf\"), height = 8.5, width = 11)\n",
    "    ## Create a graphical object g here\n",
    "    print(p)# print it\n",
    "    ## Stop writing to the PDF file\n",
    "    dev.off()\n",
    "}"
   ]
  },
  {
   "cell_type": "code",
   "execution_count": 48,
   "metadata": {},
   "outputs": [
    {
     "name": "stdout",
     "output_type": "stream",
     "text": [
      "[1] \"Transmission across Chemical Synapses\"                          \n",
      "[2] \"Formation of Senescence-Associated Heterochromatin Foci (SAHF)\" \n",
      "[3] \"Neurotransmitter receptors and postsynaptic signal transmission\"\n"
     ]
    }
   ],
   "source": [
    "%%R\n",
    "library(ReactomePA)\n",
    "require(clusterProfiler)\n",
    "gsea_reactome_genescore <- gsePathway(sort(ranks_avg_genescore,decreasing=T), nPerm=10000,\n",
    "                pvalueCutoff=1,minGSSize = 0,\n",
    "                pAdjustMethod=\"BH\", verbose=FALSE)\n",
    "readr::write_csv(as.data.frame(gsea_reactome_genescore),\n",
    "        file=paste0(resultdir,CellType,\"_GSEA_MinPct_\",min_pct_threshold,\"_Ranks_genescore.csv\"))\n",
    "gsea_reactome_genescore[1:3,\"Description\"]\n",
    "# TOP UP GSEA REACTOME"
   ]
  },
  {
   "cell_type": "code",
   "execution_count": 49,
   "metadata": {},
   "outputs": [],
   "source": [
    "%%R \n",
    "pos_IDs <- unlist(lapply( reactome_pos_mat$Reactome_2022.Term,function(term){\n",
    "        splitted_str <- strsplit(term,\" \")[[1]]\n",
    "        indxex_id <- grep(\"R-HSA\",splitted_str)\n",
    "        ID <- splitted_str[grep(\"R-HSA\",splitted_str)]\n",
    "        return(ID)\n",
    "    }))\n",
    "reactome_pos_mat$ID <- pos_IDs\n",
    "pos_Term <- unlist(lapply( reactome_pos_mat$Reactome_2022.Term,function(term){\n",
    "        splitted_str <- strsplit(term,\" \")[[1]]\n",
    "        indxex_id <- grep(\"R-HSA\",splitted_str)\n",
    "        Term_text <- paste(splitted_str[1:indxex_id-1],collapse=\" \")\n",
    "        return(Term_text)\n",
    "    }))\n",
    "reactome_pos_mat$term <- pos_Term\n",
    "\n",
    "neg_IDs <- unlist(lapply( reactome_neg_mat$Reactome_2022.Term,function(term){\n",
    "        splitted_str <- strsplit(term,\" \")[[1]]\n",
    "        indxex_id <- grep(\"R-HSA\",splitted_str)\n",
    "        ID <- splitted_str[grep(\"R-HSA\",splitted_str)]\n",
    "        return(ID)\n",
    "    }))\n",
    "reactome_neg_mat$ID <- neg_IDs\n",
    "neg_Term <- unlist(lapply( reactome_neg_mat$Reactome_2022.Term,function(term){\n",
    "        splitted_str <- strsplit(term,\" \")[[1]]\n",
    "        indxex_id <- grep(\"R-HSA\",splitted_str)\n",
    "        Term_text <- paste(splitted_str[1:indxex_id-1],collapse=\" \")\n",
    "        return(Term_text)\n",
    "    }))\n",
    "reactome_neg_mat$term <- neg_Term"
   ]
  },
  {
   "cell_type": "code",
   "execution_count": 50,
   "metadata": {},
   "outputs": [
    {
     "name": "stdout",
     "output_type": "stream",
     "text": [
      "[1] \"Signaling By ERBB2 ECD Mutants\"\n"
     ]
    },
    {
     "name": "stdout",
     "output_type": "stream",
     "text": [
      "[1] \"Signaling By ALK Fusions And Activated Point Mutants\"\n",
      "[1] \"Signaling By ERBB2 KD Mutants\"\n",
      "[1] \"Signaling By ERBB2 In Cancer\"\n",
      "[1] \"TCR Signaling\"\n",
      "[1] \"Interferon Signaling\"\n",
      "[1] \"DDX58/IFIH1-mediated Induction Of Interferon-Alpha/Beta\"\n",
      "[1] \"Constitutive Signaling By Overexpressed ERBB2\"\n",
      "[1] \"Adaptive Immune System\"\n",
      "[1] \"Interferon Gamma Signaling\"\n"
     ]
    }
   ],
   "source": [
    "%%R -i resultdir -i CellType\n",
    "temp_dir <- paste0(resultdir,\"Top10_Upreg_Enriched_GSEAPlot/\")\n",
    "dir.create(temp_dir)\n",
    "top_pos <- reactome_pos_mat[1:10,]\n",
    "for (row_iter in 1:10){\n",
    "    id_term <- top_pos$ID[row_iter]\n",
    "    text_term <- as.vector(top_pos$term)[row_iter]\n",
    "    print(text_term)\n",
    "    p <- gseaplot2(gsea_reactome_genescore, geneSetID = id_term,subplots = 1:3,pvalue_table = F,title=text_term)\n",
    "    # Initiate writing to PDF file\n",
    "    pdf(paste0(temp_dir,CellType,\n",
    "        \"_Enr_React_GSPlot_\",id_term,\"_pct_\",min_pct_threshold,\n",
    "            \"_logfc.thres_\",logfc.threshold,\n",
    "            \"_Ranks_gs_up.pdf\"), height = 8.5, width = 11)\n",
    "    # Create a graphical object g here\n",
    "    print(p)# print it\n",
    "    # Stop writing to the PDF file\n",
    "    dev.off()\n",
    "}"
   ]
  },
  {
   "cell_type": "code",
   "execution_count": 51,
   "metadata": {},
   "outputs": [
    {
     "name": "stdout",
     "output_type": "stream",
     "text": [
      "[1] \"Cytokine Signaling In Immune System\"\n"
     ]
    },
    {
     "name": "stdout",
     "output_type": "stream",
     "text": [
      "[1] \"Immune System\"\n",
      "[1] \"Hemostasis\"\n",
      "[1] \"Signal Transduction\"\n",
      "[1] \"RUNX3 Regulates p14-ARF\"\n",
      "[1] \"Adaptive Immune System\"\n",
      "[1] \"Disease\"\n",
      "[1] \"CREB1 Phosphorylation Thru Activation Of Adenylate Cyclase\"\n",
      "[1] \"Intracellular Signaling By Second Messengers\"\n",
      "[1] \"Infectious Disease\"\n"
     ]
    }
   ],
   "source": [
    "%%R -i resultdir -i CellType\n",
    "temp_dir <- paste0(resultdir,\"Top10_Downreg_Enriched_GSEAPlot/\")\n",
    "dir.create(temp_dir)\n",
    "top_neg <- reactome_neg_mat[1:10,]\n",
    "for (row_iter in 1:10){\n",
    "    id_term <- top_neg$ID[row_iter]\n",
    "    text_term <- top_neg$term[row_iter]\n",
    "    print(text_term)\n",
    "    p <- gseaplot2(gsea_reactome_genescore, geneSetID = id_term,subplots = 1:3,pvalue_table = F,title=text_term)\n",
    "    ## Initiate writing to PDF file\n",
    "    pdf(paste0(temp_dir,CellType,\n",
    "        \"_Enr_React_GSPlot_\",id_term,\"_pct_\",min_pct_threshold,\n",
    "            \"_logfc.thres_\",logfc.threshold,\n",
    "            \"_Ranks_gs_down.pdf\"), height = 8.5, width = 11)\n",
    "    ## Create a graphical object g here\n",
    "    print(p)# print it\n",
    "    ## Stop writing to the PDF file\n",
    "    dev.off()\n",
    "}"
   ]
  },
  {
   "cell_type": "code",
   "execution_count": 52,
   "metadata": {},
   "outputs": [
    {
     "data": {
      "image/png": "[encoded data removed]",
      "text/plain": [
       "<IPython.core.display.Image object>"
      ]
     },
     "metadata": {},
     "output_type": "display_data"
    }
   ],
   "source": [
    "%%R -i resultdir -i CellType\n",
    "p <- gseaplot2(gsea_reactome_genescore, geneSetID = \"R-HSA-8939246\",subplots = 1:6,pvalue_table = F)\n",
    "## Initiate writing to PDF file\n",
    "pdf(paste0(resultdir,CellType,\n",
    "       \"_GSE_RUNX1_pct_\",min_pct_threshold,\n",
    "        \"_logfc.thres_\",logfc.threshold,\n",
    "        \"_Ranks_gs.pdf\"), height = 8.5, width = 11)\n",
    "## Create a graphical object g here\n",
    "print(p)# print it\n",
    "## Stop writing to the PDF file\n",
    "dev.off()\n",
    "p"
   ]
  },
  {
   "cell_type": "code",
   "execution_count": null,
   "metadata": {},
   "outputs": [],
   "source": []
  },
  {
   "attachments": {},
   "cell_type": "markdown",
   "metadata": {},
   "source": [
    "# KEGG GSEA ONLY POSSITIVE & ONLY NEG"
   ]
  },
  {
   "cell_type": "code",
   "execution_count": 53,
   "metadata": {},
   "outputs": [],
   "source": [
    "%%R\n",
    "library(enrichplot)\n",
    "# Calculate RANKS based on genescore\n",
    "ranks_genescore_pos<- tibble::deframe( DE_Seurat_mapped %>% filter(gene.score>0) %>%  dplyr::select(entrezID , gene.score )) \n",
    "ranks_genescore_pos[1:4]\n",
    "gsea_kegg_genescore_pos <- gseKEGG(sort(ranks_genescore_pos,decreasing=T), nPerm=10000,\n",
    "                pvalueCutoff=1,minGSSize = 0,\n",
    "                pAdjustMethod=\"BH\", verbose=FALSE)\n",
    "# ==== Keep only pos enriched\n",
    "gsea_kegg_genescore_pos  <- gsea_kegg_genescore_pos %>% filter(enrichmentScore>=0)  \n",
    "readr::write_csv(as.data.frame(gsea_kegg_genescore_pos),\n",
    "        file=paste0(resultdir,CellType,\"_GSEA_KEGG_MinPct_\",min_pct_threshold,\"_Ranks_genescore_POS.csv\"))\n",
    "\n",
    "# Calculate RANKS based on genescore\n",
    "ranks_genescore_neg<- tibble::deframe( DE_Seurat_mapped %>% filter(gene.score<0) %>%  dplyr::select(entrezID , gene.score )) \n",
    "ranks_genescore_neg[1:4]\n",
    "gsea_kegg_genescore_neg <- gseKEGG(sort(ranks_genescore_neg,decreasing=T), nPerm=10000,\n",
    "                pvalueCutoff=1,minGSSize = 0,\n",
    "                pAdjustMethod=\"BH\", verbose=FALSE)\n",
    "# ==== Keep only pos enriched\n",
    "gsea_kegg_genescore_neg  <- gsea_kegg_genescore_neg %>% filter(enrichmentScore<=0)  \n",
    "readr::write_csv(as.data.frame(gsea_kegg_genescore_neg),\n",
    "        file=paste0(resultdir,CellType,\"_GSEA_KEGG_MinPct_\",min_pct_threshold,\"_Ranks_genescore_NEG.csv\"))"
   ]
  },
  {
   "cell_type": "code",
   "execution_count": 54,
   "metadata": {},
   "outputs": [],
   "source": [
    "%%R\n",
    "# ====================================== PLOTTING  POS =====================================================================\n",
    "temp_dir <- paste0(resultdir,\"Top10_Upreg_GSEA_Kegg_GSEAPlot_ONLY_POS/\")\n",
    "dir.create(temp_dir)\n",
    "for (row_iter in c(1:10)){\n",
    "    id_term <- gsea_kegg_genescore_pos$ID[row_iter]\n",
    "    text_term <- gsea_kegg_genescore_pos$Description[row_iter]\n",
    "    p <- gseaplot2(gsea_kegg_genescore_pos, geneSetID = id_term,subplots = 1:3,pvalue_table = F,title=text_term)\n",
    "    ## Initiate writing to PDF file\n",
    "    pdf(paste0(temp_dir,CellType,\n",
    "        \"_GS_KEGG_GSPlot_\",id_term,\"_pct_\",min_pct_threshold,\n",
    "            \"_logfc.thres_\",logfc.threshold,\n",
    "            \"_Ranks_gs_only_pos.pdf\"), height = 8.5, width = 11)\n",
    "    ## Create a graphical object g here\n",
    "    print(p)# print it\n",
    "    ## Stop writing to the PDF file\n",
    "    dev.off()\n",
    "}"
   ]
  },
  {
   "cell_type": "code",
   "execution_count": 55,
   "metadata": {},
   "outputs": [],
   "source": [
    "%%R\n",
    "# ====================================== PLOTTING  POS =====================================================================\n",
    "sort_filt_gsea_kegg_genescore <- gsea_kegg_genescore_pos[match(tolower(as.vector(kegg_pos_mat$term)[1:10]),tolower(gsea_kegg_genescore_pos$Description))%>% na.omit(),]\n",
    "temp_dir <- paste0(resultdir,\"Top10_Upreg_Enriched_KeggGSEAPlot_ONLY_POS/\")\n",
    "dir.create(temp_dir)\n",
    "top_pos <- sort_filt_gsea_kegg_genescore\n",
    "for (row_iter in 1:dim(sort_filt_gsea_kegg_genescore)[1]){\n",
    "    id_term <- top_pos$ID[row_iter]\n",
    "    text_term <- top_pos$Description[row_iter]\n",
    "    p <- gseaplot2(gsea_kegg_genescore_pos, geneSetID = id_term,subplots = 1:3,pvalue_table = F,title=text_term)\n",
    "    ## Initiate writing to PDF file\n",
    "    pdf(paste0(temp_dir,CellType,\n",
    "        \"_Enr_KEGG_GS_\",id_term,\"_pct_\",min_pct_threshold,\n",
    "            \"_logfc.thres_\",logfc.threshold,\n",
    "            \"_Ranks_gs_only_pos.pdf\"), height = 8.5, width = 11)\n",
    "    ## Create a graphical object g here\n",
    "    print(p)# print it\n",
    "    ## Stop writing to the PDF file\n",
    "    dev.off()\n",
    "}"
   ]
  },
  {
   "cell_type": "code",
   "execution_count": 56,
   "metadata": {},
   "outputs": [],
   "source": [
    "%%R\n",
    "# ====================================== PLOTTING  POS =====================================================================\n",
    "temp_dir <- paste0(resultdir,\"Top10_Upreg_GSEA_Kegg_GSEAPlot_ONLY_NEG/\")\n",
    "dir.create(temp_dir)\n",
    "for (row_iter in c(1:10)){\n",
    "    id_term <- gsea_kegg_genescore_neg$ID[row_iter]\n",
    "    text_term <- gsea_kegg_genescore_neg$Description[row_iter]\n",
    "    p <- gseaplot2(gsea_kegg_genescore_neg, geneSetID = id_term,subplots = 1:3,pvalue_table = F,title=text_term)\n",
    "    ## Initiate writing to PDF file\n",
    "    pdf(paste0(temp_dir,CellType,\n",
    "        \"_GS_KEGG_GSPlot_\",id_term,\"_pct_\",min_pct_threshold,\n",
    "            \"_logfc.thres_\",logfc.threshold,\n",
    "            \"_Ranks_genescore_only_neg.pdf\"), height = 8.5, width = 11)\n",
    "    ## Create a graphical object g here\n",
    "    print(p)# print it\n",
    "    ## Stop writing to the PDF file\n",
    "    dev.off()\n",
    "}"
   ]
  },
  {
   "cell_type": "code",
   "execution_count": 57,
   "metadata": {},
   "outputs": [],
   "source": [
    "%%R\n",
    "# ====================================== PLOTTING  NEG =====================================================================\n",
    "sort_filt_gsea_kegg_genescore <- gsea_kegg_genescore_neg[match(tolower(as.vector(kegg_neg_mat$term[1:10])),tolower(gsea_kegg_genescore_neg$Description))%>% na.omit(),]\n",
    "temp_dir <- paste0(resultdir,\"Top10_Downreg_Enriched_KeggGSEAPlot_ONLY_NEG/\")\n",
    "dir.create(temp_dir)\n",
    "top_neg <- sort_filt_gsea_kegg_genescore\n",
    "for (row_iter in 1:dim(sort_filt_gsea_kegg_genescore)[1]){\n",
    "    id_term <- top_neg$ID[row_iter]\n",
    "    text_term <- top_neg$Description[row_iter]\n",
    "    p <- gseaplot2(gsea_kegg_genescore_neg, geneSetID = id_term,subplots = 1:3,pvalue_table = F,title=text_term)\n",
    "    ## Initiate writing to PDF file\n",
    "    pdf(paste0(temp_dir,CellType,\n",
    "        \"_Enr_KEGG_GS_\",id_term,\"_pct_\",min_pct_threshold,\n",
    "            \"_logfc.thres_\",logfc.threshold,\n",
    "            \"_Ranks_gs_only_neg.pdf\"), height = 8.5, width = 11)\n",
    "    ## Create a graphical object g here\n",
    "    print(p)# print it\n",
    "    ## Stop writing to the PDF file\n",
    "    dev.off()\n",
    "}"
   ]
  },
  {
   "attachments": {},
   "cell_type": "markdown",
   "metadata": {},
   "source": [
    "# Reactome GSEA ONLY POSSITIVE & ONLY NEG"
   ]
  },
  {
   "cell_type": "code",
   "execution_count": null,
   "metadata": {},
   "outputs": [],
   "source": []
  },
  {
   "cell_type": "code",
   "execution_count": 58,
   "metadata": {},
   "outputs": [],
   "source": [
    "%%R\n",
    "library(ReactomePA)\n",
    "require(clusterProfiler)\n",
    "# Calculate RANKS based on genescore\n",
    "ranks_genescore_pos<- tibble::deframe( DE_Seurat_mapped %>% filter(gene.score>0) %>%  dplyr::select(entrezID , gene.score )) \n",
    "ranks_genescore_pos[1:4]\n",
    "gsea_Reactome_genescore_pos <- gsePathway(sort(ranks_genescore_pos,decreasing=T), nPerm=10000,\n",
    "                pvalueCutoff=1,minGSSize = 0,\n",
    "                pAdjustMethod=\"BH\", verbose=FALSE)\n",
    "# ==== Keep only pos enriched\n",
    "gsea_Reactome_genescore_pos  <- gsea_Reactome_genescore_pos %>% filter(enrichmentScore>=0)  \n",
    "readr::write_csv(as.data.frame(gsea_Reactome_genescore_pos),\n",
    "        file=paste0(resultdir,CellType,\"_GSEA_Reactome_MinPct_\",min_pct_threshold,\"_Ranks_genescore_POS.csv\"))\n",
    "\n",
    "# Calculate RANKS based on genescore\n",
    "ranks_genescore_neg<- tibble::deframe( DE_Seurat_mapped %>% filter(gene.score<0) %>%  dplyr::select(entrezID , gene.score )) \n",
    "ranks_genescore_neg[1:4]\n",
    "gsea_Reactome_genescore_neg <- gsePathway(sort(ranks_genescore_neg,decreasing=T), nPerm=10000,\n",
    "                pvalueCutoff=1,minGSSize = 0,\n",
    "                pAdjustMethod=\"BH\", verbose=FALSE)\n",
    "# ==== Keep only neg enriched\n",
    "gsea_Reactome_genescore_neg  <- gsea_Reactome_genescore_neg %>% filter(enrichmentScore<=0)  \n",
    "readr::write_csv(as.data.frame(gsea_Reactome_genescore_neg),\n",
    "        file=paste0(resultdir,CellType,\"_GSEA_Reactome_MinPct_\",min_pct_threshold,\"_Ranks_genescore_NEG.csv\"))"
   ]
  },
  {
   "cell_type": "code",
   "execution_count": 59,
   "metadata": {},
   "outputs": [
    {
     "name": "stdout",
     "output_type": "stream",
     "text": [
      "                         ID\n",
      "R-HSA-2559586 R-HSA-2559586\n",
      "R-HSA-2559584 R-HSA-2559584\n",
      "R-HSA-2559583 R-HSA-2559583\n",
      "R-HSA-140342   R-HSA-140342\n",
      "R-HSA-5357801 R-HSA-5357801\n",
      "R-HSA-5210891 R-HSA-5210891\n",
      "                                                                 Description\n",
      "R-HSA-2559586                  DNA Damage/Telomere Stress Induced Senescence\n",
      "R-HSA-2559584 Formation of Senescence-Associated Heterochromatin Foci (SAHF)\n",
      "R-HSA-2559583                                            Cellular Senescence\n",
      "R-HSA-140342                             Apoptosis induced DNA fragmentation\n",
      "R-HSA-5357801                                          Programmed Cell Death\n",
      "R-HSA-5210891                          Uptake and function of anthrax toxins\n",
      "              setSize enrichmentScore      NES       pvalue  p.adjust    qvalue\n",
      "R-HSA-2559586      12       0.8838547 1.902412 0.0001027116 0.1677280 0.1677280\n",
      "R-HSA-2559584       7       0.9516169 1.876118 0.0003276182 0.1783335 0.1783335\n",
      "R-HSA-2559583      30       0.7616020 1.804586 0.0003002402 0.1783335 0.1783335\n",
      "R-HSA-140342        6       0.9233039 1.762924 0.0014598540 0.3485127 0.3485127\n",
      "R-HSA-5357801      40       0.6582186 1.590653 0.0028000000 0.3485127 0.3485127\n",
      "R-HSA-5210891       2       0.9901628 1.491646 0.0030170463 0.3485127 0.3485127\n",
      "              rank                   leading_edge\n",
      "R-HSA-2559586   15  tags=33%, list=1%, signal=33%\n",
      "R-HSA-2559584    4  tags=43%, list=0%, signal=43%\n",
      "R-HSA-2559583   46  tags=17%, list=3%, signal=16%\n",
      "R-HSA-140342     4  tags=50%, list=0%, signal=50%\n",
      "R-HSA-5357801  251 tags=30%, list=17%, signal=26%\n",
      "R-HSA-5210891    9  tags=50%, list=1%, signal=50%\n",
      "                                                          core_enrichment\n",
      "R-HSA-2559586                                         3008/3007/3006/8338\n",
      "R-HSA-2559584                                              3008/3007/3006\n",
      "R-HSA-2559583                                    3008/3007/3006/8338/2113\n",
      "R-HSA-140342                                               3008/3007/3006\n",
      "R-HSA-5357801 3008/3007/3006/841/3320/3146/5534/8837/22985/6093/3148/5533\n",
      "R-HSA-5210891                                                      118429\n"
     ]
    }
   ],
   "source": [
    "%%R\n",
    "head(gsea_Reactome_genescore_pos)"
   ]
  },
  {
   "cell_type": "code",
   "execution_count": 60,
   "metadata": {},
   "outputs": [
    {
     "name": "stdout",
     "output_type": "stream",
     "text": [
      "                         ID                                       Description\n",
      "R-HSA-210990   R-HSA-210990                               PECAM1 interactions\n",
      "R-HSA-389359   R-HSA-389359                       CD28 dependent Vav1 pathway\n",
      "R-HSA-1433559 R-HSA-1433559                       Regulation of KIT signaling\n",
      "R-HSA-8951936 R-HSA-8951936                           RUNX3 regulates p14-ARF\n",
      "R-HSA-2219530 R-HSA-2219530 Constitutive Signaling by Aberrant PI3K in Cancer\n",
      "R-HSA-2586552 R-HSA-2586552                               Signaling by Leptin\n",
      "              setSize enrichmentScore       NES     pvalue  p.adjust    qvalue\n",
      "R-HSA-210990        5      -0.8653768 -1.534155 0.01244716 0.9740804 0.9740804\n",
      "R-HSA-389359        4      -0.8952302 -1.519209 0.01231527 0.9740804 0.9740804\n",
      "R-HSA-1433559       5      -0.8460525 -1.499897 0.02148896 0.9740804 0.9740804\n",
      "R-HSA-8951936       4      -0.8700491 -1.476476 0.02352217 0.9740804 0.9740804\n",
      "R-HSA-2219530       9      -0.7450618 -1.462663 0.02736529 0.9740804 0.9740804\n",
      "R-HSA-2586552       3      -0.9103238 -1.460279 0.02218385 0.9740804 0.9740804\n",
      "              rank                   leading_edge     core_enrichment\n",
      "R-HSA-210990    36  tags=60%, list=3%, signal=59%      5777/2534/3635\n",
      "R-HSA-389359    36 tags=100%, list=3%, signal=98%        998/940/2534\n",
      "R-HSA-1433559   39  tags=60%, list=3%, signal=58%      5777/5578/2534\n",
      "R-HSA-8951936   77  tags=75%, list=6%, signal=71%       6046/864/7040\n",
      "R-HSA-2219530  129 tags=44%, list=10%, signal=40% 374/29851/2534/8660\n",
      "R-HSA-2586552   29  tags=67%, list=2%, signal=65%           6777/8660\n"
     ]
    }
   ],
   "source": [
    "%%R\n",
    "head(gsea_Reactome_genescore_neg)"
   ]
  },
  {
   "cell_type": "code",
   "execution_count": 61,
   "metadata": {},
   "outputs": [
    {
     "name": "stdout",
     "output_type": "stream",
     "text": [
      " [1] \"Signaling By ERBB2 ECD Mutants\"                         \n",
      " [2] \"Signaling By ALK Fusions And Activated Point Mutants\"   \n",
      " [3] \"Signaling By ERBB2 KD Mutants\"                          \n",
      " [4] \"Signaling By ERBB2 In Cancer\"                           \n",
      " [5] \"TCR Signaling\"                                          \n",
      " [6] \"Interferon Signaling\"                                   \n",
      " [7] \"DDX58/IFIH1-mediated Induction Of Interferon-Alpha/Beta\"\n",
      " [8] \"Constitutive Signaling By Overexpressed ERBB2\"          \n",
      " [9] \"Adaptive Immune System\"                                 \n",
      "[10] \"Interferon Gamma Signaling\"                             \n"
     ]
    }
   ],
   "source": [
    "%%R\n",
    "as.vector(reactome_pos_mat$term)[1:10]"
   ]
  },
  {
   "cell_type": "code",
   "execution_count": 62,
   "metadata": {},
   "outputs": [
    {
     "name": "stdout",
     "output_type": "stream",
     "text": [
      " [1] \"dna damage/telomere stress induced senescence\"                 \n",
      " [2] \"formation of senescence-associated heterochromatin foci (sahf)\"\n",
      " [3] \"cellular senescence\"                                           \n",
      " [4] \"apoptosis induced dna fragmentation\"                           \n",
      " [5] \"programmed cell death\"                                         \n",
      " [6] \"uptake and function of anthrax toxins\"                         \n",
      " [7] \"apoptosis\"                                                     \n",
      " [8] \"apoptotic execution phase\"                                     \n",
      " [9] \"cellular responses to stimuli\"                                 \n",
      "[10] \"cellular responses to stress\"                                  \n"
     ]
    }
   ],
   "source": [
    "%%R\n",
    "tolower(gsea_Reactome_genescore_pos$Description)[1:10]"
   ]
  },
  {
   "cell_type": "code",
   "execution_count": 63,
   "metadata": {},
   "outputs": [
    {
     "name": "stdout",
     "output_type": "stream",
     "text": [
      " [1] \"DNA Damage/Telomere Stress Induced Senescence\"                 \n",
      " [2] \"Formation of Senescence-Associated Heterochromatin Foci (SAHF)\"\n",
      " [3] \"Cellular Senescence\"                                           \n",
      " [4] \"Apoptosis induced DNA fragmentation\"                           \n",
      " [5] \"Programmed Cell Death\"                                         \n",
      " [6] \"Uptake and function of anthrax toxins\"                         \n",
      " [7] \"Apoptosis\"                                                     \n",
      " [8] \"Apoptotic execution phase\"                                     \n",
      " [9] \"Cellular responses to stimuli\"                                 \n",
      "[10] \"Cellular responses to stress\"                                  \n"
     ]
    }
   ],
   "source": [
    "%%R\n",
    "gsea_Reactome_genescore_pos$Description[1:10]"
   ]
  },
  {
   "cell_type": "code",
   "execution_count": 64,
   "metadata": {},
   "outputs": [],
   "source": [
    "%%R\n",
    "# ====================================== PLOTTING  POS =====================================================================\n",
    "temp_dir <- paste0(resultdir,\"Top10_Upreg_GSEA_Reactome_GSEAPlot_ONLY_POS/\")\n",
    "dir.create(temp_dir)\n",
    "for (row_iter in c(1:10)){\n",
    "    id_term <- gsea_Reactome_genescore_pos$ID[row_iter]\n",
    "    text_term <- gsea_Reactome_genescore_pos$Description[row_iter]\n",
    "    p <- gseaplot2(gsea_Reactome_genescore_pos, geneSetID = id_term,subplots = 1:3,pvalue_table = F,title=text_term)\n",
    "    ## Initiate writing to PDF file\n",
    "    pdf(paste0(temp_dir,CellType,\n",
    "        \"_GS_React_GSPlot_\",id_term,\"_pct_\",min_pct_threshold,\n",
    "            \"_logfc.thres_\",logfc.threshold,\n",
    "            \"_Ranks_gs_only_pos.pdf\"), height = 8.5, width = 11)\n",
    "    ## Create a graphical object g here\n",
    "    print(p)# print it\n",
    "    ## Stop writing to the PDF file\n",
    "    dev.off()\n",
    "}"
   ]
  },
  {
   "cell_type": "code",
   "execution_count": 65,
   "metadata": {},
   "outputs": [
    {
     "name": "stdout",
     "output_type": "stream",
     "text": [
      "[1] 10 11\n"
     ]
    }
   ],
   "source": [
    "%%R\n",
    "# ====================================== PLOTTING  POS =====================================================================\n",
    "sort_filt_gsea_Reactome_genescore <- gsea_Reactome_genescore_pos[match(tolower(as.vector(reactome_pos_mat$term))[1:10],tolower(gsea_Reactome_genescore_pos$Description))%>% na.omit(),]\n",
    "temp_dir <- paste0(resultdir,\"Top10_Upreg_Enriched_Reactome_GSEAPlot_ONLY_POS/\")\n",
    "dir.create(temp_dir)\n",
    "print(dim(sort_filt_gsea_Reactome_genescore))\n",
    "top_pos <- sort_filt_gsea_Reactome_genescore\n",
    "for (row_iter in 1:dim(sort_filt_gsea_Reactome_genescore)[1]){\n",
    "    id_term <- top_pos$ID[row_iter]\n",
    "    text_term <- top_pos$Description[row_iter]\n",
    "    p <- gseaplot2(gsea_Reactome_genescore_pos, geneSetID = id_term,subplots = 1:3,pvalue_table = F,title=text_term)\n",
    "    ## Initiate writing to PDF file\n",
    "    pdf(paste0(temp_dir,CellType,\n",
    "        \"_Enr_React_GSPlot_\",id_term,\"_pct_\",min_pct_threshold,\n",
    "            \"_logfc.thres_\",logfc.threshold,\n",
    "            \"_Ranks_gs_only_pos.pdf\"), height = 8.5, width = 11)\n",
    "    ## Create a graphical object g here\n",
    "    print(p)# print it\n",
    "    ## Stop writing to the PDF file\n",
    "    dev.off()\n",
    "}"
   ]
  },
  {
   "cell_type": "code",
   "execution_count": 66,
   "metadata": {},
   "outputs": [],
   "source": [
    "%%R\n",
    "# ====================================== PLOTTING  neg =====================================================================\n",
    "temp_dir <- paste0(resultdir,\"Top10_Downreg_GSEA_Reactome_GSEAPlot_ONLY_NEG/\")\n",
    "dir.create(temp_dir)\n",
    "\n",
    "for (row_iter in c(1:10)){\n",
    "    id_term <- gsea_Reactome_genescore_neg$ID[row_iter]\n",
    "    text_term <- gsea_Reactome_genescore_neg$Description[row_iter]\n",
    "    p <- gseaplot2(gsea_Reactome_genescore_neg, geneSetID = id_term,subplots = 1:3,pvalue_table = F,title=text_term)\n",
    "    ## Initiate writing to PDF file\n",
    "    pdf(paste0(temp_dir,CellType,\n",
    "        \"_GS_React_GSPlot_\",id_term,\"_pct_\",min_pct_threshold,\n",
    "            \"_logfc.thres_\",logfc.threshold,\n",
    "            \"_Ranks_gs_only_neg.pdf\"), height = 8.5, width = 11)\n",
    "    ## Create a graphical object g here\n",
    "    print(p)# print it\n",
    "    ## Stop writing to the PDF file\n",
    "    dev.off()\n",
    "}"
   ]
  },
  {
   "cell_type": "code",
   "execution_count": 67,
   "metadata": {},
   "outputs": [
    {
     "name": "stdout",
     "output_type": "stream",
     "text": [
      "[1]  9 11\n"
     ]
    }
   ],
   "source": [
    "%%R\n",
    "# ====================================== PLOTTING  NEG =====================================================================\n",
    "sort_filt_gsea_Reactome_genescore <- gsea_Reactome_genescore_neg[match(tolower(as.vector(reactome_neg_mat$term)[1:10]),tolower(gsea_Reactome_genescore_neg$Description))%>% na.omit(),]\n",
    "temp_dir <- paste0(resultdir,\"Top10_Downreg_Enriched_Reactome_GSEAPlot_ONLY_NEG/\")\n",
    "dir.create(temp_dir)\n",
    "print(dim(sort_filt_gsea_Reactome_genescore))\n",
    "\n",
    "top_neg <- sort_filt_gsea_Reactome_genescore\n",
    "for (row_iter in 1:dim(sort_filt_gsea_Reactome_genescore)[1]){\n",
    "    id_term <- top_neg$ID[row_iter]\n",
    "    text_term <- top_neg$Description[row_iter]\n",
    "    p <- gseaplot2(gsea_Reactome_genescore_neg, geneSetID = id_term,subplots = 1:3,pvalue_table = F,title=text_term)\n",
    "    ## Initiate writing to PDF file\n",
    "    pdf(paste0(temp_dir,CellType,\n",
    "        \"_Enr_React_GSPlot_\",id_term,\"_pct_\",min_pct_threshold,\n",
    "            \"_logfc.thres_\",logfc.threshold,\n",
    "            \"_Ranks_gs_only_neg.pdf\"), height = 8.5, width = 11)\n",
    "    ## Create a graphical object g here\n",
    "    print(p)# print it\n",
    "    ## Stop writing to the PDF file\n",
    "    dev.off()\n",
    "}"
   ]
  },
  {
   "cell_type": "code",
   "execution_count": null,
   "metadata": {},
   "outputs": [],
   "source": []
  },
  {
   "attachments": {},
   "cell_type": "markdown",
   "metadata": {},
   "source": [
    "# END"
   ]
  },
  {
   "cell_type": "code",
   "execution_count": 68,
   "metadata": {},
   "outputs": [
    {
     "name": "stdout",
     "output_type": "stream",
     "text": [
      "R version 4.2.2 (2022-10-31 ucrt)\n",
      "Platform: x86_64-w64-mingw32/x64 (64-bit)\n",
      "Running under: Windows 10 x64 (build 22621)\n",
      "\n",
      "Matrix products: default\n",
      "\n",
      "locale:\n",
      "[1] LC_COLLATE=English_United States.1252 \n",
      "[2] LC_CTYPE=English_United States.1252   \n",
      "[3] LC_MONETARY=English_United States.1252\n",
      "[4] LC_NUMERIC=C                          \n",
      "[5] LC_TIME=English_United States.1252    \n",
      "\n",
      "attached base packages:\n",
      "[1] stats4    tools     stats     graphics  grDevices utils     datasets \n",
      "[8] methods   base     \n",
      "\n",
      "other attached packages:\n",
      " [1] ReactomePA_1.42.0           enrichplot_1.18.4          \n",
      " [3] EnhancedVolcano_1.16.0      ggrepel_0.9.2              \n",
      " [5] clusterProfiler_4.6.2       org.Hs.eg.db_3.16.0        \n",
      " [7] AnnotationDbi_1.60.2        forcats_1.0.0              \n",
      " [9] purrr_1.0.1                 readr_2.1.3                \n",
      "[11] tidyr_1.3.0                 tibble_3.2.0               \n",
      "[13] tidyverse_1.3.2             enrichR_3.2                \n",
      "[15] DESeq2_1.38.3               dittoSeq_1.10.0            \n",
      "[17] stringr_1.5.0               scCustomize_1.1.1          \n",
      "[19] dplyr_1.1.0                 BiocParallel_1.32.5        \n",
      "[21] scry_1.10.0                 scran_1.26.2               \n",
      "[23] scDblFinder_1.12.0          scater_1.26.1              \n",
      "[25] ggplot2_3.4.1               scuttle_1.8.4              \n",
      "[27] SingleCellExperiment_1.20.1 SummarizedExperiment_1.28.0\n",
      "[29] Biobase_2.58.0              GenomicRanges_1.50.2       \n",
      "[31] GenomeInfoDb_1.34.7         IRanges_2.32.0             \n",
      "[33] S4Vectors_0.36.1            BiocGenerics_0.44.0        \n",
      "[35] MatrixGenerics_1.10.0       matrixStats_0.63.0         \n",
      "[37] conos_1.5.0                 igraph_1.3.5               \n",
      "[39] SeuratWrappers_0.3.1        rliger_1.0.0               \n",
      "[41] patchwork_1.1.2             Matrix_1.5-3               \n",
      "[43] cowplot_1.1.1               sctransform_0.3.5          \n",
      "[45] SeuratObject_4.1.3          Seurat_4.3.0               \n",
      "\n",
      "loaded via a namespace (and not attached):\n",
      "  [1] rsvd_1.0.5                ica_1.0-3                \n",
      "  [3] Rsamtools_2.14.0          foreach_1.5.2            \n",
      "  [5] lmtest_0.9-40             crayon_1.5.2             \n",
      "  [7] MASS_7.3-58.1             WriteXLS_6.4.0           \n",
      "  [9] nlme_3.1-160              backports_1.4.1          \n",
      " [11] reprex_2.0.2              GOSemSim_2.24.0          \n",
      " [13] rlang_1.1.0               XVector_0.38.0           \n",
      " [15] HDO.db_0.99.1             ROCR_1.0-11              \n",
      " [17] readxl_1.4.1              irlba_2.3.5.1            \n",
      " [19] limma_3.54.2              xgboost_1.7.3.1          \n",
      " [21] rjson_0.2.21              bit64_4.0.5              \n",
      " [23] glue_1.6.2                pheatmap_1.0.12          \n",
      " [25] parallel_4.2.2            vipor_0.4.5              \n",
      " [27] spatstat.sparse_3.0-0     DOSE_3.24.2              \n",
      " [29] spatstat.geom_3.0-3       haven_2.5.1              \n",
      " [31] tidyselect_1.2.0          fitdistrplus_1.1-8       \n",
      " [33] XML_3.99-0.13             zoo_1.8-11               \n",
      " [35] GenomicAlignments_1.34.1  xtable_1.8-4             \n",
      " [37] magrittr_2.0.3            cli_3.6.0                \n",
      " [39] zlibbioc_1.44.0           miniUI_0.1.1.1           \n",
      " [41] sp_1.5-1                  fastmatch_1.1-3          \n",
      " [43] treeio_1.22.0             shiny_1.7.4              \n",
      " [45] BiocSingular_1.14.0       clue_0.3-64              \n",
      " [47] gson_0.1.0                cluster_2.1.4            \n",
      " [49] tidygraph_1.2.2           KEGGREST_1.38.0          \n",
      " [51] ape_5.7-1                 listenv_0.9.0            \n",
      " [53] Biostrings_2.66.0         png_0.1-8                \n",
      " [55] future_1.30.0             withr_2.5.0              \n",
      " [57] bitops_1.0-7              ggforce_0.4.1            \n",
      " [59] plyr_1.8.8                cellranger_1.1.0         \n",
      " [61] dqrng_0.3.0               pillar_1.8.1             \n",
      " [63] GlobalOptions_0.1.2       cachem_1.0.6             \n",
      " [65] fs_1.6.1                  hdf5r_1.3.7              \n",
      " [67] graphite_1.44.0           GetoptLong_1.0.5         \n",
      " [69] paletteer_1.5.0           DelayedMatrixStats_1.20.0\n",
      " [71] vctrs_0.5.2               ellipsis_0.3.2           \n",
      " [73] generics_0.1.3            beeswarm_0.4.0           \n",
      " [75] munsell_0.5.0             tweenr_2.0.2             \n",
      " [77] fgsea_1.24.0              DelayedArray_0.23.2      \n",
      " [79] fastmap_1.1.0             compiler_4.2.2           \n",
      " [81] abind_1.4-5               httpuv_1.6.7             \n",
      " [83] rtracklayer_1.58.0        plotly_4.10.1            \n",
      " [85] GenomeInfoDbData_1.2.9    gridExtra_2.3            \n",
      " [87] edgeR_3.40.2              riverplot_0.10           \n",
      " [89] lattice_0.20-45           deldir_1.0-6             \n",
      " [91] snow_0.4-4                utf8_1.2.3               \n",
      " [93] later_1.3.0               jsonlite_1.8.4           \n",
      " [95] scales_1.2.1              graph_1.76.0             \n",
      " [97] ScaledMatrix_1.6.0        tidytree_0.4.2           \n",
      " [99] pbapply_1.6-0             sparseMatrixStats_1.10.0 \n",
      "[101] lazyeval_0.2.2            promises_1.2.0.1         \n",
      "[103] doParallel_1.0.17         R.utils_2.12.2           \n",
      "[105] goftest_1.2-3             spatstat.utils_3.0-1     \n",
      "[107] reticulate_1.28           textshaping_0.3.6        \n",
      "[109] statmod_1.5.0             Rtsne_0.16               \n",
      "[111] downloader_0.4            uwot_0.1.14              \n",
      "[113] survival_3.4-0            yaml_2.3.6               \n",
      "[115] systemfonts_1.0.4         htmltools_0.5.4          \n",
      "[117] memoise_2.0.1             BiocIO_1.8.0             \n",
      "[119] locfit_1.5-9.7            graphlayouts_0.8.4       \n",
      "[121] viridisLite_0.4.1         digest_0.6.31            \n",
      "[123] assertthat_0.2.1          rappdirs_0.3.3           \n",
      "[125] mime_0.12                 RSQLite_2.3.0            \n",
      "[127] yulab.utils_0.0.6         future.apply_1.10.0      \n",
      "[129] remotes_2.4.2             data.table_1.14.6        \n",
      "[131] blob_1.2.3                R.oo_1.25.0              \n",
      "[133] ragg_1.2.5                labeling_0.4.2           \n",
      "[135] splines_4.2.2             rematch2_2.1.2           \n",
      "[137] googledrive_2.0.0         RCurl_1.98-1.10          \n",
      "[139] broom_1.0.4               hms_1.1.2                \n",
      "[141] modelr_0.1.10             colorspace_2.1-0         \n",
      "[143] BiocManager_1.30.19       ggbeeswarm_0.7.1         \n",
      "[145] shape_1.4.6               aplot_0.1.10             \n",
      "[147] ggrastr_1.0.2             Rcpp_1.0.10              \n",
      "[149] mclust_6.0.0              RANN_2.6.1               \n",
      "[151] circlize_0.4.15           fansi_1.0.4              \n",
      "[153] tzdb_0.3.0                parallelly_1.33.0        \n",
      "[155] R6_2.5.1                  grid_4.2.2               \n",
      "[157] ggridges_0.5.4            lifecycle_1.0.3          \n",
      "[159] bluster_1.8.0             curl_4.3.3               \n",
      "[161] googlesheets4_1.0.1       leiden_0.4.3             \n",
      "[163] snakecase_0.11.0          qvalue_2.30.0            \n",
      "[165] RcppAnnoy_0.0.20          RColorBrewer_1.1-3       \n",
      "[167] iterators_1.0.14          spatstat.explore_3.0-5   \n",
      "[169] htmlwidgets_1.6.1         beachmat_2.14.0          \n",
      "[171] polyclip_1.10-4           shadowtext_0.1.2         \n",
      "[173] gridGraphics_0.5-1        timechange_0.2.0         \n",
      "[175] reactome.db_1.82.0        rvest_1.0.3              \n",
      "[177] ComplexHeatmap_2.14.0     globals_0.16.2           \n",
      "[179] leidenAlg_1.0.5           spatstat.random_3.0-1    \n",
      "[181] progressr_0.13.0          codetools_0.2-18         \n",
      "[183] lubridate_1.9.1           GO.db_3.16.0             \n",
      "[185] FNN_1.1.3.1               metapod_1.6.0            \n",
      "[187] dbplyr_2.3.0              R.methodsS3_1.8.2        \n",
      "[189] gtable_0.3.1              DBI_1.1.3                \n",
      "[191] ggfun_0.0.9               tensor_1.5               \n",
      "[193] httr_1.4.4                KernSmooth_2.23-20       \n",
      "[195] vroom_1.6.1               stringi_1.7.12           \n",
      "[197] reshape2_1.4.4            farver_2.1.1             \n",
      "[199] annotate_1.76.0           viridis_0.6.2            \n",
      "[201] ggtree_3.6.2              xml2_1.3.3               \n",
      "[203] sccore_1.0.3              BiocNeighbors_1.16.0     \n",
      "[205] restfulr_0.0.15           geneplotter_1.76.0       \n",
      "[207] ggplotify_0.1.0           scattermore_0.8          \n",
      "[209] bit_4.0.5                 scatterpie_0.1.9         \n",
      "[211] spatstat.data_3.0-0       ggraph_2.1.0             \n",
      "[213] janitor_2.2.0             pkgconfig_2.0.3          \n",
      "[215] gargle_1.3.0              ggprism_1.0.4            \n"
     ]
    }
   ],
   "source": [
    "%%R\n",
    "sessionInfo()"
   ]
  },
  {
   "cell_type": "code",
   "execution_count": null,
   "metadata": {},
   "outputs": [],
   "source": []
  },
  {
   "cell_type": "code",
   "execution_count": null,
   "metadata": {},
   "outputs": [],
   "source": []
  }
 ],
 "metadata": {
  "kernelspec": {
   "display_name": "Py310",
   "language": "python",
   "name": "python3"
  },
  "language_info": {
   "codemirror_mode": {
    "name": "ipython",
    "version": 3
   },
   "file_extension": ".py",
   "mimetype": "text/x-python",
   "name": "python",
   "nbconvert_exporter": "python",
   "pygments_lexer": "ipython3",
   "version": "3.10.10"
  },
  "orig_nbformat": 4
 },
 "nbformat": 4,
 "nbformat_minor": 2
}
